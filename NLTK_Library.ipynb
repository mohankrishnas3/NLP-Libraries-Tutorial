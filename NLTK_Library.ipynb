{
  "nbformat": 4,
  "nbformat_minor": 0,
  "metadata": {
    "colab": {
      "provenance": [],
      "include_colab_link": true
    },
    "kernelspec": {
      "name": "python3",
      "display_name": "Python 3"
    },
    "language_info": {
      "name": "python"
    },
    "accelerator": "TPU"
  },
  "cells": [
    {
      "cell_type": "markdown",
      "metadata": {
        "id": "view-in-github",
        "colab_type": "text"
      },
      "source": [
        "<a href=\"https://colab.research.google.com/github/mohankrishnas3/NLP-Libraries-Tutorial/blob/main/NLTK_Library.ipynb\" target=\"_parent\"><img src=\"https://colab.research.google.com/assets/colab-badge.svg\" alt=\"Open In Colab\"/></a>"
      ]
    },
    {
      "cell_type": "markdown",
      "metadata": {
        "id": "Ett1Ew5wMYJS"
      },
      "source": [
        "### Importing Dependencies"
      ]
    },
    {
      "cell_type": "code",
      "metadata": {
        "id": "rSW3lY6RJ1l9"
      },
      "source": [
        "import numpy as np\n",
        "import pandas as pd\n",
        "import matplotlib.pyplot as plt\n",
        "import seaborn as sns\n",
        "import os\n",
        "import shutil\n",
        "import tensorflow as tf\n",
        "import nltk\n",
        "from tqdm import tqdm"
      ],
      "execution_count": null,
      "outputs": []
    },
    {
      "cell_type": "markdown",
      "metadata": {
        "id": "_wWL-obkQd10"
      },
      "source": [
        "### Downloading all the modules of NLTK"
      ]
    },
    {
      "cell_type": "code",
      "metadata": {
        "id": "NgYhg7reOv_O",
        "colab": {
          "base_uri": "https://localhost:8080/"
        },
        "outputId": "51f92c67-9364-48e0-c511-be37abe1c8bd"
      },
      "source": [
        "nltk.download('all')"
      ],
      "execution_count": null,
      "outputs": [
        {
          "output_type": "stream",
          "name": "stderr",
          "text": [
            "[nltk_data] Downloading collection 'all'\n",
            "[nltk_data]    | \n",
            "[nltk_data]    | Downloading package abc to /root/nltk_data...\n",
            "[nltk_data]    |   Unzipping corpora/abc.zip.\n",
            "[nltk_data]    | Downloading package alpino to /root/nltk_data...\n",
            "[nltk_data]    |   Unzipping corpora/alpino.zip.\n",
            "[nltk_data]    | Downloading package averaged_perceptron_tagger to\n",
            "[nltk_data]    |     /root/nltk_data...\n",
            "[nltk_data]    |   Unzipping taggers/averaged_perceptron_tagger.zip.\n",
            "[nltk_data]    | Downloading package averaged_perceptron_tagger_ru to\n",
            "[nltk_data]    |     /root/nltk_data...\n",
            "[nltk_data]    |   Unzipping\n",
            "[nltk_data]    |       taggers/averaged_perceptron_tagger_ru.zip.\n",
            "[nltk_data]    | Downloading package basque_grammars to\n",
            "[nltk_data]    |     /root/nltk_data...\n",
            "[nltk_data]    |   Unzipping grammars/basque_grammars.zip.\n",
            "[nltk_data]    | Downloading package biocreative_ppi to\n",
            "[nltk_data]    |     /root/nltk_data...\n",
            "[nltk_data]    |   Unzipping corpora/biocreative_ppi.zip.\n",
            "[nltk_data]    | Downloading package bllip_wsj_no_aux to\n",
            "[nltk_data]    |     /root/nltk_data...\n",
            "[nltk_data]    |   Unzipping models/bllip_wsj_no_aux.zip.\n",
            "[nltk_data]    | Downloading package book_grammars to\n",
            "[nltk_data]    |     /root/nltk_data...\n",
            "[nltk_data]    |   Unzipping grammars/book_grammars.zip.\n",
            "[nltk_data]    | Downloading package brown to /root/nltk_data...\n",
            "[nltk_data]    |   Unzipping corpora/brown.zip.\n",
            "[nltk_data]    | Downloading package brown_tei to /root/nltk_data...\n",
            "[nltk_data]    |   Unzipping corpora/brown_tei.zip.\n",
            "[nltk_data]    | Downloading package cess_cat to /root/nltk_data...\n",
            "[nltk_data]    |   Unzipping corpora/cess_cat.zip.\n",
            "[nltk_data]    | Downloading package cess_esp to /root/nltk_data...\n",
            "[nltk_data]    |   Unzipping corpora/cess_esp.zip.\n",
            "[nltk_data]    | Downloading package chat80 to /root/nltk_data...\n",
            "[nltk_data]    |   Unzipping corpora/chat80.zip.\n",
            "[nltk_data]    | Downloading package city_database to\n",
            "[nltk_data]    |     /root/nltk_data...\n",
            "[nltk_data]    |   Unzipping corpora/city_database.zip.\n",
            "[nltk_data]    | Downloading package cmudict to /root/nltk_data...\n",
            "[nltk_data]    |   Unzipping corpora/cmudict.zip.\n",
            "[nltk_data]    | Downloading package comparative_sentences to\n",
            "[nltk_data]    |     /root/nltk_data...\n",
            "[nltk_data]    |   Unzipping corpora/comparative_sentences.zip.\n",
            "[nltk_data]    | Downloading package comtrans to /root/nltk_data...\n",
            "[nltk_data]    | Downloading package conll2000 to /root/nltk_data...\n",
            "[nltk_data]    |   Unzipping corpora/conll2000.zip.\n",
            "[nltk_data]    | Downloading package conll2002 to /root/nltk_data...\n",
            "[nltk_data]    |   Unzipping corpora/conll2002.zip.\n",
            "[nltk_data]    | Downloading package conll2007 to /root/nltk_data...\n",
            "[nltk_data]    | Downloading package crubadan to /root/nltk_data...\n",
            "[nltk_data]    |   Unzipping corpora/crubadan.zip.\n",
            "[nltk_data]    | Downloading package dependency_treebank to\n",
            "[nltk_data]    |     /root/nltk_data...\n",
            "[nltk_data]    |   Unzipping corpora/dependency_treebank.zip.\n",
            "[nltk_data]    | Downloading package dolch to /root/nltk_data...\n",
            "[nltk_data]    |   Unzipping corpora/dolch.zip.\n",
            "[nltk_data]    | Downloading package europarl_raw to\n",
            "[nltk_data]    |     /root/nltk_data...\n",
            "[nltk_data]    |   Unzipping corpora/europarl_raw.zip.\n",
            "[nltk_data]    | Downloading package extended_omw to\n",
            "[nltk_data]    |     /root/nltk_data...\n",
            "[nltk_data]    | Downloading package floresta to /root/nltk_data...\n",
            "[nltk_data]    |   Unzipping corpora/floresta.zip.\n",
            "[nltk_data]    | Downloading package framenet_v15 to\n",
            "[nltk_data]    |     /root/nltk_data...\n",
            "[nltk_data]    |   Unzipping corpora/framenet_v15.zip.\n",
            "[nltk_data]    | Downloading package framenet_v17 to\n",
            "[nltk_data]    |     /root/nltk_data...\n",
            "[nltk_data]    |   Unzipping corpora/framenet_v17.zip.\n",
            "[nltk_data]    | Downloading package gazetteers to /root/nltk_data...\n",
            "[nltk_data]    |   Unzipping corpora/gazetteers.zip.\n",
            "[nltk_data]    | Downloading package genesis to /root/nltk_data...\n",
            "[nltk_data]    |   Unzipping corpora/genesis.zip.\n",
            "[nltk_data]    | Downloading package gutenberg to /root/nltk_data...\n",
            "[nltk_data]    |   Unzipping corpora/gutenberg.zip.\n",
            "[nltk_data]    | Downloading package ieer to /root/nltk_data...\n",
            "[nltk_data]    |   Unzipping corpora/ieer.zip.\n",
            "[nltk_data]    | Downloading package inaugural to /root/nltk_data...\n",
            "[nltk_data]    |   Unzipping corpora/inaugural.zip.\n",
            "[nltk_data]    | Downloading package indian to /root/nltk_data...\n",
            "[nltk_data]    |   Unzipping corpora/indian.zip.\n",
            "[nltk_data]    | Downloading package jeita to /root/nltk_data...\n",
            "[nltk_data]    | Downloading package kimmo to /root/nltk_data...\n",
            "[nltk_data]    |   Unzipping corpora/kimmo.zip.\n",
            "[nltk_data]    | Downloading package knbc to /root/nltk_data...\n",
            "[nltk_data]    | Downloading package large_grammars to\n",
            "[nltk_data]    |     /root/nltk_data...\n",
            "[nltk_data]    |   Unzipping grammars/large_grammars.zip.\n",
            "[nltk_data]    | Downloading package lin_thesaurus to\n",
            "[nltk_data]    |     /root/nltk_data...\n",
            "[nltk_data]    |   Unzipping corpora/lin_thesaurus.zip.\n",
            "[nltk_data]    | Downloading package mac_morpho to /root/nltk_data...\n",
            "[nltk_data]    |   Unzipping corpora/mac_morpho.zip.\n",
            "[nltk_data]    | Downloading package machado to /root/nltk_data...\n",
            "[nltk_data]    | Downloading package masc_tagged to /root/nltk_data...\n",
            "[nltk_data]    | Downloading package maxent_ne_chunker to\n",
            "[nltk_data]    |     /root/nltk_data...\n",
            "[nltk_data]    |   Unzipping chunkers/maxent_ne_chunker.zip.\n",
            "[nltk_data]    | Downloading package maxent_treebank_pos_tagger to\n",
            "[nltk_data]    |     /root/nltk_data...\n",
            "[nltk_data]    |   Unzipping taggers/maxent_treebank_pos_tagger.zip.\n",
            "[nltk_data]    | Downloading package moses_sample to\n",
            "[nltk_data]    |     /root/nltk_data...\n",
            "[nltk_data]    |   Unzipping models/moses_sample.zip.\n",
            "[nltk_data]    | Downloading package movie_reviews to\n",
            "[nltk_data]    |     /root/nltk_data...\n",
            "[nltk_data]    |   Unzipping corpora/movie_reviews.zip.\n",
            "[nltk_data]    | Downloading package mte_teip5 to /root/nltk_data...\n",
            "[nltk_data]    |   Unzipping corpora/mte_teip5.zip.\n",
            "[nltk_data]    | Downloading package mwa_ppdb to /root/nltk_data...\n",
            "[nltk_data]    |   Unzipping misc/mwa_ppdb.zip.\n",
            "[nltk_data]    | Downloading package names to /root/nltk_data...\n",
            "[nltk_data]    |   Unzipping corpora/names.zip.\n",
            "[nltk_data]    | Downloading package nombank.1.0 to /root/nltk_data...\n",
            "[nltk_data]    | Downloading package nonbreaking_prefixes to\n",
            "[nltk_data]    |     /root/nltk_data...\n",
            "[nltk_data]    |   Unzipping corpora/nonbreaking_prefixes.zip.\n",
            "[nltk_data]    | Downloading package nps_chat to /root/nltk_data...\n",
            "[nltk_data]    |   Unzipping corpora/nps_chat.zip.\n",
            "[nltk_data]    | Downloading package omw to /root/nltk_data...\n",
            "[nltk_data]    | Downloading package omw-1.4 to /root/nltk_data...\n",
            "[nltk_data]    | Downloading package opinion_lexicon to\n",
            "[nltk_data]    |     /root/nltk_data...\n",
            "[nltk_data]    |   Unzipping corpora/opinion_lexicon.zip.\n",
            "[nltk_data]    | Downloading package panlex_swadesh to\n",
            "[nltk_data]    |     /root/nltk_data...\n",
            "[nltk_data]    | Downloading package paradigms to /root/nltk_data...\n",
            "[nltk_data]    |   Unzipping corpora/paradigms.zip.\n",
            "[nltk_data]    | Downloading package pe08 to /root/nltk_data...\n",
            "[nltk_data]    |   Unzipping corpora/pe08.zip.\n",
            "[nltk_data]    | Downloading package perluniprops to\n",
            "[nltk_data]    |     /root/nltk_data...\n",
            "[nltk_data]    |   Unzipping misc/perluniprops.zip.\n",
            "[nltk_data]    | Downloading package pil to /root/nltk_data...\n",
            "[nltk_data]    |   Unzipping corpora/pil.zip.\n",
            "[nltk_data]    | Downloading package pl196x to /root/nltk_data...\n",
            "[nltk_data]    |   Unzipping corpora/pl196x.zip.\n",
            "[nltk_data]    | Downloading package porter_test to /root/nltk_data...\n",
            "[nltk_data]    |   Unzipping stemmers/porter_test.zip.\n",
            "[nltk_data]    | Downloading package ppattach to /root/nltk_data...\n",
            "[nltk_data]    |   Unzipping corpora/ppattach.zip.\n",
            "[nltk_data]    | Downloading package problem_reports to\n",
            "[nltk_data]    |     /root/nltk_data...\n",
            "[nltk_data]    |   Unzipping corpora/problem_reports.zip.\n",
            "[nltk_data]    | Downloading package product_reviews_1 to\n",
            "[nltk_data]    |     /root/nltk_data...\n",
            "[nltk_data]    |   Unzipping corpora/product_reviews_1.zip.\n",
            "[nltk_data]    | Downloading package product_reviews_2 to\n",
            "[nltk_data]    |     /root/nltk_data...\n",
            "[nltk_data]    |   Unzipping corpora/product_reviews_2.zip.\n",
            "[nltk_data]    | Downloading package propbank to /root/nltk_data...\n",
            "[nltk_data]    | Downloading package pros_cons to /root/nltk_data...\n",
            "[nltk_data]    |   Unzipping corpora/pros_cons.zip.\n",
            "[nltk_data]    | Downloading package ptb to /root/nltk_data...\n",
            "[nltk_data]    |   Unzipping corpora/ptb.zip.\n",
            "[nltk_data]    | Downloading package punkt to /root/nltk_data...\n",
            "[nltk_data]    |   Unzipping tokenizers/punkt.zip.\n",
            "[nltk_data]    | Downloading package qc to /root/nltk_data...\n",
            "[nltk_data]    |   Unzipping corpora/qc.zip.\n",
            "[nltk_data]    | Downloading package reuters to /root/nltk_data...\n",
            "[nltk_data]    | Downloading package rslp to /root/nltk_data...\n",
            "[nltk_data]    |   Unzipping stemmers/rslp.zip.\n",
            "[nltk_data]    | Downloading package rte to /root/nltk_data...\n",
            "[nltk_data]    |   Unzipping corpora/rte.zip.\n",
            "[nltk_data]    | Downloading package sample_grammars to\n",
            "[nltk_data]    |     /root/nltk_data...\n",
            "[nltk_data]    |   Unzipping grammars/sample_grammars.zip.\n",
            "[nltk_data]    | Downloading package semcor to /root/nltk_data...\n",
            "[nltk_data]    | Downloading package senseval to /root/nltk_data...\n",
            "[nltk_data]    |   Unzipping corpora/senseval.zip.\n",
            "[nltk_data]    | Downloading package sentence_polarity to\n",
            "[nltk_data]    |     /root/nltk_data...\n",
            "[nltk_data]    |   Unzipping corpora/sentence_polarity.zip.\n",
            "[nltk_data]    | Downloading package sentiwordnet to\n",
            "[nltk_data]    |     /root/nltk_data...\n",
            "[nltk_data]    |   Unzipping corpora/sentiwordnet.zip.\n",
            "[nltk_data]    | Downloading package shakespeare to /root/nltk_data...\n",
            "[nltk_data]    |   Unzipping corpora/shakespeare.zip.\n",
            "[nltk_data]    | Downloading package sinica_treebank to\n",
            "[nltk_data]    |     /root/nltk_data...\n",
            "[nltk_data]    |   Unzipping corpora/sinica_treebank.zip.\n",
            "[nltk_data]    | Downloading package smultron to /root/nltk_data...\n",
            "[nltk_data]    |   Unzipping corpora/smultron.zip.\n",
            "[nltk_data]    | Downloading package snowball_data to\n",
            "[nltk_data]    |     /root/nltk_data...\n",
            "[nltk_data]    | Downloading package spanish_grammars to\n",
            "[nltk_data]    |     /root/nltk_data...\n",
            "[nltk_data]    |   Unzipping grammars/spanish_grammars.zip.\n",
            "[nltk_data]    | Downloading package state_union to /root/nltk_data...\n",
            "[nltk_data]    |   Unzipping corpora/state_union.zip.\n",
            "[nltk_data]    | Downloading package stopwords to /root/nltk_data...\n",
            "[nltk_data]    |   Package stopwords is already up-to-date!\n",
            "[nltk_data]    | Downloading package subjectivity to\n",
            "[nltk_data]    |     /root/nltk_data...\n",
            "[nltk_data]    |   Unzipping corpora/subjectivity.zip.\n",
            "[nltk_data]    | Downloading package swadesh to /root/nltk_data...\n",
            "[nltk_data]    |   Unzipping corpora/swadesh.zip.\n",
            "[nltk_data]    | Downloading package switchboard to /root/nltk_data...\n",
            "[nltk_data]    |   Unzipping corpora/switchboard.zip.\n",
            "[nltk_data]    | Downloading package tagsets to /root/nltk_data...\n",
            "[nltk_data]    |   Unzipping help/tagsets.zip.\n",
            "[nltk_data]    | Downloading package timit to /root/nltk_data...\n",
            "[nltk_data]    |   Unzipping corpora/timit.zip.\n",
            "[nltk_data]    | Downloading package toolbox to /root/nltk_data...\n",
            "[nltk_data]    |   Unzipping corpora/toolbox.zip.\n",
            "[nltk_data]    | Downloading package treebank to /root/nltk_data...\n",
            "[nltk_data]    |   Unzipping corpora/treebank.zip.\n",
            "[nltk_data]    | Downloading package twitter_samples to\n",
            "[nltk_data]    |     /root/nltk_data...\n",
            "[nltk_data]    |   Unzipping corpora/twitter_samples.zip.\n",
            "[nltk_data]    | Downloading package udhr to /root/nltk_data...\n",
            "[nltk_data]    |   Unzipping corpora/udhr.zip.\n",
            "[nltk_data]    | Downloading package udhr2 to /root/nltk_data...\n",
            "[nltk_data]    |   Unzipping corpora/udhr2.zip.\n",
            "[nltk_data]    | Downloading package unicode_samples to\n",
            "[nltk_data]    |     /root/nltk_data...\n",
            "[nltk_data]    |   Unzipping corpora/unicode_samples.zip.\n",
            "[nltk_data]    | Downloading package universal_tagset to\n",
            "[nltk_data]    |     /root/nltk_data...\n",
            "[nltk_data]    |   Unzipping taggers/universal_tagset.zip.\n",
            "[nltk_data]    | Downloading package universal_treebanks_v20 to\n",
            "[nltk_data]    |     /root/nltk_data...\n",
            "[nltk_data]    | Downloading package vader_lexicon to\n",
            "[nltk_data]    |     /root/nltk_data...\n",
            "[nltk_data]    |   Package vader_lexicon is already up-to-date!\n",
            "[nltk_data]    | Downloading package verbnet to /root/nltk_data...\n",
            "[nltk_data]    |   Unzipping corpora/verbnet.zip.\n",
            "[nltk_data]    | Downloading package verbnet3 to /root/nltk_data...\n",
            "[nltk_data]    |   Unzipping corpora/verbnet3.zip.\n",
            "[nltk_data]    | Downloading package webtext to /root/nltk_data...\n",
            "[nltk_data]    |   Unzipping corpora/webtext.zip.\n",
            "[nltk_data]    | Downloading package wmt15_eval to /root/nltk_data...\n",
            "[nltk_data]    |   Unzipping models/wmt15_eval.zip.\n",
            "[nltk_data]    | Downloading package word2vec_sample to\n",
            "[nltk_data]    |     /root/nltk_data...\n",
            "[nltk_data]    |   Unzipping models/word2vec_sample.zip.\n",
            "[nltk_data]    | Downloading package wordnet to /root/nltk_data...\n",
            "[nltk_data]    | Downloading package wordnet2021 to /root/nltk_data...\n",
            "[nltk_data]    | Downloading package wordnet31 to /root/nltk_data...\n",
            "[nltk_data]    | Downloading package wordnet_ic to /root/nltk_data...\n",
            "[nltk_data]    |   Unzipping corpora/wordnet_ic.zip.\n",
            "[nltk_data]    | Downloading package words to /root/nltk_data...\n",
            "[nltk_data]    |   Unzipping corpora/words.zip.\n",
            "[nltk_data]    | Downloading package ycoe to /root/nltk_data...\n",
            "[nltk_data]    |   Unzipping corpora/ycoe.zip.\n",
            "[nltk_data]    | \n",
            "[nltk_data]  Done downloading collection all\n"
          ]
        },
        {
          "output_type": "execute_result",
          "data": {
            "text/plain": [
              "True"
            ]
          },
          "metadata": {},
          "execution_count": 8
        }
      ]
    },
    {
      "cell_type": "markdown",
      "source": [
        "![total_flow.jpg](data:image/jpeg;base64,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)"
      ],
      "metadata": {
        "id": "I1pggKkqKrAJ"
      }
    },
    {
      "cell_type": "markdown",
      "metadata": {
        "id": "9u4FZsrSN8HJ"
      },
      "source": [
        "### Basic Tokenizers"
      ]
    },
    {
      "cell_type": "code",
      "metadata": {
        "id": "EGtpatYjM1t-"
      },
      "source": [
        "from nltk import sent_tokenize, word_tokenize"
      ],
      "execution_count": null,
      "outputs": []
    },
    {
      "cell_type": "code",
      "metadata": {
        "id": "3TD2LmB_NygD"
      },
      "source": [
        "example_text = \"Hello, how are you. I am in Norfolk and its raining heavily. How is weather there?\""
      ],
      "execution_count": null,
      "outputs": []
    },
    {
      "cell_type": "markdown",
      "metadata": {
        "id": "4ztkTAFKQErs"
      },
      "source": [
        "#### Sentence Tokenizer"
      ]
    },
    {
      "cell_type": "code",
      "metadata": {
        "colab": {
          "base_uri": "https://localhost:8080/"
        },
        "id": "HUVYjO_GOnCH",
        "outputId": "20bcd590-299c-47d6-e57e-b9ea5d544791"
      },
      "source": [
        "for sent in sent_tokenize(example_text):\n",
        "  print(sent)"
      ],
      "execution_count": null,
      "outputs": [
        {
          "output_type": "stream",
          "name": "stdout",
          "text": [
            "Hello, how are you.\n",
            "I am in Norfolk and its raining heavily.\n",
            "How is weather there?\n"
          ]
        }
      ]
    },
    {
      "cell_type": "markdown",
      "metadata": {
        "id": "7rAPrDwvQHGh"
      },
      "source": [
        "#### Word Tokenizer"
      ]
    },
    {
      "cell_type": "code",
      "metadata": {
        "colab": {
          "base_uri": "https://localhost:8080/"
        },
        "id": "9F7rJlUiOptW",
        "outputId": "c2ad5baf-38d2-4b7f-9618-00f343ade8dc"
      },
      "source": [
        "for word in word_tokenize(example_text):\n",
        "  print(word)"
      ],
      "execution_count": null,
      "outputs": [
        {
          "output_type": "stream",
          "name": "stdout",
          "text": [
            "Hello\n",
            ",\n",
            "how\n",
            "are\n",
            "you\n",
            ".\n",
            "I\n",
            "am\n",
            "in\n",
            "Norfolk\n",
            "and\n",
            "its\n",
            "raining\n",
            "heavily\n",
            ".\n",
            "How\n",
            "is\n",
            "weather\n",
            "there\n",
            "?\n"
          ]
        }
      ]
    },
    {
      "cell_type": "markdown",
      "metadata": {
        "id": "5BxViFBfjMid"
      },
      "source": [
        "#### TreebankWordTokenizer"
      ]
    },
    {
      "cell_type": "code",
      "metadata": {
        "colab": {
          "base_uri": "https://localhost:8080/"
        },
        "id": "sTZ2Ctk9jK4v",
        "outputId": "35977fd4-89b9-406b-89a1-8bd711bc1723"
      },
      "source": [
        "from nltk.tokenize import TreebankWordTokenizer\n",
        "tokenizer_wrd = TreebankWordTokenizer()\n",
        "tokenizer_wrd.tokenize(example_text)"
      ],
      "execution_count": null,
      "outputs": [
        {
          "output_type": "execute_result",
          "data": {
            "text/plain": [
              "['Hello',\n",
              " ',',\n",
              " 'how',\n",
              " 'are',\n",
              " 'you.',\n",
              " 'I',\n",
              " 'am',\n",
              " 'in',\n",
              " 'Norfolk',\n",
              " 'and',\n",
              " 'its',\n",
              " 'raining',\n",
              " 'heavily.',\n",
              " 'How',\n",
              " 'is',\n",
              " 'weather',\n",
              " 'there',\n",
              " '?']"
            ]
          },
          "metadata": {},
          "execution_count": 33
        }
      ]
    },
    {
      "cell_type": "markdown",
      "metadata": {
        "id": "0GtSA984jtEE"
      },
      "source": [
        "####  WordPunctTokenizer"
      ]
    },
    {
      "cell_type": "code",
      "metadata": {
        "colab": {
          "base_uri": "https://localhost:8080/"
        },
        "id": "GXBmsAq5jv8e",
        "outputId": "53b30e2e-40a4-4835-d87d-567dd494d0a9"
      },
      "source": [
        "from nltk.tokenize import WordPunctTokenizer\n",
        "tokenizer = WordPunctTokenizer()\n",
        "print(tokenizer.tokenize(\" I can't allow you to go home early\")) # word Punct tokenizer\n",
        "print(word_tokenize(\" I can't allow you to go home early\")) # word tokenizer\n",
        "print(tokenizer_wrd.tokenize(\"I can't allow you to go home early\")) # Tree bank tokenizer"
      ],
      "execution_count": null,
      "outputs": [
        {
          "output_type": "stream",
          "name": "stdout",
          "text": [
            "['I', 'can', \"'\", 't', 'allow', 'you', 'to', 'go', 'home', 'early']\n",
            "['I', 'ca', \"n't\", 'allow', 'you', 'to', 'go', 'home', 'early']\n",
            "['I', 'ca', \"n't\", 'allow', 'you', 'to', 'go', 'home', 'early']\n"
          ]
        }
      ]
    },
    {
      "cell_type": "markdown",
      "metadata": {
        "id": "A5bZtbSqkjOn"
      },
      "source": [
        "#### RegexpTokenizer\n",
        "https://docs.python.org/3/howto/regex.html"
      ]
    },
    {
      "cell_type": "code",
      "metadata": {
        "colab": {
          "base_uri": "https://localhost:8080/"
        },
        "id": "rIQxRJfFkkIZ",
        "outputId": "43290f08-bf8d-4e5e-dbbe-00a4f18fd2fe"
      },
      "source": [
        "from nltk.tokenize import RegexpTokenizer\n",
        "tokenizer = RegexpTokenizer(\"[\\w']+\")\n",
        "print(tokenizer.tokenize(\"won't is a  contraction.\"))\n",
        "print(tokenizer.tokenize(\"can't is a contraction.\"))"
      ],
      "execution_count": null,
      "outputs": [
        {
          "output_type": "stream",
          "name": "stdout",
          "text": [
            "[\"won't\", 'is', 'a', 'contraction']\n",
            "[\"can't\", 'is', 'a', 'contraction']\n"
          ]
        }
      ]
    },
    {
      "cell_type": "markdown",
      "metadata": {
        "id": "KH9-CkUulTHB"
      },
      "source": [
        "#### Why to train own sentence tokenizer?\n",
        "\n",
        "This is very important question that if we have NLTK’s default sentence tokenizer then why do we need to train a sentence tokenizer? The answer to this question lies in the quality of NLTK’s default sentence tokenizer. The NLTK’s default tokenizer is basically a general-purpose tokenizer. Although it works very well but it may not be a good choice for nonstandard text, that perhaps our text is, or for a text that is having a unique formatting. To tokenize such text and get best results, we should train our own sentence tokenizer."
      ]
    },
    {
      "cell_type": "markdown",
      "metadata": {
        "id": "V1MGlbeeQRFD"
      },
      "source": [
        "### Stopwords"
      ]
    },
    {
      "cell_type": "code",
      "metadata": {
        "id": "CLiZhJn8PUVI"
      },
      "source": [
        "from nltk.corpus import stopwords"
      ],
      "execution_count": null,
      "outputs": []
    },
    {
      "cell_type": "code",
      "metadata": {
        "colab": {
          "base_uri": "https://localhost:8080/"
        },
        "id": "TFxhpGuyoCCw",
        "outputId": "1086238f-683d-4aa9-9023-26a9bfd5c82a"
      },
      "source": [
        "stopwords.fileids()"
      ],
      "execution_count": null,
      "outputs": [
        {
          "output_type": "execute_result",
          "data": {
            "text/plain": [
              "['arabic',\n",
              " 'azerbaijani',\n",
              " 'basque',\n",
              " 'bengali',\n",
              " 'catalan',\n",
              " 'chinese',\n",
              " 'danish',\n",
              " 'dutch',\n",
              " 'english',\n",
              " 'finnish',\n",
              " 'french',\n",
              " 'german',\n",
              " 'greek',\n",
              " 'hebrew',\n",
              " 'hinglish',\n",
              " 'hungarian',\n",
              " 'indonesian',\n",
              " 'italian',\n",
              " 'kazakh',\n",
              " 'nepali',\n",
              " 'norwegian',\n",
              " 'portuguese',\n",
              " 'romanian',\n",
              " 'russian',\n",
              " 'slovene',\n",
              " 'spanish',\n",
              " 'swedish',\n",
              " 'tajik',\n",
              " 'turkish']"
            ]
          },
          "metadata": {},
          "execution_count": 103
        }
      ]
    },
    {
      "cell_type": "code",
      "metadata": {
        "id": "-ikQbboRQo1O"
      },
      "source": [
        "stop_words = set(stopwords.words('english'))"
      ],
      "execution_count": null,
      "outputs": []
    },
    {
      "cell_type": "code",
      "metadata": {
        "colab": {
          "base_uri": "https://localhost:8080/"
        },
        "id": "dnOAWriYQxx9",
        "outputId": "e759e5a5-3442-44b2-c082-f09fc465a37c"
      },
      "source": [
        "stop_words"
      ],
      "execution_count": null,
      "outputs": [
        {
          "output_type": "execute_result",
          "data": {
            "text/plain": [
              "{'a',\n",
              " 'about',\n",
              " 'above',\n",
              " 'after',\n",
              " 'again',\n",
              " 'against',\n",
              " 'ain',\n",
              " 'all',\n",
              " 'am',\n",
              " 'an',\n",
              " 'and',\n",
              " 'any',\n",
              " 'are',\n",
              " 'aren',\n",
              " \"aren't\",\n",
              " 'as',\n",
              " 'at',\n",
              " 'be',\n",
              " 'because',\n",
              " 'been',\n",
              " 'before',\n",
              " 'being',\n",
              " 'below',\n",
              " 'between',\n",
              " 'both',\n",
              " 'but',\n",
              " 'by',\n",
              " 'can',\n",
              " 'couldn',\n",
              " \"couldn't\",\n",
              " 'd',\n",
              " 'did',\n",
              " 'didn',\n",
              " \"didn't\",\n",
              " 'do',\n",
              " 'does',\n",
              " 'doesn',\n",
              " \"doesn't\",\n",
              " 'doing',\n",
              " 'don',\n",
              " \"don't\",\n",
              " 'down',\n",
              " 'during',\n",
              " 'each',\n",
              " 'few',\n",
              " 'for',\n",
              " 'from',\n",
              " 'further',\n",
              " 'had',\n",
              " 'hadn',\n",
              " \"hadn't\",\n",
              " 'has',\n",
              " 'hasn',\n",
              " \"hasn't\",\n",
              " 'have',\n",
              " 'haven',\n",
              " \"haven't\",\n",
              " 'having',\n",
              " 'he',\n",
              " 'her',\n",
              " 'here',\n",
              " 'hers',\n",
              " 'herself',\n",
              " 'him',\n",
              " 'himself',\n",
              " 'his',\n",
              " 'how',\n",
              " 'i',\n",
              " 'if',\n",
              " 'in',\n",
              " 'into',\n",
              " 'is',\n",
              " 'isn',\n",
              " \"isn't\",\n",
              " 'it',\n",
              " \"it's\",\n",
              " 'its',\n",
              " 'itself',\n",
              " 'just',\n",
              " 'll',\n",
              " 'm',\n",
              " 'ma',\n",
              " 'me',\n",
              " 'mightn',\n",
              " \"mightn't\",\n",
              " 'more',\n",
              " 'most',\n",
              " 'mustn',\n",
              " \"mustn't\",\n",
              " 'my',\n",
              " 'myself',\n",
              " 'needn',\n",
              " \"needn't\",\n",
              " 'no',\n",
              " 'nor',\n",
              " 'not',\n",
              " 'now',\n",
              " 'o',\n",
              " 'of',\n",
              " 'off',\n",
              " 'on',\n",
              " 'once',\n",
              " 'only',\n",
              " 'or',\n",
              " 'other',\n",
              " 'our',\n",
              " 'ours',\n",
              " 'ourselves',\n",
              " 'out',\n",
              " 'over',\n",
              " 'own',\n",
              " 're',\n",
              " 's',\n",
              " 'same',\n",
              " 'shan',\n",
              " \"shan't\",\n",
              " 'she',\n",
              " \"she's\",\n",
              " 'should',\n",
              " \"should've\",\n",
              " 'shouldn',\n",
              " \"shouldn't\",\n",
              " 'so',\n",
              " 'some',\n",
              " 'such',\n",
              " 't',\n",
              " 'than',\n",
              " 'that',\n",
              " \"that'll\",\n",
              " 'the',\n",
              " 'their',\n",
              " 'theirs',\n",
              " 'them',\n",
              " 'themselves',\n",
              " 'then',\n",
              " 'there',\n",
              " 'these',\n",
              " 'they',\n",
              " 'this',\n",
              " 'those',\n",
              " 'through',\n",
              " 'to',\n",
              " 'too',\n",
              " 'under',\n",
              " 'until',\n",
              " 'up',\n",
              " 've',\n",
              " 'very',\n",
              " 'was',\n",
              " 'wasn',\n",
              " \"wasn't\",\n",
              " 'we',\n",
              " 'were',\n",
              " 'weren',\n",
              " \"weren't\",\n",
              " 'what',\n",
              " 'when',\n",
              " 'where',\n",
              " 'which',\n",
              " 'while',\n",
              " 'who',\n",
              " 'whom',\n",
              " 'why',\n",
              " 'will',\n",
              " 'with',\n",
              " 'won',\n",
              " \"won't\",\n",
              " 'wouldn',\n",
              " \"wouldn't\",\n",
              " 'y',\n",
              " 'you',\n",
              " \"you'd\",\n",
              " \"you'll\",\n",
              " \"you're\",\n",
              " \"you've\",\n",
              " 'your',\n",
              " 'yours',\n",
              " 'yourself',\n",
              " 'yourselves'}"
            ]
          },
          "metadata": {},
          "execution_count": 105
        }
      ]
    },
    {
      "cell_type": "code",
      "metadata": {
        "id": "WdyF296qQ2Q7"
      },
      "source": [
        "filtered_sentence = []"
      ],
      "execution_count": null,
      "outputs": []
    },
    {
      "cell_type": "code",
      "metadata": {
        "id": "Lk4GlVKtRX3v"
      },
      "source": [
        "for word in word_tokenize(example_text):\n",
        "  if word not in stop_words:\n",
        "    filtered_sentence.append(word)"
      ],
      "execution_count": null,
      "outputs": []
    },
    {
      "cell_type": "code",
      "metadata": {
        "colab": {
          "base_uri": "https://localhost:8080/"
        },
        "id": "yfo8MpTNRj_j",
        "outputId": "c4e1edb6-2237-4a36-cdf8-6bc4b474f4ed"
      },
      "source": [
        "filtered_sentence"
      ],
      "execution_count": null,
      "outputs": [
        {
          "output_type": "execute_result",
          "data": {
            "text/plain": [
              "['Hello',\n",
              " ',',\n",
              " '.',\n",
              " 'I',\n",
              " 'Norfolk',\n",
              " 'raining',\n",
              " 'heavily',\n",
              " '.',\n",
              " 'How',\n",
              " 'weather',\n",
              " '?']"
            ]
          },
          "metadata": {},
          "execution_count": 108
        }
      ]
    },
    {
      "cell_type": "code",
      "metadata": {
        "id": "8OOIFxxsRlV5"
      },
      "source": [
        "#Same in Single Line\n",
        "\n",
        "filtered_words = [word for word in word_tokenize(example_text) if not word in stop_words]"
      ],
      "execution_count": null,
      "outputs": []
    },
    {
      "cell_type": "code",
      "metadata": {
        "colab": {
          "base_uri": "https://localhost:8080/"
        },
        "id": "t9a7dyskR9cM",
        "outputId": "241255df-de0f-463c-b922-f0e96d378d2b"
      },
      "source": [
        "filtered_words"
      ],
      "execution_count": null,
      "outputs": [
        {
          "output_type": "execute_result",
          "data": {
            "text/plain": [
              "['Hello',\n",
              " ',',\n",
              " '.',\n",
              " 'I',\n",
              " 'Norfolk',\n",
              " 'raining',\n",
              " 'heavily',\n",
              " '.',\n",
              " 'How',\n",
              " 'weather',\n",
              " '?']"
            ]
          },
          "metadata": {},
          "execution_count": 110
        }
      ]
    },
    {
      "cell_type": "markdown",
      "source": [
        "### Frequency distribution"
      ],
      "metadata": {
        "id": "p6GjVo-JJT9B"
      }
    },
    {
      "cell_type": "code",
      "source": [
        "import nltk\n",
        "a = \"Guru99 is the site where you can find the best tutorials for Software Testing     Tutorial, SAP Course for Beginners. Java Tutorial for Beginners and much more. Please     visit the site guru99.com and much more.\"\n",
        "words = nltk.tokenize.word_tokenize(a)\n",
        "fd = nltk.FreqDist(words)\n",
        "fd.plot()"
      ],
      "metadata": {
        "colab": {
          "base_uri": "https://localhost:8080/",
          "height": 347
        },
        "id": "YyXLZWAHJWS-",
        "outputId": "06398ce2-b450-4141-8b8f-37af9a0de68d"
      },
      "execution_count": null,
      "outputs": [
        {
          "output_type": "display_data",
          "data": {
            "text/plain": [
              "<Figure size 432x288 with 1 Axes>"
            ],
            "image/png": "[encoded data removed]"
          },
          "metadata": {
            "needs_background": "light"
          }
        },
        {
          "output_type": "execute_result",
          "data": {
            "text/plain": [
              "<matplotlib.axes._subplots.AxesSubplot at 0x7f113d885f10>"
            ]
          },
          "metadata": {},
          "execution_count": 88
        }
      ]
    },
    {
      "cell_type": "markdown",
      "metadata": {
        "id": "BpiTGZ-lTsKl"
      },
      "source": [
        "### Part of Speech Tagging\n",
        "https://www.guru99.com/pos-tagging-chunking-nltk.html\n",
        "</br>\n",
        "https://www.nltk.org/book/ch07.html\n",
        "</br>\n",
        "![parts_ofspeech.jpg](data:image/jpeg;base64,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)"
      ]
    },
    {
      "cell_type": "markdown",
      "source": [
        "<!-- Abbreviation\tMeaning</br>\n",
        "CC\tcoordinating conjunction </br>\n",
        "CD\tcardinal digit</br>\n",
        "DT\tdeterminer</br>\n",
        "EX\texistential there</br>\n",
        "FW\tforeign word</br>\n",
        "IN\tpreposition/subordinating conjunction</br>\n",
        "JJ\tThis NLTK POS Tag is an adjective (large)</br>\n",
        "JJR\tadjective, comparative (larger)</br>\n",
        "JJS\tadjective, superlative (largest)</br>\n",
        "LS\tlist market</br>\n",
        "MD\tmodal (could, will)</br>\n",
        "NN\tnoun, singular (cat, tree)</br>\n",
        "NNS\tnoun plural (desks)</br>\n",
        "NNP\tproper noun, singular (sarah)</br>\n",
        "NNPS\tproper noun, plural (indians or americans)</br>\n",
        "PDT\tpredeterminer (all, both, half)</br>\n",
        "POS\tpossessive ending (parent\\ ‘s)</br>\n",
        "PRP\tpersonal pronoun (hers, herself, him, himself)</br>\n",
        "PRP$\tpossessive pronoun (her, his, mine, my, our )</br>\n",
        "RB\tadverb (occasionally, swiftly)</br>\n",
        "RBR\tadverb, comparative (greater)</br>\n",
        "RBS\tadverb, superlative (biggest)</br>\n",
        "RP\tparticle (about)</br>\n",
        "TO\tinfinite marker (to)</br>\n",
        "UH\tinterjection (goodbye)</br>\n",
        "VB\tverb (ask)</br>\n",
        "VBG\tverb gerund (judging)</br>\n",
        "VBD\tverb past tense (pleaded)</br>\n",
        "VBN\tverb past participle (reunified)</br>\n",
        "VBP\tverb, present tense not 3rd person singular(wrap)</br>\n",
        "VBZ\tverb, present tense with 3rd person singular (bases)</br>\n",
        "WDT\twh-determiner (that, what)</br>\n",
        "WP\twh- pronoun (who)</br>\n",
        "WRB\twh- adverb (how)</br> -->"
      ],
      "metadata": {
        "id": "6W6FMLBxDdom"
      }
    },
    {
      "cell_type": "code",
      "source": [
        "text = \"Computers don't speak English. So, we've to learn C, C++, Java, Python and the like! Yay!\"\n",
        "import nltk\n",
        "from nltk.tokenize import word_tokenize\n",
        "\n",
        "words = word_tokenize(text)\n",
        "pos_tagged_text = nltk.pos_tag(words)\n",
        "print(pos_tagged_text)"
      ],
      "metadata": {
        "colab": {
          "base_uri": "https://localhost:8080/"
        },
        "id": "7WB_pNyd5iZg",
        "outputId": "55e2610f-2bab-45f7-d0fa-f6c2fd2f5299"
      },
      "execution_count": null,
      "outputs": [
        {
          "output_type": "stream",
          "name": "stdout",
          "text": [
            "[('Computers', 'NNS'), ('do', 'VBP'), (\"n't\", 'RB'), ('speak', 'VB'), ('English', 'NNP'), ('.', '.'), ('So', 'RB'), (',', ','), ('we', 'PRP'), (\"'ve\", 'VBP'), ('to', 'TO'), ('learn', 'VB'), ('C', 'NNP'), (',', ','), ('C++', 'NNP'), (',', ','), ('Java', 'NNP'), (',', ','), ('Python', 'NNP'), ('and', 'CC'), ('the', 'DT'), ('like', 'JJ'), ('!', '.'), ('Yay', 'NN'), ('!', '.')]\n"
          ]
        }
      ]
    },
    {
      "cell_type": "code",
      "source": [
        "nltk.help.upenn_tagset()"
      ],
      "metadata": {
        "colab": {
          "base_uri": "https://localhost:8080/"
        },
        "id": "iyRrJFkD5i4w",
        "outputId": "f4155fed-7405-4cf4-aa6a-252a20fbe4f3"
      },
      "execution_count": null,
      "outputs": [
        {
          "output_type": "stream",
          "name": "stdout",
          "text": [
            "$: dollar\n",
            "    $ -$ --$ A$ C$ HK$ M$ NZ$ S$ U.S.$ US$\n",
            "'': closing quotation mark\n",
            "    ' ''\n",
            "(: opening parenthesis\n",
            "    ( [ {\n",
            "): closing parenthesis\n",
            "    ) ] }\n",
            ",: comma\n",
            "    ,\n",
            "--: dash\n",
            "    --\n",
            ".: sentence terminator\n",
            "    . ! ?\n",
            ":: colon or ellipsis\n",
            "    : ; ...\n",
            "CC: conjunction, coordinating\n",
            "    & 'n and both but either et for less minus neither nor or plus so\n",
            "    therefore times v. versus vs. whether yet\n",
            "CD: numeral, cardinal\n",
            "    mid-1890 nine-thirty forty-two one-tenth ten million 0.5 one forty-\n",
            "    seven 1987 twenty '79 zero two 78-degrees eighty-four IX '60s .025\n",
            "    fifteen 271,124 dozen quintillion DM2,000 ...\n",
            "DT: determiner\n",
            "    all an another any both del each either every half la many much nary\n",
            "    neither no some such that the them these this those\n",
            "EX: existential there\n",
            "    there\n",
            "FW: foreign word\n",
            "    gemeinschaft hund ich jeux habeas Haementeria Herr K'ang-si vous\n",
            "    lutihaw alai je jour objets salutaris fille quibusdam pas trop Monte\n",
            "    terram fiche oui corporis ...\n",
            "IN: preposition or conjunction, subordinating\n",
            "    astride among uppon whether out inside pro despite on by throughout\n",
            "    below within for towards near behind atop around if like until below\n",
            "    next into if beside ...\n",
            "JJ: adjective or numeral, ordinal\n",
            "    third ill-mannered pre-war regrettable oiled calamitous first separable\n",
            "    ectoplasmic battery-powered participatory fourth still-to-be-named\n",
            "    multilingual multi-disciplinary ...\n",
            "JJR: adjective, comparative\n",
            "    bleaker braver breezier briefer brighter brisker broader bumper busier\n",
            "    calmer cheaper choosier cleaner clearer closer colder commoner costlier\n",
            "    cozier creamier crunchier cuter ...\n",
            "JJS: adjective, superlative\n",
            "    calmest cheapest choicest classiest cleanest clearest closest commonest\n",
            "    corniest costliest crassest creepiest crudest cutest darkest deadliest\n",
            "    dearest deepest densest dinkiest ...\n",
            "LS: list item marker\n",
            "    A A. B B. C C. D E F First G H I J K One SP-44001 SP-44002 SP-44005\n",
            "    SP-44007 Second Third Three Two * a b c d first five four one six three\n",
            "    two\n",
            "MD: modal auxiliary\n",
            "    can cannot could couldn't dare may might must need ought shall should\n",
            "    shouldn't will would\n",
            "NN: noun, common, singular or mass\n",
            "    common-carrier cabbage knuckle-duster Casino afghan shed thermostat\n",
            "    investment slide humour falloff slick wind hyena override subhumanity\n",
            "    machinist ...\n",
            "NNP: noun, proper, singular\n",
            "    Motown Venneboerger Czestochwa Ranzer Conchita Trumplane Christos\n",
            "    Oceanside Escobar Kreisler Sawyer Cougar Yvette Ervin ODI Darryl CTCA\n",
            "    Shannon A.K.C. Meltex Liverpool ...\n",
            "NNPS: noun, proper, plural\n",
            "    Americans Americas Amharas Amityvilles Amusements Anarcho-Syndicalists\n",
            "    Andalusians Andes Andruses Angels Animals Anthony Antilles Antiques\n",
            "    Apache Apaches Apocrypha ...\n",
            "NNS: noun, common, plural\n",
            "    undergraduates scotches bric-a-brac products bodyguards facets coasts\n",
            "    divestitures storehouses designs clubs fragrances averages\n",
            "    subjectivists apprehensions muses factory-jobs ...\n",
            "PDT: pre-determiner\n",
            "    all both half many quite such sure this\n",
            "POS: genitive marker\n",
            "    ' 's\n",
            "PRP: pronoun, personal\n",
            "    hers herself him himself hisself it itself me myself one oneself ours\n",
            "    ourselves ownself self she thee theirs them themselves they thou thy us\n",
            "PRP$: pronoun, possessive\n",
            "    her his mine my our ours their thy your\n",
            "RB: adverb\n",
            "    occasionally unabatingly maddeningly adventurously professedly\n",
            "    stirringly prominently technologically magisterially predominately\n",
            "    swiftly fiscally pitilessly ...\n",
            "RBR: adverb, comparative\n",
            "    further gloomier grander graver greater grimmer harder harsher\n",
            "    healthier heavier higher however larger later leaner lengthier less-\n",
            "    perfectly lesser lonelier longer louder lower more ...\n",
            "RBS: adverb, superlative\n",
            "    best biggest bluntest earliest farthest first furthest hardest\n",
            "    heartiest highest largest least less most nearest second tightest worst\n",
            "RP: particle\n",
            "    aboard about across along apart around aside at away back before behind\n",
            "    by crop down ever fast for forth from go high i.e. in into just later\n",
            "    low more off on open out over per pie raising start teeth that through\n",
            "    under unto up up-pp upon whole with you\n",
            "SYM: symbol\n",
            "    % & ' '' ''. ) ). * + ,. < = > @ A[fj] U.S U.S.S.R * ** ***\n",
            "TO: \"to\" as preposition or infinitive marker\n",
            "    to\n",
            "UH: interjection\n",
            "    Goodbye Goody Gosh Wow Jeepers Jee-sus Hubba Hey Kee-reist Oops amen\n",
            "    huh howdy uh dammit whammo shucks heck anyways whodunnit honey golly\n",
            "    man baby diddle hush sonuvabitch ...\n",
            "VB: verb, base form\n",
            "    ask assemble assess assign assume atone attention avoid bake balkanize\n",
            "    bank begin behold believe bend benefit bevel beware bless boil bomb\n",
            "    boost brace break bring broil brush build ...\n",
            "VBD: verb, past tense\n",
            "    dipped pleaded swiped regummed soaked tidied convened halted registered\n",
            "    cushioned exacted snubbed strode aimed adopted belied figgered\n",
            "    speculated wore appreciated contemplated ...\n",
            "VBG: verb, present participle or gerund\n",
            "    telegraphing stirring focusing angering judging stalling lactating\n",
            "    hankerin' alleging veering capping approaching traveling besieging\n",
            "    encrypting interrupting erasing wincing ...\n",
            "VBN: verb, past participle\n",
            "    multihulled dilapidated aerosolized chaired languished panelized used\n",
            "    experimented flourished imitated reunifed factored condensed sheared\n",
            "    unsettled primed dubbed desired ...\n",
            "VBP: verb, present tense, not 3rd person singular\n",
            "    predominate wrap resort sue twist spill cure lengthen brush terminate\n",
            "    appear tend stray glisten obtain comprise detest tease attract\n",
            "    emphasize mold postpone sever return wag ...\n",
            "VBZ: verb, present tense, 3rd person singular\n",
            "    bases reconstructs marks mixes displeases seals carps weaves snatches\n",
            "    slumps stretches authorizes smolders pictures emerges stockpiles\n",
            "    seduces fizzes uses bolsters slaps speaks pleads ...\n",
            "WDT: WH-determiner\n",
            "    that what whatever which whichever\n",
            "WP: WH-pronoun\n",
            "    that what whatever whatsoever which who whom whosoever\n",
            "WP$: WH-pronoun, possessive\n",
            "    whose\n",
            "WRB: Wh-adverb\n",
            "    how however whence whenever where whereby whereever wherein whereof why\n",
            "``: opening quotation mark\n",
            "    ` ``\n"
          ]
        }
      ]
    },
    {
      "cell_type": "code",
      "source": [
        "for pos_tag_word in pos_tagged_text:\n",
        "    print(pos_tag_word[0], \":\")\n",
        "    nltk.help.upenn_tagset(pos_tag_word[1])"
      ],
      "metadata": {
        "colab": {
          "base_uri": "https://localhost:8080/"
        },
        "id": "J3yu322i5lo5",
        "outputId": "23f1620b-e1cf-447b-83f3-51669e5f9f87"
      },
      "execution_count": null,
      "outputs": [
        {
          "output_type": "stream",
          "name": "stdout",
          "text": [
            "Computers :\n",
            "NNS: noun, common, plural\n",
            "    undergraduates scotches bric-a-brac products bodyguards facets coasts\n",
            "    divestitures storehouses designs clubs fragrances averages\n",
            "    subjectivists apprehensions muses factory-jobs ...\n",
            "do :\n",
            "VBP: verb, present tense, not 3rd person singular\n",
            "    predominate wrap resort sue twist spill cure lengthen brush terminate\n",
            "    appear tend stray glisten obtain comprise detest tease attract\n",
            "    emphasize mold postpone sever return wag ...\n",
            "n't :\n",
            "RB: adverb\n",
            "    occasionally unabatingly maddeningly adventurously professedly\n",
            "    stirringly prominently technologically magisterially predominately\n",
            "    swiftly fiscally pitilessly ...\n",
            "speak :\n",
            "VB: verb, base form\n",
            "    ask assemble assess assign assume atone attention avoid bake balkanize\n",
            "    bank begin behold believe bend benefit bevel beware bless boil bomb\n",
            "    boost brace break bring broil brush build ...\n",
            "English :\n",
            "NNP: noun, proper, singular\n",
            "    Motown Venneboerger Czestochwa Ranzer Conchita Trumplane Christos\n",
            "    Oceanside Escobar Kreisler Sawyer Cougar Yvette Ervin ODI Darryl CTCA\n",
            "    Shannon A.K.C. Meltex Liverpool ...\n",
            ". :\n",
            ".: sentence terminator\n",
            "    . ! ?\n",
            "So :\n",
            "RB: adverb\n",
            "    occasionally unabatingly maddeningly adventurously professedly\n",
            "    stirringly prominently technologically magisterially predominately\n",
            "    swiftly fiscally pitilessly ...\n",
            ", :\n",
            ",: comma\n",
            "    ,\n",
            "we :\n",
            "PRP: pronoun, personal\n",
            "    hers herself him himself hisself it itself me myself one oneself ours\n",
            "    ourselves ownself self she thee theirs them themselves they thou thy us\n",
            "'ve :\n",
            "VBP: verb, present tense, not 3rd person singular\n",
            "    predominate wrap resort sue twist spill cure lengthen brush terminate\n",
            "    appear tend stray glisten obtain comprise detest tease attract\n",
            "    emphasize mold postpone sever return wag ...\n",
            "to :\n",
            "TO: \"to\" as preposition or infinitive marker\n",
            "    to\n",
            "learn :\n",
            "VB: verb, base form\n",
            "    ask assemble assess assign assume atone attention avoid bake balkanize\n",
            "    bank begin behold believe bend benefit bevel beware bless boil bomb\n",
            "    boost brace break bring broil brush build ...\n",
            "C :\n",
            "NNP: noun, proper, singular\n",
            "    Motown Venneboerger Czestochwa Ranzer Conchita Trumplane Christos\n",
            "    Oceanside Escobar Kreisler Sawyer Cougar Yvette Ervin ODI Darryl CTCA\n",
            "    Shannon A.K.C. Meltex Liverpool ...\n",
            ", :\n",
            ",: comma\n",
            "    ,\n",
            "C++ :\n",
            "NNP: noun, proper, singular\n",
            "    Motown Venneboerger Czestochwa Ranzer Conchita Trumplane Christos\n",
            "    Oceanside Escobar Kreisler Sawyer Cougar Yvette Ervin ODI Darryl CTCA\n",
            "    Shannon A.K.C. Meltex Liverpool ...\n",
            ", :\n",
            ",: comma\n",
            "    ,\n",
            "Java :\n",
            "NNP: noun, proper, singular\n",
            "    Motown Venneboerger Czestochwa Ranzer Conchita Trumplane Christos\n",
            "    Oceanside Escobar Kreisler Sawyer Cougar Yvette Ervin ODI Darryl CTCA\n",
            "    Shannon A.K.C. Meltex Liverpool ...\n",
            ", :\n",
            ",: comma\n",
            "    ,\n",
            "Python :\n",
            "NNP: noun, proper, singular\n",
            "    Motown Venneboerger Czestochwa Ranzer Conchita Trumplane Christos\n",
            "    Oceanside Escobar Kreisler Sawyer Cougar Yvette Ervin ODI Darryl CTCA\n",
            "    Shannon A.K.C. Meltex Liverpool ...\n",
            "and :\n",
            "CC: conjunction, coordinating\n",
            "    & 'n and both but either et for less minus neither nor or plus so\n",
            "    therefore times v. versus vs. whether yet\n",
            "the :\n",
            "DT: determiner\n",
            "    all an another any both del each either every half la many much nary\n",
            "    neither no some such that the them these this those\n",
            "like :\n",
            "JJ: adjective or numeral, ordinal\n",
            "    third ill-mannered pre-war regrettable oiled calamitous first separable\n",
            "    ectoplasmic battery-powered participatory fourth still-to-be-named\n",
            "    multilingual multi-disciplinary ...\n",
            "! :\n",
            ".: sentence terminator\n",
            "    . ! ?\n",
            "Yay :\n",
            "NN: noun, common, singular or mass\n",
            "    common-carrier cabbage knuckle-duster Casino afghan shed thermostat\n",
            "    investment slide humour falloff slick wind hyena override subhumanity\n",
            "    machinist ...\n",
            "! :\n",
            ".: sentence terminator\n",
            "    . ! ?\n"
          ]
        }
      ]
    },
    {
      "cell_type": "markdown",
      "metadata": {
        "id": "t4mN59H3XT91"
      },
      "source": [
        "### Chunking \n",
        "https://www.nltk.org/book/ch07.html\n",
        "\n",
        "Chunking (aka. Shallow parsing) is to analyzing a sentence to identify the constituents (noun groups, verbs, verb groups, etc.). However, it does not specify their internal structure, nor their role in the main sentence.\n",
        "\n"
      ]
    },
    {
      "cell_type": "code",
      "source": [
        "!pip install svgling"
      ],
      "metadata": {
        "colab": {
          "base_uri": "https://localhost:8080/"
        },
        "id": "Om1Vrq3p7YCA",
        "outputId": "0b53feff-c8d9-4dee-b913-02faae7f8d0a"
      },
      "execution_count": null,
      "outputs": [
        {
          "output_type": "stream",
          "name": "stdout",
          "text": [
            "Looking in indexes: https://pypi.org/simple, https://us-python.pkg.dev/colab-wheels/public/simple/\n",
            "Requirement already satisfied: svgling in /usr/local/lib/python3.7/dist-packages (0.3.1)\n",
            "Requirement already satisfied: svgwrite in /usr/local/lib/python3.7/dist-packages (from svgling) (1.4.3)\n"
          ]
        }
      ]
    },
    {
      "cell_type": "code",
      "source": [
        "import nltk\n",
        "\n",
        "sentence = [(\"The\", \"DT\"), (\"small\", \"JJ\"), (\"red\", \"JJ\"),(\"flower\", \"NN\"), \n",
        "(\"flew\", \"VBD\"), (\"through\", \"IN\"),  (\"the\", \"DT\"), (\"window\", \"NN\")]\n",
        "grammar = \"mychunk: {<NNS.?>*<PRP.?>*<VBD?>}\" \n",
        "cp = nltk.RegexpParser(grammar)\n",
        "result = cp.parse(sentence) \n",
        "print(result)"
      ],
      "metadata": {
        "colab": {
          "base_uri": "https://localhost:8080/"
        },
        "id": "--CtgAJ-DISh",
        "outputId": "f92ef306-ea96-43e1-dd7d-e5de48c0ad0d"
      },
      "execution_count": null,
      "outputs": [
        {
          "output_type": "stream",
          "name": "stdout",
          "text": [
            "(S\n",
            "  The/DT\n",
            "  small/JJ\n",
            "  red/JJ\n",
            "  flower/NN\n",
            "  (mychunk flew/VBD)\n",
            "  through/IN\n",
            "  the/DT\n",
            "  window/NN)\n"
          ]
        }
      ]
    },
    {
      "cell_type": "code",
      "source": [
        "#import the library\n",
        "import nltk\n",
        "#define the text\n",
        "sentence = \"I told the children I was going to tell them a story. They were excited\"\n",
        "#tokenize the text\n",
        "tokens = nltk.word_tokenize(sentence)\n",
        "#perform POS tagging\n",
        "tags = nltk.pos_tag(tokens)\n",
        "#define a chunk grammar named mychunk\n",
        "chunk_grammar = \"\"\" mychunk: {<NNS.?>*<PRP.?>*<VBD?>}\"\"\"\n",
        "#change grammer then chunking will change. Change PRP to CC or VB or NN or JJ to check.\n",
        "#parse the grammar with regular expression parser\n",
        "parser = nltk.RegexpParser(chunk_grammar)\n",
        "#assign the chunk\n",
        "tree = parser.parse(tags)\n",
        "print(tree)"
      ],
      "metadata": {
        "colab": {
          "base_uri": "https://localhost:8080/"
        },
        "id": "OVL0gAJ56C2W",
        "outputId": "48ebae71-cb37-458c-c2d4-03928a564f0b"
      },
      "execution_count": null,
      "outputs": [
        {
          "output_type": "stream",
          "name": "stdout",
          "text": [
            "(S\n",
            "  (mychunk I/PRP told/VBD)\n",
            "  the/DT\n",
            "  (mychunk children/NNS I/PRP was/VBD)\n",
            "  going/VBG\n",
            "  to/TO\n",
            "  (mychunk tell/VB)\n",
            "  them/PRP\n",
            "  a/DT\n",
            "  story/NN\n",
            "  ./.\n",
            "  (mychunk They/PRP were/VBD)\n",
            "  excited/VBN)\n"
          ]
        }
      ]
    },
    {
      "cell_type": "code",
      "source": [
        "display(tree)"
      ],
      "metadata": {
        "colab": {
          "base_uri": "https://localhost:8080/",
          "height": 190
        },
        "id": "M9a6U2nf7BZX",
        "outputId": "6eac7032-68e4-40dc-eea8-db834582cb50"
      },
      "execution_count": null,
      "outputs": [
        {
          "output_type": "display_data",
          "data": {
            "text/plain": [
              "Tree('S', [Tree('mychunk', [('I', 'PRP'), ('told', 'VBD')]), ('the', 'DT'), Tree('mychunk', [('children', 'NNS'), ('I', 'PRP'), ('was', 'VBD')]), ('going', 'VBG'), ('to', 'TO'), Tree('mychunk', [('tell', 'VB')]), ('them', 'PRP'), ('a', 'DT'), ('story', 'NN'), ('.', '.'), Tree('mychunk', [('They', 'PRP'), ('were', 'VBD')]), ('excited', 'VBN')])"
            ],
            "image/svg+xml": "<svg baseProfile=\"full\" height=\"168px\" preserveAspectRatio=\"xMidYMid meet\" style=\"font-family: times, serif; font-weight:normal; font-style: normal; font-size: 16px;\" version=\"1.1\" viewBox=\"0,0,776.0,168.0\" width=\"776px\" xmlns=\"http://www.w3.org/2000/svg\" xmlns:ev=\"http://www.w3.org/2001/xml-events\" xmlns:xlink=\"http://www.w3.org/1999/xlink\"><defs /><svg width=\"100%\" x=\"0\" y=\"0em\"><defs /><text text-anchor=\"middle\" x=\"50%\" y=\"1em\">S</text></svg><svg width=\"11.3402%\" x=\"0%\" y=\"3em\"><defs /><svg width=\"100%\" x=\"0\" y=\"0em\"><defs /><text text-anchor=\"middle\" x=\"50%\" y=\"1em\">mychunk</text></svg><svg width=\"45.4545%\" x=\"0%\" y=\"3em\"><defs /><svg width=\"100%\" x=\"0\" y=\"0em\"><defs /><text text-anchor=\"middle\" x=\"50%\" y=\"1em\">I</text></svg><svg width=\"100%\" x=\"0%\" y=\"3em\"><defs /><svg width=\"100%\" x=\"0\" y=\"0em\"><defs /><text text-anchor=\"middle\" x=\"50%\" y=\"1em\">PRP</text></svg></svg><line stroke=\"black\" x1=\"50%\" x2=\"50%\" y1=\"1.2em\" y2=\"3em\" /></svg><line stroke=\"black\" x1=\"50%\" x2=\"22.7273%\" y1=\"1.2em\" y2=\"3em\" /><svg width=\"54.5455%\" x=\"45.4545%\" y=\"3em\"><defs /><svg width=\"100%\" x=\"0\" y=\"0em\"><defs /><text text-anchor=\"middle\" x=\"50%\" y=\"1em\">told</text></svg><svg width=\"100%\" x=\"0%\" y=\"3em\"><defs /><svg width=\"100%\" x=\"0\" y=\"0em\"><defs /><text text-anchor=\"middle\" x=\"50%\" y=\"1em\">VBD</text></svg></svg><line stroke=\"black\" x1=\"50%\" x2=\"50%\" y1=\"1.2em\" y2=\"3em\" /></svg><line stroke=\"black\" x1=\"50%\" x2=\"72.7273%\" y1=\"1.2em\" y2=\"3em\" /></svg><line stroke=\"black\" x1=\"50%\" x2=\"5.6701%\" y1=\"1.2em\" y2=\"3em\" /><svg width=\"5.15464%\" x=\"11.3402%\" y=\"3em\"><defs /><svg width=\"100%\" x=\"0\" y=\"0em\"><defs /><text text-anchor=\"middle\" x=\"50%\" y=\"1em\">the</text></svg><svg width=\"100%\" x=\"0%\" y=\"3em\"><defs /><svg width=\"100%\" x=\"0\" y=\"0em\"><defs /><text text-anchor=\"middle\" x=\"50%\" y=\"1em\">DT</text></svg></svg><line stroke=\"black\" x1=\"50%\" x2=\"50%\" y1=\"1.2em\" y2=\"3em\" /></svg><line stroke=\"black\" x1=\"50%\" x2=\"13.9175%\" y1=\"1.2em\" y2=\"3em\" /><svg width=\"20.6186%\" x=\"16.4948%\" y=\"3em\"><defs /><svg width=\"100%\" x=\"0\" y=\"0em\"><defs /><text text-anchor=\"middle\" x=\"50%\" y=\"1em\">mychunk</text></svg><svg width=\"50%\" x=\"0%\" y=\"3em\"><defs /><svg width=\"100%\" x=\"0\" y=\"0em\"><defs /><text text-anchor=\"middle\" x=\"50%\" y=\"1em\">children</text></svg><svg width=\"100%\" x=\"0%\" y=\"3em\"><defs /><svg width=\"100%\" x=\"0\" y=\"0em\"><defs /><text text-anchor=\"middle\" x=\"50%\" y=\"1em\">NNS</text></svg></svg><line stroke=\"black\" x1=\"50%\" x2=\"50%\" y1=\"1.2em\" y2=\"3em\" /></svg><line stroke=\"black\" x1=\"50%\" x2=\"25%\" y1=\"1.2em\" y2=\"3em\" /><svg width=\"25%\" x=\"50%\" y=\"3em\"><defs /><svg width=\"100%\" x=\"0\" y=\"0em\"><defs /><text text-anchor=\"middle\" x=\"50%\" y=\"1em\">I</text></svg><svg width=\"100%\" x=\"0%\" y=\"3em\"><defs /><svg width=\"100%\" x=\"0\" y=\"0em\"><defs /><text text-anchor=\"middle\" x=\"50%\" y=\"1em\">PRP</text></svg></svg><line stroke=\"black\" x1=\"50%\" x2=\"50%\" y1=\"1.2em\" y2=\"3em\" /></svg><line stroke=\"black\" x1=\"50%\" x2=\"62.5%\" y1=\"1.2em\" y2=\"3em\" /><svg width=\"25%\" x=\"75%\" y=\"3em\"><defs /><svg width=\"100%\" x=\"0\" y=\"0em\"><defs /><text text-anchor=\"middle\" x=\"50%\" y=\"1em\">was</text></svg><svg width=\"100%\" x=\"0%\" y=\"3em\"><defs /><svg width=\"100%\" x=\"0\" y=\"0em\"><defs /><text text-anchor=\"middle\" x=\"50%\" y=\"1em\">VBD</text></svg></svg><line stroke=\"black\" x1=\"50%\" x2=\"50%\" y1=\"1.2em\" y2=\"3em\" /></svg><line stroke=\"black\" x1=\"50%\" x2=\"87.5%\" y1=\"1.2em\" y2=\"3em\" /></svg><line stroke=\"black\" x1=\"50%\" x2=\"26.8041%\" y1=\"1.2em\" y2=\"3em\" /><svg width=\"7.21649%\" x=\"37.1134%\" y=\"3em\"><defs /><svg width=\"100%\" x=\"0\" y=\"0em\"><defs /><text text-anchor=\"middle\" x=\"50%\" y=\"1em\">going</text></svg><svg width=\"100%\" x=\"0%\" y=\"3em\"><defs /><svg width=\"100%\" x=\"0\" y=\"0em\"><defs /><text text-anchor=\"middle\" x=\"50%\" y=\"1em\">VBG</text></svg></svg><line stroke=\"black\" x1=\"50%\" x2=\"50%\" y1=\"1.2em\" y2=\"3em\" /></svg><line stroke=\"black\" x1=\"50%\" x2=\"40.7216%\" y1=\"1.2em\" y2=\"3em\" /><svg width=\"4.12371%\" x=\"44.3299%\" y=\"3em\"><defs /><svg width=\"100%\" x=\"0\" y=\"0em\"><defs /><text text-anchor=\"middle\" x=\"50%\" y=\"1em\">to</text></svg><svg width=\"100%\" x=\"0%\" y=\"3em\"><defs /><svg width=\"100%\" x=\"0\" y=\"0em\"><defs /><text text-anchor=\"middle\" x=\"50%\" y=\"1em\">TO</text></svg></svg><line stroke=\"black\" x1=\"50%\" x2=\"50%\" y1=\"1.2em\" y2=\"3em\" /></svg><line stroke=\"black\" x1=\"50%\" x2=\"46.3918%\" y1=\"1.2em\" y2=\"3em\" /><svg width=\"9.27835%\" x=\"48.4536%\" y=\"3em\"><defs /><svg width=\"100%\" x=\"0\" y=\"0em\"><defs /><text text-anchor=\"middle\" x=\"50%\" y=\"1em\">mychunk</text></svg><svg width=\"100%\" x=\"0%\" y=\"3em\"><defs /><svg width=\"100%\" x=\"0\" y=\"0em\"><defs /><text text-anchor=\"middle\" x=\"50%\" y=\"1em\">tell</text></svg><svg width=\"100%\" x=\"0%\" y=\"3em\"><defs /><svg width=\"100%\" x=\"0\" y=\"0em\"><defs /><text text-anchor=\"middle\" x=\"50%\" y=\"1em\">VB</text></svg></svg><line stroke=\"black\" x1=\"50%\" x2=\"50%\" y1=\"1.2em\" y2=\"3em\" /></svg><line stroke=\"black\" x1=\"50%\" x2=\"50%\" y1=\"1.2em\" y2=\"3em\" /></svg><line stroke=\"black\" x1=\"50%\" x2=\"53.0928%\" y1=\"1.2em\" y2=\"3em\" /><svg width=\"6.18557%\" x=\"57.732%\" y=\"3em\"><defs /><svg width=\"100%\" x=\"0\" y=\"0em\"><defs /><text text-anchor=\"middle\" x=\"50%\" y=\"1em\">them</text></svg><svg width=\"100%\" x=\"0%\" y=\"3em\"><defs /><svg width=\"100%\" x=\"0\" y=\"0em\"><defs /><text text-anchor=\"middle\" x=\"50%\" y=\"1em\">PRP</text></svg></svg><line stroke=\"black\" x1=\"50%\" x2=\"50%\" y1=\"1.2em\" y2=\"3em\" /></svg><line stroke=\"black\" x1=\"50%\" x2=\"60.8247%\" y1=\"1.2em\" y2=\"3em\" /><svg width=\"4.12371%\" x=\"63.9175%\" y=\"3em\"><defs /><svg width=\"100%\" x=\"0\" y=\"0em\"><defs /><text text-anchor=\"middle\" x=\"50%\" y=\"1em\">a</text></svg><svg width=\"100%\" x=\"0%\" y=\"3em\"><defs /><svg width=\"100%\" x=\"0\" y=\"0em\"><defs /><text text-anchor=\"middle\" x=\"50%\" y=\"1em\">DT</text></svg></svg><line stroke=\"black\" x1=\"50%\" x2=\"50%\" y1=\"1.2em\" y2=\"3em\" /></svg><line stroke=\"black\" x1=\"50%\" x2=\"65.9794%\" y1=\"1.2em\" y2=\"3em\" /><svg width=\"7.21649%\" x=\"68.0412%\" y=\"3em\"><defs /><svg width=\"100%\" x=\"0\" y=\"0em\"><defs /><text text-anchor=\"middle\" x=\"50%\" y=\"1em\">story</text></svg><svg width=\"100%\" x=\"0%\" y=\"3em\"><defs /><svg width=\"100%\" x=\"0\" y=\"0em\"><defs /><text text-anchor=\"middle\" x=\"50%\" y=\"1em\">NN</text></svg></svg><line stroke=\"black\" x1=\"50%\" x2=\"50%\" y1=\"1.2em\" y2=\"3em\" /></svg><line stroke=\"black\" x1=\"50%\" x2=\"71.6495%\" y1=\"1.2em\" y2=\"3em\" /><svg width=\"3.09278%\" x=\"75.2577%\" y=\"3em\"><defs /><svg width=\"100%\" x=\"0\" y=\"0em\"><defs /><text text-anchor=\"middle\" x=\"50%\" y=\"1em\">.</text></svg><svg width=\"100%\" x=\"0%\" y=\"3em\"><defs /><svg width=\"100%\" x=\"0\" y=\"0em\"><defs /><text text-anchor=\"middle\" x=\"50%\" y=\"1em\">.</text></svg></svg><line stroke=\"black\" x1=\"50%\" x2=\"50%\" y1=\"1.2em\" y2=\"3em\" /></svg><line stroke=\"black\" x1=\"50%\" x2=\"76.8041%\" y1=\"1.2em\" y2=\"3em\" /><svg width=\"12.3711%\" x=\"78.3505%\" y=\"3em\"><defs /><svg width=\"100%\" x=\"0\" y=\"0em\"><defs /><text text-anchor=\"middle\" x=\"50%\" y=\"1em\">mychunk</text></svg><svg width=\"50%\" x=\"0%\" y=\"3em\"><defs /><svg width=\"100%\" x=\"0\" y=\"0em\"><defs /><text text-anchor=\"middle\" x=\"50%\" y=\"1em\">They</text></svg><svg width=\"100%\" x=\"0%\" y=\"3em\"><defs /><svg width=\"100%\" x=\"0\" y=\"0em\"><defs /><text text-anchor=\"middle\" x=\"50%\" y=\"1em\">PRP</text></svg></svg><line stroke=\"black\" x1=\"50%\" x2=\"50%\" y1=\"1.2em\" y2=\"3em\" /></svg><line stroke=\"black\" x1=\"50%\" x2=\"25%\" y1=\"1.2em\" y2=\"3em\" /><svg width=\"50%\" x=\"50%\" y=\"3em\"><defs /><svg width=\"100%\" x=\"0\" y=\"0em\"><defs /><text text-anchor=\"middle\" x=\"50%\" y=\"1em\">were</text></svg><svg width=\"100%\" x=\"0%\" y=\"3em\"><defs /><svg width=\"100%\" x=\"0\" y=\"0em\"><defs /><text text-anchor=\"middle\" x=\"50%\" y=\"1em\">VBD</text></svg></svg><line stroke=\"black\" x1=\"50%\" x2=\"50%\" y1=\"1.2em\" y2=\"3em\" /></svg><line stroke=\"black\" x1=\"50%\" x2=\"75%\" y1=\"1.2em\" y2=\"3em\" /></svg><line stroke=\"black\" x1=\"50%\" x2=\"84.5361%\" y1=\"1.2em\" y2=\"3em\" /><svg width=\"9.27835%\" x=\"90.7216%\" y=\"3em\"><defs /><svg width=\"100%\" x=\"0\" y=\"0em\"><defs /><text text-anchor=\"middle\" x=\"50%\" y=\"1em\">excited</text></svg><svg width=\"100%\" x=\"0%\" y=\"3em\"><defs /><svg width=\"100%\" x=\"0\" y=\"0em\"><defs /><text text-anchor=\"middle\" x=\"50%\" y=\"1em\">VBN</text></svg></svg><line stroke=\"black\" x1=\"50%\" x2=\"50%\" y1=\"1.2em\" y2=\"3em\" /></svg><line stroke=\"black\" x1=\"50%\" x2=\"95.3608%\" y1=\"1.2em\" y2=\"3em\" /></svg>"
          },
          "metadata": {}
        }
      ]
    },
    {
      "cell_type": "markdown",
      "source": [
        "###Chinking"
      ],
      "metadata": {
        "id": "Cbs8S98uDqvD"
      }
    },
    {
      "cell_type": "code",
      "source": [
        "#import the library\n",
        "import nltk\n",
        "#define the text\n",
        "sentence = \"I told the children I was going to tell them a story. They were excited\"\n",
        "#tokenize the text\n",
        "tokens = nltk.word_tokenize(sentence)\n",
        "#perform POS tagging\n",
        "tags = nltk.pos_tag(tokens)\n",
        "#define a chunk grammar named mychunk\n",
        "chunk_grammar = \"\"\" mychunk: {<PRP.?>}\"\"\"\n",
        "\n",
        "#parse the grammar with regular expression parser\n",
        "parser = nltk.RegexpParser(chunk_grammar)\n",
        "#assign the chunk\n",
        "tree = parser.parse(tags)\n",
        "print(tree)"
      ],
      "metadata": {
        "colab": {
          "base_uri": "https://localhost:8080/"
        },
        "id": "re3yWqsoDo7L",
        "outputId": "42ca1ae4-2b0d-4b15-f806-1548457cd33d"
      },
      "execution_count": null,
      "outputs": [
        {
          "output_type": "stream",
          "name": "stdout",
          "text": [
            "(S\n",
            "  (mychunk I/PRP)\n",
            "  told/VBD\n",
            "  the/DT\n",
            "  children/NNS\n",
            "  (mychunk I/PRP)\n",
            "  was/VBD\n",
            "  going/VBG\n",
            "  to/TO\n",
            "  tell/VB\n",
            "  (mychunk them/PRP)\n",
            "  a/DT\n",
            "  story/NN\n",
            "  ./.\n",
            "  (mychunk They/PRP)\n",
            "  were/VBD\n",
            "  excited/VBN)\n"
          ]
        }
      ]
    },
    {
      "cell_type": "code",
      "source": [
        "display(tree)"
      ],
      "metadata": {
        "colab": {
          "base_uri": "https://localhost:8080/",
          "height": 190
        },
        "id": "Aquxrdh-DuYa",
        "outputId": "5d632ec8-2e3d-479b-ef4b-2e2368dee7e4"
      },
      "execution_count": null,
      "outputs": [
        {
          "output_type": "display_data",
          "data": {
            "text/plain": [
              "Tree('S', [Tree('mychunk', [('I', 'PRP')]), ('told', 'VBD'), ('the', 'DT'), ('children', 'NNS'), Tree('mychunk', [('I', 'PRP')]), ('was', 'VBD'), ('going', 'VBG'), ('to', 'TO'), ('tell', 'VB'), Tree('mychunk', [('them', 'PRP')]), ('a', 'DT'), ('story', 'NN'), ('.', '.'), Tree('mychunk', [('They', 'PRP')]), ('were', 'VBD'), ('excited', 'VBN')])"
            ],
            "image/svg+xml": "<svg baseProfile=\"full\" height=\"168px\" preserveAspectRatio=\"xMidYMid meet\" style=\"font-family: times, serif; font-weight:normal; font-style: normal; font-size: 16px;\" version=\"1.1\" viewBox=\"0,0,864.0,168.0\" width=\"864px\" xmlns=\"http://www.w3.org/2000/svg\" xmlns:ev=\"http://www.w3.org/2001/xml-events\" xmlns:xlink=\"http://www.w3.org/1999/xlink\"><defs /><svg width=\"100%\" x=\"0\" y=\"0em\"><defs /><text text-anchor=\"middle\" x=\"50%\" y=\"1em\">S</text></svg><svg width=\"8.33333%\" x=\"0%\" y=\"3em\"><defs /><svg width=\"100%\" x=\"0\" y=\"0em\"><defs /><text text-anchor=\"middle\" x=\"50%\" y=\"1em\">mychunk</text></svg><svg width=\"100%\" x=\"0%\" y=\"3em\"><defs /><svg width=\"100%\" x=\"0\" y=\"0em\"><defs /><text text-anchor=\"middle\" x=\"50%\" y=\"1em\">I</text></svg><svg width=\"100%\" x=\"0%\" y=\"3em\"><defs /><svg width=\"100%\" x=\"0\" y=\"0em\"><defs /><text text-anchor=\"middle\" x=\"50%\" y=\"1em\">PRP</text></svg></svg><line stroke=\"black\" x1=\"50%\" x2=\"50%\" y1=\"1.2em\" y2=\"3em\" /></svg><line stroke=\"black\" x1=\"50%\" x2=\"50%\" y1=\"1.2em\" y2=\"3em\" /></svg><line stroke=\"black\" x1=\"50%\" x2=\"4.16667%\" y1=\"1.2em\" y2=\"3em\" /><svg width=\"5.55556%\" x=\"8.33333%\" y=\"3em\"><defs /><svg width=\"100%\" x=\"0\" y=\"0em\"><defs /><text text-anchor=\"middle\" x=\"50%\" y=\"1em\">told</text></svg><svg width=\"100%\" x=\"0%\" y=\"3em\"><defs /><svg width=\"100%\" x=\"0\" y=\"0em\"><defs /><text text-anchor=\"middle\" x=\"50%\" y=\"1em\">VBD</text></svg></svg><line stroke=\"black\" x1=\"50%\" x2=\"50%\" y1=\"1.2em\" y2=\"3em\" /></svg><line stroke=\"black\" x1=\"50%\" x2=\"11.1111%\" y1=\"1.2em\" y2=\"3em\" /><svg width=\"4.62963%\" x=\"13.8889%\" y=\"3em\"><defs /><svg width=\"100%\" x=\"0\" y=\"0em\"><defs /><text text-anchor=\"middle\" x=\"50%\" y=\"1em\">the</text></svg><svg width=\"100%\" x=\"0%\" y=\"3em\"><defs /><svg width=\"100%\" x=\"0\" y=\"0em\"><defs /><text text-anchor=\"middle\" x=\"50%\" y=\"1em\">DT</text></svg></svg><line stroke=\"black\" x1=\"50%\" x2=\"50%\" y1=\"1.2em\" y2=\"3em\" /></svg><line stroke=\"black\" x1=\"50%\" x2=\"16.2037%\" y1=\"1.2em\" y2=\"3em\" /><svg width=\"9.25926%\" x=\"18.5185%\" y=\"3em\"><defs /><svg width=\"100%\" x=\"0\" y=\"0em\"><defs /><text text-anchor=\"middle\" x=\"50%\" y=\"1em\">children</text></svg><svg width=\"100%\" x=\"0%\" y=\"3em\"><defs /><svg width=\"100%\" x=\"0\" y=\"0em\"><defs /><text text-anchor=\"middle\" x=\"50%\" y=\"1em\">NNS</text></svg></svg><line stroke=\"black\" x1=\"50%\" x2=\"50%\" y1=\"1.2em\" y2=\"3em\" /></svg><line stroke=\"black\" x1=\"50%\" x2=\"23.1481%\" y1=\"1.2em\" y2=\"3em\" /><svg width=\"8.33333%\" x=\"27.7778%\" y=\"3em\"><defs /><svg width=\"100%\" x=\"0\" y=\"0em\"><defs /><text text-anchor=\"middle\" x=\"50%\" y=\"1em\">mychunk</text></svg><svg width=\"100%\" x=\"0%\" y=\"3em\"><defs /><svg width=\"100%\" x=\"0\" y=\"0em\"><defs /><text text-anchor=\"middle\" x=\"50%\" y=\"1em\">I</text></svg><svg width=\"100%\" x=\"0%\" y=\"3em\"><defs /><svg width=\"100%\" x=\"0\" y=\"0em\"><defs /><text text-anchor=\"middle\" x=\"50%\" y=\"1em\">PRP</text></svg></svg><line stroke=\"black\" x1=\"50%\" x2=\"50%\" y1=\"1.2em\" y2=\"3em\" /></svg><line stroke=\"black\" x1=\"50%\" x2=\"50%\" y1=\"1.2em\" y2=\"3em\" /></svg><line stroke=\"black\" x1=\"50%\" x2=\"31.9444%\" y1=\"1.2em\" y2=\"3em\" /><svg width=\"4.62963%\" x=\"36.1111%\" y=\"3em\"><defs /><svg width=\"100%\" x=\"0\" y=\"0em\"><defs /><text text-anchor=\"middle\" x=\"50%\" y=\"1em\">was</text></svg><svg width=\"100%\" x=\"0%\" y=\"3em\"><defs /><svg width=\"100%\" x=\"0\" y=\"0em\"><defs /><text text-anchor=\"middle\" x=\"50%\" y=\"1em\">VBD</text></svg></svg><line stroke=\"black\" x1=\"50%\" x2=\"50%\" y1=\"1.2em\" y2=\"3em\" /></svg><line stroke=\"black\" x1=\"50%\" x2=\"38.4259%\" y1=\"1.2em\" y2=\"3em\" /><svg width=\"6.48148%\" x=\"40.7407%\" y=\"3em\"><defs /><svg width=\"100%\" x=\"0\" y=\"0em\"><defs /><text text-anchor=\"middle\" x=\"50%\" y=\"1em\">going</text></svg><svg width=\"100%\" x=\"0%\" y=\"3em\"><defs /><svg width=\"100%\" x=\"0\" y=\"0em\"><defs /><text text-anchor=\"middle\" x=\"50%\" y=\"1em\">VBG</text></svg></svg><line stroke=\"black\" x1=\"50%\" x2=\"50%\" y1=\"1.2em\" y2=\"3em\" /></svg><line stroke=\"black\" x1=\"50%\" x2=\"43.9815%\" y1=\"1.2em\" y2=\"3em\" /><svg width=\"3.7037%\" x=\"47.2222%\" y=\"3em\"><defs /><svg width=\"100%\" x=\"0\" y=\"0em\"><defs /><text text-anchor=\"middle\" x=\"50%\" y=\"1em\">to</text></svg><svg width=\"100%\" x=\"0%\" y=\"3em\"><defs /><svg width=\"100%\" x=\"0\" y=\"0em\"><defs /><text text-anchor=\"middle\" x=\"50%\" y=\"1em\">TO</text></svg></svg><line stroke=\"black\" x1=\"50%\" x2=\"50%\" y1=\"1.2em\" y2=\"3em\" /></svg><line stroke=\"black\" x1=\"50%\" x2=\"49.0741%\" y1=\"1.2em\" y2=\"3em\" /><svg width=\"5.55556%\" x=\"50.9259%\" y=\"3em\"><defs /><svg width=\"100%\" x=\"0\" y=\"0em\"><defs /><text text-anchor=\"middle\" x=\"50%\" y=\"1em\">tell</text></svg><svg width=\"100%\" x=\"0%\" y=\"3em\"><defs /><svg width=\"100%\" x=\"0\" y=\"0em\"><defs /><text text-anchor=\"middle\" x=\"50%\" y=\"1em\">VB</text></svg></svg><line stroke=\"black\" x1=\"50%\" x2=\"50%\" y1=\"1.2em\" y2=\"3em\" /></svg><line stroke=\"black\" x1=\"50%\" x2=\"53.7037%\" y1=\"1.2em\" y2=\"3em\" /><svg width=\"8.33333%\" x=\"56.4815%\" y=\"3em\"><defs /><svg width=\"100%\" x=\"0\" y=\"0em\"><defs /><text text-anchor=\"middle\" x=\"50%\" y=\"1em\">mychunk</text></svg><svg width=\"100%\" x=\"0%\" y=\"3em\"><defs /><svg width=\"100%\" x=\"0\" y=\"0em\"><defs /><text text-anchor=\"middle\" x=\"50%\" y=\"1em\">them</text></svg><svg width=\"100%\" x=\"0%\" y=\"3em\"><defs /><svg width=\"100%\" x=\"0\" y=\"0em\"><defs /><text text-anchor=\"middle\" x=\"50%\" y=\"1em\">PRP</text></svg></svg><line stroke=\"black\" x1=\"50%\" x2=\"50%\" y1=\"1.2em\" y2=\"3em\" /></svg><line stroke=\"black\" x1=\"50%\" x2=\"50%\" y1=\"1.2em\" y2=\"3em\" /></svg><line stroke=\"black\" x1=\"50%\" x2=\"60.6481%\" y1=\"1.2em\" y2=\"3em\" /><svg width=\"3.7037%\" x=\"64.8148%\" y=\"3em\"><defs /><svg width=\"100%\" x=\"0\" y=\"0em\"><defs /><text text-anchor=\"middle\" x=\"50%\" y=\"1em\">a</text></svg><svg width=\"100%\" x=\"0%\" y=\"3em\"><defs /><svg width=\"100%\" x=\"0\" y=\"0em\"><defs /><text text-anchor=\"middle\" x=\"50%\" y=\"1em\">DT</text></svg></svg><line stroke=\"black\" x1=\"50%\" x2=\"50%\" y1=\"1.2em\" y2=\"3em\" /></svg><line stroke=\"black\" x1=\"50%\" x2=\"66.6667%\" y1=\"1.2em\" y2=\"3em\" /><svg width=\"6.48148%\" x=\"68.5185%\" y=\"3em\"><defs /><svg width=\"100%\" x=\"0\" y=\"0em\"><defs /><text text-anchor=\"middle\" x=\"50%\" y=\"1em\">story</text></svg><svg width=\"100%\" x=\"0%\" y=\"3em\"><defs /><svg width=\"100%\" x=\"0\" y=\"0em\"><defs /><text text-anchor=\"middle\" x=\"50%\" y=\"1em\">NN</text></svg></svg><line stroke=\"black\" x1=\"50%\" x2=\"50%\" y1=\"1.2em\" y2=\"3em\" /></svg><line stroke=\"black\" x1=\"50%\" x2=\"71.7593%\" y1=\"1.2em\" y2=\"3em\" /><svg width=\"2.77778%\" x=\"75%\" y=\"3em\"><defs /><svg width=\"100%\" x=\"0\" y=\"0em\"><defs /><text text-anchor=\"middle\" x=\"50%\" y=\"1em\">.</text></svg><svg width=\"100%\" x=\"0%\" y=\"3em\"><defs /><svg width=\"100%\" x=\"0\" y=\"0em\"><defs /><text text-anchor=\"middle\" x=\"50%\" y=\"1em\">.</text></svg></svg><line stroke=\"black\" x1=\"50%\" x2=\"50%\" y1=\"1.2em\" y2=\"3em\" /></svg><line stroke=\"black\" x1=\"50%\" x2=\"76.3889%\" y1=\"1.2em\" y2=\"3em\" /><svg width=\"8.33333%\" x=\"77.7778%\" y=\"3em\"><defs /><svg width=\"100%\" x=\"0\" y=\"0em\"><defs /><text text-anchor=\"middle\" x=\"50%\" y=\"1em\">mychunk</text></svg><svg width=\"100%\" x=\"0%\" y=\"3em\"><defs /><svg width=\"100%\" x=\"0\" y=\"0em\"><defs /><text text-anchor=\"middle\" x=\"50%\" y=\"1em\">They</text></svg><svg width=\"100%\" x=\"0%\" y=\"3em\"><defs /><svg width=\"100%\" x=\"0\" y=\"0em\"><defs /><text text-anchor=\"middle\" x=\"50%\" y=\"1em\">PRP</text></svg></svg><line stroke=\"black\" x1=\"50%\" x2=\"50%\" y1=\"1.2em\" y2=\"3em\" /></svg><line stroke=\"black\" x1=\"50%\" x2=\"50%\" y1=\"1.2em\" y2=\"3em\" /></svg><line stroke=\"black\" x1=\"50%\" x2=\"81.9444%\" y1=\"1.2em\" y2=\"3em\" /><svg width=\"5.55556%\" x=\"86.1111%\" y=\"3em\"><defs /><svg width=\"100%\" x=\"0\" y=\"0em\"><defs /><text text-anchor=\"middle\" x=\"50%\" y=\"1em\">were</text></svg><svg width=\"100%\" x=\"0%\" y=\"3em\"><defs /><svg width=\"100%\" x=\"0\" y=\"0em\"><defs /><text text-anchor=\"middle\" x=\"50%\" y=\"1em\">VBD</text></svg></svg><line stroke=\"black\" x1=\"50%\" x2=\"50%\" y1=\"1.2em\" y2=\"3em\" /></svg><line stroke=\"black\" x1=\"50%\" x2=\"88.8889%\" y1=\"1.2em\" y2=\"3em\" /><svg width=\"8.33333%\" x=\"91.6667%\" y=\"3em\"><defs /><svg width=\"100%\" x=\"0\" y=\"0em\"><defs /><text text-anchor=\"middle\" x=\"50%\" y=\"1em\">excited</text></svg><svg width=\"100%\" x=\"0%\" y=\"3em\"><defs /><svg width=\"100%\" x=\"0\" y=\"0em\"><defs /><text text-anchor=\"middle\" x=\"50%\" y=\"1em\">VBN</text></svg></svg><line stroke=\"black\" x1=\"50%\" x2=\"50%\" y1=\"1.2em\" y2=\"3em\" /></svg><line stroke=\"black\" x1=\"50%\" x2=\"95.8333%\" y1=\"1.2em\" y2=\"3em\" /></svg>"
          },
          "metadata": {}
        }
      ]
    },
    {
      "cell_type": "markdown",
      "metadata": {
        "id": "mfXqOxeGbFkW"
      },
      "source": [
        "### Named Entity Recognition\n",
        "</br>\n",
        "\n"
      ]
    },
    {
      "cell_type": "markdown",
      "source": [
        "![named_entity.jpg](data:image/jpeg;base64,/9j/4AAQSkZJRgABAQEAeAB4AAD/2wBDAAMCAgMCAgMDAwMEAwMEBQgFBQQEBQoHBwYIDAoMDAsKCwsNDhIQDQ4RDgsLEBYQERMUFRUVDA8XGBYUGBIUFRT/2wBDAQMEBAUEBQkFBQkUDQsNFBQUFBQUFBQUFBQUFBQUFBQUFBQUFBQUFBQUFBQUFBQUFBQUFBQUFBQUFBQUFBQUFBT/wAARCAECAxwDASIAAhEBAxEB/8QAHwAAAQUBAQEBAQEAAAAAAAAAAAECAwQFBgcICQoL/8QAtRAAAgEDAwIEAwUFBAQAAAF9AQIDAAQRBRIhMUEGE1FhByJxFDKBkaEII0KxwRVS0fAkM2JyggkKFhcYGRolJicoKSo0NTY3ODk6Q0RFRkdISUpTVFVWV1hZWmNkZWZnaGlqc3R1dnd4eXqDhIWGh4iJipKTlJWWl5iZmqKjpKWmp6ipqrKztLW2t7i5usLDxMXGx8jJytLT1NXW19jZ2uHi4+Tl5ufo6erx8vP09fb3+Pn6/8QAHwEAAwEBAQEBAQEBAQAAAAAAAAECAwQFBgcICQoL/8QAtREAAgECBAQDBAcFBAQAAQJ3AAECAxEEBSExBhJBUQdhcRMiMoEIFEKRobHBCSMzUvAVYnLRChYkNOEl8RcYGRomJygpKjU2Nzg5OkNERUZHSElKU1RVVldYWVpjZGVmZ2hpanN0dXZ3eHl6goOEhYaHiImKkpOUlZaXmJmaoqOkpaanqKmqsrO0tba3uLm6wsPExcbHyMnK0tPU1dbX2Nna4uPk5ebn6Onq8vP09fb3+Pn6/9oADAMBAAIRAxEAPwD9U6KK5RviZonnXEccesXPkTSW7yWuh300fmRuUcB0hKthlYZBIyDQB1dFcp/wsrSP+fPxB/4Tmo//ABij/hZWkf8APn4g/wDCc1H/AOMUAdXRXKf8LK0j/nz8Qf8AhOaj/wDGKP8AhZWkf8+fiD/wnNR/+MUAdXRXKf8ACytI/wCfPxB/4Tmo/wDxij/hZWkf8+fiD/wnNR/+MUAdXRXKf8LK0j/nz8Qf+E5qP/xij/hZWkf8+fiD/wAJzUf/AIxQB1dFcp/wsrSP+fPxB/4Tmo//ABij/hZWkf8APn4g/wDCc1H/AOMUAdXRXKf8LK0j/nz8Qf8AhOaj/wDGKP8AhZWkf8+fiD/wnNR/+MUAdXRXKf8ACytI/wCfPxB/4Tmo/wDxij/hZWkf8+fiD/wnNR/+MUAdXRXKf8LK0j/nz8Qf+E5qP/xij/hZWkf8+fiD/wAJzUf/AIxQB1dFcp/wsrSP+fPxB/4Tmo//ABij/hZWkf8APn4g/wDCc1H/AOMUAdXRXKf8LK0j/nz8Qf8AhOaj/wDGKP8AhZWkf8+fiD/wnNR/+MUAdXRXKf8ACytI/wCfPxB/4Tmo/wDxij/hZWkf8+fiD/wnNR/+MUAdXRXKf8LK0j/nz8Qf+E5qP/xij/hZWkf8+fiD/wAJzUf/AIxQB1dFcp/wsrSP+fPxB/4Tmo//ABij/hZWkf8APn4g/wDCc1H/AOMUAdXRXKf8LK0j/nz8Qf8AhOaj/wDGKP8AhZWkf8+fiD/wnNR/+MUAdXRXKf8ACytI/wCfPxB/4Tmo/wDxij/hZWkf8+fiD/wnNR/+MUAdXRXKf8LK0j/nz8Qf+E5qP/xij/hZWkf8+fiD/wAJzUf/AIxQB1dFcp/wsrSP+fPxB/4Tmo//ABij/hZWkf8APn4g/wDCc1H/AOMUAdXRXKf8LK0j/nz8Qf8AhOaj/wDGKP8AhZWkf8+fiD/wnNR/+MUAdXRXKf8ACytI/wCfPxB/4Tmo/wDxij/hZWkf8+fiD/wnNR/+MUAdXRXKf8LK0j/nz8Qf+E5qP/xij/hZWkf8+fiD/wAJzUf/AIxQB1dFcp/wsrSP+fPxB/4Tmo//ABij/hZWkf8APn4g/wDCc1H/AOMUAdXRXKf8LK0j/nz8Qf8AhOaj/wDGKP8AhZWkf8+fiD/wnNR/+MUAdXRXKf8ACytI/wCfPxB/4Tmo/wDxij/hZWkf8+fiD/wnNR/+MUAdXRXKf8LK0j/nz8Qf+E5qP/xij/hZWkf8+fiD/wAJzUf/AIxQB1dFcp/wsrSP+fPxB/4Tmo//ABij/hZWkf8APn4g/wDCc1H/AOMUAdXRXKf8LK0j/nz8Qf8AhOaj/wDGKP8AhZWkf8+fiD/wnNR/+MUAdXRXKf8ACytI/wCfPxB/4Tmo/wDxij/hZWkf8+fiD/wnNR/+MUAdXRXKf8LK0j/nz8Qf+E5qP/xij/hZWkf8+fiD/wAJzUf/AIxQB1dFcp/wsrSP+fPxB/4Tmo//ABij/hZWkf8APn4g/wDCc1H/AOMUAdXRXKf8LK0j/nz8Qf8AhOaj/wDGKP8AhZWkf8+fiD/wnNR/+MUAdXRXKf8ACytI/wCfPxB/4Tmo/wDxij/hZWkf8+fiD/wnNR/+MUAdXRXKf8LK0j/nz8Qf+E5qP/xij/hZWkf8+fiD/wAJzUf/AIxQB1dFcp/wsrSP+fPxB/4Tmo//ABij/hZWkf8APn4g/wDCc1H/AOMUAdXRXKf8LK0j/nz8Qf8AhOaj/wDGKP8AhZWkf8+fiD/wnNR/+MUAdXRXKf8ACytI/wCfPxB/4Tmo/wDxij/hZWkf8+fiD/wnNR/+MUAdXRXKf8LK0j/nz8Qf+E5qP/xij/hZWkf8+fiD/wAJzUf/AIxQB1dFcp/wsrSP+fPxB/4Tmo//ABij/hZWkf8APn4g/wDCc1H/AOMUAdXRXKf8LK0j/nz8Qf8AhOaj/wDGKP8AhZWkf8+fiD/wnNR/+MUAdXRXKf8ACytI/wCfPxB/4Tmo/wDxij/hZWkf8+fiD/wnNR/+MUAdXRXKf8LK0j/nz8Qf+E5qP/xij/hZWkf8+fiD/wAJzUf/AIxQB1dFcp/wsrSP+fPxB/4Tmo//ABij/hZWkf8APn4g/wDCc1H/AOMUAdXRXKf8LK0j/nz8Qf8AhOaj/wDGKP8AhZWkf8+fiD/wnNR/+MUAdXRXKf8ACytI/wCfPxB/4Tmo/wDxij/hZWkf8+fiD/wnNR/+MUAdXRXKf8LK0j/nz8Qf+E5qP/xij/hZWkf8+fiD/wAJzUf/AIxQB1dFcp/wsrSP+fPxB/4Tmo//ABij/hZWkf8APn4g/wDCc1H/AOMUAdXRXKf8LK0j/nz8Qf8AhOaj/wDGKP8AhZWkf8+fiD/wnNR/+MUAdXRXKf8ACytI/wCfPxB/4Tmo/wDxij/hZWkf8+fiD/wnNR/+MUAdXRXKf8LK0j/nz8Qf+E5qP/xij/hZWkf8+fiD/wAJzUf/AIxQB1dFZXhfxRpfjTQbXWdGuftmm3O7ypvLZN21ijfKwBGGUjkdq1aACuU+Gv8AyLt5/wBhnVv/AE43FdXXKfDX/kXbz/sM6t/6cbigDq6KKKACiiigAr5i/a4/bB1/9k270jUb34cL4r8HX0mJtT0zWJFvLONWjWWWW3NoY1UNKiqTPhmZQSm4V9O15z468P6b4s+I2h6LrNjBqek6h4e1i1u7O5QPFNE8lirIynqCCRUtSbXL/wAPbW3zLhy397YyNS+NWr+JvCvgrxP8LdG8P+OPD3iZlEd7qOvzaZ5W9SyHalnOWxtdXU7WRgBtPO3yvxp+2V428K/tVaP8Crf4Z6Bfa5rVpJqGnapL4unhtjbhZ2UzAaazRyFbd8qocAkDceSPGfhP8KfiB+xl+1d4b+GGnNJrHwI8aavNf6NcXRaR9Mu47WaVrfdn5XIUgg8SKquCGWQVm/tDaFe+Jv8Agrl8MtM07X9Q8L3lx4TdY9W0tIHuICIdROVE8ckfIGDlDwTgg4I2ppTcGk7S5tNLq0G7PppJb9V8jOScFJS3UU79N9/mradHofbnwv8AiN4z8UeLvEeg+LvBeneHBptrZ3dlqmja6+q2eopM0yuEdraBlaNocMpXPzg9MEnxK8ffEDw3rs9t4U8B6Vr2k2mltqN3q2s+IJNMiVwzD7PGsdncGR9qFiflABGSMjMHwVvLXwD4e8H/AAp1XW01bxtpHh2Ka+AkDytHEUh+0SjcWXzXJK7vvbX5O013Pjf/AJEvX/8AsH3H/otq58TL2cJTg9k7dna66+f4q3dGlFKpNRfW3y2v9/5P0Z8x/s7/ALZnxC/aQ+Htv458P/CDSl8Pf21HpN3CPF0j6hCvmRLLcJD/AGeqSLGku8r5oYhGAGcZ+t6+AP8Agkv4W0jxv+xPrmga/p1vq2jajrt9b3dldIHjmjaKAFSD/kdRWN+yr8HbTwt4++J/7L/izwTp+s+GdI1+DxZZald2Mckdxpr5aESMy5kk3JFHkljhp1zhMHrqRSq+yS6J3+UeZfJNyXV69kc1OTlSdV9G1+LSfzdovoro/RiivzT8P/DP4da5/wAFAP2m9D8SaFoj6GvheK+GnXEMa26uYbd5bkRY2+YrMX8zG5SxIILEng9U+KnxFj/4Jq/BS61m6up9H1HxVHpeuXWo3MkMdzoqzzLHDczBGdbdwixswDZRQMMG2nni+aEZ9+X/AMmk4/mvmr9jWd4TcO1/wgp/dZ2v0fqfrRRXz5+yd8O/FHwzuviBpurf8I3p3hq+1OPVdB8OeF7+a8tNFhmjzJBGz20CqjOvmhI1AHmMcDdlvoOratb0X5bfLYSfNf5/8P8APcKKKKkoKKKKACiiigAooooAKKKKACiiigAooooAKKKKACiiigAooooAKKKKACiiigAooooAKKKKACiiigAooooAKKKKACiiigAr5U+Kn7YvjD4d/tPeGfgta/DfQ9V1LxPA13pOqTeK5reHyR52DcKNPcxv+4f5U8wcr83XH1XX5w/ta6Tda7/wVM+A1hZa1feHrqbQWVNT01IHuIDuvzlBPFLGSQMfMjcE98ERr7WnHo3b8H/kaqK9jVn1jG6+9L9T7Q+HPxE8b69421fw/wCLvBWleH4LWyju7PVtE8QPqtreMZZI5Ysva27I8RRdwKn74969OrxT4caPoXhjwLoXwT8canZ+L/EMuj3UuoWuobJ3v7NZij3dxGxbCSl15bOWZhklTj4l/ZS8BfDf4bftXXnw58R6FY6x4OvLq58R/CrWNV0+FoLgsyrKI5pFMkzKIVETFirCISqDvhetYR5p+z8nZ97N6ettu/K9jGpeEHU81p2ulr9+r9ep+otFfkT+3V4m03WG+O+r6Jq8fi3W/DfiPR0j17UIks73wrMH2ix0yUb5plLxSs4/0eNGVmXzWZzXtn7WXh/S/EP7YX7IM2pwj7RqiXUV7eRStbz3CqkLIjyxlXK7pH+XOD5jjGGIMUW63IlpzNL/AMCjzJ/1o902mOt+55m+ib+52+X59Gkz9CqK/He68B6BH8Kf25LJNNiXTPDHiNm0PSwW+w6Y7XLoZbe2z5UUuxFQSKocINoIUkV6R+1EbDxR8I/2IPEviGSG51K91DRU1DW7hwlw0TwwPLuuAQwBbLH5hzz15px95Ra6ukv/AAbt93UdRezc0/s+0/8AJN/vP0j8d6/eeFfBeu61YWUGpXmnWU13FZ3Ny1vHMY0LbGkCSFAcdQjfSuB/ZW+Pn/DTXwQ0L4h/2F/wjf8Aaj3Cf2b9s+1eX5UzxZ8zy0znZn7oxnHPWvlzwHYQ+BP2sP2n/BPgm0h0r4dW/g6K/utH02MQ2Fjqb2iAeVEihI2ePeW24zt5zj5fnrRPGuueF/8AgnD8AbexeMeFdS8byWfiUXNy1vZzWhvZ2+zXcqo7JBJj5ztYYGCrZ2macuZvzVO3lzTlF7X00Xys9LhUXLZdU5X80oKa/P7/ACP2Dor4P1v4F+Nrb4F/EXwHd+KvB/g231jxVZ3nhbRLO8nv9GtBM6yro8zNbQKtvNIoAjVCuJwNhDqr+t/sM+OJPFHgnxbpepeDD4D8UeH9cOma3otrci402C6S3hXbYkMwjgCKmIQxEedoJXFVH3uZbWSf/pN/LRySerd7aWaZLdrPo3/nbz1SuunndH0rRRRQMKKKKACiiigAooooAKKKKACiiigAooooAKKKKACiiigAooooAKKKKACiiigAooooAKKKKACiiigAooooA8q/Zd/5IT4Z/wC3r/0qlr1WvKv2Xf8AkhPhn/t6/wDSqWvVaACuU+Gv/Iu3n/YZ1b/043FdXXKfDX/kXbz/ALDOrf8ApxuKAOrorhPjX8XtJ+B3w9v/ABXq8NxepC8Vta2FoAZ726lcRwwR5ONzuwGTwBknpXJ65rvxn8K+GbvxZdW3hLV4rS1N5P4O0+0uUuwqjc8cWoNOUlkCg7c2yBmGMqDmp5kk5N6Ld/j/AF20vuilFtqK3f8AX9d+mzPZ6K+V/jN+054oj8F/B7xt8K9V8NXHhfx/rum6Eo17Rri5mgN2zjzwYruEZj2FWiIyWB+cV2HhX4x+MNB/aGtfhL44Gh61c6loMmu6frnh20mslVY5RHJFPayzTlPvDa4lIOCMA9NOV3s1Z3a+cVzP8Nf+DoS/hU+jSfyb5V+On/APeK5LVfhD4E13xha+LNS8FeHdQ8U2pQ2+uXWlQS30JT7hSdkLrt7YPHauF/4W54k+JnxA8UeE/hsNJtLbwtKtnq/ifXLaW7t0vmUP9khto5YmlZEKl3MqBSyqAxzjsPCeoeO7fxM+k+KLTR73TlsfPh17R0lgWeYOA8b20jSeTgEEfvZN2T93aQZjq4teq+5u/wB23fS24S0un6P/AC/z7a32OymtYboxGaGOUxOJI96htjAEBhnoeTz715zq37Mnwe17VLvUtT+E/gfUdRu5Wnuby78OWcs00jHLO7tGSzEkkknJJrF/aC/aKt/gTf8AhAXGmvf6dqGpww61eqcJpNjK4hW6k9vPkhUDuPMP8Jx0/wAbtQ8caP8ADvVNW8AX3h+11rToJbwx+I7Ce6trmNI2bywYZ4mjYkD5/nAwRt5yIckoOp0V191r/wBfLdFpOUlTW7t+tv68/Mv+B/g74C+GNxdXHg7wR4c8J3F0gjuJdD0m3smmUHIVzEilgCScGtfxX4P0Hx5oc+i+JtE03xFo85VpdP1a0jureQqwZS0cgKnDAEZHBANeXfA/46X/AMdPh/qtvFBbeDPifowFlrOi6pbtdJpt4VykhjWWNpreQfOjLIu5T97INeXfFf43fG74Y/s42HxEbVPAN9rD6lb2lxp//COXqQeXcXUdsmx/7QLbkZmckjDAgALty2sk+dU31tbzu9LfejFSioupsldv5LU9wj+BnhjwL4d8SH4WeF/Cvw88V6hp01ra6xpWhW0HlylT5TSBIx5iq+1trZHHQ1N8G/CXijSNFi1f4gvo938QLuxtbHU73RdzW8q24fYVZo4ydzyTS42KFMxQZChizWtO+LVwNHttI8SeD7CSG0ZtU1K+8N3VzHc3BYBRBbrqEZhQKGJ3ySE5XB4NcN+zr8TviN8UPGni+XVNU8La58PNHnOmWOuaPoVzp8mp3qNi4MXmXtwpgiYGPePvuGxgLliLd3G/T8E3912/noU9I3t1+9tLfva3ys/M8+0H9kPxDqX7XXxG+Ifjvwx4C8U+AfF0MNqNKv7qS+ntRboiwzmCay8p3YxjK7xs3thn2/N9V6l4R0LWPDL+HL/RdPvvD0kAtX0m5tY5LRoQABGYiChQAAbcY4FeYfHj9oq3+CPiHwVaXGmte6Zqmpw22tagpwmkWsxMMM8npuuGjUZ/hWQ/w10PxEX4mNqU03hHWvC+iaLa2HnO+t6JcalNcT5clV8q9txGoVU5O4kt2xWXMo0UvsK6+7V377/oXy81Zv7Ts/v0XpsvuudV4R8E+Hfh/oqaP4X0HTPDekxu0iWGkWcdrArMcswjjUKCT1OOa2q+cf2evHnxo+L3w08BePr7WfA40vxDaC6u9KtPDl5DPaK8b7GSdtRdZNsgjypjXcu7BU4NZPwk/aM8ZLbfGfxB8UdY8Kw+E/hxqV3pUzaDolzbT3Bhjil8/dLeSgAq5URBSSxHz8YOkvdlKM3blTb9FZP819/k7RD34xcNVK1vndr8n/TR9SUV4v4e8RfGPxx4VsPF+nQeFNBtb62F7a+E9Wsrma8eNlDRJLfJOqQyMpG4C3lCE4y+M1xHib9o3x540+Cdl8R/hJY6HcXVnfjS9Z8G+JLSY3v20XSW8trHcxzokUiuxALRurblbKjgkrxbjLRrfy6fn220vuOPvWcdb7ef9fjrY+n6K8Wg+N138Vv2fr/x18Mr3TtO1i0t5pJrHxLp8tx9kuIFYz2dxDHNE8coZdpO7jhtrAivS/Ara8/hHTJPE17p2oa3JF5lxcaTZSWdsSxyAkUk0rDCkAkuckE8Z2gs05J9Lfj/AMMK6sn3v+G/5/1qb1FFFIYUV4ZpHxn8U/GrxBr2n/Cq20mw8O6FfPpt3418R28t3bXV1HkTQ2VnFJE06o2Fadpo1DZCLLgkdR4A8RePm8e6v4X8X22h3dtpunW97H4g0aKW2S/aeSVQn2WSSQ25jEDg/vpd+9GBTlKI+8k++q81a9/8u/QbTV1238tbfm9bbddnb0uiuY0f4oeDfEPizUPC2leLdC1PxNp6s15otnqUMt7bBSFYyQqxdACyg7gMFh60WvxQ8G3/AI0ufB9t4t0K48XWqeZPoEWpQtfxLtDbmgDeYo2spyV6MD3o3tbqJ6bnT0VyFn8YvAWoDUza+N/DlyNLvY9Ov/J1a3f7JdSSeVHBLh/klaT5AjYYtwBnipW+K3glPHC+C28YaAvjFhkeHjqcH9oEeX5mfs+7zPufP937vPSha7f11/IO/kdVRXGah8SLGP4l6X4NsNU8M3OqyQyXWo6Zca6sWq20IXMcsNkI3aZWbhizRhRyC3SpvE3xd8C+C9aGj+IfGnh3QdWa1e+FhqeqwW85t0Vmeby3cN5arHIS2MAIxJ4NHS/9ab/kOzOtopkM0dxCksTrLFIoZHQgqwIyCCOorwvxl40+Kl9+0RH4D8G6x4RsNDXw+davLvVvD9zfT2TGYQxRMY7+EP5pEzA7V2iEj5uoX2lDq7/gm3+CYvsuXRW/FpL8Wj3eivH/ANnj4zan8TtB8ZJ4lg0+21Xwj4gvNAvtS00NHp96YNrfaIhIzNGNrgMjO+xlYbj1rtPCPxa8DeP5oovC/jPw/wCJJZopJo00jVILpnjjZVkcCNzlVZ0UkcAuoPUVW9ra3Sfyaun92or99NWvmnZr7zrKK5vS/iV4R1zxNqfhvTvFWi6h4i0tS9/pFrqMMl3aKCATLCrF0HI5YDqK4G8/am+H+g+EPEXjDWvG3gtPB9hdPa2Wp6T4jivmvJEh814CgRQtzjOII2lYjByM4EcyUebpa/yKSbdlve3zPYqK+ZPg38Y9c8ZeIPAutXPxO8H6lJ400975/h8dTtIpdPhYl4pLFoo3nupIliljmWRtjOJHVohH5Z941H4keEdH8X2HhS/8U6LZeKdQTzbPQ7jUIY725T5vmjgLb3HyPyAfun0Nayg4uz32t5rp/wANdfO5Kkndrbe/k+v9flY6OisvxR4m0vwX4b1TX9bvY9O0fTLaS8vLubOyGFFLO5xzwAeleT+D/GnxU+MWj2vijw9BoPw+8MXYE2nW3ifS59T1HULZuUnkSK6t1s9y4KxkzNhgW2HKVne7t9/l/XRbvWy0dm9F6/1/T227o9sorznwX8VJR8MZ/F/xGGjeAooLu5hufP1RTaWqR3LW6FrmVY1O8qCCVX76jGeurffGb4f6X4PsfFl7458N2nhW+kEVprk+r26WNw53YWOcvsY/I/AJPyt6Gq/r7wWv4/gdjRXHeIvjN8P/AAgt02u+OfDWiLazRW9wdR1e3txDLLGZIo33uNrOgLqp5ZRkZFaei+PvDHiTXtV0PSPEek6prWklRqOm2V9FNc2ZbO0TRqxaPODjcBnFLy/r+tQ6XN6iiqerx30ulXiaZcW9pqLRMLe4u4GnhjkwdrPGroXUHBKh1JHG4daTdlca1di5RXw3q37Vvxi0f9mvRPiS+p+A7nXNc1QWen6JbeGb50kg+2/ZfNMn9o5A5R92CuXRBksrV9ArqHxdu/iBoWjafr/gu80jT7cN4qvm8PXcbiYtujhtFF+wV3iIyHL+WNrkuJFjFJX++34X/VfPRE3/AK+dv68tT2OivCfg748+Jnjr4ufESy1LVfCc/gPwvq39k28mn6HdQ315N5CSyKZHvHjQQmWNCwRt5V/ljwKxfAXxw8Yf298V/EPjfxN4OtPhX4D1KfTn1Cy0O7gurhooEkmYu15Io8p5BFhY3Mjo4AQ4FTdWu9Fy83y0/wA195Ti72Su78vz1/yfnoz6QorxLTPEnxl+JnhtPE3hqPwv4A067t/P0zRvFmk3Wo39whBaOS6aG6gWzZgVzEFnKDksWJjXqvgD8YLf47fCnRvGUGnvpMl4ZoLrT5JPN+zXEMrwzRh8DeoeNsNgZGDgdKvlauno106/1+XW10LzWq7/ANf0+h6HXnGu/s2/CPxRrF3q2s/CzwVq+q3khlub6+8PWk887nqzu0ZZifUmvR6Kiyvcfked6X+zl8JtDtdStdN+F/gzT7bUoPst9Da+H7SJLqHcG8uVVjAddyqdrZGQD2qH/hmX4P8AmWL/APCqPBG+xULaN/wjlnm3UOzgR/u/kG9mbjHLE9TXpVFVd7/1/WpNk1ZnFah8Evh1q2q61qd94B8MXupa3D9n1S8uNGtpJr+LKHy53KZlXMcZ2sSPkX0FV734A/DDUrjSJ7v4b+EbqfR4Y7bTZZtCtXayijYtHHCTHmNVJJVVwATkV3tFLt5f1+o+/meZL+y/8G0iuYl+EngVY7rBnQeG7LEuDuG8eV82Dzz3rxb9qX9kzX/iFJ8ItP8AhfoPgrQfDXgbXl159LuriTTYZWWQOYI4be0lRVc7iX9WPynrX1tRStt5NP5p3X3P+rDvvfrf8dGcX4c+D/gfw94NvPDdj4E8MaNoeqKW1LQ9N0yBLG4dlCuHjEarKCAFyy8gDI7Uul/Bb4e6H4T1Hwvp3gTwzp/hnUX8y90W10e3js7psKN0sKoEc4VeWB+6PSuzoqn7179RLS3kcxpvwv8ABui+E/8AhFtP8JaFY+GcSD+xbbTYY7L94GEn7lVCfMGbPHO4561f8J+DfD/gHRIdG8MaHpvhzR4WZo9P0m0jtbdCxLMVjjAUEkknA5JrYopB5BRRRQAUUUUAFFFFABRRRQAUUUUAFFFFABRRRQAUUUUAFFFFABRRRQAUUUUAFFFFABRRRQAUUUUAFFFFABRRRQB5V+y7/wAkJ8M/9vX/AKVS16rXlX7Lv/JCfDP/AG9f+lUteq0AFcp8Nf8AkXbz/sM6t/6cbiurrlPhr/yLt5/2GdW/9ONxQB5d+2n8Ltc+J3wjsJfDVo+p674Y17T/ABNbaXHJsa++yy73gGSAWZC+0HgsF+taPiD9qTwHeeD77+w9UXXvFk1kxt/BlqpbW2mZSFhksj+9iO7hjIqqvJYgDNe10Vm4KUZQe0vv1ST/AASL5mpRn1X+d/zb+8/NT4zeD9B/Z4/Zf/Zm+FnjXxRp+l63ZeN9K1LVYIdW+yT20DzXElzNHJG6yRxxNMV85Su0gEMDivW/A/ibwn+yH8Yb9fGOpW934O8fAXnhr4pateNeSldof+zLy/kZiUUHfDIz7WTIJJGa+0KK6HUbbk93Jt+kklb5cqafr0bRD1jGHRJLzum3f58zuv1SZ8g/A7V7P9lb4i/FfQPHlwNG8KeK/Elx4v0HxlePjS7iO5RPMt5bk/JDJGUGBIy7gcrmmeC9e8P6n+1r4r8aaZ8Q9c1X4VaX4UXV5r5fF17c+G7fUGuJROcmc2+Fhw3lZ2IOQq4BH2DRUJtcr6xVl6cvKr+it21Vwleakn9p3frzJu3rqvRtHx/p+h6v+1n4A+IfiTQfiF4FbwP40jl0x4bzw/NqNxY2UKMkSPPHqMCxv8zXGxot0bTnOcCsf4A/tbeEfFH7JXijTPFvjvw+PE/gzTrzQtUu21KPy7wRq0FvdxMSPMSceXtZc7nbA5IFfbFFRKN4ygtmkvmuv4v7y1K0oze6d/l2/Ba+R81+LvCK+ONF8MfG/wCCuo6bq/jPTbBYQ1jdK9n4ksEOJtPmdSV3Blby3PMci4PG4V49+1d8TNCh/YN8KnWr2Dw3quuX2lXtto2qzJDe7U1KGaZfKJ3ExL9/AIXHNfetFaN/vFOOykpJfO7Xzf43e7Zz+zTpum+sXG/qrL7l/lslb5L/AGlv2oPB+t3Hh34Y+H/ib4b8Or4utftup+LZNbt4IdP0cnDtBMzhWuJxmOPacqCz9FFeieC/j98D/Cek6X4S8F+NvCdzomi6XJPIuj6vBcQaXYW6ANNM6MwUbmjXLEFi5PODXuFFStE0uv8AS+7/AD2ua7tN9P6f3/5b2PjeHw1rH7WXwn+IPiLSviJ4ETwP44ilt5Fu9Amv7jTrOFCsKPcpqMKxSIP35VosxSTNndir/wCy7+1x4T8cfszag3izxvoMXiLwbay6Rr95LqMSxSGImCK7VyQGjnwhVhwzMVGTxX1zRUSinGcFtJJeel9b9d2VGTUoze6bfyfT8F9x80/8E+/HnhvW/wBjzwALDXtOu20PSI7fVViukJsJEDFlnGf3ZAG75scc9Oa8C8DWvh79p74cftc/Drwj4t0a/wDEHiLxRe6lpUNtqMbG5iSO1Mcy7Wy0DSxhDIMr83Xnn9E6KuratOpKW0otfe07/fFE0b0YQjHeLT+5NfqeGeBf2nPA9j4C0W38S6rH4Z8Y29ikV34Ov8rrC3EaBZI4rT/Wz/MDtaNWVwQVJBrxzwPa6d+zn8AdV1v4lapp/gjUfHXxBTxSNM1a6jhe2WbUraQQkZwXSGMPIFyF+bPAJr7Woq3OTm6nV/da6k1+C9BRioxjBbL9E0vzfQ+Uvj94L1L4fWviL4xfCm1Gv6d4g0t18V+HtNkDx6xbNCVi1G1wdpuIlIJI4ljyPvBTX09oP/ID07/r2j/9BFX6KiNopxX/AAy10/H+lZJy95xb3V/ne2v4f11Kq6pbzXml3lvbTfZriWF445sZ8tipAb8DzVqiplFTi4vqOLcWmj5A/ZT+Jvgb4F/AHR/hb8TPE+k/Dnxd4dF1p+oWHiHUE0mW6zcTH7ZbPIyGaKXJZZ4iQTn5twOPN4l8XeF/2P8Axv8AEzSPEPjC4l8U6zINPk8S+JtSuI9I8MzX6RJMnmPKYh9lBl+0+W8irKWywXn9B6KuTc5OctZPfs9bvTz29HJdRK0YqEdk7rvs0tfK9/NpPofD2tSNefCvxB4t8Aavot3qfhHwnc6b4atfhzE9/o3h6KZoluSl6Fxe3apEJNqJGUVBuiy6u/VaTb+EvG2rfBnwR8F5LPWvBvg/Vhr+seKNHnS4s7byoJV8h7lciS7uJJ90igmTaXaTAcbvreii/vc3o/mm2r99Xf8ANsjl9zkT6NfJpJ+ml15X0t1+c/gD4F074rR+Jfid4mtLPWl8R+IJtQ0K3uoEnjsba3YW1pcJuLKZWS3WVZAAUEhC4LOX8D+E/hHTfjT4LsvgePFHgGfQ9L8WXWp648mp/avE2v8A2TUndzdaXLAhgaV0TzJZJJSUH3SHGPt74qeA1+KHw917wq+p3WjJqts1ub2zCM6A4OCrgq6HG1kYEMpZTwa86h+Aev8AibUvCTePNd8J6vpvhS6hv9Ih8O+EDpdxBPDt8tRNLeXPlxYUbkhWMttUb9m5GUPijF/CuX8OvqrJ22k9y6msZW3d3+D0+d7X3iloect450vTfjB8YdQ8L6fb3d78KfBy6JoPhnTbU4hcwC7lCpGuI0f/AEOFFwN32aQIDsbHnPirxd8OdZ+B/gPwHoniCx8ZXHxI8R6bF4r8XxTrMs1ycXdyk8q8NcyJB9njtfvIjxptC7Fb77opwbjKMm725X90nJ/KTd36b7Wctfh0ev8A6SoxfrFLTvdnnupT+L/CetXuva/438Hab8PLLzJ54LjQZrW4t7cKcF759Q8pdpwS5gAIBGBnI8A+AGi+Bf2rvE3xQ+JR8TalqP8AaGs/2VaW/hvxZf6a0GmWqGK3E8VncRn96/2mZfNGdsuRwTX2DRUpLrqrW/Fa/hb5sG3b3dNfw10++z+SPlf4xW/w/wDh94x+Fnwr1gaL4D+DxtL7Up7Gfy7PTNTuYXhFvp8hbCOGaeWdoicytEud3zA+XeNvibJ4quPj38QdF/tHw01hNo3g6aeOJ0v9L0dZkkvtSeIDzLZjFcyEAhZFW2VmClCF++aKe7vPXd+rb6/9u3g+6ffUT2tHTb8O3/b1peq7aHivhXxF8ItP8PJ4k8FyWN94Z8D6JdeRqXh+5MmkWsBAeaNTG/kyTYh3MQGdBncV835/D9Dkt/Hv7LvgHwxb3X2/Vvi/4iF5rNxDl18qeVtQ1BQ44dI7eM2u5SQDtXOQRX21Xnngj4a63p+uRa5408UQ+MtasY5rXTLiHSksEtbeRgzlkDvvnYKitICqlY1CxoTIXafv8z8n9zu15qTtf03vvNmoWXS/5WTXnFX9b7WPJPF/jlNc/ac8VW2kf8TTXvhz4Lmk0vQ4B5kk+o3qNKW2fw7YreCMMxAJuiucnFJ+zFqHwy8afDLwfpGn6zH418VySW3iHxJc2Vw/2tNXVRI8+phXDRsJV2pDP/zzVVTbF8n0/RUx938PvUnL82v/AAGOuiHJKXp26fCo/o//AAJ3vc8D/bs8A+IviV+yz420LwtaTalqrxwXJ023LebewwzxyzW6beSzxoyhRySQO9bHhH9q74SeJNHsI9G8YabPqzx+WnhW3fdrcciZV4Dpw/0gSIVYMvl/KFLHCjNeyUU1omuj1/C39f8ABY5a2fVX/r+t/kj5e8deMvDek/tYW998UNWtNB0XQ/Dltd+D9P1iVEjutSmlmW8lt05E93Gi28SohZ1Ex2D97k8UujeK9c+HS6He2V14S1b4zfECTUk0jUYlabS9JSNZ5BNCCAryW9iN6HkPdbW+bNfa1FONo9P+G5lJr52SfkrLfRS96/y+9Rcf1b9fnf5N/aws/hz4C8MeC/h5f6jpfgbS/HfiOH+29XmvY9PkuLW1DXdxLPdEqzSSNHHGZGbcWuM5yedDRde8M2vxPvPjAgTQPhH4P8M/8I5peqwWzmDU2uLqKSWe3SNS0lshjhRJACsjO7JlRvb06H4V+Kpvj9H8QNR8U6NeaNa6ZNpNjoiaBJHcW0MjrI7C7N2QXZ44tx8rBWJQFU7mPqlKHu2n9rV+l1y/P3fkmxz95uK20XrrzX8nfR90vPTlfEHxQ8L+FvGHhzwtqurR2WveIvO/su0eNz9p8oAuAwXapAZcBiM5wMmr/jjVTofgrxBqQDMbPT7i4CqpYnZGzYA7njpVjU9Bt9XvrC4unlkjspPPjtsgRGUcLIwxklcnAJxkg4yFI06znH2lNwbs3cuMuWalulY+CZvgn448N/sk/Crw/PpCX3xC1LU/D1h/Zc0uIbG2tp1vJIpGA4X9xJLMVGcnaNwjSvqnx3498Lfsz/CTUPEHifW7a0t7OKa4kutQmWOXUrwo8hVASN8shVtsadhhQAoA9NorWo3NTUdOZt+l0lZfdfzeruRBKLi5a2SXra+v429Nj4T8E2Pww+HP7H9l8WfF3jTVk1HV7K5128bRfiJqdla3+rTeZPLawR2t4kTS+Zuj2RrnMbZ5BNVtZ+H0kP7APwsGlXL+L9Ii1vSfEfjGTS5X1OTUIXvftGpNujLtNsmdmb752xNnkcfetFNtKTcFZXi0ui5XdLzT0vtokC2XPrpK/d8ytfya1tvqzwLx/wDtN6P4m8I3elfBTVNN+JfjvUYjbafD4fuUvbXTncYW5v5oyyWsSct+9KtIUKoGbIHc/s+fB+0+Avwb8L+BbSdbw6TahLi8VNn2m4cl5pdvbdIztjsCBXolFTH3ea3W34Xt+b9fkgd2ku39f8N217sKKKKACiiigAooooAKKKKACiiigAooooAKKKKACiiigAooooAKKKKACiiigAooooAKKKKACiiigAooooAKKKKACiiigAooooAKKKKACiiigAooooAKKKKAPKv2Xf8AkhPhn/t6/wDSqWvVa8q/Zd/5IT4Z/wC3r/0qlr1WgArlPhr/AMi7ef8AYZ1b/wBONxXV1ynw1/5F28/7DOrf+nG4oA4D9sXXvE/g39nfxn4r8IeKr7wprnh7T5tThms7W0uFuDGh/dSpcQyjYc5+Ta2QPmxkHzS6+J3jv4V+Ovgdpc3jq7+IEPxEf7Nf6Xq9lYRXtkpthKby2a0ghHlRn7wlRxgj5ga779uG4uJv2X/H2i6fo+t69q+uaXPpthY6FpFzqEskzodoZYI38teD877V6DOSAdb9nbwP4D0XwFo/iPw74AtfCOrz6fFBfyP4XbSdReRECyLKjwxyt8ynkghuoJBBpU/im3suX/2668r6XfTRrXUVS9opbvm/9ts/lrZddeh5n8JLH4jeOPiZ8X/DuqfHDxjFY+D9ZtrCxmtdN0FJJIpbKG4JmLaawLBpCMqFGAOKr/tOeI/iH8Lf2a9N8V+Hfi1q1xqtvqlpCurLpuluNTtLy+jjjaZGs9ivHFKArRKgJGWDZ44XwPY/DLxF8avjT4m+JHwb17XbbW9atJ9Dvte+FGq6hJJbJYwxOU3WDtGvmRt8rbSeuK2v2wNZh8d/snx+GPC/w68Yz2lxqun2+maLH4T1CSV7Gzu7dpXlg8jdbpsRwizbWdVBAIPFw2pX/wCnd/w5rv77r17EVObkq8u/v27/AGrWX5fI7s/EHxh8Mf2ovAXw2HjS6+JmleJLC+udTh1S1so9Q0QQIGiuWezhhQRSMfLCvHkkcMela/jT4n3l5+0Q/wAOtR8eXHwytzp1teaE1va2nmeIJmZxPGs13DLGRHtjUxRhZPnLbsYxwmm6L/wy547t/G/w38BatffCHxyY/wC2vDeheG549Q0K8C7Y7yKx8tZlhdV2yQ7AUKhgOSD6b8Rtc8MfETQ9X0r4i/DXWNf8BTJbT2Fw3hq6v3mMkKsVNnHG93BNGWOWMSbc43BlYCX8MH1TafTXXR7/ACve/k9FrvJpbNK3X5/o0rW893F8WPjN4m+BPwzs5tbTTvEPjfXfEUfh3QIYImtbW4muZits0i73ZVWMbn+YklWAxuGJfHWifFD4d+CdY8Yab8QLnxZrWl2bX8vhvUtNsoNLuhGpeSGExQrcQlgCEZ55dpxuDDNeLf8ADOPjzxd8B7GKI6hPqfg3x2nivwLpniq6JvW063cGGzuZWLFC6mYJvJZFaIPjDAe0eOfjDqvjHwJrXh/wh4I8VHxxqFi9pFZ6xotzY2dlLKhXzJr2RBbukedx8iSQttwoYmpqcypSdP4+ifbli1dbX5uZS7PfSxUOVzjz/Drft8TvZ72tbl7rbW5554++LXxG8ReG/hn8X/hBrt5r+ga8ourr4eX9pZhLu3W1kmljgnEPnJcDynABkZS4A4HB7rxZ48n+NHwn8J+N/hl8RtV8LWF7qNlbStp9lYzO6z3kNvNFMl1bymOaLc4wNuGzuDDFYmgaTp37N+j/AAL+G0eneJtcXQBsudT0jw3f3tqm+0uIjLJNDC6R7ppPulsqGDMAvzU34jfBHxD4H+J1j4j+HVtHJ4X8Ua9ps3i7w8owkU0d3DINUt1HR8R7JgOGUhzypJ3ah7ZRj8Dlo/8At7Z+TX3ejdsKblyKVT4kldd1bdLvvtv01tf6RsbeS1s7eCW5lvZY41RrmcIJJSBguwRVXJ6naoGTwAOKnoorPfUtaKwUUUUhhRRRQAUUUUAFFFFABRRWV4o8SWvhDQbvV72DULm2tgGeLS9Pnv7lssFASCBHkc5I+6pwMk4AJpN2V2NJt2R86a/q3jHxH+0v480q0+L+v+Ffh74Y0Gyu9QisdP0lza6jcM5SGOWeylYp5EYkKNufdMmGAIWvXNCkuvg34T12/wDiF8RJdf02K98221jXIbS1kggZY0SBhbQwo7mXeFwm5jIoGTgV8s/CeD4c6rpuq+OfiZ8K/Flx8TNX8STeJDNP8MNXub+wWK4U2NrHcixYKEhggUhX25Z+eSa9O8YeJb/xJ8YvhT4j8U+BvFS+FotGutV03S7fR5r97XWpJYkt1vVhjdbeZLeR9rSMscbvLmT5A1NXjGMer0fW2nNv1ejirb6K/vClrKUu23Ta0b+jvzO+2rtoaUfjmw+LH7S3gv8A4R3UfEtjaaBot9qmuWd1LqGkxgO6wWkV1p04jyWLXEqtJFkiEEErisL9pL49eDfGPw3TR/D3i3VNNu9S1eytLLxDpt3faPamMy5urq31FfLhuYoLdLiSQxySIuz5+1cL4msvG3izwz8Vta8ReEPEFr/bvjXTdC1e10vSp5Ln/hGbeRY5I7dVQy3UbB5naSJCGS5fYSQyp6hpd5qvjn9pjwKsfg7VNG+Hnhzw7caho0tzo0trGLqX/RlZ96qLdkgWRFt2AlC3AYoBu8uIJyUF53/D2ny91qKtvJN9ByvFzfbT8eT563b6JNdz0jR/2hvh1q3w503xtp3ieK+8JXmox6PbarFDNIkly1yLVEPybsGbC7yNpyG3bSGr0S6G62lHnNb5QjzlxlOPvDcCMjryCK+df2d/C1/Df/Ebw3Np11Y+HbLx5qepiaeFo0vRLIlxHHESo3xiVnZ2BIyiplsuB0n7XHj7VfB/wb1zT/DmkeIdV8T67ayadp50DQrzUvspkKxvcSG3icRiNZDIAxBbYQgYjFEpc1JTjvJJr5xTt999e33jgl7Rw6RbX3Nq/wByvb/hl4AnxQ+Kfhj4EP8AFBfipq/iPV9S8RSWvg7wlq2l6UsXiGzN35VtCVt7SKd5pYVeUPFIoAwxXarA/WHjT40eFvh3cWFjrt1df21eQG4TRtH0661a+EQ+/Kbe0iklESt8plKhAxAzkgH5csPh5pcfjb4Uab8APh9rngaXRNStZfFPiybwxceG7e70mONlmtbkXMUMl/LKVQgBJNjHeWQ812uiat4i+Gvjn4zzReCvEHiT4neJNXLaDN/Zk/8AZtxYJbRrZRtqO37PBDEfOZ0d1fcZNqOzoG0lpG0dd7d3ZRSt5ttvX+WTst3nvLmfW1/K7k9emiVtO6u3ol7XqXxy8GaXZ+D7x9SubvT/ABbNDBo9/p2mXV5azvKVEQeaGJkh3bhgysg4b+62KM37RngGOz8V3UWrXd7H4Ytob3UhY6TeXDC3lLiOeEJETcRExyfvYd6DY+WG048d0P8AZ71u1vPgf8N9RuLq58M+CdMudc13VIo38jU9RkRrdbdZGH3T9pvJGH3tuzpuzXEeILPxBrngH476vdeD/FFpfeNPFdt4XkVdAu5JrXw/C6WheGBIzLIn2cXM4eJGTddKAxKuFTTbcYvvb/wKMF+Lfa610S1uLXuuW2l++zk//JUvR6at6fRXgv8AaL0DW/hHovjvX4r7wzb6xKyWWl32m3KX85ZmaGGK2Mfm3ErRBWxArhsMULKN1dt4B+ImhfEzQ31bw/czz2sVzLZzR3llPZ3EE8bbXjlgnRJI2B/hdQcEHoQa+Zfi5beLtK/ac8PeIJG1zw/4Ph8H/YtKutJ8F3XiOfTrmWf/AExYxa+ZHaXPlrbBZZoZ4mVXUAgMD6v4V1zSfgV4T8H6RJ4R8U2o8R6rItzcyRrqEttd3ExY3OpTxOyI00sgyULKGcKuFUYuyl7y2baS8+a34pX+a3Wrz95aPdWb7fDd29LpdtH1sj2evjabxT44j8E/Gf4gaj8eta0Dwv4c1a/svD0lxpuim2k+zII2WbdYh5QbsSwqqOrMFUBix3H6H+O/xNuvhT8NdX1nTPD+ueJ9c+zyx6Zpeg6Rc6hLPdeWxjVxDG/lpuAy74UdM5IB88/Zm/Zw+HHhv4Z+BdZk8CaRc+NLWzinuvEer+GRaavJf8med2uIVuEcylyC2DgjHGKx5XJys7WVvm3e6WzaUev83ma8yjy3V9b+qS2fa919z7G54E/aU0qTwx4Ni+IMN14M8Z6x4cTXrzT7rS7yO0gVY0a4AuWj8oFC6gxmTepdFIywzt6h+0l8PdO8P6DrA1i71C31zTl1ewttJ0i9v72SxZQwumtIIXnjhwVBkdFUFlUkEgHB07wPd+Nv2nte8W61bXkej+FdLttG0S3uLYpBcXEpFzc3SsyfvApFsg2sVDRMTl0Up4dpfhvxjN8VvjNpPit/FoPiXXXEFt4a8K3Cy6tpaQItrarrzlrS3tvKaUMg8iZJWkKzBmw1ylzt8ujabXZa2S7u6cXotlLfoox5V7zulZee12/KzTWvVrXv9Man+0N8PdI/sd7jxJEbfVNNXWYbyC3mmtorFhlLq4mRDHbQtyFkmZFYhgCSCA/xR8ULPTviV4P8HW+qnTtV1kyXS2934dvrmK+t44nZ0iu0KQQSLtDHzGcgYGzLqa8m8S2rf8LG8FJ4W8E61pHiLT518OX+ntpU7aLfeGvMZJPNuzF9nxGqmaJC4lDZTaVlO7T1a48Q6x+014wvrTw1q0k3hfwh9g8OXdxYyR6fPdXO6e4cTuBG5zDZRYQswO/IADEEpRiudJ2Tl62SbWnXon58ytoxK793raPpdtRfpZ3a/u8rvrY7j4kfHzwD4NTXtL1nWbkSafZySam+m2908enL5RcC5u4FKWbunKebJGzZUpkkVxvwh+JGm/Bv4H+BLLx1q+vXvivUtN/tWbTXW/8AEOrokpMr70iWa4MUPmLEZGGxSFUtkjPjca6xffsz+BfA2g+BPFj/APCQ6tp8Hju61fw5dQ3ks07CfUTIkkaGTzWVo3uv9QgkUeZjJTRj0LxjB8ZfjHZeIW8WoniHUUjsIPC/hSc3GpaZHbILe0i1t2NnawYadWRxBIsjuyzIWBM2lGUorV7eTcbbd0+dNOz0jJpajVmouSst/PW+/RW5XfzaTZ9Hx/tDeAZL7Q7ca3IsOt6S2uWGpSafdJp0tksZleU3hiECbU+ZlaQMoK5AyM4HjD9q/wAC+Ffhnr/jSD+2tatdHvm0mWwstDvftf2/apjt2iaENF5hkiCySBYz5seGO5c8tpvw1muPjbcatPoVzpvgf4c+GbbSNB0O3tWMN5csEuZGhJXMqRLBaRoF4MinPzRgV5l4L0rxBcfDX4RW2teD/Eq3PizxpN4u8VLLok7Sw3Cu91DBKpTMCi4+yxCSfy0227HcF2k6WjKXLF2Xyurzsn2fuJuy629COZwipSV2teydoXfmvesrvpftc+w/CGtyeIvCmkarPBLazXlpHPLDcWs1q8bsoLKYplWRMHPyuoYdxXjvg/x94m/aWm1bUvB3iGbwT8N7K8lsLHX9Otre41LW5oXZJpoDcJLBFaq6lAWikeUqxBiAG/2Txdo83iLwprWlW9ybOe+sprWO4UZMTPGyh/wJz+FfOf7O/j28+DfwJ8KfDm/+HXjBvHfhzT10x9H0/QLg2d5cRj/WR6kVFiEk/wBZvedcbiGAf5azck5yutrWXq3f1tpp15vIqzUYrvu/T8Ne/S3mbvw5+KWq6T8RPix8NPGmvy+JLbwjpltrEXiWRYrO8ezuUlZop/s6xxrLF5RxJEseVZflDKWan+x58VNE1DwL4d8L33iHV7/xlqdpc6/9n1mW/vAsLzBmt4L653Lc/ZhNFC4SV2RlIbBzXEeIvgh4r8M/BT4h614mim1bxz8TtYsv+EubQLee+OmaQ0yQta20cKGaZYLQyICiFizs2NoyOw8QaZ4k8cXt54/8E+HNQ0a08G+E9T0vwbpepae2nz6hfTxoPM+yzBJIYY/s8UaLKsbOS52hBG7pN04SnJXstbeScreerjFPW7UmnvauX2kko6JvS/m0uu32pNOzinHTRI9J8aftLfDr4f32s22ta5cRjRYml1S7s9KvLy008rGZPKuLiGF4opigBELsJG3ptUl1za1L9oDwTo+uaxo99e6lZ6jpVlHqE8U2h36iSGQhY/IYwbbh2ZggjhLuWBULuBA+a9cL6x8G/hT8OPC/gHxh/wAIpfa9pyeKr/VfDd7BdK6N9tm3xzRrIWmuYkWS6YeQDMf3h+Yp0Hj/AMH+Ktej+NHjW10LVG8Wa7dReB/CsMlrKws7MYtTqBj2/Kglur2UzYx5IyDtY50lGUbqOrV1625bW9XJd9LvYmLjJJ7J2+V29/NKLb87K57to37QHgHxDqPg+x07Xxd3Hi61F7o2y0n2XEZgM6hnMe2JzErOI5SrkK2FO04Txj+0F4D8B6xqGmaxrUqXOmwfadSaz066vIdMjKF1N3NDE8dsWUblEzIXGNoORXjOm/DiTwf8a/C3hvQ/C+q3OmfD/wAGz3GiXr2TpY3eq3CGBne4IEW+OGBIgm7cFu8KoRGK+d3E+r6j+yh4e8BaP4B8Yz3/AIovrS38f6jqnhy+t7mOW7lWTU5gjx755HJlUSR7oY1xmRQqA1NKUrUn10v5ylFdtFbV+a2vZKLcVeovW3+FSfz10X+LX3dfuHRdYtfEGj2OqWLvJZX0EdzA8kTRM0bqGUlHAZTgjhgCO4q7UcMawwxxonloqhVT+6AOBUlKVrvl2FG/KubcKKKKkoKKKKACiiigAooooAKKKKACiiigAooooAKKKKACiiigAooooAKKKKACiiigAooooAKKKKACiiigAooooAKKKKACiiigAooooAKKKKACiiigDyr9l3/khPhn/t6/9Kpa9Vryr9l3/khPhn/t6/8ASqWvVaACuU+Gv/Iu3n/YZ1b/ANONxXV1ynw1/wCRdvP+wzq3/pxuKAOrorw/9tOxmP7M3xA1iy1fW9C1bQtGu9UsL7QtXutOljnihcoWaCRPMX1R9yng4yAR2vwP8NxeF/hX4bt01HWNWluLGC6nvNc1W41G5lleJC7GWd3YAnnaCFGTgCiPvc3lb8b/AOT/AA+Sk+VxXe/4W/zX4/Pu6K+cPDPifUP2jvjV8TtAn1jVNG8CeBrqHRVs9Dv5dPudRvni8yaWW5hZZkSPKoiRugJ3Ft3ADbnxxqH7P/7RXgnwBc6vqWt+B/HFhfHTv7ZupL260u9s4xK6/aZC0ssUkZziVmZWXhsHFKLTUX/Mrr0tf8Vqvxs9Cmnqlrbf8n93X0Z9I0V8xfs+313+1x4Lm+JniHXtfsfDup6jdR+HtB0HWbnSo7WzgneFZJpLSSOWaWRo2Zg7lACAqjBJ9z8E+E9V8K3muLe+Ir7xBp91cJLp66iytLZRCJUMG4KN67lLB2LOd53E4yb5XHSSs/60fn/VxdWl0dvu/Q6qivmOy+N3iXSf2m9DfVrhf+FWeO4Z9D8O/KQIdRs3dhIx/wCnpTPsPdYYvWsT9sL4dt4J+Gd94s03xh44ttfvfE+mRtPaeMdVtoI4LnU4YngjtorlYUURSFBtQHvnPNRG8uRr7Tt6Nu2v339Ldwk1Hmv9lX9Va7t9zXqmfW9FeB/Er4H6f4R+FvxCvNK8VeOrdW0SW4hWTxpq08ttcW8cskc0M0ly0iZLAMgbY4VdwOK8d8FfE3X/AAj8Bv2dPCuieItWn8b/ABaNs954i17Up9UubWMWiTXk8P2l5AG2hVRMeWrPu2nnJFqTa6pxXzk2l/6S7+VvOzaaV+lpP5RSb/P8/K/29RXzp8cfCOqfAn4V+I/iL4H8SeJLjXfDlq2rXNjr2u3mp2eqQQjdNA8M8jrCWQPhoBGVbH8OVPE/EKTxnq2veAPjB8HtZ1+9uNX0GXxFeeB9S1m5n03WLXbaEwRQSOY7afy5yUaNVG9RkfMxprz2W/le7T9NH56bbBZuyW7vbztuvXVeWu+59g0V87a1qXhb9pXw/wDDPxloPiPxRYadfaqLS4ttF8RX+ktjyZjLa3MVvMmJEkQA5G8FcBtp5+iFG1QB0HHJzTto77p2/J/qTdaW6q/4tfoLRRRSGFFFFABRRRQAUUUUAFFfKPjrWdV0f9tTwJqWm67rUPhm8vpPDWqaWdZuWsLi+fTJ7pW+yvIYVMaRQcxqpLSsTk1c/a98feI9ch0D4deB9cvPDt1r/iGx0K+1/S5Wju4GkPnyw28i/cdbaOWWR/4B5agHzC0Yry5bbydvvaS17ap38+4O0W77JX+Vrv7rPTyufUVcv4+8Dy+ObXS4YfE2veF3sb5L3z9AuY4XuAEdDBLvjcNEwkJIwCCqspVlBrz3wX8cPBvh/wAKePoIovElro3w5txPf33iC5ku5riJoDch0lmmknclOds21xuQYAIq1qn7Sum6J4ms9Ev/AAd4qgub3Qf7etGjtra4Nwo8sfZViineb7RulC7TGFOyQhyqMwluL81o/wAHJfgm7eQ4uSV9t1+Sf5r7z1PRdHs/D+l22nWEPkWluuxFLM7epLMxLMxJJLMSWJJJJJNXa8Z1T9pyw0PXv7I1DwN4xt7yXQ01u0hSztp5rvcExaR28Vw0wuNzMpV41UeTMxfZGz1ueIPjlZ6TfaXpGm+GfEHifxXe2UepS+GtKit1vLC2cHEl0888UEHzAoFaXc7K4QOEcrbvu/63v91nftbUlWSVtv8AgL/NW9bHpVFeFeG/2xvBfibWvBenQaR4otR4u1O80vTL+80d47JpLczjc1xny8SG2lCIGMhGGZFU7q9R8L+OIfFOueKNLTS9U06fQL5LKWTULcRxXW6GOZZbdgx8yPEm3dx8yOMcUW/r7v8ANDejs/63/wAmdJRXyr+2J4n8O2vxM+Dfh/W/iHefDy2vNRur3U72HxbcaDBNp0EOXhkaOeJWaSZrdVOd4AfaR82bf7O/jPWdJ0n4t+ILOTxL4w+FljfJceD5tVuzPfXluLdWumgub6VTNbeYSYpZZdpAbaxXFZ8y5ZTeyTf3NL9fwfzbT5oxW7t+N/8AL7mvl9P1SvtHtNSuLWa6i85rV/MiVmbYH4wxTO0kEZBIJB5GK8P+GH7THhy81D4Z+Eb6bxnd67430ubV9N1DxRo8NsXjEYuBFJLbxx27SiJxhIQxUIPMIYgt2198ePD2jaBqeqavZ6tpD2mtv4eg065sy95qF4CBGtrFGWMolBDoR/Blm2hWI1lFxlbr/k+X/wBK09Sbpq99P0s391k36Ho9FeHah+1TaaT4a8WanefD7xfBf+Fby2tNW0Pdpj3cAniWSKUMt6YXDB0XYkply6/u8EGvQ/AvxItPiBd6wlhpOsWljp8kccWp6hZ+Ta6juXcXtXJzLGp+XzAArcFC6kMUM66iivlC21jWdP8A26tPurTW9c/4Q7WrXUtCbSbjWLiawk1C2gtrl7mK3kkZI8B3hxGqgNDJxliTKd5KPr+H9JerQPSN3/X/AAevomfV9FfK37TXjTxB8QvGvgD4a+D9b1Tw7p2r+KI7PV9a0aeW1uZobaNrm7hgnjIZERIxHI6EfvJVTd8kq12mj/tI+EtD020i0nSfFOreArG/j0B/HU0gudPS688WwVprm4+13K+cVjNwkcse5jmT5XK1H3lp3t+Wvo7pLv8AddyTi/l/np66N+h7rRXAWfxn0m++Mcvw5i03VhqUely6r/aTwItkyRyxxPGrF/MLBpV+by9hw4DlkdV5lf2otBk0fwbrUXh/XJPD/inUbjTrTWC1lHBCIml/0iUPch/JeOCWZXRXxGmWCkgFbqL77ffb81YXfy3+6/5HstFeJap+1Vomm6D8RtTHhbxK58D2EGqXtrNDbW0txaTI8iTRiWddmEjdmim8uYAD92Syg9v8GPE3iTxh8NdF1nxdoFx4Y8QXkZmudLuJIXMG5iyqrRO6soUgAkhiACyqxKh2bv5W/EHpa/W/4Wv+a+87aivjL41+MvAa/tbXWn+LPidrPhLRNE8Ki81DRbTxvf6X/ad7NJi2jt7aC5jZ5EihkJSFcuZo8gkjPqT+LfCX7L3iLRND1LUvHGpp491y2stN/ti5v9XttMmeEIkLXlzI4jDvGx8vzC5aQkKUUlVD31F/zOy9ea1vXS/pYcvdbXZXfpZP9fzPe6K4PV/jP4f8Mt40k8QpfeHtP8Ki3e61G/t/3F0kyAxtbbCzS5bMW0LvMg2hSSueVX9pe3WbxJa3XgDxdp2p6Lo6a+NOvP7OimvLBpGj86PN5ti27GYpcNC+FOFLAqJcktX/AFpf8tfRN9GCi3t/WqX5tL1a7ns1FeQaP+094V1DQrnXr/Tde8P+HbTSIdVutZ1XT9lpE8jKosg6M3m3SsyqY4Q43nywxkBQFl+0xokV14nh8R+HPEXgv+wND/4SWZtagt2M2nbpF85Et55XQ5jb93Kscn+xkMFqXuXUul/wvf8AJv0Tewo+9t5fja35perS3PX6K8muP2hrWy+HniPxReeDvEunz6DpqaveaLeCzjuRavvKyLN9pNs42Ru5CzEgKQQHwlbvwP8AF3iTx18MtH17xZ4fufC+t36tcSaZdNCxhR2LxqDE7ggIyrltrnaSyITtDtq11W/zv/k/uFdWT6O9vlb/ADX3neUUUUhhRRRQAUUUUAFFFFABRRRQAUUUUAFFFFABRRRQAUUUUAFFFFABRRRQAUUUUAFFFFABRRRQAUUUUAFFFFABRRRQAUUUUAFFFFABRRRQAUUUUAFFFFAHlX7Lv/JCfDP/AG9f+lUteq15V+y7/wAkJ8M/9vX/AKVS16rQAVynw1/5F28/7DOrf+nG4rq65T4a/wDIu3n/AGGdW/8ATjcUAcP+11pPiXxV+z7408LeEvCt94s1vxFpdzpMEFnc2lutu0sTKJZXuJohsBwDs3Nkj5cZIzfDnxD+I1j4L0LQbX4LeKtP1eO0tbBtQ1HUtE+xWrBUjedvK1CSV0Tl9qxlmC4wCePdaKI+6352/C/+bB62fa/42/yR4FY/DfxN8EfjB458ZeFdEl8ZeGfGrQXupaJZXMFvqFpqEUflmWDz3jhkjlUDcGkQqy5G4HAns/hdrnxU+OPh34leMtHXw5pnhWwurXQPD888VxeefdKq3FzdNEzRKRGuxI43ccsxboB7tRQtEl2Vl6Wt+Tt/wwPrbS+/9efXvrfdnzX8GPBPjb9lTR7zwHpvgy88f+AotQuLrQL3Qr6zivbKCeVpWt7qK8nhVtju+JI5GLAjKqa7b4xeIPiP/wAK0vU8M+CL7Utb1Z1s0tdL1GyjudNt34luXkuJo4zKqFtsaFxvC5YqSw9eool7ytLX16+vr16v11K5mpc63vf5v/g6/wDAPkD9oL9kWyu/gPEvw90bx1deNtJNpfeGtMuPGt1dJpt7CVaFmivb82gVMFG2biATszxV/wDaHX4sfF79nPw7pcHwg1dfGtxqem32paYur6UIbNrO7gnk/em7AZZPLYR7cn++E4z9YUU+Z3v5qXo1b87K/oZuKceV9mvk/wCtP+CeZfFnUPEXiD4E6+uleB9YvfEGsaVPZx+HvtVhHcwSTRMg82RrkQYUkFikrcdA3SvDvCXwE8a+Iv2f/gwJdAk8F/FD4UvatYWuuXVtLa6gY7dYbiMy2ss22GZCyhyA6soJQj7319RSXuuTXVxfo4ttW+973L3Si+l168ySf5dLHgXxWs/H/wAffAGsfD6HwVfeArTW4vsGra9rV9ZTxx2j4E/2SO2nleSRl3KvmrCBu3HptOu1lrPgn4o+AdD8PfDvWbzwXouizaOdct73T1t7VXNqIv3clyszKi27byI88rtD5OPZqKcXyu6+fno1+r2F/wAH5X3/ACX3Hgev/s/6ronx+0Hxz4LvIrLw/qmo/avF2gvgRTzpbSpDfwj+GbLLHJj76lSeVyffKKKS92Kitl/X/DdttrDl70uZ7/8AD/5/0wooooEFFFFABRRRQAVm+ItUutF0W7vrPR73X7qFd0em6c8CTznIG1DPJHGD3+Z1HHWtKik9UM+VdU+FfxE+IngPwXqNvokngnx5Y+Pv+Ekvjr81rcrDC4mR2X7NNIsoS3lSGMFlYmJCwUZNXNJ8G+J5P2lPBLP8NfEFj8PvCFhqUVlrV1f6ZILnVbpwJdQmRbsykNGsuH8syM905ZE5NfT1FVH3LW2ve3T4VH7klp2forKXvJ3/AK95y/Fyd/LTqz4o1T4Q/EzxH8KvEeh6h4H1FbrxJ44/tXxNCt/p/m6rYm9RgsLC52i3WzhihKyMshPRCoIb3r4f/DnUpPjf488f+JdN+yXbx2eh6CBcCWNdPihEkkiqrYBa5nuFyyq+1BwA3PrtFKHuRS3tt5aKOlrdFb5sJe8231/zcvz/ACR5P8Pfh1qC/Gj4i+PvENiYL28lttH0MtMrhdLghVt4VWIVnuJbk8gNtC5xnFeZ2+kfF3wbD8b08PeAjceNvEGpX2paT4suNRszYXMIt0jsIQpm88SxoqoI5I0iDLI3mYb5vqSiocbx5b/Z5fybfq2r+rZSlZ3eut/uTSXpZ2+S7Hyv4i+GOteG/gn8BNF0nQZpfE/hrX9Lu/7MuryBblykcou5JZFk8vcUklkk2NIMltu/gn6T8OaKdD04pLL9qvp3NxeXW3aZ5mA3NjJwAAFUEnaqqucCsXwb8J/CvgHWNY1TRNMa2v8AVrqe8up5rqa4Iknk82YRea7CFHk+cxx7ULc7c119a8zfM9nJtvsm0lZeWiM+WzWt0lZeaTbTfnq/8z5c8P8Aw51/4x/G74o6r8SPhrrPh/w5rPhhPC2jy6jqGnToLFtzXauttdSPHLLJIGGAV2wLllbAqheaP8YNW/Y/1D4eal4D1SbxdawW/hu4uItU0/Gr6d5whuLu3c3I2u1orNsm8sh3AGcE19ZUVK0jydNPnZt/jeV7aavra13fNz9b3Xlol+kfPRed/DfjB8M/E/iaf4Man4Y0jTbbVvCuurdXEFxd7baytm0+5gkAkCb5FVpIwEVRvIUHYuXXkvj98G/F8nxA+E/iPwoPE2qaZ4aGprfw+GbnS4tT+03UagXgGogW77sTo+0pIvn5QgZFfT9FHW/nf71b8haWStsrfi39+v8AWt/mrUPgbqHiLwv4O8Lr4P8A7A8Mah4pXXfEkUmsNe3728ERmg+3XTyGSe5kuI7ZX2vKFVNgkdVVj698VvG2rfDbwnDq2h+FW8UJDcxR3VnBfRWjW9qc75U38SMoACxL8zlgBiu3qC4sre8aFp4IpmhfzYjIgYxvgjcuehwTyPU07/ddP8l+SS/Kwrflb03f5vz6XuZni7Xb/wAO+HrnUNM8O6h4pvo9vl6VpkttFPKSQOGuJYowBnJy4OAcAnAPzfe/Bz4geOfDvwY1S0sZfAfivRtfv9R8QS6pLbXE1qt3bXSXcsAhlljdy8w8kljtyhdMKyV9VUUlo777fh/n1uO76Pv+Oh8k3Xw68beM/itrMEHw/wBb8E+HdP8ABd94Z8Ka3e3+nTx215c7jPeTLFeSTZcx24VtrOcuX2kmtHRfhb4y+Inw/wDhv8N9R8GS/Dfwb4VbTJ9a+2XlnctqjWRR4rayFtK/7lpolaSWYQvt2hYyXbZ9S0UQ9y3XZ/NSlJP75Py6WFJJ6bbr0TUU190V57tas+U/HXg34q3HjL48axoHhO6/tzVtJh0vw1rLahZrBLZw2pZYIQZxJHO93PPuaRY0CgMGJUKdvwj8B7688TfCCz1HQrjQ/A3w98ObrLTZryKRptScLBElwsbsGaGCNnbBaPzJxteTYSfpGinH3UreXzspL/25vT7Wo5e/e/8AV+X9Ipa9Lr0+O7v4Y/EvUvhv4++3eCLw634z8exXesWtvqVkbiXRI540VYy06xhTaW8UeDIHzLKdnA3fWOpaleaX4fmvU0i41W/hg8z+y9Nli82ZwP8AVxvM0SZzwC7IPXFadFStIcna3rpFR/S/q2G83Pvf8W3+tvRI+UvhLN468O2vjq98YfAjxhqGueLtfn1W7Wz1PQZIUgXZFZwhm1NGOyGGLPygbi2M9T2Hxg8IePPjN+z9pIm8MWWkePU1nSdZj0GTUkMdk0GoQymOS7VWBKxK++SNW/iCK/Ab32imtFH+7y2/7dtb8kO+rb63v89/lqz5t/aX+DfjDxb4P8F3Hh6TUdQ1bS/Ftp4h1m30Kayhu7oIjqDbfbgbYmBzC6JMMFYBzvwTR1v4P+IvE3wq8UaVYeEb/RtQ8aXlhp2r32vazFd67Lp5mC30t1KkrQxKIWn8m3tpHRBJlFj3GNPqCihWScbaN3/JW9GopP8A4ayd21Lqla/zbv6pvT/h7/PP7U3we8QeJvBHw8s/AsGpC18K+JLLU59L0OezjvJbeFJFQwG+DWzyRSNFKFn4byzyGwas+EfDviHwnpGp6zbfDK7v5tanVdYtfEGs2174i1K3WGYN5rmU2inzWURWyT+QkckhHlFvLX32ijeMov7Tu/uSf32V/wDhg0unbZW/FtfdfT/h7/KOrfDHx/F+y/qHgq08L6hPYX+ux29t4ZW+s31DTvDbXKNJZtI84gZxCssSqJmCxugDsVr6nsTMbK3NxDHbz+WvmQxOXRGxyoYgbgDxnAz6Cp6Kd3az1/PZL9L663bd9SbdfX8Xf/gaaWSCiiikUFFFFABRRRQAUUUUAFFFFABRRRQAUUUUAFFFFABRRRQAUUUUAFFFFABRRRQAUUUUAFFFFABRRRQAUUUUAFFFFABRRRQAUUUUAFFFFABRRRQAUUUUAeVfsu/8kJ8M/wDb1/6VS16rXlX7Lv8AyQnwz/29f+lUteq0AFcp8Nf+RdvP+wzq3/pxuK6uuU+Gv/Iu3n/YZ1b/ANONxQB5L+354T0TxR+yR8SpdY0ix1SXS9Gub+wkvLdJWtLhYyFmiLAlHAJG5cHBI6E1nf8ADKPw91T4IWFx4W8Pad8PfFh0WG6s/E3hS2TTL2C6EAZJGkgCGQbvvK+VYE5HNd1+1T4B8X/Ff4H+J/BPg2DRH1DxDaSadNc67fzWsVrE6EGRfKgmMjA4GwhByTu4weavPBvxu8VfDeLwNJ/wh/gG1fT49MufEGk6vdaxeCERiNzBDJZ2yRyFQcMzuFJztOKxcZONVQ0b5bdNVza38rr9Ni7rnpuWy5r9d+Xp8n/TH/s1/tCXPxB/ZF8NfE/xNHu1E6dL9uW3UA3NxDK8B8tRxuleMbVHdwBXLfBDWPE/gH46+Mvhd8QdWk1KXxjZf8Jfot0zfKjuqxahYxHpthfYyDrsbJzzXQ+JfgBqdjofw4+Gvhnwt4T1X4N6D5I1fTfEOpTLcXqpuCqYRaSxyqrlZyHYeY6hTsAJPM/G39kWS117wD4j+A3gj4eeCfFPh3VxqM2psh0kTQbCklq6Wto/nJKrsCWZdmAQDk46qjhKtKdvdk3H/t1/lrZ9bqNluzKKlGko/aSv81sr9Xa8emsrvZHLfGD9mf4SeGf2gv2ctC074Z+ErfSr691e3vbb+xLYrepFpkjRifKfviGAYF8ncM9ead+278Afhh4F/Z3a50/wJottb2finSrqCC10iOT7Ks9/aR3MdvEiEqsqJ80SDDk9DwK9E+LXw7+MHjP4ufCXxjo+ieCFt/Bpubu6s77xHeI9zcXNoYJYo3XT2CpHuYrIRl+MonStv9rT4aeP/jB4D0/wz4Ls/DZU6nZaleXevarcWpjNrdQ3CRxpFazb95jKliV28fK2eJu7wb/m19FJN/LT59BzScbL+R/f7346r+rmR8M/CnwP1D4maPJ4J+Ey+Ede0yGfUYdXPgK48OMuFEDRiSe0hMu5bhsqpOMZOOK+i68w03UvjJqms6bBqfhnwV4d0f7Qr317p/ia71K58lckpFDJp0CZYgKWZ/lBJAJAr0+h7IOoUUUVIwooooAKKKKACiiigAooooAKKKKACiiuT+KWneLdU8EX1v4H1O20nxNvhktri72iNlWZGkiLNFKE8yMOm/ypNu/cFJFLbca1PG/2zPCug/FdPhp8MNV0Wy1m78UeJIZN1zCHksrG0H2m9mjOMoWjjEGQR/x8gZ5wbfhz9oLR/BPgn4sOPBVt4T8L/C+FY4LOwnRVl/0UXAtxEkapBIA8SlEaQAyD5s5FdJ4H+FvifVfixJ8TPiFJpEWtWunSaPomhaHNJdWmmW8jo88rXMscbzTStHGCwijCooUBuWPk9z+zL8SNU+HNx4d1H/hF55Z/Gn/CS38f9rXJi1mM34uiZ2NpmMqiRQrCFdSq5MgIUqkmkoXtzb26NuKT87RV7d291qk5K/Pa/L07q0m/PV2XyT8n6hqHx51/RPiJoXhi/wDBltIdV0H+1VTTtZM16l1lFFp5LwRodzNJtlMwG2CV2CKprP8ADv7U0ep+CLfULzw0z+KL/wAR3nhfStA0W++2Lqd1bSOskkM8kcOIFEUjPK6KEEb/AHjt3aln8H9es/H3xM+ILPo91421TTI9G8NXTGRY7O0jtwypJ8rGMPePK7hN/wAqxckjA8gm/Y+8WWXhn4JywDSdV1rwPp17p+o6YvifUtGhujcrG0lwl/axGZpDJGSyvEEkWZwQMDNb76f8Ftq2+qilF373e2qs1HTV/wCUbO/rJ3Vt0raX094+DvxW1f4h6t400fXNB0/R9T8L6jHp1xJourPqVlLI8CTFFme3gbzEEih08v5cr8xJIHpleLahZ+NfhH8HbaDwnpXgey1eG8Rrfw3a20trpsFux3PZWnlKGlmPzBZCiB2YuY0HyD1jXptWi0G8k0W0s7vWRCxtbbULloLd5cfKskqRyMq56kIx9qctFftp87K/9Xfq9xrdLv8A5/L8l+Z4d8aPgj4a1DxB4ZvvDujQRfFGbxBaajB4nUF9Rt7aK5WS8MlycyfZvIaWEQlvL/fRxBQCoGa1hov7QXxh+Ik/jexsda+HHw9ZNHttG1aBJ7GbUDAlxd3ksT7kdo45YokLLlMzEfezXcfCXR/idpurS3HjTQvCdtc3i+ZqWtaVr91qFxcuoIjgigksYFggQsxUeY+0bsh3keWuS1/4B+ML6Hx/4L0670aw8A+OdVm1LVNaW5mGrQw3EcaXdpFb+V5ZLiNlW4Mw2LL/AKpigLQ4te4u0mu3M+VbduXmeut9d+VFc97OV91fvy6t+rvZb2s9dOY80+Hvi7VvjN4D+BPw3mub9NL8TaXd+JNee5lY3FxodvMFt7R5C24rOZrZHJyXjWRSTuOe2+HuraJ4R1b9oHRPC91p/gPwjoNxZ6ZprwxpBpun6nLZqZPIiACKTLNb5jQfNITwXc57jxN8KfEHhXxzoXin4b6d4fnlsfDreFzpmuXk9pDb2wkjkhljkihmLbChUxFV3hgfMTb82Ta/s46l4L8D+HE8M6rbap4u0rxHL4t1CfVt9ta67qE6TLc+aUEjQK3nsYyFk8vy4xtfByTjGUZLVJ81++srJ99KaTa/memt7RTcouN942t2do3fzc9Lvpq9Ejy79kCy0/X/ABZposPAU/w08Z+DrEWvjiS8VIbvxDcXEAMUsgDedco7q8/2i6VXDZVdxaYp9J/HP4lD4PfB/wAXeMxa/bptH0+W4t7X/nvPjEUfXo0hRePWue8JfCnU9d8ZeJ/GHxC0/RPtmvaPb+H5fDmnztqFgtnE8znzZZoYjO0hnfIMSqqgL83LGHxp+zH4KvPhb4k8J+DfCvhzwY2qtb3J/svSorSGa4t5kmgM6wqu9Q6AHvtZsdaqq3Uj72mnT1e3y1suunmOmo05K2q039F3ffTzWvU8nl8A2vwd174EyXKx6l8X/FHiDZr/AImVQL/UY/sdxPexySAbmtUKxqkJOyNUh2gFFrE8efGTxB4zXWfiR4g8PLqf7PWjam2k/YItbkspryJLgW1xqU9uItt9bFjIotpJUjMalmSVmXy/d/Cvwv8AEHiL4pW/xH+IMel2us6Xp8ul6JoeiXkt5aWEcpU3Fw08kMLSzS7EX/VqERMDcWZq87sv2ZvF+peAdF+EGsTeH7L4UaRercSXum3M8mp6vbRXQuLe1kgeJY7bkL5sqyyl/LO1Y/MyjXxq663t0SbS+5RV0l1k7e8kLeO+ySv1dru/q27XtbRX91s+ktB0XTPDmjWWl6NYWul6TaRLDa2VjCsMEMYGFREUBVUDoAMV5F+0h8JfBPi/whrN9rXhiHxH4ru4GstAkkXzb62vWTEIsZDzasHVZGkjKBRG0jnCFh2918Ffh9deMv8AhMJPAXhifxesizrr0ukW5vvMVQqP9o2GQMAAAc5AA9K4nwlpvxik8bPq3inw14HzLK8MWoWfia8uW02yL5EcFq2nRhnYBd7mZS7AHhVSNYlFVPdl1/rR9/Pp+BUXye92/rbt/wAMcV8RbG68X/HD4P8Awj8aah/aPhtvDl5rWr28h2w+I7228iJYJ0PEsSmV52hOQxCbhhees/ZNvbS+0Hx4dASG38CQeLL208M2toFW2htIkhilWAKMLEbpLtlA4Ab5cDAF/wCM3wbvf2gPtHhXxXoPhUeBlbfHqU6/2lqrhoyriCKW3WOxlyxAnV5m2ggKjMHT07wj4R0fwF4X0vw54f0+LS9E0u3S1s7ODOyKNRhVGck/UkknkkmtIyfvSlu7/O8ua/lZJRXlfbrm4pcsV0t+EbW87t8zffTXW2vRRRUlhRRRQAUUUUAFFFFABRRRQAUUUUAFFFFABRRRQAUUUUAFFFFABRRRQAUUUUAFFFFABRRRQAUUUUAFFFFABRRRQAUUUUAFFFFABRRRQAUUUUAFFFFABRRRQAUUUUAFFFFABRRRQAUUUUAFFFFAHlX7Lv8AyQnwz/29f+lUteq15V+y7/yQnwz/ANvX/pVLXqtABXKfDX/kXbz/ALDOrf8ApxuK6uuU+Gv/ACLt5/2GdW/9ONxQBd8Z+PvDHw50ldU8WeI9J8L6Y0ogW91q+itITIQSEDyMq7iFJxnPB9K4lf2rvglIwVfjF4AZmOAo8T2JJP8A39r0i+0my1K4sZ7q2juJbGb7RbPIuTFJsaPevodruM+jGvnn9nnSbPXfiV+01p2oW0d5YXfjBIJ7eZdySI2l2gZSO4INKLvPlfZv7nFfqN2ST87fg3+h6tF8fPhjN4s/4ReP4jeEpPE32g2f9irrlqbzzwSDF5Pmb94II24zx0roPDnjnw34xuNSg0DxBpeuTabN9nvo9NvY7hrWXGfLlCMdjY7Ng14Bp1rDH/wUb1NliQMvwygAbbz/AMhFx1+gH5Vyd8q/Ar9pSH4nQgQeGvGuvTeEPFDdEjuNwOm3bfR98BY9pV9KcPecIv7Sl96nyJfN/i16k1Lw5/7vL9zhzv7l99vOx9TeNviJ4U+Gumw6j4u8T6N4V0+aUQR3Wt6hFZxPIQSEV5GUFsKTgHOAa5TUv2nPg7ot49nqHxY8D2F3GFL29z4js45FDKGUlWkBGQQR6gg14F+1RCnjX4ifCPXplWfTNJ+JulaLpysAyPIBO13KPX94kcXPQ274+9XQfFTX73wr+3T4Jv8AS/CWq+L7uTwHqUT2eiyWcc4T7bbHeWuriBCoPGN5OW4HUiYvm5b/AGnJfdDnT+f4bl1FyNrtFP75uFvlY+gvA/xQ8G/E63up/B3i3QvFkFoypcS6HqUN6sLEEhXMTMFJAOAfSunrjfhzqV54kXVdc1XwfeeDdUmnFobPUnge5eCIZjaRoJZYm5kkI2O2AcE5BA7KrfS3kQvMKKKKQwooooAKKKKACiiigAooooAKKKKACiimtnadpAbHBIyBQA6ivibTfjB8avBvgTXPi5eT+FfF/h7VPE0NhIq2dzZSafpMOoCx862iWaZZRIplmw0imMuWLTAhE9+vvjVNd/Ebxv4P01LOzl0Tw2mr2urXqtNBJO0txCwdEZSUjeBQwDBmJcAjGaV9E/XTrouZ/h+JSjdtdFbXprLlX4/hqet0V4dN8VfHnibxbp/w/wDDNhoth4tsdGttT8V67qMM11pujzSqPLtordJI3uJJGWUgedGI0UMSxKo3U/AP4mX/AMUvBN5farFarqml6xqGh3U+no6Wt1JaXLwNPEjszIj7N2wsxUkrubG43y6tev4Ozf3/AOe2pF/dUu9vxV0vuR1vjDxpo3gHQpdY129FlYxssYIjeWSWR2CxxRRIC8srsQqxorO7EBQSQKPBnjLSPiB4astf0K5e70u7DeVJJBJA4KsUdXjkVXRlZWUqyhgQQQDXz/4k0/xv4+/bL0jTB4j0RvCvgfSx4h+wPoMjmOe7MltCskv2wbpxHFdMkgRVVXIKMSGHDa1478fzfsp+I/GXhy58H+HfFPizxDLptrqWh+GXhfWVnuhp9pdqrXh2Tv8ALKJJGmAQKNpxms024XS1ey+fLb5u/wAtVcpq0+XorX+a5r+lrfN2dj6f8K/Gbwf428Wah4b0TVmv9UsUeV9tpOtvKscgilMFwyCKfy5D5b+U77HyrbWGK7WvkvTvDvxO8PfE7wT8NvC/iHwndaN8P/DEOrXOmjSbnT4b6dvNtbWCSRbqZo1ZY7hw2yTY0YcpKSoTsfhn8a/iB8QvhDpWsHTfDth41i8XS+H9V07dO9q0VvqDwXP2c5D+YIEaRWcY+UsVC8DWydlHz+7m5b26K/z69URdq/MrbfJuPNbz066Lp0ufQdFcl8UviPY/CvwfPrl5a3OpTGWK0stMsVDXF9dSuEht4gSBud2AySABliQATXl8HxE+LGi/GD4f+EtfPhGdPE6X2pXtrpdlc+ZpFlbRDfH573GLh2muLVBN5MK4WT93ll2zH3nZf1pf8tfT1V6eiv8A1/X59Nme+0V5J+0v8Stf+FfgXTdX8OXemQ6jcazY6atrqWlz3/2r7RMsRSNIZ4mVlDGTd8/yxsNhzkecan+0r4403xF8YbC5sdAsLPwho9vqkd5JDLMmlFoJppY7wpP/AKQ4RbdgkflZaZkDMqGUxzLlcu1/wSf5P/PdXaTclFbu34u35/1o7fUVFcz8Mdd1jxR8N/Cus+ItOXSNf1DSrW71DT4wQttcPErSRgEkgKxIwSTxXTVrOLpycHuiISU4qS2Zzvh/4jeE/Fmuavo2h+J9G1nWNHk8rUtP0/UIp7iyfcV2zRoxaM5VhhgOVI7V0VeJfs4D/hMNV+IfxLkG4eJtbey012XBGm2Ba1hx6q8q3UwPcTivStAm8U29vr8viGDTbopezNpUGilw8lkFUxLL5xC+eTuBwQnK8jms7+6n5X/LT1128mU/iaXe35/hpv6B4f8AiT4R8Wa9q2h6J4p0XWda0hzHqOm6fqEM9zZMGKlZo0YtGdwIwwHIIp2tfETwp4b8RaVoGr+JtH0rXtWONP0u9v4obq8OcYhiZg0nPHyg18+/CfxjYeOvj3rU2qeErr4X33wz0OTTbDwve28KzT6ddeQ4u/MgZoPJVrRokiheRVKMS+SFXzjVtQuLr9hnxl8QNSRrvxz8Xnia0XOZEe9mW30u2iOAQsETxMMAYYSP1Jqorm5fO34tqKX+K1+ttnqOVrtR7216WV235LrtuntqfdVFYPjDUrnQfA+sahDfW2nXNlYS3Avb22a6hhKRlt7xLJG0ijGSodSem4da+cPCX7Qvxab4e/B7xl4r0bw7pcPjHVrHSbjQI7OZL6ZbvcUuYnNyyW+xRv8AJYTMyISWjZvLQj70uVd4r5ybUfvat/wLtTe0Od9m/lFXf3L+tj6torzr9obx5qXwv+DHivxZpF5YWWoaPZtdxNqVjJewyspGIvKjmhYtIcIpDjDMDhsYPmWl/Hz4hTfFzR/CNxo+iOt94TOsSwrFLDNaz+dHGlxOzSt5Vu4FywiKF1ESAyF5PLVLV2/rZv8AJMcvdSb/AK1S/Vf8OfSVFeZ/s3fEXW/iz8GfD3i3xBb2sF/qfnyI1jbvbw3FuJ5Ft7hIneRkWWFY5ApdiN/U16ZVSi4txfQSdwoooqRhRRRQAUUUUAFFFFABRRRQAUUUUAFFFFABRRRQAUUUUAFFFFABRRRQAUUUUAFFFFABRRRQAUUUUAFFFFABRRRQAUUUUAFFFFABRRRQAUUUUAFFFFABRRRQAUUUUAFFFFAHlX7Lv/JCfDP/AG9f+lUteq15V+y7/wAkJ8M/9vX/AKVS16rQAVynw1/5F28/7DOrf+nG4rq65T4a/wDIu3n/AGGdW/8ATjcUAdTJvMbCMqr4O1mGQD2JGRn868R+BvwN8bfCzx9458Qa5470XxLaeL7/APtS9sbLw1LYNDciKOFfKka9mxHsiAKsrEnB3DnPpfxE+Iug/CnwhqPijxPdTWGhadGZru7hs57nyYx1dkhR2wO5xxWn4b8Rab4v8P6brmjXkeoaTqVtHd2l3CcpNE6hkcexBBoju5L0+/X8bfgEtkn6/d/w/wCJ4xD8A/HEP7TF18WR4+0M28+ljQv7D/4RiXK2KzmZB5/27mYMcGTZtP8AzzHZ837PHiHxp8OfH/gz4h+LtH8RaZ4oaWeGXRvD0mmy6fcOQwkUveThtjrG6cAgryzZGOz8O/H7wN4s+J2ufD7RtVudT8U6GQupwWul3b29mxTeFluhF5CsRnCmTJIIAyCKbrX7QPgfQ9UurB9Q1DUJLOVob2fRtFvtStrKRRlkuLi2hkigZRyRIykd8VOnKl0s7ejd3+Ot+5V3zuXVNX9UrLT00t2OA+LX7M3iXxtpvw40nwt4603wvo3gnULPWLaPUdAk1O5u723DgPNN9siyjiQlht3Fizb+cB+v/Af4nan8cLD4l2fxH8K2l9YaLLodvp9x4NuJoBDLJHLI7EamjFy8YxggBeME/Me78fftDeAfhp4IsfGWt61K3hO8TzIta0rTrrUrQIcYd5bWKRY0ORhnIBPANdJqnxA0TS/BP/CXfaJ9S0A26XaXOj2c+ovLC+NrxxW6PJIMMDlVOBkngE1Tdm5vo235Nqz+9aehKXNyxXVJLzSd166/iZfgXw34307VL6/8Z+LtM8QF4khtLPRNFk0u2twCS7ssl1cNI7fKMlgFC4A+Yk9tXi+pftgfDHR/DWg+ILy98RwaNr0yW+mXbeDtZ23UjkCNExaZzJkbBj5/4d2K6Hw/8fvCfiTXLbSLe28VWV9dLI0C6v4O1jTkl8tDIyrJcWsaM21WIUHcccA09fu/4di0+/8A4Y9Horyz4V/tNfD341eI9X0LwhqOqahqejkrqMVz4f1GyW0cHHlyyXFuiJJ6Rk7iASBgHGn4Z+O3hDxf8RNZ8D6XPq8niTR8/b7e40DULeGD+6TcSQLDhhyhDkOOV3Dml289fl3Du+2nzPQKKKKBhRRRQAUUUUAFFFFABRRRQAVm+JNNuda8O6pp9nfNpl5d2ssEN8sfmG3dkKrIFyNxUkHGRnFaVFTKKnFxlsyoycWpLoeOaf8As85/Zws/hNqmvLPbw2Nvp/8AaOn2P2YJFC0e0xxtJIVbEYO53c72LdMKNqT4H6bJ8UtJ8Y/2hdLHpujrpC6UApiuNs4mSWZmBZmVwGGCPm+Zt3GNrxh8VvDfgLxD4b0TW5762vvEV0LHTWh0q7uIJZyCRG08cTRxMQGIEjLkKx6KSGeNvizoHw/vrez1OHXry6mj80RaD4c1HV2jTOA0n2OCXygxDbd+3dtbGdpxUnzzVZ73evnZp/Ozf33M+RRj7PyX3XuvxX4HG698D/EkfxA8WeIfB3jiDwrbeMI7VNbjl0YXl4jwRmETWVwZkWCQxbR+9inQMisE5YNs2tx8O/2V/h34b0O41CDwt4ZS4XTbS51CR2V7iTzJS00xyA8jCRi8hAZ2xncwB3vCvxU8OeMvBt14q024vF0W1e4imkv9MurKaN4HZJlME8aSgq6MuNmcqQMmpvA/xE0r4hW91Npdprtqlsyo41zw/f6SxJBI2LdwxFxxyVBA70ax91eV/T+tui7dCm03eXmvnb9La9fzPNvAPw713XPB/wAUdbmv5vDniP4gXV1LY3s9qxn0yzEAtrAtC+xgyxoJjExUq8rqcHNcJ8IdF034i2fwa0bwz4mt/F/grwDEb6/1KzsGsrZ7yKA2tlaCFslHj3zTPE7NJG0cRfG9M/VdFEbRem1l/wCS/C/VXvfR31v0CXvKz8//ACb4l6Pa2yR4bNHpXwD+KXijxp4y8d2sOm+PNRtbLTLCXTHSSO4jtNsdt54d/MBEMrRoEjJeZ1zIzoBrfAr4UTeCZvE2t3t1NKNe1u+1qw06eAxNpsd1IJHRgXbMjEBm+7tztCjDFvSZvE2j2/iG30GXVrGLXbm3e7g0x7lBcywoQryrFncyKWUFgMAketecD9omx/4RX4j66/hLxBFF4FvJLPULeSXT1a48uNJZJIJDd+UUWORXPmSIwwVK7xtqFJQvK+0X/wCA3V7/ADS1/wCCU4upaC6tf+BWdvTRvQ1fjR8LNQ+Jlr4Xn0bX4fD2ueG9ai1uwubyw+3WryJHJEUmgEkTOpSZx8siEHBB4wef8F/AnXPD/wAcr74la14zj1++1DQYNHuLT+yvIETRzSSn7O3nN5VuTJ/qirPmNC0zHfv77Q/iLousWfhc3Nymh6r4jshfWGh6rPFFfuvlrJIvlBzuaMMN+wsF9cc109a8rpSatrd/fblf4aEcyqRWt1ZfdfmX46nFeMPhqvjLx54G1+61ApZeFp7q+j03ycie6kgMEUpfdwI0knwu05MgORt584179l+71T4X+L/Dlr4qt7fXfFXiT/hINV1q50lpo7lRdJKlq8CzoxiEEMVucSDKqx43EV75RUr3Xdf1qn+aX3FN3Vn/AFuv1f3nn15p/jO3+KXht7LxHJc+FYdPeDVdLuNLjAlk2tsuhdDGJCwRfJRdu0uxA+Wtf4m6D4m8UeDdQ0rwl4is/Cmr3cbQjVbzTG1AQIylSyRCaL94MgqzMVBHKt0pvjv4q+Fvhr9ij1/VRBfX5YWOl2kEt5qF8VxvFvaQK80+0EFvLRtq8nABNV/Bvxi8JePNUOlaTqUq60tu13Lo+o2NxYahBCHCCSW1uI0liVmI2l0UOMldwBNTKKqR5Hrv+rf9dtNtATdN8+23+X9efmUPhj8NdY+HHwR0jwLH4gs21TSdK/syz1qx0swRx7EKQym3kml3OoCs2XIdgThQcCTxd4P8ear8PtH0vw/8Qo9B8WWbWr3fiGfQobuK/wDLA85XtS6BFlIOdjqVz8rCu/oq5t1JOUt20/u1/wCH79bkxSikl0v+P9aduhwnhH4az2V9q2t+K7+y8QeKtXs49Nvb2wsXsbX7JG0pjgigaaZkXM0jMWkYszk5ChVXh/BP7NNxor+CrDxL4mh8S+FvAYjHhbR4tL+ymF44zDBPeyGaQXM8UR2oyLCgLO5jLbCnudFNSad1/Vr2+67t2uU25Jp9f+Gt6WsmtmlZ6Hzf+258QtEtfhzD8NJPGWheF/EXjy6t9FjbVrpEMNlLJi6uDGXQlBEsqj5lDOyoGDMK7zwx8HdUm8UaT4k8d6/YeJtV0KN4tEtdI0l9M07Tt6bHmWB7idnnKEp5jSYVDtRELOX2/EPxXt/DfxT8MeCJ9B1eebX7W5uoNYg+zGygW3XdKJczCZcboxuERXMqDdnOOn8O+JdI8X6NbavoOq2Wt6TcgmC+064S4glAJUlZEJVsEEcHqDUx0i+7b+7ZLytZ676sJXul0t/wXr56JryPPdW+DuteMPAfg7w/4u8YnxBdaRrFrq2q6gNMjtv7X+zytNFEYo32xDzBATjcCIiMfNkUPEH7P1zrUfxgvIfE/wBh8R+PbMaZbawtjubR7NLbyY4kXzR5m13nl3Bky0vQbQa9jopNKSlF7O9/nZP8Ev6bGpNNSW6t+DbX4v8ALsjgvBngHxD4Sk8KW3/CVwy6Bo+jNp1zo1vpMcMVzcZj8qaN9zPCkSI6LFufKuNzsy7j3tY3jDxdp3gTwzf6/q/2saZYx+bcNY2M97KqZALCGBHkYDOTtU4AJOACa828N/tcfC7xQmgzW2tanYafr0iRaVquteHdS0zT72R1LRpFd3NvHC7OAdih8vjCgmrc3Uk76v8Azbf+dvuWiIUVCKsrL/JL8tL/AH9T2KiisvxRrv8AwjHhvU9X+w3GpCxt3uDaWskMcsoUEkK00kcYOB1d1X1IrOUlFOUtkUk5OyNSivJf+GitPbw38MdbTwn4jks/H09vb2KYslmsmmTzIzcRtchseWHkPkiXasbk44z61Wji1e/R2+atp+KJutPNX+Wv+TCiiipGFFFVNW1ax0HS7vUtTvbfTtOs4mnuby7lWKGGNRlnd2ICqACSScACjbVjV3oi3RXk0f7VHwzNu17Nrl5YaGASviPUNEv7XRZFzhWj1KWBbV1c4CMspEhKhC2RnX+Jnx58HfCC30SbxRcataRa1MltYvZaBqF8JZnKiOE/Z4JNkjlgFRsMxztBwcHbzF5HoVFcf4B+LXhf4mx6p/YF9cSXWlSrDqGnX9hcWF9aMyh0EtrcRxzIGU5UsgDDlc1wUH7Zfwrmj1OY6l4gt7PSbs2Gp3914P1mC006cbdyXU72gjg270LGRlChgSQOaNtH2v8ALv6Burr0+Z7bRTIZo7iFJYnWWKRQyOhBVgRkEEdRXJ6r8V/DmifEXRvA17NqEPiLWIpJrCP+ybtradY1Z3AuhEYAyqpJUyBhlePmXL1vYV1a519FcX46+MHhX4cX1nYa1e3R1G7jeeOw0vTbrUbkQoQHneG2jkdIVJUGVgEBYAsCRXV6dqVprGn21/YXMN7Y3USzQXNvIHjljYAq6sOGUgggjgg0lqroezsyzRXPePfiD4d+F/hm48QeKNUh0fSIHjje4mDNl3cIiKqgszMzABVBJJ6VX8d/Ezw78NrWyl128njlvpTBZWNjZT317duFLMsNtbo80pVQWbYh2qCxwATSuHWx1NFZfhnxNpnjDQ7XWNHu1vdPuVJjlUFTkEqysrAMjqwKsjAMrKVIBBFalU007MSaaugooopDCiiigAooooAKKKKACiiigAooooAKKKKACiiigAooooAKKKKACiiigAooooAKKKKACiiigAooooA8q/Zd/wCSE+Gf+3r/ANKpa9Vryr9l3/khPhn/ALev/SqWvVaACuU+Gv8AyLt5/wBhnVv/AE43FdXXKfDX/kXbz/sM6t/6cbigCr8ZoY7r4a6xDMiyxSeSjo4yGUzICCO4xXgPwZ8WXP7P938QvgowE99oVwl/4HgmJxdadfykW8OepWC4Z42P8KBT0FfQHxW+G8nxT8LnQ18Va54TgeVZJrjQPsommVTkRk3EEwC7trfKFbKgZxkGt/wpnQbzxf4R8W6w9xr/AIt8MWNxYWet3wiWeRZggkeRYo0j3nZxtRQN7YAzUxXvtvZqz9N9PO+l+ib7jb923Xdevn5Wv87dj5a8N6bq3w0179sS38JvLceINM0LTJbS4/5bTXn9kO5mOOsjSEv7sa96/Yys9Ps/2U/hT/ZoTyZ/Dtncyuhz5k8kQed2PdjKzkk85JqT4a/s2x/DX4neJvHKfELxf4g1LxL5X9rWmsHTja3RijMcJ2w2cbJsU4GxlB/i3Vas/wBnex8O+faeEPF/ifwN4fuJ5bibw/octr9jLyEtJ5fn28sluGYlttu8YBYkAE5rRSsmrbqPycU19zv07LTsSs2kujfzuo/5de726+A/Ce3eHwn+1v4egRZvBFj4hv49MgZd0EcktsJLyFASRsErnKjjLtwM4rstEWf9jPxsnh+7k3fAvxLebNHupGJHhbUJWJ+ySE9LOVz+7YnEbnYcBga9V1z9n3Q7n4TN8O/Dmq6t4D0KQuJ5vD7wNdTrJuMokluYpizSM5ZpP9YW538nPVXvgCw8Q/D+fwh4pmm8Yadd2bWV9LrEcPmXqMMEyCGOOMMfVEXBAIANZSjaCjHVqKjr9pKKXnba67Pur3W8pc32m36Ntv576912e3zB+0LJdxfsmfBN9Oggur5df8JG2guZzDFJJ50O1XkVHKKTgFgjEDnaelfQvg28+Iuq+Jt3jPwz4a0TSoLZntm0TW5dUdrgsBljLZ2xjwhcDaGzubJHAPKfEb9lvTPiH4R8F+GB408VeHdD8JtZS2Nro72P7ya0Km3mlae1lZmQqPlBCHuproNF+DurWmvabqOtfFLxl4strGXz00rVI9KgtZJApCtILSxgd9pO4KX27gpwSBWya5pvo5yl8nGMfv0b7beYpNys+vKlp3u392v5nk/7R0N3+zr490741+EoYHOtXdn4d8U6HLIYotUWaQQ2d0GCttmhkdQWx80bMP4RX0L4N8LjwvpsizTLe6reSm61G/CbDc3BABbHOFAVUVcnaiKuTiuI+P37P1n+0LomnaPqvi7xJ4c0uzuo7422gNZoJ54pFkhd2ntpW+RkBAUqDk7g3GPR9D0+fSdHs7O61O61m4giWOTUL5YlnuGA5dxEiRhj32Io9AKiGkGn3dvTTT77v7u2jlrO/Sy+/X9LL5P53qKKKACiiigAooooAKKKKACiiigAoopsil42UO0ZIIDrjK+4yCPzoA8U1v8A4uD+1VoOm48zS/AGjyazcArlf7Rvi9vbc/3kt47s49J1Ndz8SNavNNsLfSNAaOHxPr8v2Szm2g/Z1x++umGORDHlgDwzCNMjeDWH8J/gX/wqvxR4q15vHHifxZe+Jpo7nUBr4sCpmSNIkkT7PawlcRxqoUHYBk7ckmu3h8LWkfiy48Qu80+oSWq2UfmkFLeENuZYwBxvbaWJJJ2J2UAFvdin8/vbt/7bf+XzC/vSaXa34f8ABfrpscn8QfgtZ+NPg/L8PNN1/WvBtgYYYYdT0C5EV9AImV1KysGOSyDcfvMC3IJzWH+yvr3jHWPhfcWfjvVYtf8AEWh61qOhy61DAsA1FLa5eJJyikqrMqjcB0IIPINdF42+FV74s8X6f4gsPiD4v8JSWto1lJp+iXNsbK6RpA5aSG4t5lEny7RKm1wpIDDNdlouj2fh/S7bTrCHyLS3XYilmdvUlmYlmYkklmJLEkkkkmiOl2+vT56P7vzd9ldS6RXTr8tVb1tr5K27t4f8RvGPi+H9o7RfDvhfxHdwaZH4cudT1uzuba0k02wXzBHbzyN5QuN7f6QwQTBWNuowoLtXlngH4x/FfxR8Pfg1fR+Ipri+8UeK/Kt5J7G1E+raOJ555ZbgLAiRoljGqhokjZpSpyFI3/RXiD4GaL4h/wCFjSSalq1peeOrKLTb+9tZo1mtbeOFokjtmMZ2AeZK/wAwb55XPTAC3/wN0S68ceBvEltqGp6UPB9hNpthpOnyRR2bwSeVlXBjLjH2eLHlumQpVtyMymqb5XHm6NP8XKzXbaPmrt9LFRXT5eqf5Jaed238lvqcVpvxG1TS/jJ8Y9X1HxXd3Pw48G6Tbedp9zBarDa35hNzcCORIVlKrB9nOJJH+ad+mFA4G40W6f8AZ6+HXgbULDyPEPxV12O91yzYBikVxK+pamr+whV4M9i6CvTb79lXQtQ8H/Ebw5N4q8UtZ+ONRl1G+ka5t2e2aWRHkjhUwFDGQipiVZDs+XOK39S+A2k6p4z8GeJJ9Z1g3Phi1ubWO1DW/wBnvhcNG8z3CmHO9nhRiYmjzypBVipmn9nm/u3+V5SXmm7LXVJdRyv71v735KMXbZO1311bv58R4m+Kmo+Dfjd4/wBUuvEuoN8OfBHg5dV1nR/stqYUu5C7xCGQRCbcIbeVmVpGGZo8BRXN6x4++J/hXw78PPHniHxK1rrHirxDpmnJ8OrO0tDp8dteSBTCZmiNzJcQws0rSpMsZeI/uwmc+pW37OXhv+0viVPqWoazrth4+3jVdJv7lBaxq8CW7rEI0RhmOKNQXZym07Cm59z/AAd+z/pnh3XdG1rXPEWveP8AV9Dga20a78TyWznTEZQjmJLeCFDIygKZpFeXGRvwzAun7vK5a25X+Lcl53uopvZLTs1UV01Hrdf+SpRf4NvzfzXmN58UvErfFL4129p431CHwd4Usrdr29u9PtDFoknkPcXItXEC+bKYmhCLM0wjId5AwMccnr37PureJ9e+CPgrVPGcjTeJr7S4bq9Z40jfc671DqiqgcKVDbVVdwOABwMnXP2cPD+u/CXxb8P31bWrbT/FF9dahqWpQywm9eS4uPOkXc8TIUxiIBkP7tQpyea9M0fTU0fS7SxjlmuEt4liEtw++R8DGWPqfYAegApR0hyve0fvs+b5XatfWyHLWV13f3acvl3+/wC/5q/YkA+JEPjz4wa2q3XizxD4gvtMjkmyz6bptpOYYLGPJOxAUaRlXAZ5CxGcV6d8XtftPhY0ni7TdJXWfG+uiz8MaTYNIsS3c5lleFGk2kqi+ZLI552pGxAz1z/+GZ7HRPF/iDxB4I8beKvhzJ4gn+2atp3h97GaxurvnddeRe2twsUrjaHaLYH2KWBIzWl4q/Z90fxN4d0exXXvEOl6tpOrrrtr4jtbxJdQF8FZGlYzxyRMGR3j8tozGqEIiIqqFlL3Kaf2VFP7kpW9VfXfXVblaRlU5dpczXbvFP0dl6LfY8/F/wDEPw/8e/Ang25+J8+vNqFjfeIfE1qumWMMNlbRJ5UMdsohMkUMlxcAgzSyyEWmA5/eZ8ztfjN8TNU/Z5fxNovjjUbqfU/EjaV4Y1O/0uxN5qry6gLa1RlW2ji+zLGjSSMsQd9zbHjWMNJ7vZ/su6NZ+K/EfiX/AISzxVNrfiHQBoOpXkl1b75sebtugRANkw8+TCLiAfJiEbE263iL9nvw7r2n/DfT4b7VNG07wHcRT6XaaZNHGj+Xbtboku6NjgRuwBQowJyGBAI0i7OLl5X9OZ3+6KVtLu7804lrfl7O3ry6X6ayb9LLrZnL6p428QfEzWfF8ml+L3+HXgDwbLLa33iSyhtJbq/vIU3XIU3UcsUNtBna5MZd3VgGjEZ8zj/hn8Y/iT4y8D/Dbw+t1DJ4/wDGlnc+Jb/VruyUQaBozT5i2wqFEk2yWGGIP1ZXeTcEKN2Wufsh+HvEGg+NvDlx4t8WR+EfFUt7dXPh2G7tltba5usmaaF/s/nE72dxHLJJEGcny8hduzcfs4ae3iDw/rlj4v8AE+katpmjDQLq6sJbRX1WyEgk8uctbny/mDENbeQU8xghUBds09kp+V/Xllf5c3Lt9nbXap9eXu7el0l8+W71+1boeH6hrV5pupfGzx3L8QdU8Rj4d6MfDGka5Fa2B1FL9tt1dxALbfZnkMjWUHEH8G0guCx9Os/FHxB1i/8AC3wrtfECx+LbHQLXU/GvjMWkDSWpkBRI7aAp5PnzyRzsrMjRxpCSUcsoq7J+yL4Xj+H2qeELDxB4j0nTr7xCniQTWc9t5lvOlwtxHFGrwNGYldVwHRmKqqliFUDcvv2e9Pm8cXfiSw8W+K9F/tHT7XTdW02xv4zDqcVuJBGZZZYnuEk2yMpkhmjc4BJzzRH4Un5adtG3a2y55PTrZXv1JbykvP56pK/nyR02s2+p4J4n+LnjrTfhD8U9bg+Jeqv9h8U2vhTwhq1lpmnXE13MDDbu7xi1ZZs3M0okWONT/oxEezJz6l4d8aeOrv8Aae0zwxc6wz6TH4Vm1bWdE+zW/lWJeeOKxzKqeY1y5S7L4k8rEYCpxvfd8B/st+FPh/4f8GaJZX2rXemeEtYuNb0y2upIRGs8qTJtZY4kUqn2iRlwAdxDMWNdL4Z+DumeF/ix4v8AH8Gq6tdap4mhtYLmzuZozaQLbpsjESrGG6Fjh2YAs5ULubLh7rV9f/2EvOz5ry002S6tzJXvb5f+BfiuXTXXd9jkP2wvFd54f+B2p6RpFwbfxF4uubfwppTrncs97IITIuOcxxtLLx/zzNYf7W2m+G/hz+xN428PG2hXSbXw2dE0uxYD55jGIbSNB3fzPL245yAR0rq/ip+zz/wtXxt4c8Sz/EHxZoM3h2c3el2GlJpjWttcGJ4mn2XFlKXco7AF2YLklQp5q3ov7P8Apkfiew8R+K/EfiD4ja3psgl0ybxNNAINPcBgJIbS1hgthL8zYmaIygMQHA4rPl54SjLTmevotF89ZNevkaczhOM468q09W9flpH7jz3wf4g8f+Ntb0v4Yad4gk8LDwf4d01vF/iW3ihutRk1CaBWitbb7QkkS/KjSSySxSEh0VQpJdeZuviprHxM/Zkn0O8vP7c1PxV4qu/ANhqipHC+p2f26W2lvCsYCBhaRXEjGNQhMZKqoIUezeK/2fdO8SeLda1y08U+JvDKeIIYbfX9N0O5gig1ZIlKKZGeF5oXMZ8syW0kLlQvzZVSH65+zv4X1S4+HwsZLvw9pXgkzDTtF0lYEs5Y5IfJaOVHidseWXXMbI2JH+b5q2cvaS5p9Xqv+3rv0VvdVuju1da5RXsoKNPeK0e20bL197Vt9kk7PTkvE2q6T/w0BYpdCK08KfCvwtPrd3Myjy7a4uVaGEg9jHa292SPSdfauH+Jfj/4qSfCO2+INp4ul8E654nurTS/CvguKyspo1+2SrFBJctNDJLLdLHI1yVjeONPK2MrhHd/YJP2cPDd7q3xKu9Sv9W1a38exmLUrC6miENurWyWzCBkjWRcxRoPnd9uDt27m3Ycn7KOm6hJ4KudZ8e+M9f1Hwjfx3ml319cWQkSNYXh+zssVqiFWSRsyhROTtPmjau2YfFHnfa/zbcvVpNJPsu+hbtFPkXf8ElH5N3b+VrI5qPVviV44+NXxT8JeEfiDe2Ol6Tp1jZrqupaNaXNvpOpSxNLJ5CrDF57+W1s3lySuF8yQtgGNTv+LPEnjiz+PNr4d/4Sc+H9Ov7CFvDsc1hDLYavMhY6hFO+zzVukiAkiVHRCAzFZRHIo9S8C+AdP8AQ60ljPc3Uur6rc6vdT3ZQyNNM2SMoqjaqhUXIJCooJJ5rlNP+AGm2virRdWvPEviHWLDQ7mS/0rQ9Qmt2tLO7dHR7hXWFZ3YiabCSSvGvmnaihUCEfsX6av1tr62b09FfuS18Vvl8rW++2va73e/qNfMHx2hHxO/ay+Evwz1vzG8GQabfeLLvT2H+j6rd28kUdtFKD99ImcylOQTsJHAr2PwH4M1fw7408aapda7rWoaTrFxHNa6drF2lwtnIu8SfZgo/dQsPLxGSTlWJwTS/FD4NaD8VpNDvb+W+0rxBoFw13oviDSJ/IvtOmZdrmNiGR1dfleKVHjccMjYFSrqUJ9tfwf4p2a810G0pKcH10/rya0fr16+eftQfEHxHo174W8B6d4E0jxnp/j64fRFF34ifT5oZPJlmlkaP7FOPJSKLcZAxbJACdCcD42X3inx5+0P8NfCvhvQ9H1u58H2cnjPVrHU9YlsbOO4cNaWS+clpOzEFrt1Xylz5StlcYPpPh/4BxWPxB0nxn4j8a+JfHet6Na3FrpTa8thFFYifYJnjSztLcF2WNV3PuwMgYya561/ZbvNN8XeKvE1h8Y/iBY6x4m8ldRnjj0Vi0cSskMcZfTWMaortgIRyxY5YkkV48r3td/5L5O0r26W8wdnzW0ukv/kn81dW+Zx3wE8U6LJq3xx+MXiS8mtfE2n3TaPr2nSWotoNHg06EutvGwkkFwD5jyfaMr5gdf3cWNlc18Nfhd8XfiB+zrceFbzSfCng/T/iAb3Vtc15tVuL7U0j1FpJpVWx+yRRrMElSIE3DBAucSY2n1DXP2NvCeofCK4+HGkeIfFHhbQNRuZLzW7jTbyCa91yeQq0kl5cXUMzyM5QbsFQw+UjZha9r8P6XLoeh2Onzajc6tLawrE19eJCk05AxvdYY44wT6Iir6AU+WHK4taWS8u8vlKWuu9ru7bG5SumtNW/NdI+V1G6uvlYi8K+G7Pwb4X0jQNODjT9Ls4bG3Erbm8uNAi5Pc4Uc15P4Tx8Qf2ovF+vnEum+B9Mi8M2TZOPttzsu70+mRGLFc+7ivYtWs5tS0u7tbe/uNLnmiaOO+tFjaa3YjAkQSI6Fh1G9WXI5BHFcJ8F/gvF8F7HXbWDxb4h8VLrGoy6rPJ4gNo0i3ErFpWVoLeI4YkcNuChVC7QMVXM5VHOW9n970/Jy+diOVRpqENtF8lr+aXyueH+D/Hdv4V8C/tEfHjXsz3J1PUtOsg2cpYaYXtLa2TceN9ws7kDgvOa9t+Aeg3Xw1/Z58B6T4hkjtbzRfDtnFqDscJE8duvm5PopDc+1UG/Zw8PzeImu7nVdYvPDn9qnXY/B8zwf2THqBk803O1YRM583dKI5JWiEjbggKoV7rSfCn9k+Kte1v+2NWvP7WW3X+zbu632dn5Slc28eP3ZfOX5O4gHipi2qfKt2or/wABTV/m22/k927aS1ndbXk/vasv+3UrL5rZJv5E+Inxw+GXx68afCuyTx54Zv4tU8UW8lvpsWv2paytbbdcJJKgkJE9zNFbxqhAcLJ5eFLShvT/AAbfQ6/+0x8YfHOuzBdM8B2Nr4b00yZCWqNbJf38wycBn823UsB92BRXstx4DsLr4i2XjOae5k1Kz0ybSre3Zk8iKOWWOSRwNu7exijBO7GFHHeuP8Yfs7aH401/WLu61nWrTQ9eMT694Zs5YE0/WXjQRq1wTEZwCiRoyxyokixhXVgWDLVRtHR+98m7K/8A4CndLrL5i0bfNtp80tfvvbXtExf2MXv9Q/Z/0bX9Rh+zTeJr7UfEcUB6xwXt7Ncwg+/lyofxr2+mQwx28KRRIsUUahURAAqgDAAA6Cn1pNpybjt09CVfeW71fq9WFFFFQMKKKKACiiigAooooAKKKKACiiigAooooAKKKKACiiigAooooAKKKKACiiigAooooAKKKKACiiigDyr9l3/khPhn/t6/9Kpa9Vryr9l3/khPhn/t6/8ASqWvVaACuU+Gv/Iu3n/YZ1b/ANONxXV1ynw1/wCRdvP+wzq3/pxuKAMr44/GC3+BPw91DxlqHhzW/EWkaajTX66ELZpbWFVJaZlnni3KMAYQs3I+XGSOZ0H9qDR7zxB4Y0bxD4U8S+Br7xTGz6CdeSzaHUmCCTykltbmaNJCpyElZCewqr+3B/yaH8Xf+xcu/wD0Wa5/wn8Add+Ilx8J/E/jrxfY6ppXhGGDVNG0PRdFawT7UbdUSW5lkuZ2lKKTgIIhk5IPSlD3pST2XL9z5r/PTTpffTZVPdS5d3zfeuW3y11/A1/DH7VN74y17xNoukfBj4g3Wp+G7tLHVYGm0KP7PM8SyquX1MB8o6tlCRz1qb4jftWWvwt+G1h411z4c+NI9Onvm066tIl003Onz/aBbxrMpvQpEjkbWiaRcEFiuRXnHwp0r4gah+0R+0efB3ifw3oNqPEdgJo9b8O3GpyO/wDZVthkeO+twox2KtzzntUn7d0OpWv7Gsmn3uqW1/4hs9S8P295eKhZGuhfWu52TcDgkhtuQcMOe9VH3vZ3+1yf+TWvbp16+XmRUlyQqSX2ef0929r9ei28/I9g8P8A7Q2mX3xC0vwN4j8M+IPAPijV7eW60uz8QJaul+kWDKIprW4niLqCGKFw2OcVu+Ovi/o3gfW9O8Pi11DxB4q1KJ7iz8P6LCst3LEhAaVi7JHFGCQPMldFyQAc8V8++GbPU9U/bG0u1+NWrW0/ivQbK4uvAH9j2LWGj38E0apdyKkkkshu0Aw0bSsoQqyg8kafwfe50z9vn472/iFwl/qWi6JceHvO4MmnRpKs4iyeVWdvmA/iOe/LilNQ13TfrZvRefftaXaxrL3VN9rb+bS+7XT+mew2vxmMl5FpV14I8U6b4mnsLjUbfQrqG1MlwkJQMiXKXDWnmEyIApnB5y20c1xngT9qq9+JekXmp+G/gx8QtQsrO+udNnczaHCyXEEhjmj2yamrZV1IyBg44Jr3Ob7N9ot/O8rz9zeRvxuztOduec4znHbNfHH7MPh34o6z4A+IieEvGfhjQdNl8ceJI4oL/wAN3F1do5v5gWFyt9Gi5PQ+Q23uGqY+9Nryb/8AJkvyf3/cTL3Un52/Bv8AQ9a8U/tc+H/AOpeCU8W+FPFPhbRPFhghtPEWpQ2n2C2uJY94t7lo7lpIZAcodybdwOGKgtXb/Fj4qzfCvT9MvU8GeIvF8F9dR2ZPh77ETBLLIkcIkFxcw8O8gAZdwGCWKjBOX8W/Deh/EO68HaBrVra61omoX97ZXtrLh45F/s+7V0PuCCPUEdiK8Pt9d1z4E3mifBjxpf3GsaTda1pTeB/FFyCz3lvHqFuzadct/wA/MCDKsf8AWRrnqrCqiuaag9LtW803qvVLbv6r3i+nN0Wj8vP079vRu3pvxK/ao/4VX4f8QeINY+FfjqTw5oIT7fq1t/ZPlIzLGWVVe/WSTa0gQlEK7lbBIGa7bwP8UtQ8WeIG0jVPh94o8GSm0a9huNcbT5IZ1V1VlV7S7nwwLqdrbeDxmvOP+Cgn/JnPxO/7B6f+j469/s/+PSD/AHF/lRHa7/rT/MclZRs97/hb/PX9CaiiipAKKKKACiiigAooooAKKKhvJ4rW0nmuJBFBGjPJIW2hVAyTntgUpPlTbGld2IbfVrO61K70+G4SS9tEjeeFTkxh92zPoTtbjrjB7irlfAFv8PdU8I/sx3Hxk8K+NfF+i6rrGvQeK7q2m1u4uIdT05tRiFrFcGdpZBixEal0dC4wspdQFX3i++I2rax8aPFfhy6urxPD2r+D4JtCtbCcwXDTPdXFu8sciHcjuGhcSZGxArcbXIbumo297XTzUea35r5AuXV391W18nLl2+5+j7n0PRXyH4l+Imr658VL34SL/wAJ74g03wVounxXq+F1uLW98RalNEJB5+rK0UdnHHEiyndcQtM8hXLhTHJFa6T410vxl8DvBa+Ita1bxlb2upavrGoWuv3lxpttZhnSGK7BlUXio86Ijyo0srWoDFQ0jLVldWe7081rr9yv6btbE6pXkrO1/wAtPxS83or62+wap6Tq9nr2mwahp9wl3ZXC74p4zlJFz95T3B7HoRyK+J9auNS8TfB74vW8XinxPe2PijxnB4R8MXDa1dG6NwJIrO5uUdJF2Rmf7VIYI9sAWEgRhSVPfr4Xm/Z3/aF+GGl6d4z8Qt8OL3w/q+n/ANg6xqZurOwNtHBPG6M/71jtWb5pXkKL8ibEwtTHWzez6/8AbvN9+sfv1tsOWja6rp/29y/5/dpc+paK474U+Hb7w14TaHUNS1bUpbq+u7+P+2rk3FzbxTzvLHAzkdI1cIF52ABcsFyfl54XuNH/AGhfiFrXjrxTY/D231K4stF06w8SalHIbq0UxSPDMJjJHvvGeNIINiMVClZBsVc5y5E3a9lf8tPXX5vy1VxjzW13dl+Ov3K//BPtKqer6tZ6DptzqGoXCWtlboXlmkPCj+p9hyScV80/DO98cfGLVLTwF4w1zUNJg8IeGtHfxVJo941lf6prNzB5jRNcQMssEcSoHbyWRpGlA3BFZHo/Eb4XWfjvXPgh8MtV8Vaz4kSOe88QX17p+s39sLnTrXDQb2S6LuVuJrEJNI8kuYiwcFmJ3lHlnyX62+Svd/crry1MoyUo83lf520X36eT+Z9YVBfXElpZXE8VtLeyxxs620BQSSkDIRS7KuT0G5gOeSBzUkMSwQpGpYqihQXYs2AMckkkn3PNee/tDePLv4cfBzxLrGmbW1xoFsNIjb/lpqFw629qv4zSx59s1lO6i+XV9PN9PmzSCu0noT/DL4yaX8Svh1N4z/s7UPDOlQTXkUya55CvGLaV45ZC0MssZTdG+GVyCBkcEVmeBfj5Y+NtZ0eyk8LeJPDtrr0El1oOpaxBbrb6tEihy0YimkkhJjIkCXCQuVz8uVYLl32nad8FvhD4F+Gdhp1vrEupxw+FbK2vpWjt5j9mkeeSd1Vmx5UM74Ay7YXK7iy+ffs4eA9Y+Gnxh1f4d+K/FF345i8KaHZX/hK7uY0jTTbK4MsEsBRV3GUNbbVllkkbym2qUzJ5muntJR6dPNpNv8LNdLc3WyM7S5FO3m+6TaS/G6fy8z6P8U+IH8N6PJeQ6Xfa5dZ2QabpvlfaLlzyEQyukYOATl3VQASSK43wV8Yr3xX44m8Lah8PPFHhO+isP7RefV5tLmhWMyeWgY2l7Oys5D7dygN5UmD8hrtfFHiSy8IeHtQ1nUWdbOyhaZxEheR8dERRyzscKqjlmIA5NYvw58O3ul6bdaprSqPEetTfbL/a24QcYit1P92JNqccFt74Bc1Efid/67f5/K3XWpXsrdf6f4afO/kV7X4j3+oeMm0ay8DeIbzSEna3fxRHNp66croDvG1rsXJ2uDGcQH5gcZX5q1/HXjrRfht4VvvEXiC7+xaXZqpkkWNpHZmYKkaIoLO7syqqKCWZgACTXg3w3+CSfA39qi9TwTfaungvxZo19rWvaJdXkl1a2+qi4t1ju0MhLJJOGnyN3zeUeMIAvs3xW+Ho+JXheHT0vItPv7K/tdVsLq4tjcwx3VtMs0JkiDoZE3oMqHQkdGU4IF/DhJ9d/LWz/JtbX0vbo3bnku3+V16Xur/hoL8OviQnxAj1OKbQNW8LatpsqRXeka39n+0RB41kjfNvNLGVZW4w5IIIIBGK09B8YWnibVdUtdPt7qa009/IfVCgW1lnBIkhiYndIY8AMyqUDEpuLpIqfPLRv8Pfht8QPGVzqV94hsruSTV9e13T4zZz+IrhUWGK0sELN9ntAqxwrL5hYjJVzkzHv/gv408RL4y1fwB4jh8Nw3WjaLp+pJZ+F7SW3g0mOdpkSxffI6yFBB8sqiIOv/LFABkjKMvu/R/5P130TinOsbp9P80tvml8+rTa9looooGFFFFABRRRQAUUUUAFFFFABRRRQAUUUUAFFFFABRRRQAUUUUAFFFFABRRRQAUUUUAFFFFABRRRQAUUUUAFFFFABRRRQAUUUUAFFFFABRRRQAUUUUAFFFFABRRRQAUUUUAFFFFABRRRQB5V+y7/AMkJ8M/9vX/pVLXqteVfsu/8kJ8M/wDb1/6VS16rQAVynw1/5F28/wCwzq3/AKcbiurrlPhr/wAi7ef9hnVv/TjcUAQfFX4R+GPjX4Vk8N+L7a+vtDmbdNZ2eq3dgs4wRslNvLGZE5+45K5AOMgEaPgrwJpPw98KWvhzRft6aTaoY4EvtTub2WND0UTTyPJgdFG7CgADAArkv2jfitrfwQ+E2t+ONH8N2PiiLRIHvL+yvNVfT2+zopLNEy28wd84+VgowSd2QAc7wt8RPitq0fhzUdT+HXhmDQNUa3M1xpPi25vLu1imAIkMD6bErhdy7gJBgZPIFKNpNxXlf57X/EJPls352+W9vwKuk/sgfDfQdQ1S+0z/AITHTr3VJhcahc2nj3XopLyUKFDyst6DIwUAZbJwMVY8Ufsl/DLxp4NtPCut6ZrOo6Fb3T3v2aXxPqm64uHcOZbiQXIe4cMqlWlZymAFwK1viR8evDvww+IXgHwjqwmF54vvXsoLhV/c2ziNmj81uimR18tB1Y5xnaa6f4jfETQfhT4L1XxX4mvRYaNpsXmTS7SzEkhVRFHLOzFVVRySwAov7vN02+7/AC0HZ83L1ev33/PX8TnPGv7PXgT4jeE9C8O+JdLvNYsdDnS6025uNXvPt9tMgIWRb0TC43YPLGQk8Zzir3ij4J+DfGmk6LY63pc1++ioE03Unv7kalafKFLR3wkFwHYAbn8zc2MsSawrP4kfEe40uTXZvhakOifZTdRacuvo2vN8uRGbTyRbq5H8P2s4PHXiuQ+I37SHjTwn46+GOgaJ8PtG1mDx+jDT7y/8TS2TW0qW32iVZ41sZcKFyAysxJHKrVWd+Xq2vvd7N/du/wDIlbXXRP7lq/lqeqaX8J/D2j6Leabb/wBruLu3a0l1C51y+uNRETdVS9kma4TnkbZAQeRg81w/h/8AY/8Ahv4TsprPQ/8AhMdGtJp5LmW30/x7r0EbzSHdJIypegFmJyWPJPWqGh/Hbx9qn7R2qfC6f4e6DbWmm2EOsXGux+KpZP8AQpppIoisBsFJmPlMTGXCjH+sPBPb/Hj4ia38Jfhbr3jHRPD9j4lbRLaW/u7G91R9PzbRRs8hjkWCbdJ8owpVQcn5hjBiUlGHtXt+iev4lQi5z9lHf9WtPnYpXf7N/gW8n8Kym21y3bwuippK2fibU7dICN2XZY7hVlkYO4eSQM7hiGLA4rufEHhbSfFcNnFq9hDfpZXkN/beaOYbiJw8cinqGBHbsSDwSK8q8L/Fb4p+NPA/g7XdK+G3hwXPiCxbUpIbzxdPHbWUDJC0CtMunOzyuJWygj2r5Z+ds1z3wq/aE+KHxU0Bdfs/hd4cj0aPXJ9FuxD4xnlu4vIuzbTzJEdNVXRSrOAZFJUdAeK1kpKfI91r801r99te5EXGUVNbPT5Wen3J/I9S+LvwV8I/Hbwz/wAI941sr3U9EL75LG21W7sY5iCCBKLeWPzACAQr5AIBAzzXQ+EfClh4I8O2eiaY989haArEdS1G4v58FicNNcO8jAZwNzHAAAwABXjXwf8A2hvGfjr42eLPhx4v+H+leCdQ8P2kV6ZY/Ej3z38MrERzW0Zs4g8OVYM5ZWVtoK5PHW+DfiL468TfFLxLoV14I0mx8H6POYE8TQeIXnkunK7lRLY2i4dQVEg8zahJAZyDUR7R+1r92l3+WuvQqT7/AGXb79f+D2tqeoUUUUAFFFFABRRRQAUUUUAFUdc0Wz8SaLf6TqMP2jT7+3ktbiHcy743Uqy5UgjIJGQQavUUpRUk4yV0xpuLujjdM+EHhLSfh+ngiPSftPhhUSNrK/uZrsyqhUqskkrtJIBsRcOx+VQv3RitSTwL4fm8X2nimTSLWTxDaWbafbag8eZYLdm3NHGT9wMcZ24JwAcgCvEX/aS8ef8ACafFjRR4C8L2un/D5IZrnV9Q8YzwxXKTQ+fHhV01yhEXLg5AYhVLjLCHwb+0t8RvHXwU8LeO9K+FuiTal4ouIF0rw7/wl0gme3ff5ksshsAsZjC7yvI2Bvm3BUZt8z53vp6+9dL79flfoTyqPuLb8NLP000+fmj1DxN8A/Bfi7xnJ4qvrHUIdbnt4bS6m03Wr6wjvYYmZo47mGCZI7hR5jjbKrgqxU5Xit/Rfh34c8OeILjWtL0mCw1CfTrbSWe33LGlpbmQwQpGDsjVTNJ9xRnIznauNjSZL6bS7OTU7e3s9SaFGube0uGnhjkIG5UkZELqDkBiikjnaOlW6Lct4/1/Wr+8d+bV/wBbf5L7keUWv7Lnw10/wrpHh620K6h0vSNTbWLJE1m+Esd0RIrMZvO8xlKyyKY2YoQ7Dbg4qt4f8Jah8XNQ8JeJvH3gb/hDrvwyzz6fosmqJdSR3bL5bOzW7eU0SqPkDZJLbmWMoAdDwz478R6x+0B4z8KPc6XdeF9E0qxuh5GnyxXUF1cNJiF5zOySYSFnIEaECWMc9T3uqatdafqGmW8Gi32pQ3krRzXdq8CxWShSRJKJJUcqSNo8tXbJGQBkhdE+/wCe1/wWvaz8xy1bT6fk9bfjr1vp3vk/E7XvEHhvwTql74W8M3ni7xAIWSy0yyuLa3Z5Sp2M0lxJGioGxuOS2OiseK8n/Zz/AGZPDPgbwF4OudW0PX4/EenxC6msfEuuzX8UGoks012lqLqazimeRpHEkIDAStgjcwr6Bopx9276u3ytfb79fl2FL3kl01+d+/p09X3PPvFHwF8E+MPGDeKNR0y7TWpbeO0uptP1W8so7+BGJSK7iglSO6jG5hsmV1wxXGCRWle/CfwtqHjrS/GE2muNe02z+wW0sV3PHCIA+9Ua3VxE+1vmUuhKkAqQQK1fGHi/SvAnh261rWbkWtjb7Vz1aSR2CRxIP4nd2VFUcszADrWz+lKKUbOPT89b/m/v8wl72kuv/A/yX3eRwngP4Vaf4H8aeNPEVjD9jl8TXEdxdW8d1NMkkqbx9oIkOEd1ZVKoAoEajnrUXxS+A/g/4zzaVJ4rg1a7/suZLqzjsdf1DT44p0bdHNstp41MiNyshBZexFeg0Ufy+VreVtvuHfVvvuc94v8AAGhePPD6aNrlm97ZxvHLDItxLFcQSp9yaK4RhLHKvaRGDjJ55rAh+A3gmPwX4j8KzaXdahpXiO3e11eTUtUu7y8vomQpslvJZWuGAViq5k+QHC4rJ/aY+M2rfAP4U6h410vw5Z+KRp5DXGnXOqPYyPHg5MLLbzb3BwdrBBtDHdxg9ta+N9MbwHb+LryZLHSZNOTU5JXbcsUTRiTOR97APbr2pe7JTfRb/PXX5IXwuPfp8u33/iWrzwrpeoWWmWdxa+ba6bNFPbQtI+xXiH7ssM/PtOGAbIDKrfeUEUPiN8OPD3xZ8H3vhfxTYNqWiXjRvNbpcS27Fo5FkRlkiZXUh0U5VgeK4b9nb416/wDHjQ9R8S3Hg2Hwv4UN7c2ukXE2qNPe3ywzPEZZLfyFWFSUOMSueD2wT69Vu71l11/rz9dRRaTtHpp93by9NDn/AAX4E0jwDpslnpKXjiV/MlutS1C41C7mbsZLi4kklfA4G5ztAAGAAKt+JfDOn+LtJk0zVEmmsZHRpIYbmWAShWDbHMbKWjbGGjOVdSVYMpIOrRSGtNjM17w3pnibw/eaHqdnHdaVeQNbTWxyqtGRjAIwV9iCCMAjBFZngP4b+H/hrYXVroNnNCbyc3N3d3l5Ne3l3LgKHnuZ3eWVgqqoLu2FVVGFUAdNRR1b7isFFFFAworG1zxdpnh7UtF068uAt/rFybWxtV5kmZUaRyB/dVFZmPQcdyAdmgAorzDxx8WdZsfiJb+AvBnh7T/EXin+zP7au11nVm0yztrMytCh81Le4d5GkVgFWLaArFnU7A82l/GiGLwz4l1jxVod34QTQb8aZNFeTRTG7nKxFfsxjY+YkjTIkWQruSAY0b5acVzK6/rW356Ck+V8st/+Bf8ALX0PSaKT9KWkMKKKSgBaK8u/Z58deJfiJ4P1fVvEdzpN8seuX9hp13pGnS2Mdxa28xgEpjknmOWkjlIIfBUocDmvUaOifdJ/erh1a7Nr7nYKKKKACiiigAooooAKKKKACiiigAooooAKKKKACiiigAooooAKKKKACiiigAooooAKKKKACiiigAooooAKKKKACiiigAooooAKKKKACiiigAooooA8q/Zd/wCSE+Gf+3r/ANKpa9Vryr9l3/khPhn/ALev/SqWvVaACuU+Gv8AyLt5/wBhnVv/AE43FdXXKfDX/kXbz/sM6t/6cbigDzn9uKRY/wBkH4uF2Cj/AIR26GWOOSmAPzqb4M/D2/8ADOi+F/FmsfEzX/EWnW/h0Rix1qPTorS2SRIHMitbWsLfKIsZkZ+CehyT6T42+HPhP4l6dBp/i/wvo3iqwgl8+K11vT4byKOTBXeqyqwDYZhkc4J9ar2vwp8E2PgqXwdbeDtAt/CMoYSaBFpcC2D7m3Nm3C+Wct8x+Xk81Mbx52t3a3y5v/kvw8wdpON9lf8AG3+X4+R8ufErwD8S/wBoz4Z+M9Q0Twv4XktvFMkGpeGtdvPFFza39lDakPp8qW66fIqncGm2+eM/aGBK5IGL8XviBqP7TH7FXg/x1plpLd6j4a8QabqvirQrJRJMrWNxi+h8vknaQZAvUqoPPf7F0b4c+E/DnhKXwrpPhjRtL8MSpLFJotnp8UNk6SZ8xTCqhCH3NuGOcnPWqvgb4R+Bvhg94/g3wX4e8JNeBRctoelQWRnC52h/KRd2NzYz0yfWna11HpytesXpfbey5tm7LVWHvq/7yfpJWffXt0Wu99LmifEHwz4k8IW/irTde0688N3EIuI9UjuUNuYyM5L5wPfPToa8C/aKvoJP2mv2XH8zYJdY1Z0WQFGwdNfGVbBByQMEZycV7bY/BvwBpnip/E9n4G8N2niR23trEGkW6XjMe5mCbyfxqr4u+A/w0+IGtHWPFHw78KeJNXKLGb/V9Etrqfav3V8yRC2B2GeKrTmjLonf+u/4CV7ST6pr71Y8t8LTxt+394+jWRTIvgDSAVDDI/028PT6MPzHrXRftTeJtNvf2evjTpkF1HLdaf4VvTdBWBELSW0uxGOeGIXO3rhlP8Qrd1D9l/4NavqFzfX3wk8C3t9dStPPc3HhuykklkYlmd2MWWYkkknkk1dX9nv4WL4Xbw0vw18Hjw412L9tHGg2v2M3IXYJjD5ezzNvy78ZxxnFZTjz0fZeTX3tv8L/ADt0NKUvZ1va+af3JL8bfK4z9naRJfgD8NnRldD4b07DKcj/AI9o682/YPuobr4L600MqTKPGPiHJjYEc6nOw6exB+hFex6R8K/BXh/wjd+FNL8IaDpvha8Ei3Oh2emQRWU4kGJA8CqEbcODkcjrUXgf4Q+BPhjNdy+DvBXh3wnLeKq3L6HpUFk04UkqHMSLuAycZ6ZNdFSXtK8qvdP8Wn+ljlpwdOjCl/Lb8E1+t/w8zwn9vmNfBfgDQPilo122i+N/DGsWdrp+qwlQxt7u5jt7mCQMCHjZHLbSOGRWHSvpPw7oVl4Z0W00zT0KWlumFLMXZySSzsx5ZmYlmY8kkk8msXxz8J/A/wAT/sf/AAmXg3w/4t+x7vs39uaXBe+Ruxu2eajbc7Vzjrgelbmg+H9L8K6PaaRoum2mkaVZxiK2sbCBYIIEHRURAFUewFRH3YOPnf8ABafem/m/npJNzUr9Lfi9fudvkX6KKKRQUUUUAFFFFABRRRQAUUUUAfFOgwahqmtftL+M9UgMHg3R9fvNRR5I966lc6fp0EUW0HkxW8sEjkYwZgm0jynBt+AL7xH8Gf2NfAetTWo0LxldaVovhPRYNUQMukG7kgt/OlUn7xd/PdDjIjijbBQmvr+TR7CbT57CSxtnsbjzPOtWhUxSbyWfcuMHcWYnPUk561D4i8N6T4v0W70fXdLsta0i7XZcWGo26XEEy5Bw8bgqwyAcEdqmC5Icu+kF2vypp7bOSdr9EluXJ3lfzk+/xNNL5NfPyPj/AMYeDfhj4d+O3gDwtYiC41nw/JN4v8a+KbxRcXd1HaxboUvbo5eSY3E1vOkWT5aRLtVUKA9z8P8Awhonhn9o7XYb8pfahq6zeONK8UWczLPd2TfuHsb9hxLDA06NbhiVC7doVoSW9s034R+BdFbTG0/wX4esG0u2ls7A22lQRm0glJMsUW1B5aOSSyrgHJyDVnw78NfCHg99YfQfCuiaI2sSGbUm07Tobc3zndlptijzCdzctk/MfWqTcdVv7347em0Nv5WtndZNXuu9vN6b69d5b/zJ7pHw74y06Xx9+zZ438WazaW3nfFjxK0Phuwum82Jo7l0trTUJ0b5T5NlAtwiEFYvJaXhiPL9st9J8I6l+1y2pzppiyfDnwctlLqlwIjd3E10C5WSQje4htYS+CSB9sY9zXvOqfDzwrrml6Rpuo+GdH1DTtHlin02zurCKSGykiGInhRlIjZBwpUAr2xQvw78KprGtasvhnR11XW4RbapfCwi8+/iC7RHO+3dKoXjaxIxxSd4x5YdNFftycqv3eru/NdkXpJ3l11fq5KTt2Vkl/w58D3Xw/sZP2UrNbvQ9L8LTfFXxVv0PRbeCOC20u3vLgzfb3iUCNZoNOgDqxH7ryQQQ7Pn034o+D7nxZ8ePiNpOqfD6H43XUOh6ePDNlfXNi+n+GFmSVGNzHdTK0Uks0PmmaGKWVo1AH3QtfV2seA/DPiGPR01Tw7pOpLo08d1pi3ljFKLGZBiOSAMp8t1HRlwR2r5o1r9l3xN4sh1DT/F/gn4eeOdUuLmUxfEfVdYvotato2mMkUkUC2rPB5JYFYLe9ijJU7TCHOCVvgin1t6csYpX0s9N9NNFps4t3520m9/Vycm7dtlbXvq98TUvgLoo1L4CfC74gPD8QdZsPP8ReI9W8T3MuqrKY4I7byo3vGkaOOe7mtsQrtR/Jb5Mkiq+of8Ib4w+HXxS+I3xR0iz8VRadrOoeFfC/g+6tluYdN+zStaW1taWnIF5cSKG8xVEm2SNQQiivqnRPhfodivhW91WxtPEfinw7YLY2vifVLWObUR+72SOs7Aupk+YthudxznNWIfhf4Nt/G0vjKLwloUfi+VdkniBNNhF+67QmDcbfMI2gLjd0AHSqqLm5k3vzarzas12fKrX6XfTRxTfKoO2seXfsr3T/7ed/OyXmfMC+B9f8YfED9n3wtrVpZ3njvwl4XGseJvFdwscl9p7tALZESQqWd5JGuSASF3RCUhtmxu5/Y50vSpv+Fn+KdESK00fXPE80djaxNktBaotr9plJJaSWeSKWVpXJeQMpZm619AQ6Jp1vq11qkVhax6ndxRwXF6kKiaaOMuY0d8bmVTJIVBOBvbHU1U8K+DdA8B6SNK8NaHpvh7S1kaUWWlWkdrCHY5ZtkYC5J5JxzVuV5Slbe/pdyvt5JW+/uTypRjFdLfcotfi3f+tfN/ixYJ8QvGMXhNfLnt9M0O+1S9QuP3cs8T2loGX0ZWvSCeB5XQ9vnjw78VNR1L9hnwt4teCT7Povhmz03R7KeIxNrHiEqlrbsF4JjiuMBccO+ZBgRIzfW+i/B3wD4b8WXXijSPA/hvS/E10ZGuNastJt4byYyHMheZUDtuPJyeT1qLxX8E/h348h02LxN4C8MeIotMi+z2MeraNbXS2kfHyRCRDsX5V4XA4HpXPyJxlF/atf5OW3ylZeavutdub31JfZvb58t7+V1t2bXmfOHg34c6DB4ku/hx49vbSf4Y/CXwhpW/RtVdfsOpXEscjz6hexsds0cfkfIHBRX8xsblUrxV54dfx1+zd4S8IDwfZXUPjnx/JN4S0PW7EIukaEty9yZFjkBa3QWcUu3aAVW5VUC5AH2RffBn4f6pPoE974F8NXc3h5I4tGkn0i3dtNSMgxrbEp+5ClVICYxtGOldNcaRY3eoWl/PZW819Zh1trqSJWlhDgBwjEZXcAM464Ga2bvJze97/wDk3N97sl/dV0na1sUmoqK6L/23lXy1ba+07NpWd/kfy/D2k/tB/FfxLfX8w0/wL4JNlrWpQTGG91S5mK3t0C6HfsggS1VEQgRfaiE2kiub8A6C2m+B/gP8IrmCzsZ73V/+Ew8VW0ZSK2scS/2gliirheLq5sowi8BTHxiRc/Yf/CtfCPn+Ip/+EV0XzvEaCPW5P7Oh3aogUoFuTt/fAKzLh88EjvVXSfg/4D0F9BfTPBPh3Tn0Dzv7Ha00m3iOm+cSZvs+1B5W8k7tmN2TnNKn7iiuitb1TlJ/Lmasuy+TuVpJ263/APSVFejsnd93fc+IPiB4F0/xd4F+MniPTtC06OL4l+Lo/CvhzSdNs44ft8qS/ZHv7jC4lZHW/ukZgccysSyxmPv9auk+Gvxc+JfxAsguu658N/h9NBcuzZl1W8lVLprf+8ILeKC1wg4X7WWOXdmb61h8F+HreHSIotC0yOLR5TPpqJZxhbKQqyF4Rt/dsVkdcrg4dh3NN0/wR4c0nW9Y1my0DS7PV9ZCDU9Qt7KNLi+CLtQTyBd0m1eBuJwOBUe8ocsXZ2tf/t3l/WTb81bZFuUZSTkrq97f9vXdvkkvvvufJHwl+GreLte+EninxXZ2Oh+Ktx8QT+JdavbW88S+Iplt2MsVsbd5UttMX7QrAJMRtCxmGPfubhdW8L6bffs5fEvxUPD2j6TpvxG8SyW3hfRYIYxaXTXMiWdrqFxEFCNtjU3KowYKQ0xJdl8r7f8ABXwj8C/DWO/Twj4L8O+FUvwq3i6LpUFmLkLu2iQRou/G5sZzjcfWrWofDbwjq+g6Tod/4W0W90XSHhl07TbjToZLeyeIbYmhjK7Yyg4UqBtHTFaT5JSbSsnpbybTl87RSXTrZMzhzRSbd5Lr5q9vleTbvd+fQ8A8O/DXwL4y/ama8v8ARdH1qX4eeGdP0u01bUYIZ55b9yLjzN7KWaSCGO2cPnKfaSRjcSfpHw/4j0nxZpMGqaHqlnrOmT58q90+4SeGTBIO10JU4II4PUGqdr4F8O6fr2ra9ZaBpNpr+rRrFf6pFYxrc3aqMIs0gAaRVGAAx4AwKrfD34f6V8NfD/8AZOj2lpZWzTyXLQWFqltbq7nJEcSfLGg4AUZ6ZJYkknM2rS838223+f5IXKo/D5L5KKS/L82eFfFCy8LfHjwzrPxD8M+Lk8EePPhre6pYQ+JrW5DCxa2kImt72M4WS3kESO0bjhWDKeSTyuuXekftSN+zbD8QPB2krf31m/i7WLHVrKOWO3hECQpbjzgWVZ7q5tiEJ+cQ7TnFfSviD4N+AfFupaZqGueB/DetX+mACwutQ0i3nltAG3gRO6Ephvm+UjnmtXUPBPh3VvE2meI73QNLvPEOmI8dhq1xZxvd2iuCHWKUrvQMCQQpGQTms4Lltfa6fo0nqvWVm10t1buXP3m3HTRr5Po/RXSfnfS1j5C1D/hDfGHw6+KXxG+KOkWfiqLTtZ1Dwr4X8H3VstzDpv2aVrS2trS05AvLiRQ3mKok2yRqCEUVpL4H1/xh8QP2ffC2tWlneeO/CXhcax4m8V3CxyX2nu0AtkRJCpZ3kka5IBIXdEJSG2bG+n4fhf4Nt/G0vjKLwloUfi+VdkniBNNhF+67QmDcbfMI2gLjd0AHStqHRNOt9WutUisLWPU7uKOC4vUhUTTRxlzGjvjcyqZJCoJwN7Y6mrj7qV9dvvUWr+rb5pPrt3bUtb203t6Sadvklyr7/JfAI8XXnhTwj4gvvAFpfW1n8TPiXH4dgGgXUEF9HYW8TRS3Ec1xLGv2y7NpPi4lkDsZkbczha9GttJ0/wCBOnfFzx/o+i+H/DHiCLRbXR7XwX4cmWWf7ZK7taSalOoUS388lxECDv2DkSyiXefpX/hTvgH/AIQ2Xwh/wg/hv/hE5pfPk0H+ybf7C8m8PvMGzYW3ANkjORnrV7TPhz4T0Xw3ZeHdO8L6LYeH7GdLm00q10+GO1t5kl85JI4lUKrLL+8DAAhvm681HKpQcJPXa/W3Kov56N9ru+g72ldLTe3S/M5L/wBtWmum7Pk21+FcXg3x1+z14Mu44pPEfhuxk1y8likMv2C2trYwR2VtIwBBnnmBkcBWuPJcsNqqicr8PdHu/wBpvwP4U8a+NtHsNE1TxPr0N5B4s8RXttc3dmi3Xm2+m+H4InkaA+XAY5XdoJVYSStHKQdn3LN4N8P3HiqDxPLoWmyeJbe2NnDrL2cZvI4CSxiWbG8ISSdoOMk8Vl+HPhH4F8H+Jb/xFoPgvw7oniDUPMF5q2m6VBb3dzvcO/mSogZ9zgMck5IBPNbKV588t7t/O/T5KKd30eju083FW5VtZL8Hv83J28+jSa+SNaj0W1j/AGlfi5P4b0uPwmszaRbWVrEqf8JPdWatCUuVUASI99NNEwbd52EVhsTEk958N5PCr/AHwZr2kt8YPC1j4OmgbwTYXVky3eoRLb5v5ILqeKC4t41Z0TezCNpIyq5II+vNU+HfhTW/C8/hrUfDOj3/AIcncyS6PdWEUlpIxk80s0LKUJMhL5I+8c9ea8M+IHwE8ReJPGmv3GreA/h78XPDt2Y/7It/GWp3Fk2hxCMI9tbwCyu4lBK7zPH5Uj7grhvKQ1grxSiuiX4Jrz1fM3tZWVrNRNd25d7/AHNq3a9krfN3TTZ5Hqfh7x58Avhp4Y0SeDWoNc+JHjBrCTRfDHiJgnh7SWE1xHpmnG5nitbeURx+SJIvKxuPllikZr2/9nX4WaR4R+I3jnXrDS/DvhK9uLay0258K+GXWRbQJ5syTX8qookvpBPluGKLsw8gcO3X+AfgHoeg/B2y+Hviq2s/HGi28sjrZa7E2oW0UZmaSGBRdNKzJApSNC7E4jB46Dv/AA34Z0fwbolro2gaTY6HpFqpW30/TbZLe3hBJJCRoAqjJJ4HUmttIt2+XpZK2/k+r1bd76vLWXz39eZu+3pba1kttFp0UUVBYUUUUAFFFFABRRRQAUUUUAFFFFABRRRQAUUUUAFFFFABRRRQAUUUUAFFFFABRRRQAUUUUAFFFFABRRRQAUUUUAFFFFABRRRQB5V+y7/yQnwz/wBvX/pVLXqteVfsu/8AJCfDP/b1/wClUteq0AFcp8Nf+RdvP+wzq3/pxuK6uuU+Gv8AyLt5/wBhnVv/AE43FAFb4w/FfRvgp8P9S8Wa4JpbW02RxWlqu6e7uJGCQwRL3d3ZVGeOckgAmue01/jRdWaaxcv4LtGkg80eE2tLppUcjIifUxMVyOhYWhGemRXK/ttfC3xH8T/g7aP4Stf7S8R+GdcsPEtnpfm+X9va1l3tBknGWUtjPG4L9aw/ix+0N8NfiR8FddsE8d3Hg/xhPpk01noKaxNoniK3vViYxxfZ0eO4LiQAbNrI+OjCsZScYTn1X32sndLq73XyW19dVHmnCPR9fO+z7JKz+b3sP/aD+NPxS+HHh/4R6pog8M6VP4v1vS/Dmp6brmkXN3JY3N2DulR47uEFYypHlkZPXeOlX9L+M3xAh+Nmr/BfWJvDZ8WyeGx4k0fxTY6XcfYGiE4heO4sWujIrBs4K3BBBzx0Pzb8eta0bwh+zb+y1ofjrxZfWfia68VeHNc1tPEuvXH9qxIY3N3cO80vnwojsRuBURngbSK+x/Cvgn4W/BvSdV8fWV3aWdrqFrHNe+MNc1yW/ea24MW6+u5pGMXzAqN+3kYrrqRVONTm2Upp2f8Adja3ZKTbT62aIunGny/E4p/+TPdecUla3W55j8B/iF8cvjZ8H7Pxu/iz4c6DJcTX0BsX8I300aNb3MsGTN/aqcMYt2dnG7vjn6W0eS9l0ixfUo44dRaCM3McP3FlKjeF5PAbOOT9a/Pb9kvxB8ALr4DaTdeLPi5Boetf2pqN3Jpc3xHurGJQNSnkhJ043aw7WUI20w4fdkg7iT+gfhvX7XxVoNhrFiJRZX0K3FuZkKM0bDKMVPIypBwcHB5APFS01fTt8v6/QmVvaNLu7ff+mhpUUUVABRRRQAUUUUAFFFFABRRRQAUUUUAFFFFABRRXMfE/xdP4D+HfiPxDa2Uup3unWMs9rYwRNLJdThT5UKIvzOzvtUKvJLADk0bascU5NJHlXhn4sfED4lah421Twm/hVNN8K6teaM3hTUba4bUrya3yN0l2k220804ZF+zT/IVbJL7U9F1D4raD4E8G6FrHxG1/QfA09/DEJF1fUo7SFblo97wo8xXcV+b3wucCvmv4leIvButfGTwT4z+DWuwP8Yb7VbHT/EPh3SpQJ7vS9wF0NYsj80DW8ZbEkypJG4SPOSqifQfiXoHhP4ifGXX/ABIqa78aZtSuNB8P+D1KyarLpUaq1nDaQEbvs8xY3EkqgxjLNIwEJ2QnJQateSX3uKV7d+ZyXpaSS01cknO+y/JO9ubty8r163jff3fqnWvG3h3w2mkvq+v6XpS6tcx2WnNe3kcIvZ5BmOKHcw8x2HRVyT2FVPE3xN8IeC4dUl8QeKdG0WPS4Irq/N/fxQ/ZYpXZInkDMNqu6sqk/eKkDJFfJGpeG9P+GMP7Lvwz8aX1hbavplmNTv5GcNJeSWCRNFp1oPvSMbuaB1jQZYWq8HaMYeqfEmx8R/CT41a/qWs2VpqHj7xpF4LlZ7kJDo9krrYGKWYNtVliju5yu4E+cjADzV3bSjq4x7tJ9H70YrXu5N/d98KSVnPayv3WkpPR7e6vx9T2zx18dP8AhZnwd8C+JPhl4suNNuvFfiOz03TJ9KFnctNG87CYTJPFIF2W6SzOgCyIY9pIIYH3Tw34z8P+MRqH9ga7puu/2ddPY3p028juPs1wmN8MuwnZIuRlDgjPIrwnxboJ+KH7RXhDw7ZYsPBvgbw82q6huhaORpb0Nb20EZIBiIggug5+8EmwAGIZH/sS3mneLvBvjDx9p7wGLxX4juZ7aG1AEVrY26paWUChflG23gjJUfcZ2UgFSoFb3l6tX33UbP7pNd/uuvesm/JO3dpy/Ky9fw6b9pv4h+N/h7ovhM+Arjw//bmt6/aaJHZa9p090s/nvhnQxXEJTyo1llbO7KoR8vWtrwjb/Fa28ZWq+IPEngzxF4X8i4W7bRtAudOu4LlTH5SgyX9wrKQ0hb5QRtX+9x89fFr4ufB/4tftO6ToHib4oaHo3hrwHpk95JPB4v8A7Id9YuHMCxx3MNxFJvhhjnDqrceeFbritXxP8ZvB3hb9nTxBo3wr8aNqlhpWp2Wlar42srpryHThqF4jXV2b1mcSyxxXEkrS7nCMVLnORWVN+5zLVtu3a2kVftqm79mmaSXv8r6JX/F6d9GtPJo+jZfjF4Cg8RXWgSeN/DkevWs8NtcaW2rW4uoZZWVYo3i37lZ2ZQqkZYsAM5rTs/HXhrUfEmo+HrTxDpV1r+miNr3Sob2J7q1EgzGZYg25NwIxuAznivkvWPGvw3m+K3wi8HeD7eCXwN4Ps9Q8YQ6hpW2WHVZYYWQRWmP+Pxt87zyTKWXzIuXLiTb2HwlvvB9x8cPEVjoF1p3jLwxbyXXjKLULUrPN4X1eYtDeWkzqSUeZZZZFicB02zqRtCBbVur0978Py2nv2SW6M29++n4/nvH73/Lr6z4H/aB8D/Er4jeIvB3hfxDpeuajoNvFNetY30UwV3d1aNVViWMe1d7fdUyIud24L6HPPHawyTTSLFDGpd5JGCqqgZJJPQAV4V+xjr2neNvhLeeNrK6gvLnxdrV7rt3LbncEM0n7mFnBILxW628TAH5WjKnBUgZfjb4taR8cl8RaP4E+JXg/TNC8HzR3HinVtU/060YKC4tnSO6tyIBjdJKZBGdhi+ceeqDTSUX8Vk35bXfor289OrK0vKX2b2X5L5u1/K/ZHd/BD43RfGy88dy2Wmy2Gk+HtcOi20twMS3e23hmafbn5VbzhtB52gE4JKr1em/FDwbrWg6hren+LdCv9F0/zhealbalDJb23lAGbzJFYqmwEbskbcjOK+Xf2Tvi54P1r4H+PtV8ReKdJ1sa14w1ca1c6PiKGCKaaSJLh4xI729u0EPm75HO2MFi5Clqf4S+KOk/Cv8AZ1+JnjKzl03Xx4Jsv+Eb0DxxamMQa9ZRxobAecv7t/KmuTA7odnmRyEbSWRYbfJzJbQi/m4q/bq1Zdbvbls6iuafL3k18uZpfgn3tZLW919K+C/iRp/ibwLP4tuNV8NHQUa5lTV9F1tb/TzaxMw85rkxxqpAQ7xyqEMN7YzVvwj8T/B3xA2jwv4s0PxIWg+1D+yNShusw72j8z92x+Xejru6bkYdQa+VYL3wN4V8T/Bz4c+LPEdtb+AdF8LrrNkuqfurfxXq4nWJCocD7U8bbrhYVDF5LiCRQ21DW78GPjN4OtdX+OXxl8TXCeG7F/EMHh6QTRPLPbQWYFtCJ0jVmSSSaSV/LxlUeMkDdk6tRUmr6K/4S5NdtXLpbb1ss4tyimlq7f8Aky5rfKPW++nTX6zr588d/HPxb4O/as8CeA4v7EvfBXiBWhvJGsZ472xuGtrqW3UT+eY5PMNnNlfKUqAvJ3ZHt+reKtF0Hw7Nr+p6vY6boUMIuJdTvLhIbaOIgEO0jEKq8jknHNfHvi/xhZePvDvhn4p+BbgeOJx8VbW5Nn4euI7uXyFgawWHIbbFmEpOwcqFErE4zmoi0qsYvuk/+3mo/wDt115r5Onb2U5eTt6pOX6W+Z7R+1R8etU+C3gmJPCWm2uu+O9Uu7Sw0qwvS32ZJLi4SBJJ9hDbSz4CggsQcYCuy9L8NfiBf654hvvDOoeJfBPijV9Gtx/bE3hq+aG5trppGCxSaczTNAgQD53uCzMrfIo6fPWqeLPBvjP9qT4beBtR8Y+HNV8U6feXHijxCsGowv8A8TOCNray02EE7swtNcOIQN4ERdlDSMWydS+Ly6h8Ofjn8R/D2uix1HWPFdp4Xl1yBc/8I/pUNylgZmf7qvGGu7rBOUFxG7AKwJVO/Lru7vyteMUr62tKTu+qs9rIclrba1vW/vPbfWKVvN2tfU9t/aS+MtjpfgDxVongv4gWemfEuzks7S1sdKnsru/t7u5niitkmtplk2o7zR53IDtOQy8GtPwPqvijUv2iPGOmv4o1DUvCegaLYW89jcQWYg/tSYb2KNHAsqlYUjdleRlJuxgKAorx9dY+Hup/GD4KeAfCNnYv8P8Awra3/i611a3fz4LyaGFoVeKQbjON91LLJcZIaVeXLlgeRTxTD40/Zci8Uy6o1r4X+JHjhLzxlrlvOEjs9HuJChheZCfLVIIrS0lfgJukDMu1itRstVrrv01fIr9ted9fhTWpN1K/b8dFzu3d2UV58zWh9leGPil4M8balquneHfF2g6/qGkts1G10vUobmWzbcy4mRGJjOVYfMBypHauH0b9pP4ffEiy+IsPhnxtYT2nhOzL6hrWj3lvcNbZhaRpogwdGWNQCJGVoy4dcEowrz3TPEGjeI/jBpPjfwba2yfCT4beENRtE1vSUQWF/JKYD9lsig2ywwR2h3NHlA+EHzIwHEW13N4q/Y68J+G/D1xpt34l+LWssl1O+65tBJeyy3+ohmVv3qxW6zxnY+Mx7QykcS4uUXFb2t5puTjFtdna/wB2ttS4yUWm+jv8oq8l5tXS276X0Pev2e/iFLffDvwbpfjXxbbX3xH1LRl12503UJrSHUhbysXVmt4VjG2MMsZdYwpKHPJNdb8OfiRp3xMj1q+0XVvDWu6Fa3n2W11Dw5ri6kJMIrOJwkarDIC3+rDyfKVbIzgfP9vqfhnw7+074geW9X7D8L/CUup6g7MpuLm/vEDz3U4UDBS1tokUkBQJdiYCBR55pPjLw5cfCP4O2XjHxLaaL4M+Imraj4k8Ya1e3At7C9mdDdjSpLp8RmN2lSIjdiSOzkiyfmFaNqbco7P8LyaXytF/hpd2WdnFKMt/ztG7t82vTvpd/Xel/Hj4aa3azXOnfETwpf28KXEks1rrdtIkawKrzsxVyAI1dGcn7odScZFXbP4veBNQ07QtQtfGvh25sNeuDaaRdQ6rA8WozBipit2D4lcEEbUycgivl24+MGkSfF74x+O9I0pY7n4d+ELbw/oOnNF5c91LcYuFbyiAYYpHa0ij3Bd+2QgELxTvPh7beAdW/Zx+EWvalDe+JNQuotZ12+UHfdrpqCZLeIcsyteyxzMB1CTytgbiJh77gu9vubldpdfdXNbS17asqfuqVul/wSeu1tXZPrbSyPtuiiikAUUUUAFFFFABRRRQAUUUUAFFFFABRRRQAUUUUAFFFFABRRRQAUUUUAFFFFABRRRQAUUUUAFFFFABRRRQAUUUUAFFFFABRRRQAUUUUAFFFFABRRRQAUUUUAeVfsu/8kJ8M/8Ab1/6VS16rXlX7Lv/ACQnwz/29f8ApVLXqtABXn/hvUdb8L2l9YSeDtYvf+Jnf3CXFrPY+XJHLdzSoRvuVYfK68FQQc16BRQByn/CZav/ANCJ4g/7/wCnf/JdH/CZav8A9CJ4g/7/AOnf/JddXRQByn/CZav/ANCJ4g/7/wCnf/JdH/CZav8A9CJ4g/7/AOnf/JddXRQByn/CZav/ANCJ4g/7/wCnf/JdH/CZav8A9CJ4g/7/AOnf/JddXRQByn/CZav/ANCJ4g/7/wCnf/JdH/CZav8A9CJ4g/7/AOnf/JddXRQByn/CZav/ANCJ4g/7/wCnf/JdH/CZav8A9CJ4g/7/AOnf/JddXRQByn/CZav/ANCJ4g/7/wCnf/JdH/CZav8A9CJ4g/7/AOnf/JddXRQByn/CZav/ANCJ4g/7/wCnf/JdH/CZav8A9CJ4g/7/AOnf/JddXRQByn/CZav/ANCJ4g/7/wCnf/JdH/CZav8A9CJ4g/7/AOnf/JddXRQByn/CZav/ANCJ4g/7/wCnf/JdH/CZav8A9CJ4g/7/AOnf/JddXRQByn/CZav/ANCJ4g/7/wCnf/JdH/CZav8A9CJ4g/7/AOnf/JddXRQByn/CZav/ANCJ4g/7/wCnf/JdH/CZav8A9CJ4g/7/AOnf/JddXRQByn/CZav/ANCJ4g/7/wCnf/JdH/CZav8A9CJ4g/7/AOnf/JddXRQByn/CZav/ANCJ4g/7/wCnf/JdH/CZav8A9CJ4g/7/AOnf/JddXRQByn/CZav/ANCJ4g/7/wCnf/JdH/CZav8A9CJ4g/7/AOnf/JddXRQByn/CZav/ANCJ4g/7/wCnf/JdH/CZav8A9CJ4g/7/AOnf/JddXRQByn/CZav/ANCJ4g/7/wCnf/JdH/CZav8A9CJ4g/7/AOnf/JddXRQByn/CZav/ANCJ4g/7/wCnf/JdH/CZav8A9CJ4g/7/AOnf/JddXRQByn/CZav/ANCJ4g/7/wCnf/JdH/CZav8A9CJ4g/7/AOnf/JddXRQByn/CZav/ANCJ4g/7/wCnf/JdUta13Vdb02axk8GeJ7eGYbJWt7nTkdkPDLu+1ErkZGVwwzwQea7iilvoxptao5C18UalZW0VvB4A16GCFBHHGk2nBVUDAAH2vgAVJ/wmWr/9CJ4g/wC/+nf/ACXXV0VW+rJWmiOU/wCEy1f/AKETxB/3/wBO/wDkuj/hMtX/AOhE8Qf9/wDTv/kuuropDOU/4TLV/wDoRPEH/f8A07/5Lo/4TLV/+hE8Qf8Af/Tv/kuurooA5T/hMtX/AOhE8Qf9/wDTv/kuj/hMtX/6ETxB/wB/9O/+S66uigDlP+Ey1f8A6ETxB/3/ANO/+S6P+Ey1f/oRPEH/AH/07/5Lrq6KAOU/4TLV/wDoRPEH/f8A07/5Lo/4TLV/+hE8Qf8Af/Tv/kuurooA5T/hMtX/AOhE8Qf9/wDTv/kuj/hMtX/6ETxB/wB/9O/+S66uigDlP+Ey1f8A6ETxB/3/ANO/+S6P+Ey1f/oRPEH/AH/07/5Lrq6KAOU/4TLV/wDoRPEH/f8A07/5Lo/4TLV/+hE8Qf8Af/Tv/kuurooA5T/hMtX/AOhE8Qf9/wDTv/kuj/hMtX/6ETxB/wB/9O/+S66uigDlP+Ey1f8A6ETxB/3/ANO/+S6P+Ey1f/oRPEH/AH/07/5Lrq6KAOU/4TLV/wDoRPEH/f8A07/5Lo/4TLV/+hE8Qf8Af/Tv/kuurooA5T/hMtX/AOhE8Qf9/wDTv/kuj/hMtX/6ETxB/wB/9O/+S66uigDlP+Ey1f8A6ETxB/3/ANO/+S6P+Ey1f/oRPEH/AH/07/5Lrq6KAOU/4TLV/wDoRPEH/f8A07/5Lo/4TLV/+hE8Qf8Af/Tv/kuurooA5T/hMtX/AOhE8Qf9/wDTv/kuj/hMtX/6ETxB/wB/9O/+S66uigDlP+Ey1f8A6ETxB/3/ANO/+S6P+Ey1f/oRPEH/AH/07/5Lrq6KAOU/4TLV/wDoRPEH/f8A07/5Lo/4TLV/+hE8Qf8Af/Tv/kuurooA5T/hMtX/AOhE8Qf9/wDTv/kuj/hMtX/6ETxB/wB/9O/+S66uigDlP+Ey1f8A6ETxB/3/ANO/+S6P+Ey1f/oRPEH/AH/07/5Lrq6KAOU/4TLV/wDoRPEH/f8A07/5Lo/4TLV/+hE8Qf8Af/Tv/kuurooA5T/hMtX/AOhE8Qf9/wDTv/kuj/hMtX/6ETxB/wB/9O/+S66uigDlP+Ey1f8A6ETxB/3/ANO/+S6P+Ey1f/oRPEH/AH/07/5Lrq6KAOU/4TLV/wDoRPEH/f8A07/5Lo/4TLV/+hE8Qf8Af/Tv/kuurooA5T/hMtX/AOhE8Qf9/wDTv/kuj/hMtX/6ETxB/wB/9O/+S66uigDlP+Ey1f8A6ETxB/3/ANO/+S6P+Ey1f/oRPEH/AH/07/5Lrq6KAOU/4TLV/wDoRPEH/f8A07/5Lo/4TLV/+hE8Qf8Af/Tv/kuurooA5T/hMtX/AOhE8Qf9/wDTv/kuj/hMtX/6ETxB/wB/9O/+S66uigDlP+Ey1f8A6ETxB/3/ANO/+S6P+Ey1f/oRPEH/AH/07/5Lrq6KAPP/AIC+F9U8F/CfQtG1m1+x6lbef5sPmLJt3TyOvzKSDlWB4PevQKKKACiiigAooooAKKKKACiiigAooooAKKKKACiiigAooooAKKKKACiiigAooooAKKKKACiiigAooooAKKKKACiiigAooooAKKKKACiiigAooooAKKKKACiiigAooooAKKKKACiiigAooooAKKKKACiiigAooooAKKKKACiiigAooooAKKKKACiiigAooooAKKKKACiiigAooooAKKKKACiiigAooooAKKKKACiiigAooooAKKKKACiiigAooooAKKKKACiiigAooooA/9k=)"
      ],
      "metadata": {
        "id": "xuoegQMYEDbC"
      }
    },
    {
      "cell_type": "code",
      "source": [
        "import nltk\n",
        "from nltk import word_tokenize,pos_tag\n",
        "\n",
        "text = \"NASA awarded Elon Musk’s SpaceX a $2.9 billion contract to build the lunar lander.\"\n",
        "tokens = word_tokenize(text)\n",
        "tag=pos_tag(tokens)\n",
        "print(tag)\n",
        "\n",
        "ne_tree = nltk.ne_chunk(tag)\n",
        "print(ne_tree)"
      ],
      "metadata": {
        "colab": {
          "base_uri": "https://localhost:8080/"
        },
        "id": "8wBeIBqF8GyR",
        "outputId": "ffc3b417-4091-410e-b7ee-7c9d42c92438"
      },
      "execution_count": null,
      "outputs": [
        {
          "output_type": "stream",
          "name": "stdout",
          "text": [
            "[('NASA', 'NNP'), ('awarded', 'VBD'), ('Elon', 'NNP'), ('Musk', 'NNP'), ('’', 'NNP'), ('s', 'VBD'), ('SpaceX', 'NNP'), ('a', 'DT'), ('$', '$'), ('2.9', 'CD'), ('billion', 'CD'), ('contract', 'NN'), ('to', 'TO'), ('build', 'VB'), ('the', 'DT'), ('lunar', 'NN'), ('lander', 'NN'), ('.', '.')]\n",
            "(S\n",
            "  (ORGANIZATION NASA/NNP)\n",
            "  awarded/VBD\n",
            "  (PERSON Elon/NNP Musk/NNP)\n",
            "  ’/NNP\n",
            "  s/VBD\n",
            "  (ORGANIZATION SpaceX/NNP)\n",
            "  a/DT\n",
            "  $/$\n",
            "  2.9/CD\n",
            "  billion/CD\n",
            "  contract/NN\n",
            "  to/TO\n",
            "  build/VB\n",
            "  the/DT\n",
            "  lunar/NN\n",
            "  lander/NN\n",
            "  ./.)\n"
          ]
        }
      ]
    },
    {
      "cell_type": "code",
      "source": [
        "display(ne_tree)"
      ],
      "metadata": {
        "colab": {
          "base_uri": "https://localhost:8080/",
          "height": 190
        },
        "id": "0k8bAIht8I0n",
        "outputId": "fda19351-9913-4b33-a711-9da0e8a3281e"
      },
      "execution_count": null,
      "outputs": [
        {
          "output_type": "display_data",
          "data": {
            "text/plain": [
              "Tree('S', [Tree('ORGANIZATION', [('NASA', 'NNP')]), ('awarded', 'VBD'), Tree('PERSON', [('Elon', 'NNP'), ('Musk', 'NNP')]), ('’', 'NNP'), ('s', 'VBD'), Tree('ORGANIZATION', [('SpaceX', 'NNP')]), ('a', 'DT'), ('$', '$'), ('2.9', 'CD'), ('billion', 'CD'), ('contract', 'NN'), ('to', 'TO'), ('build', 'VB'), ('the', 'DT'), ('lunar', 'NN'), ('lander', 'NN'), ('.', '.')])"
            ],
            "image/svg+xml": "<svg baseProfile=\"full\" height=\"168px\" preserveAspectRatio=\"xMidYMid meet\" style=\"font-family: times, serif; font-weight:normal; font-style: normal; font-size: 16px;\" version=\"1.1\" viewBox=\"0,0,992.0,168.0\" width=\"992px\" xmlns=\"http://www.w3.org/2000/svg\" xmlns:ev=\"http://www.w3.org/2001/xml-events\" xmlns:xlink=\"http://www.w3.org/1999/xlink\"><defs /><svg width=\"100%\" x=\"0\" y=\"0em\"><defs /><text text-anchor=\"middle\" x=\"50%\" y=\"1em\">S</text></svg><svg width=\"11.2903%\" x=\"0%\" y=\"3em\"><defs /><svg width=\"100%\" x=\"0\" y=\"0em\"><defs /><text text-anchor=\"middle\" x=\"50%\" y=\"1em\">ORGANIZATION</text></svg><svg width=\"100%\" x=\"0%\" y=\"3em\"><defs /><svg width=\"100%\" x=\"0\" y=\"0em\"><defs /><text text-anchor=\"middle\" x=\"50%\" y=\"1em\">NASA</text></svg><svg width=\"100%\" x=\"0%\" y=\"3em\"><defs /><svg width=\"100%\" x=\"0\" y=\"0em\"><defs /><text text-anchor=\"middle\" x=\"50%\" y=\"1em\">NNP</text></svg></svg><line stroke=\"black\" x1=\"50%\" x2=\"50%\" y1=\"1.2em\" y2=\"3em\" /></svg><line stroke=\"black\" x1=\"50%\" x2=\"50%\" y1=\"1.2em\" y2=\"3em\" /></svg><line stroke=\"black\" x1=\"50%\" x2=\"5.64516%\" y1=\"1.2em\" y2=\"3em\" /><svg width=\"7.25806%\" x=\"11.2903%\" y=\"3em\"><defs /><svg width=\"100%\" x=\"0\" y=\"0em\"><defs /><text text-anchor=\"middle\" x=\"50%\" y=\"1em\">awarded</text></svg><svg width=\"100%\" x=\"0%\" y=\"3em\"><defs /><svg width=\"100%\" x=\"0\" y=\"0em\"><defs /><text text-anchor=\"middle\" x=\"50%\" y=\"1em\">VBD</text></svg></svg><line stroke=\"black\" x1=\"50%\" x2=\"50%\" y1=\"1.2em\" y2=\"3em\" /></svg><line stroke=\"black\" x1=\"50%\" x2=\"14.9194%\" y1=\"1.2em\" y2=\"3em\" /><svg width=\"9.67742%\" x=\"18.5484%\" y=\"3em\"><defs /><svg width=\"100%\" x=\"0\" y=\"0em\"><defs /><text text-anchor=\"middle\" x=\"50%\" y=\"1em\">PERSON</text></svg><svg width=\"50%\" x=\"0%\" y=\"3em\"><defs /><svg width=\"100%\" x=\"0\" y=\"0em\"><defs /><text text-anchor=\"middle\" x=\"50%\" y=\"1em\">Elon</text></svg><svg width=\"100%\" x=\"0%\" y=\"3em\"><defs /><svg width=\"100%\" x=\"0\" y=\"0em\"><defs /><text text-anchor=\"middle\" x=\"50%\" y=\"1em\">NNP</text></svg></svg><line stroke=\"black\" x1=\"50%\" x2=\"50%\" y1=\"1.2em\" y2=\"3em\" /></svg><line stroke=\"black\" x1=\"50%\" x2=\"25%\" y1=\"1.2em\" y2=\"3em\" /><svg width=\"50%\" x=\"50%\" y=\"3em\"><defs /><svg width=\"100%\" x=\"0\" y=\"0em\"><defs /><text text-anchor=\"middle\" x=\"50%\" y=\"1em\">Musk</text></svg><svg width=\"100%\" x=\"0%\" y=\"3em\"><defs /><svg width=\"100%\" x=\"0\" y=\"0em\"><defs /><text text-anchor=\"middle\" x=\"50%\" y=\"1em\">NNP</text></svg></svg><line stroke=\"black\" x1=\"50%\" x2=\"50%\" y1=\"1.2em\" y2=\"3em\" /></svg><line stroke=\"black\" x1=\"50%\" x2=\"75%\" y1=\"1.2em\" y2=\"3em\" /></svg><line stroke=\"black\" x1=\"50%\" x2=\"23.3871%\" y1=\"1.2em\" y2=\"3em\" /><svg width=\"4.03226%\" x=\"28.2258%\" y=\"3em\"><defs /><svg width=\"100%\" x=\"0\" y=\"0em\"><defs /><text text-anchor=\"middle\" x=\"50%\" y=\"1em\">’</text></svg><svg width=\"100%\" x=\"0%\" y=\"3em\"><defs /><svg width=\"100%\" x=\"0\" y=\"0em\"><defs /><text text-anchor=\"middle\" x=\"50%\" y=\"1em\">NNP</text></svg></svg><line stroke=\"black\" x1=\"50%\" x2=\"50%\" y1=\"1.2em\" y2=\"3em\" /></svg><line stroke=\"black\" x1=\"50%\" x2=\"30.2419%\" y1=\"1.2em\" y2=\"3em\" /><svg width=\"4.03226%\" x=\"32.2581%\" y=\"3em\"><defs /><svg width=\"100%\" x=\"0\" y=\"0em\"><defs /><text text-anchor=\"middle\" x=\"50%\" y=\"1em\">s</text></svg><svg width=\"100%\" x=\"0%\" y=\"3em\"><defs /><svg width=\"100%\" x=\"0\" y=\"0em\"><defs /><text text-anchor=\"middle\" x=\"50%\" y=\"1em\">VBD</text></svg></svg><line stroke=\"black\" x1=\"50%\" x2=\"50%\" y1=\"1.2em\" y2=\"3em\" /></svg><line stroke=\"black\" x1=\"50%\" x2=\"34.2742%\" y1=\"1.2em\" y2=\"3em\" /><svg width=\"11.2903%\" x=\"36.2903%\" y=\"3em\"><defs /><svg width=\"100%\" x=\"0\" y=\"0em\"><defs /><text text-anchor=\"middle\" x=\"50%\" y=\"1em\">ORGANIZATION</text></svg><svg width=\"100%\" x=\"0%\" y=\"3em\"><defs /><svg width=\"100%\" x=\"0\" y=\"0em\"><defs /><text text-anchor=\"middle\" x=\"50%\" y=\"1em\">SpaceX</text></svg><svg width=\"100%\" x=\"0%\" y=\"3em\"><defs /><svg width=\"100%\" x=\"0\" y=\"0em\"><defs /><text text-anchor=\"middle\" x=\"50%\" y=\"1em\">NNP</text></svg></svg><line stroke=\"black\" x1=\"50%\" x2=\"50%\" y1=\"1.2em\" y2=\"3em\" /></svg><line stroke=\"black\" x1=\"50%\" x2=\"50%\" y1=\"1.2em\" y2=\"3em\" /></svg><line stroke=\"black\" x1=\"50%\" x2=\"41.9355%\" y1=\"1.2em\" y2=\"3em\" /><svg width=\"3.22581%\" x=\"47.5806%\" y=\"3em\"><defs /><svg width=\"100%\" x=\"0\" y=\"0em\"><defs /><text text-anchor=\"middle\" x=\"50%\" y=\"1em\">a</text></svg><svg width=\"100%\" x=\"0%\" y=\"3em\"><defs /><svg width=\"100%\" x=\"0\" y=\"0em\"><defs /><text text-anchor=\"middle\" x=\"50%\" y=\"1em\">DT</text></svg></svg><line stroke=\"black\" x1=\"50%\" x2=\"50%\" y1=\"1.2em\" y2=\"3em\" /></svg><line stroke=\"black\" x1=\"50%\" x2=\"49.1935%\" y1=\"1.2em\" y2=\"3em\" /><svg width=\"2.41935%\" x=\"50.8065%\" y=\"3em\"><defs /><svg width=\"100%\" x=\"0\" y=\"0em\"><defs /><text text-anchor=\"middle\" x=\"50%\" y=\"1em\">$</text></svg><svg width=\"100%\" x=\"0%\" y=\"3em\"><defs /><svg width=\"100%\" x=\"0\" y=\"0em\"><defs /><text text-anchor=\"middle\" x=\"50%\" y=\"1em\">$</text></svg></svg><line stroke=\"black\" x1=\"50%\" x2=\"50%\" y1=\"1.2em\" y2=\"3em\" /></svg><line stroke=\"black\" x1=\"50%\" x2=\"52.0161%\" y1=\"1.2em\" y2=\"3em\" /><svg width=\"4.03226%\" x=\"53.2258%\" y=\"3em\"><defs /><svg width=\"100%\" x=\"0\" y=\"0em\"><defs /><text text-anchor=\"middle\" x=\"50%\" y=\"1em\">2.9</text></svg><svg width=\"100%\" x=\"0%\" y=\"3em\"><defs /><svg width=\"100%\" x=\"0\" y=\"0em\"><defs /><text text-anchor=\"middle\" x=\"50%\" y=\"1em\">CD</text></svg></svg><line stroke=\"black\" x1=\"50%\" x2=\"50%\" y1=\"1.2em\" y2=\"3em\" /></svg><line stroke=\"black\" x1=\"50%\" x2=\"55.2419%\" y1=\"1.2em\" y2=\"3em\" /><svg width=\"7.25806%\" x=\"57.2581%\" y=\"3em\"><defs /><svg width=\"100%\" x=\"0\" y=\"0em\"><defs /><text text-anchor=\"middle\" x=\"50%\" y=\"1em\">billion</text></svg><svg width=\"100%\" x=\"0%\" y=\"3em\"><defs /><svg width=\"100%\" x=\"0\" y=\"0em\"><defs /><text text-anchor=\"middle\" x=\"50%\" y=\"1em\">CD</text></svg></svg><line stroke=\"black\" x1=\"50%\" x2=\"50%\" y1=\"1.2em\" y2=\"3em\" /></svg><line stroke=\"black\" x1=\"50%\" x2=\"60.8871%\" y1=\"1.2em\" y2=\"3em\" /><svg width=\"8.06452%\" x=\"64.5161%\" y=\"3em\"><defs /><svg width=\"100%\" x=\"0\" y=\"0em\"><defs /><text text-anchor=\"middle\" x=\"50%\" y=\"1em\">contract</text></svg><svg width=\"100%\" x=\"0%\" y=\"3em\"><defs /><svg width=\"100%\" x=\"0\" y=\"0em\"><defs /><text text-anchor=\"middle\" x=\"50%\" y=\"1em\">NN</text></svg></svg><line stroke=\"black\" x1=\"50%\" x2=\"50%\" y1=\"1.2em\" y2=\"3em\" /></svg><line stroke=\"black\" x1=\"50%\" x2=\"68.5484%\" y1=\"1.2em\" y2=\"3em\" /><svg width=\"3.22581%\" x=\"72.5806%\" y=\"3em\"><defs /><svg width=\"100%\" x=\"0\" y=\"0em\"><defs /><text text-anchor=\"middle\" x=\"50%\" y=\"1em\">to</text></svg><svg width=\"100%\" x=\"0%\" y=\"3em\"><defs /><svg width=\"100%\" x=\"0\" y=\"0em\"><defs /><text text-anchor=\"middle\" x=\"50%\" y=\"1em\">TO</text></svg></svg><line stroke=\"black\" x1=\"50%\" x2=\"50%\" y1=\"1.2em\" y2=\"3em\" /></svg><line stroke=\"black\" x1=\"50%\" x2=\"74.1935%\" y1=\"1.2em\" y2=\"3em\" /><svg width=\"5.64516%\" x=\"75.8065%\" y=\"3em\"><defs /><svg width=\"100%\" x=\"0\" y=\"0em\"><defs /><text text-anchor=\"middle\" x=\"50%\" y=\"1em\">build</text></svg><svg width=\"100%\" x=\"0%\" y=\"3em\"><defs /><svg width=\"100%\" x=\"0\" y=\"0em\"><defs /><text text-anchor=\"middle\" x=\"50%\" y=\"1em\">VB</text></svg></svg><line stroke=\"black\" x1=\"50%\" x2=\"50%\" y1=\"1.2em\" y2=\"3em\" /></svg><line stroke=\"black\" x1=\"50%\" x2=\"78.629%\" y1=\"1.2em\" y2=\"3em\" /><svg width=\"4.03226%\" x=\"81.4516%\" y=\"3em\"><defs /><svg width=\"100%\" x=\"0\" y=\"0em\"><defs /><text text-anchor=\"middle\" x=\"50%\" y=\"1em\">the</text></svg><svg width=\"100%\" x=\"0%\" y=\"3em\"><defs /><svg width=\"100%\" x=\"0\" y=\"0em\"><defs /><text text-anchor=\"middle\" x=\"50%\" y=\"1em\">DT</text></svg></svg><line stroke=\"black\" x1=\"50%\" x2=\"50%\" y1=\"1.2em\" y2=\"3em\" /></svg><line stroke=\"black\" x1=\"50%\" x2=\"83.4677%\" y1=\"1.2em\" y2=\"3em\" /><svg width=\"5.64516%\" x=\"85.4839%\" y=\"3em\"><defs /><svg width=\"100%\" x=\"0\" y=\"0em\"><defs /><text text-anchor=\"middle\" x=\"50%\" y=\"1em\">lunar</text></svg><svg width=\"100%\" x=\"0%\" y=\"3em\"><defs /><svg width=\"100%\" x=\"0\" y=\"0em\"><defs /><text text-anchor=\"middle\" x=\"50%\" y=\"1em\">NN</text></svg></svg><line stroke=\"black\" x1=\"50%\" x2=\"50%\" y1=\"1.2em\" y2=\"3em\" /></svg><line stroke=\"black\" x1=\"50%\" x2=\"88.3065%\" y1=\"1.2em\" y2=\"3em\" /><svg width=\"6.45161%\" x=\"91.129%\" y=\"3em\"><defs /><svg width=\"100%\" x=\"0\" y=\"0em\"><defs /><text text-anchor=\"middle\" x=\"50%\" y=\"1em\">lander</text></svg><svg width=\"100%\" x=\"0%\" y=\"3em\"><defs /><svg width=\"100%\" x=\"0\" y=\"0em\"><defs /><text text-anchor=\"middle\" x=\"50%\" y=\"1em\">NN</text></svg></svg><line stroke=\"black\" x1=\"50%\" x2=\"50%\" y1=\"1.2em\" y2=\"3em\" /></svg><line stroke=\"black\" x1=\"50%\" x2=\"94.3548%\" y1=\"1.2em\" y2=\"3em\" /><svg width=\"2.41935%\" x=\"97.5806%\" y=\"3em\"><defs /><svg width=\"100%\" x=\"0\" y=\"0em\"><defs /><text text-anchor=\"middle\" x=\"50%\" y=\"1em\">.</text></svg><svg width=\"100%\" x=\"0%\" y=\"3em\"><defs /><svg width=\"100%\" x=\"0\" y=\"0em\"><defs /><text text-anchor=\"middle\" x=\"50%\" y=\"1em\">.</text></svg></svg><line stroke=\"black\" x1=\"50%\" x2=\"50%\" y1=\"1.2em\" y2=\"3em\" /></svg><line stroke=\"black\" x1=\"50%\" x2=\"98.7903%\" y1=\"1.2em\" y2=\"3em\" /></svg>"
          },
          "metadata": {}
        }
      ]
    },
    {
      "cell_type": "markdown",
      "source": [
        "##Relation Extraction"
      ],
      "metadata": {
        "id": "KkITSjxRJFxi"
      }
    },
    {
      "cell_type": "code",
      "source": [
        "from nltk.corpus import ieer\n",
        " \t\n",
        "IN = re.compile(r'.*\\bin\\b(?!\\b.+ing)')\n",
        "for doc in nltk.corpus.ieer.parsed_docs('NYT_19980315'):\n",
        "     for rel in nltk.sem.extract_rels('ORG', 'LOC', doc,\n",
        "                                      corpus='ieer', pattern = IN):\n",
        "        print(nltk.sem.rtuple(rel))"
      ],
      "metadata": {
        "colab": {
          "base_uri": "https://localhost:8080/"
        },
        "id": "x4OtTAa5JFKP",
        "outputId": "129daaec-cbad-451a-cc71-21e9cddb3d5d"
      },
      "execution_count": null,
      "outputs": [
        {
          "output_type": "stream",
          "name": "stdout",
          "text": [
            "[ORG: 'WHYY'] 'in' [LOC: 'Philadelphia']\n",
            "[ORG: 'McGlashan &AMP; Sarrail'] 'firm in' [LOC: 'San Mateo']\n",
            "[ORG: 'Freedom Forum'] 'in' [LOC: 'Arlington']\n",
            "[ORG: 'Brookings Institution'] ', the research group in' [LOC: 'Washington']\n",
            "[ORG: 'Idealab'] ', a self-described business incubator based in' [LOC: 'Los Angeles']\n",
            "[ORG: 'Open Text'] ', based in' [LOC: 'Waterloo']\n",
            "[ORG: 'WGBH'] 'in' [LOC: 'Boston']\n",
            "[ORG: 'Bastille Opera'] 'in' [LOC: 'Paris']\n",
            "[ORG: 'Omnicom'] 'in' [LOC: 'New York']\n",
            "[ORG: 'DDB Needham'] 'in' [LOC: 'New York']\n",
            "[ORG: 'Kaplan Thaler Group'] 'in' [LOC: 'New York']\n",
            "[ORG: 'BBDO South'] 'in' [LOC: 'Atlanta']\n",
            "[ORG: 'Georgia-Pacific'] 'in' [LOC: 'Atlanta']\n"
          ]
        }
      ]
    },
    {
      "cell_type": "markdown",
      "metadata": {
        "id": "PYVnQPsF5Dxn"
      },
      "source": [
        "### Wordnet\n",
        "\n",
        "Wordnet is a large lexical database of English, which was created by Princeton. It is a part of the NLTK corpus. Nouns, verbs, adjectives and adverbs all are grouped into set of synsets, i.e. cognitive synonyms.\n",
        "The main concept of the relationship between the words in the WordNETs network is that the words are synonyms like sad and unhappy, benefit and profit. These words show the same concept of using them in similar contexts by interchanging them. These types of words are grouped into synsets which are unordered sets. Where synsets are linked together if they are having even small conceptual relations. Every synset in the network has its own brief definition and many of them are illustrated with the example of how to use them in a sentence.\n",
        "![wordnet.jpg](data:image/jpeg;base64,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)"
      ]
    },
    {
      "cell_type": "code",
      "metadata": {
        "id": "nggnZx_vdflK"
      },
      "source": [
        "from nltk.corpus import wordnet"
      ],
      "execution_count": null,
      "outputs": []
    },
    {
      "cell_type": "code",
      "metadata": {
        "colab": {
          "base_uri": "https://localhost:8080/"
        },
        "id": "q0SgaTVY5kxF",
        "outputId": "f08e2667-1280-4c08-871b-d623f764974b"
      },
      "source": [
        "for i in wordnet.synsets(\"plan\"):\n",
        "  print(i,\":\",i.definition(),\"\\n\",\"Example:\",i.examples())\n",
        "  print(\"---\"*30)"
      ],
      "execution_count": null,
      "outputs": [
        {
          "output_type": "stream",
          "name": "stdout",
          "text": [
            "Synset('plan.n.01') : a series of steps to be carried out or goals to be accomplished \n",
            " Example: ['they drew up a six-step plan', 'they discussed plans for a new bond issue']\n",
            "------------------------------------------------------------------------------------------\n",
            "Synset('design.n.02') : an arrangement scheme \n",
            " Example: ['the awkward design of the keyboard made operation difficult', 'it was an excellent design for living', 'a plan for seating guests']\n",
            "------------------------------------------------------------------------------------------\n",
            "Synset('plan.n.03') : scale drawing of a structure \n",
            " Example: ['the plans for City Hall were on file']\n",
            "------------------------------------------------------------------------------------------\n",
            "Synset('plan.v.01') : have the will and intention to carry out some action \n",
            " Example: ['He plans to be in graduate school next year', 'The rebels had planned turmoil and confusion']\n",
            "------------------------------------------------------------------------------------------\n",
            "Synset('plan.v.02') : make plans for something \n",
            " Example: ['He is planning a trip with his family']\n",
            "------------------------------------------------------------------------------------------\n",
            "Synset('plan.v.03') : make or work out a plan for; devise \n",
            " Example: ['They contrived to murder their boss', 'design a new sales strategy', 'plan an attack']\n",
            "------------------------------------------------------------------------------------------\n",
            "Synset('design.v.04') : make a design of; plan out in systematic, often graphic form \n",
            " Example: ['design a better mousetrap', 'plan the new wing of the museum']\n",
            "------------------------------------------------------------------------------------------\n"
          ]
        }
      ]
    },
    {
      "cell_type": "code",
      "source": [
        "w3 = wordnet.synsets('dog')\n",
        "w3"
      ],
      "metadata": {
        "colab": {
          "base_uri": "https://localhost:8080/"
        },
        "id": "QRDJi76fOLH0",
        "outputId": "6bdb997e-bb74-4bea-c45c-3e38039d83c5"
      },
      "execution_count": null,
      "outputs": [
        {
          "output_type": "execute_result",
          "data": {
            "text/plain": [
              "[Synset('dog.n.01'),\n",
              " Synset('frump.n.01'),\n",
              " Synset('dog.n.03'),\n",
              " Synset('cad.n.01'),\n",
              " Synset('frank.n.02'),\n",
              " Synset('pawl.n.01'),\n",
              " Synset('andiron.n.01'),\n",
              " Synset('chase.v.01')]"
            ]
          },
          "metadata": {},
          "execution_count": 127
        }
      ]
    },
    {
      "cell_type": "code",
      "source": [
        "w3[0].definition()"
      ],
      "metadata": {
        "colab": {
          "base_uri": "https://localhost:8080/",
          "height": 53
        },
        "id": "ut_GLrbQOeyq",
        "outputId": "19bb611d-6f92-4ea5-9a49-768a2d03721f"
      },
      "execution_count": null,
      "outputs": [
        {
          "output_type": "execute_result",
          "data": {
            "text/plain": [
              "'a member of the genus Canis (probably descended from the common wolf) that has been domesticated by man since prehistoric times; occurs in many breeds'"
            ],
            "application/vnd.google.colaboratory.intrinsic+json": {
              "type": "string"
            }
          },
          "metadata": {},
          "execution_count": 128
        }
      ]
    },
    {
      "cell_type": "code",
      "source": [
        "wordnet.synsets('dog', pos=wordnet.VERB)"
      ],
      "metadata": {
        "colab": {
          "base_uri": "https://localhost:8080/"
        },
        "id": "2D_KdU3rOrM4",
        "outputId": "4d1129ca-d0c0-496e-ae57-0bf50a5ff4c6"
      },
      "execution_count": null,
      "outputs": [
        {
          "output_type": "execute_result",
          "data": {
            "text/plain": [
              "[Synset('chase.v.01')]"
            ]
          },
          "metadata": {},
          "execution_count": 129
        }
      ]
    },
    {
      "cell_type": "code",
      "source": [
        "wordnet.synsets('dog', pos=wordnet.VERB)[0].definition()"
      ],
      "metadata": {
        "colab": {
          "base_uri": "https://localhost:8080/",
          "height": 36
        },
        "id": "oYL4oETWOz3I",
        "outputId": "957ee145-bb6c-404d-f3d5-fb4974a122ea"
      },
      "execution_count": null,
      "outputs": [
        {
          "output_type": "execute_result",
          "data": {
            "text/plain": [
              "'go after with the intent to catch'"
            ],
            "application/vnd.google.colaboratory.intrinsic+json": {
              "type": "string"
            }
          },
          "metadata": {},
          "execution_count": 123
        }
      ]
    },
    {
      "cell_type": "markdown",
      "source": [
        "###Getting Text to Analyze\n",
        "\n",
        "NLTK provides several corpora covering everything from novels hosted to inaugural speeches by presidents of the United States.\n",
        "\n",
        "In order to analyze texts in NLTK, you first need to import them. This requires nltk.download(\"book\"), which is a pretty big download"
      ],
      "metadata": {
        "id": "B7Df2xkbLbMD"
      }
    },
    {
      "cell_type": "code",
      "source": [
        "nltk.download(\"book\")\n",
        "from nltk.book import *\n",
        "# *** Introductory Examples for the NLTK Book ***\n",
        "# Loading text1, ..., text9 and sent1, ..., sent9\n",
        "# Type the name of the text or sentence to view it.\n",
        "# Type: 'texts()' or 'sents()' to list the materials.\n",
        "# text1: Moby Dick by Herman Melville 1851\n",
        "# text2: Sense and Sensibility by Jane Austen 1811\n",
        "# text3: The Book of Genesis\n",
        "# text4: Inaugural Address Corpus\n",
        "# text5: Chat Corpus\n",
        "# text6: Monty Python and the Holy Grail\n",
        "# text7: Wall Street Journal\n",
        "# text8: Personals Corpus\n",
        "# text9: The Man Who Was Thursday by G . K . Chesterton 1908"
      ],
      "metadata": {
        "colab": {
          "base_uri": "https://localhost:8080/"
        },
        "id": "tKUokm2SLciN",
        "outputId": "ed4bb42d-3b00-4e40-e6f7-2cb903891cc3"
      },
      "execution_count": null,
      "outputs": [
        {
          "output_type": "stream",
          "name": "stderr",
          "text": [
            "[nltk_data] Downloading collection 'book'\n",
            "[nltk_data]    | \n",
            "[nltk_data]    | Downloading package abc to /root/nltk_data...\n",
            "[nltk_data]    |   Package abc is already up-to-date!\n",
            "[nltk_data]    | Downloading package brown to /root/nltk_data...\n",
            "[nltk_data]    |   Package brown is already up-to-date!\n",
            "[nltk_data]    | Downloading package chat80 to /root/nltk_data...\n",
            "[nltk_data]    |   Package chat80 is already up-to-date!\n",
            "[nltk_data]    | Downloading package cmudict to /root/nltk_data...\n",
            "[nltk_data]    |   Package cmudict is already up-to-date!\n",
            "[nltk_data]    | Downloading package conll2000 to /root/nltk_data...\n",
            "[nltk_data]    |   Package conll2000 is already up-to-date!\n",
            "[nltk_data]    | Downloading package conll2002 to /root/nltk_data...\n",
            "[nltk_data]    |   Package conll2002 is already up-to-date!\n",
            "[nltk_data]    | Downloading package dependency_treebank to\n",
            "[nltk_data]    |     /root/nltk_data...\n",
            "[nltk_data]    |   Package dependency_treebank is already up-to-date!\n",
            "[nltk_data]    | Downloading package genesis to /root/nltk_data...\n",
            "[nltk_data]    |   Package genesis is already up-to-date!\n",
            "[nltk_data]    | Downloading package gutenberg to /root/nltk_data...\n",
            "[nltk_data]    |   Package gutenberg is already up-to-date!\n",
            "[nltk_data]    | Downloading package ieer to /root/nltk_data...\n",
            "[nltk_data]    |   Package ieer is already up-to-date!\n",
            "[nltk_data]    | Downloading package inaugural to /root/nltk_data...\n",
            "[nltk_data]    |   Package inaugural is already up-to-date!\n",
            "[nltk_data]    | Downloading package movie_reviews to\n",
            "[nltk_data]    |     /root/nltk_data...\n",
            "[nltk_data]    |   Package movie_reviews is already up-to-date!\n",
            "[nltk_data]    | Downloading package nps_chat to /root/nltk_data...\n",
            "[nltk_data]    |   Package nps_chat is already up-to-date!\n",
            "[nltk_data]    | Downloading package names to /root/nltk_data...\n",
            "[nltk_data]    |   Package names is already up-to-date!\n",
            "[nltk_data]    | Downloading package ppattach to /root/nltk_data...\n",
            "[nltk_data]    |   Package ppattach is already up-to-date!\n",
            "[nltk_data]    | Downloading package reuters to /root/nltk_data...\n",
            "[nltk_data]    |   Package reuters is already up-to-date!\n",
            "[nltk_data]    | Downloading package senseval to /root/nltk_data...\n",
            "[nltk_data]    |   Package senseval is already up-to-date!\n",
            "[nltk_data]    | Downloading package state_union to /root/nltk_data...\n",
            "[nltk_data]    |   Package state_union is already up-to-date!\n",
            "[nltk_data]    | Downloading package stopwords to /root/nltk_data...\n",
            "[nltk_data]    |   Package stopwords is already up-to-date!\n",
            "[nltk_data]    | Downloading package swadesh to /root/nltk_data...\n",
            "[nltk_data]    |   Package swadesh is already up-to-date!\n",
            "[nltk_data]    | Downloading package timit to /root/nltk_data...\n",
            "[nltk_data]    |   Package timit is already up-to-date!\n",
            "[nltk_data]    | Downloading package treebank to /root/nltk_data...\n",
            "[nltk_data]    |   Package treebank is already up-to-date!\n",
            "[nltk_data]    | Downloading package toolbox to /root/nltk_data...\n",
            "[nltk_data]    |   Package toolbox is already up-to-date!\n",
            "[nltk_data]    | Downloading package udhr to /root/nltk_data...\n",
            "[nltk_data]    |   Package udhr is already up-to-date!\n",
            "[nltk_data]    | Downloading package udhr2 to /root/nltk_data...\n",
            "[nltk_data]    |   Package udhr2 is already up-to-date!\n",
            "[nltk_data]    | Downloading package unicode_samples to\n",
            "[nltk_data]    |     /root/nltk_data...\n",
            "[nltk_data]    |   Package unicode_samples is already up-to-date!\n",
            "[nltk_data]    | Downloading package webtext to /root/nltk_data...\n",
            "[nltk_data]    |   Package webtext is already up-to-date!\n",
            "[nltk_data]    | Downloading package wordnet to /root/nltk_data...\n",
            "[nltk_data]    |   Package wordnet is already up-to-date!\n",
            "[nltk_data]    | Downloading package wordnet_ic to /root/nltk_data...\n",
            "[nltk_data]    |   Package wordnet_ic is already up-to-date!\n",
            "[nltk_data]    | Downloading package words to /root/nltk_data...\n",
            "[nltk_data]    |   Package words is already up-to-date!\n",
            "[nltk_data]    | Downloading package maxent_treebank_pos_tagger to\n",
            "[nltk_data]    |     /root/nltk_data...\n",
            "[nltk_data]    |   Package maxent_treebank_pos_tagger is already up-\n",
            "[nltk_data]    |       to-date!\n",
            "[nltk_data]    | Downloading package maxent_ne_chunker to\n",
            "[nltk_data]    |     /root/nltk_data...\n",
            "[nltk_data]    |   Package maxent_ne_chunker is already up-to-date!\n",
            "[nltk_data]    | Downloading package universal_tagset to\n",
            "[nltk_data]    |     /root/nltk_data...\n",
            "[nltk_data]    |   Package universal_tagset is already up-to-date!\n",
            "[nltk_data]    | Downloading package punkt to /root/nltk_data...\n",
            "[nltk_data]    |   Package punkt is already up-to-date!\n",
            "[nltk_data]    | Downloading package book_grammars to\n",
            "[nltk_data]    |     /root/nltk_data...\n",
            "[nltk_data]    |   Package book_grammars is already up-to-date!\n",
            "[nltk_data]    | Downloading package city_database to\n",
            "[nltk_data]    |     /root/nltk_data...\n",
            "[nltk_data]    |   Package city_database is already up-to-date!\n",
            "[nltk_data]    | Downloading package tagsets to /root/nltk_data...\n",
            "[nltk_data]    |   Package tagsets is already up-to-date!\n",
            "[nltk_data]    | Downloading package panlex_swadesh to\n",
            "[nltk_data]    |     /root/nltk_data...\n",
            "[nltk_data]    |   Package panlex_swadesh is already up-to-date!\n",
            "[nltk_data]    | Downloading package averaged_perceptron_tagger to\n",
            "[nltk_data]    |     /root/nltk_data...\n",
            "[nltk_data]    |   Package averaged_perceptron_tagger is already up-\n",
            "[nltk_data]    |       to-date!\n",
            "[nltk_data]    | \n",
            "[nltk_data]  Done downloading collection book\n"
          ]
        }
      ]
    },
    {
      "cell_type": "code",
      "source": [
        "text8.concordance(\"man\")"
      ],
      "metadata": {
        "colab": {
          "base_uri": "https://localhost:8080/"
        },
        "id": "WVaoHYX-Lz33",
        "outputId": "e10ba5b7-27f7-40cc-a4fd-2205539ab66a"
      },
      "execution_count": null,
      "outputs": [
        {
          "output_type": "stream",
          "name": "stdout",
          "text": [
            "Displaying 14 of 14 matches:\n",
            " to hearing from you all . ABLE young man seeks , sexy older women . Phone for \n",
            "ble relationship . GENUINE ATTRACTIVE MAN 40 y . o ., no ties , secure , 5 ft .\n",
            "ship , and quality times . VIETNAMESE MAN Single , never married , financially \n",
            "ip . WELL DRESSED emotionally healthy man 37 like to meet full figured woman fo\n",
            " nth subs LIKE TO BE MISTRESS of YOUR MAN like to be treated well . Bold DTE no\n",
            "eeks lady in similar position MARRIED MAN 50 , attrac . fit , seeks lady 40 - 5\n",
            "eks nice girl 25 - 30 serious rship . Man 46 attractive fit , assertive , and k\n",
            " 40 - 50 sought by Aussie mid 40s b / man f / ship r / ship LOVE to meet widowe\n",
            "discreet times . Sth E Subs . MARRIED MAN 42yo 6ft , fit , seeks Lady for discr\n",
            "woman , seeks professional , employed man , with interests in theatre , dining \n",
            " tall and of large build seeks a good man . I am a nonsmoker , social drinker ,\n",
            "lead to relationship . SEEKING HONEST MAN I am 41 y . o ., 5 ft . 4 , med . bui\n",
            " quiet times . Seeks 35 - 45 , honest man with good SOH & similar interests , f\n",
            " genuine , caring , honest and normal man for fship , poss rship . S / S , S / \n"
          ]
        }
      ]
    },
    {
      "cell_type": "markdown",
      "source": [
        "When you use a concordance, you can see each time a word is used, along with its immediate context. This can give you a peek into how a word is being used at the sentence level and what words are used with it."
      ],
      "metadata": {
        "id": "m0DInYSvL9Cy"
      }
    },
    {
      "cell_type": "code",
      "source": [
        "text8.concordance(\"woman\")"
      ],
      "metadata": {
        "colab": {
          "base_uri": "https://localhost:8080/"
        },
        "id": "4Yn3t-TTL1M0",
        "outputId": "3723b0c8-8db7-4ebc-cf08-f9d0a433bf3f"
      },
      "execution_count": null,
      "outputs": [
        {
          "output_type": "stream",
          "name": "stdout",
          "text": [
            "Displaying 11 of 11 matches:\n",
            "at home . Seeking an honest , caring woman , slim or med . build , who enjoys t\n",
            "thy man 37 like to meet full figured woman for relationship . 48 slim , shy , S\n",
            "rry . MALE 58 years old . Is there a Woman who would like to spend 1 weekend a \n",
            " other interests . Seeking Christian Woman for fship , view to rship . SWM 45 D\n",
            "ALE 60 - burly beared seeks intimate woman for outings n / s s / d F / ston / P\n",
            "ington . SCORPIO 47 seeks passionate woman for discreet intimate encounters SEX\n",
            "le dad . 42 , East sub . 5 \" 9 seeks woman 30 + for f / ship relationship TALL \n",
            "personal trainer looking for married woman age open for fun MARRIED Dark guy 37\n",
            "rinker , seeking slim - medium build woman who is happy in life , age open . AC\n",
            ". O . TERTIARY Educated professional woman , seeks professional , employed man \n",
            " real romantic , age 50 - 65 y . o . WOMAN OF SUBSTANCE 56 , 59 kg ., 50 , fit \n"
          ]
        }
      ]
    },
    {
      "cell_type": "markdown",
      "metadata": {
        "id": "1bZ5gtHm74dz"
      },
      "source": [
        "### Similarity"
      ]
    },
    {
      "cell_type": "code",
      "metadata": {
        "id": "iCsLt5Rg5whJ"
      },
      "source": [
        "w1 = wordnet.synset(\"ship.n.01\")\n",
        "w2 = wordnet.synset(\"boat.n.01\")"
      ],
      "execution_count": null,
      "outputs": []
    },
    {
      "cell_type": "code",
      "source": [
        "print(w1.definition())"
      ],
      "metadata": {
        "colab": {
          "base_uri": "https://localhost:8080/"
        },
        "id": "SeAgPrpkz4mU",
        "outputId": "d4e8f116-7a92-422c-b191-8eba35a07c54"
      },
      "execution_count": null,
      "outputs": [
        {
          "output_type": "stream",
          "name": "stdout",
          "text": [
            "a vessel that carries passengers or freight\n"
          ]
        }
      ]
    },
    {
      "cell_type": "code",
      "metadata": {
        "colab": {
          "base_uri": "https://localhost:8080/",
          "height": 36
        },
        "id": "tTDwsKTl8GJ6",
        "outputId": "8791aef6-ffbb-4624-a92e-9e1f1887295a"
      },
      "source": [
        "str(w1.wup_similarity(w2)*100)+\" % Similar\""
      ],
      "execution_count": null,
      "outputs": [
        {
          "output_type": "execute_result",
          "data": {
            "text/plain": [
              "'90.9090909090909 % Similar'"
            ],
            "application/vnd.google.colaboratory.intrinsic+json": {
              "type": "string"
            }
          },
          "metadata": {},
          "execution_count": 133
        }
      ]
    },
    {
      "cell_type": "code",
      "metadata": {
        "id": "uItZ3RRX8IsW"
      },
      "source": [
        "w1 = wordnet.synset(\"ship.n.01\")\n",
        "w2 = wordnet.synset(\"car.n.01\")"
      ],
      "execution_count": null,
      "outputs": []
    },
    {
      "cell_type": "code",
      "metadata": {
        "colab": {
          "base_uri": "https://localhost:8080/",
          "height": 36
        },
        "id": "epnVd21c8vt7",
        "outputId": "a0f41a8c-e762-40d8-ac9d-680ca90efb5f"
      },
      "source": [
        "str(w1.wup_similarity(w2)*100)+\" % Similar\""
      ],
      "execution_count": null,
      "outputs": [
        {
          "output_type": "execute_result",
          "data": {
            "text/plain": [
              "'69.56521739130434 % Similar'"
            ],
            "application/vnd.google.colaboratory.intrinsic+json": {
              "type": "string"
            }
          },
          "metadata": {},
          "execution_count": 135
        }
      ]
    },
    {
      "cell_type": "markdown",
      "metadata": {
        "id": "EhD2n6BcpB7q"
      },
      "source": [
        "### Finding Synonyms\n",
        "By using the lemma() method, we can find the number of synonyms of a Synset. Let us apply this method on ‘dog’ synset −"
      ]
    },
    {
      "cell_type": "code",
      "metadata": {
        "id": "cc7wxWhx8wS1",
        "colab": {
          "base_uri": "https://localhost:8080/"
        },
        "outputId": "a9f0583c-0d58-4597-80fb-bb42eb8bb257"
      },
      "source": [
        "from nltk.corpus import wordnet as wn\n",
        "syn = wn.synsets('dog')[0]\n",
        "lemmas = syn.lemmas()\n",
        "len(lemmas)"
      ],
      "execution_count": null,
      "outputs": [
        {
          "output_type": "execute_result",
          "data": {
            "text/plain": [
              "3"
            ]
          },
          "metadata": {},
          "execution_count": 136
        }
      ]
    },
    {
      "cell_type": "code",
      "metadata": {
        "colab": {
          "base_uri": "https://localhost:8080/"
        },
        "id": "4iaL49k2pItK",
        "outputId": "24dfa8df-f788-4de0-a13b-092c702fc3a2"
      },
      "source": [
        "for i in lemmas:\n",
        "  print(i.name())"
      ],
      "execution_count": null,
      "outputs": [
        {
          "output_type": "stream",
          "name": "stdout",
          "text": [
            "dog\n",
            "domestic_dog\n",
            "Canis_familiaris\n"
          ]
        }
      ]
    },
    {
      "cell_type": "markdown",
      "metadata": {
        "id": "JzVwYP0tpU4Y"
      },
      "source": [
        "### Finding Antonyms\n",
        "In WordNet, some lemmas also have antonyms. For example, the word ‘good ‘has a total of 27 synets, among them, 5 have lemmas with antonyms. Let us find the antonyms (when the word ‘good’ used as noun and when the word ‘good’ used as adjective)."
      ]
    },
    {
      "cell_type": "code",
      "metadata": {
        "colab": {
          "base_uri": "https://localhost:8080/",
          "height": 36
        },
        "id": "p09gLoROpQFe",
        "outputId": "5cfab453-b673-434e-9bdd-02259af425fc"
      },
      "source": [
        "from nltk.corpus import wordnet as wn\n",
        "syn1 = wn.synset('good.n.02')\n",
        "antonym1 = syn1.lemmas()[0].antonyms()[0]\n",
        "antonym1.name()"
      ],
      "execution_count": null,
      "outputs": [
        {
          "output_type": "execute_result",
          "data": {
            "text/plain": [
              "'evil'"
            ],
            "application/vnd.google.colaboratory.intrinsic+json": {
              "type": "string"
            }
          },
          "metadata": {},
          "execution_count": 138
        }
      ]
    },
    {
      "cell_type": "markdown",
      "metadata": {
        "id": "mSJkD3NdrCRe"
      },
      "source": [
        "<!-- ### Word replacement using regular expression -->\n"
      ]
    },
    {
      "cell_type": "code",
      "metadata": {
        "id": "mnMdB-tZpbP2"
      },
      "source": [
        "# #@title\n",
        "# import re\n",
        "# from nltk.corpus import wordnet\n",
        "# #@title\n",
        "# tweet = \"am ok, I can't do this\"\n",
        "# print(tweet)\n",
        "# #@title\n",
        "# regxDict = {\"can\\'t\": \"cannot\", \n",
        "#             \"won\\'t\": \"will not\",\n",
        "#             \"am\": \"I am\",\n",
        "#             }\n",
        "#             #@title\n",
        "# # for i in regxDict:\n",
        "# #   print(i, regxDict[i])\n",
        "  \n",
        "# #@title\n",
        "# def regx(tweet):\n",
        "\n",
        "#   for i in regxDict:\n",
        "#     exp = i\n",
        "\n",
        "#     tweet = re.sub(exp, regxDict[i], tweet)\n",
        "\n",
        "#   return tweet\n",
        "\n",
        "# #@title\n",
        "# regx(tweet)"
      ],
      "execution_count": null,
      "outputs": []
    },
    {
      "cell_type": "markdown",
      "source": [
        "### Sentiment analysis"
      ],
      "metadata": {
        "id": "yMEnBEcD0_tG"
      }
    },
    {
      "cell_type": "code",
      "source": [
        "import nltk\n",
        "nltk.downloader.download('vader_lexicon')\n",
        "from nltk.sentiment import SentimentIntensityAnalyzer\n",
        "sia = SentimentIntensityAnalyzer()\n",
        "# sia.polarity_scores(\"Wow, NLTK is really powerful!\")\n",
        "sia.polarity_scores(\"I am not happy\")"
      ],
      "metadata": {
        "colab": {
          "base_uri": "https://localhost:8080/"
        },
        "id": "bNEeNjVR1BSd",
        "outputId": "4fde45a0-872a-46bd-d595-f290d6275e3c"
      },
      "execution_count": null,
      "outputs": [
        {
          "output_type": "stream",
          "name": "stderr",
          "text": [
            "[nltk_data] Downloading package vader_lexicon to /root/nltk_data...\n",
            "[nltk_data]   Package vader_lexicon is already up-to-date!\n"
          ]
        },
        {
          "output_type": "execute_result",
          "data": {
            "text/plain": [
              "{'neg': 0.6, 'neu': 0.4, 'pos': 0.0, 'compound': -0.4585}"
            ]
          },
          "metadata": {},
          "execution_count": 136
        }
      ]
    },
    {
      "cell_type": "markdown",
      "source": [
        "### Stemming and lemmatization\n",
        "both stemming and lemmatization is the same: to reduce a word to its most native form\n",
        "but Stemming uses a simple mechanism that removes or modifies inflections to form the root word, but the root word may not be a valid word in the language while Lemmatization also removes or modifies the inflections to form the root word, but the root word is a valid word in the language."
      ],
      "metadata": {
        "id": "5u8KhVD639Vb"
      }
    },
    {
      "cell_type": "markdown",
      "source": [
        "####Stemming"
      ],
      "metadata": {
        "id": "pQoQRhOD4CIR"
      }
    },
    {
      "cell_type": "code",
      "source": [
        "import nltk\n",
        "stemmer = nltk.stem.PorterStemmer()\n",
        "word = \"building\"\n",
        "print(\"Stem of\", word, stemmer.stem(word))"
      ],
      "metadata": {
        "colab": {
          "base_uri": "https://localhost:8080/"
        },
        "id": "OWz8xuGJ3_P4",
        "outputId": "62d901fa-f1eb-4949-bba3-185ef39c6533"
      },
      "execution_count": null,
      "outputs": [
        {
          "output_type": "stream",
          "name": "stdout",
          "text": [
            "Stem of building build\n"
          ]
        }
      ]
    },
    {
      "cell_type": "markdown",
      "source": [
        "Lemmatization"
      ],
      "metadata": {
        "id": "d2loj7-D4OVt"
      }
    },
    {
      "cell_type": "code",
      "source": [
        "lemmatizer = nltk.stem.WordNetLemmatizer()\n",
        "word = \"building\"\n",
        "pos = 'n';\n",
        "print(\"Lemmatization of\", word, \"(\" , pos, \"):\", lemmatizer.lemmatize(word, pos))\n",
        "pos = 'v';\n",
        "print(\"Lemmatization of\", word, \"(\" , pos, \"):\", lemmatizer.lemmatize(word, pos))"
      ],
      "metadata": {
        "colab": {
          "base_uri": "https://localhost:8080/"
        },
        "id": "A84p2eTm4Mez",
        "outputId": "d0921735-08a6-47a3-cb8c-9ceb45587786"
      },
      "execution_count": null,
      "outputs": [
        {
          "output_type": "stream",
          "name": "stdout",
          "text": [
            "Lemmatization of building ( n ): building\n",
            "Lemmatization of building ( v ): build\n"
          ]
        }
      ]
    },
    {
      "cell_type": "markdown",
      "source": [
        "### Keyword extraction with nltk"
      ],
      "metadata": {
        "id": "eIjj6zuF-gff"
      }
    },
    {
      "cell_type": "code",
      "source": [
        "!pip install rake_nltk\n",
        "!pip install punkt "
      ],
      "metadata": {
        "colab": {
          "base_uri": "https://localhost:8080/"
        },
        "id": "U9WEL6LF-cJX",
        "outputId": "5252e0a6-9463-4f58-d256-50f13dbb0399"
      },
      "execution_count": null,
      "outputs": [
        {
          "output_type": "stream",
          "name": "stdout",
          "text": [
            "Looking in indexes: https://pypi.org/simple, https://us-python.pkg.dev/colab-wheels/public/simple/\n",
            "Requirement already satisfied: rake_nltk in /usr/local/lib/python3.7/dist-packages (1.0.6)\n",
            "Requirement already satisfied: nltk<4.0.0,>=3.6.2 in /usr/local/lib/python3.7/dist-packages (from rake_nltk) (3.7)\n",
            "Requirement already satisfied: click in /usr/local/lib/python3.7/dist-packages (from nltk<4.0.0,>=3.6.2->rake_nltk) (7.1.2)\n",
            "Requirement already satisfied: regex>=2021.8.3 in /usr/local/lib/python3.7/dist-packages (from nltk<4.0.0,>=3.6.2->rake_nltk) (2022.6.2)\n",
            "Requirement already satisfied: joblib in /usr/local/lib/python3.7/dist-packages (from nltk<4.0.0,>=3.6.2->rake_nltk) (1.2.0)\n",
            "Requirement already satisfied: tqdm in /usr/local/lib/python3.7/dist-packages (from nltk<4.0.0,>=3.6.2->rake_nltk) (4.64.1)\n",
            "Looking in indexes: https://pypi.org/simple, https://us-python.pkg.dev/colab-wheels/public/simple/\n",
            "\u001b[31mERROR: Could not find a version that satisfies the requirement punkt (from versions: none)\u001b[0m\n",
            "\u001b[31mERROR: No matching distribution found for punkt\u001b[0m\n"
          ]
        }
      ]
    },
    {
      "cell_type": "code",
      "source": [
        "import nltk\n",
        "nltk.download('stopwords')\n",
        "from rake_nltk import Rake\n",
        "rake_nltk_var = Rake()\n",
        "text = \"\"\"spaCy is an open-source software library for advanced natural language processing,\n",
        "written in the programming languages Python and Cython. The library is published under the MIT license\n",
        "and its main developers are Matthew Honnibal and Ines Montani, the founders of the software company Explosion.\"\"\"\n",
        "rake_nltk_var.extract_keywords_from_text(text)\n",
        "keyword_extracted = rake_nltk_var.get_ranked_phrases()\n",
        "print(keyword_extracted)"
      ],
      "metadata": {
        "colab": {
          "base_uri": "https://localhost:8080/"
        },
        "id": "_igRyEp5-aP0",
        "outputId": "036904d5-8ac8-4ad1-c8d1-291705968400"
      },
      "execution_count": null,
      "outputs": [
        {
          "output_type": "stream",
          "name": "stdout",
          "text": [
            "['advanced natural language processing', 'software company explosion', 'programming languages python', 'source software library', 'mit license', 'matthew honnibal', 'main developers', 'ines montani', 'library', 'written', 'spacy', 'published', 'open', 'founders', 'cython']\n"
          ]
        },
        {
          "output_type": "stream",
          "name": "stderr",
          "text": [
            "[nltk_data] Downloading package stopwords to /root/nltk_data...\n",
            "[nltk_data]   Package stopwords is already up-to-date!\n"
          ]
        }
      ]
    },
    {
      "cell_type": "markdown",
      "source": [
        "### Summarization using NLTK"
      ],
      "metadata": {
        "id": "FHGK5Cuv_lsj"
      }
    },
    {
      "cell_type": "code",
      "source": [
        "!pip install beautifulsoup4\n",
        "!pip install lxml"
      ],
      "metadata": {
        "colab": {
          "base_uri": "https://localhost:8080/"
        },
        "id": "6oIGDUSM_lPR",
        "outputId": "2e9e8d1d-7268-4aad-84de-f53d5d928d6e"
      },
      "execution_count": null,
      "outputs": [
        {
          "output_type": "stream",
          "name": "stdout",
          "text": [
            "Looking in indexes: https://pypi.org/simple, https://us-python.pkg.dev/colab-wheels/public/simple/\n",
            "Requirement already satisfied: beautifulsoup4 in /usr/local/lib/python3.7/dist-packages (4.6.3)\n",
            "Looking in indexes: https://pypi.org/simple, https://us-python.pkg.dev/colab-wheels/public/simple/\n",
            "Requirement already satisfied: lxml in /usr/local/lib/python3.7/dist-packages (4.9.1)\n"
          ]
        }
      ]
    },
    {
      "cell_type": "code",
      "source": [
        "import bs4 as bs\n",
        "import urllib.request\n",
        "import re\n",
        "\n",
        "scraped_data = urllib.request.urlopen('https://en.wikipedia.org/wiki/Artificial_intelligence')\n",
        "article = scraped_data.read()\n",
        "\n",
        "parsed_article = bs.BeautifulSoup(article,'lxml')\n",
        "\n",
        "paragraphs = parsed_article.find_all('p')\n",
        "\n",
        "article_text = \"\"\n",
        "\n",
        "for p in paragraphs:\n",
        "    article_text += p.text"
      ],
      "metadata": {
        "id": "LsRxi_dp_uVJ"
      },
      "execution_count": null,
      "outputs": []
    },
    {
      "cell_type": "code",
      "source": [
        "#preprocessing\n",
        "# Removing Square Brackets and Extra Spaces\n",
        "article_text = re.sub(r'\\[[0-9]*\\]', ' ', article_text)\n",
        "article_text = re.sub(r'\\s+', ' ', article_text)"
      ],
      "metadata": {
        "id": "YOuoRc-h_zKt"
      },
      "execution_count": null,
      "outputs": []
    },
    {
      "cell_type": "code",
      "source": [
        "# Removing special characters and digits\n",
        "formatted_article_text = re.sub('[^a-zA-Z]', ' ', article_text )\n",
        "formatted_article_text = re.sub(r'\\s+', ' ', formatted_article_text)"
      ],
      "metadata": {
        "id": "bgcrupdN_3h1"
      },
      "execution_count": null,
      "outputs": []
    },
    {
      "cell_type": "code",
      "source": [
        "#Converting Text To Sentences\n",
        "sentence_list = nltk.sent_tokenize(article_text)"
      ],
      "metadata": {
        "id": "ytHFn1Zv_7oG"
      },
      "execution_count": null,
      "outputs": []
    },
    {
      "cell_type": "markdown",
      "source": [
        "we loop through all the sentences and then corresponding words to first check if they are stop words. If not, we proceed to check whether the words exist in word_frequency dictionary i.e. word_frequencies, or not. If the word is encountered for the first time, it is added to the dictionary as a key and its value is set to 1. Otherwise, if the word previously exists in the dictionary, its value is simply updated by 1."
      ],
      "metadata": {
        "id": "unb9S47sAR_N"
      }
    },
    {
      "cell_type": "code",
      "source": [
        "\n",
        "stopwords = nltk.corpus.stopwords.words('english')\n",
        "\n",
        "word_frequencies = {}\n",
        "for word in nltk.word_tokenize(formatted_article_text):\n",
        "    if word not in stopwords:\n",
        "        if word not in word_frequencies.keys():\n",
        "            word_frequencies[word] = 1\n",
        "        else:\n",
        "            word_frequencies[word] += 1"
      ],
      "metadata": {
        "id": "uaQtPNPeAIHl"
      },
      "execution_count": null,
      "outputs": []
    },
    {
      "cell_type": "markdown",
      "source": [
        "we can simply divide the number of occurances of all the words by the frequency of the most occurring word, as shown below:"
      ],
      "metadata": {
        "id": "yZCk1i4RAVwg"
      }
    },
    {
      "cell_type": "code",
      "source": [
        "maximum_frequncy = max(word_frequencies.values())\n",
        "\n",
        "for word in word_frequencies.keys():\n",
        "    word_frequencies[word] = (word_frequencies[word]/maximum_frequncy)"
      ],
      "metadata": {
        "id": "HNwSEWYzAVDd"
      },
      "execution_count": null,
      "outputs": []
    },
    {
      "cell_type": "markdown",
      "source": [
        "calculate the scores for each sentence by adding weighted frequencies of the words that occur in that particular sentence\n",
        "1. each sentence in the sentence_list and tokenize the sentence into words.\n",
        "2. check if the word exists in the word_frequencies dictionary to check whether it is stop word or not\n",
        "3. calculate the score for only sentences with less than 30 words\n",
        "4. check whether the sentence exists in the sentence_scores dictionary or not. If the sentence doesn't exist, we add it to the sentence_scores dictionary as a key and assign it the weighted frequency of the first word in the sentence, as its value.\n",
        "5. if the sentence exists in the dictionary, we simply add the weighted frequency of the word to the existing value"
      ],
      "metadata": {
        "id": "1r2e90RyAfxa"
      }
    },
    {
      "cell_type": "code",
      "source": [
        "#sentence score\n",
        "sentence_scores = {}\n",
        "for sent in sentence_list:\n",
        "    for word in nltk.word_tokenize(sent.lower()):\n",
        "        if word in word_frequencies.keys():\n",
        "            if len(sent.split(' ')) < 30:\n",
        "                if sent not in sentence_scores.keys():\n",
        "                    sentence_scores[sent] = word_frequencies[word]\n",
        "                else:\n",
        "                    sentence_scores[sent] += word_frequencies[word]"
      ],
      "metadata": {
        "id": "Y5Y8keUKAYhJ"
      },
      "execution_count": null,
      "outputs": []
    },
    {
      "cell_type": "markdown",
      "source": [
        "since sentence_scores dictionary that contains sentences with their corresponding score to summarize the article, we can take top N sentences with the highest scores"
      ],
      "metadata": {
        "id": "1KEi6Mq4Bi9a"
      }
    },
    {
      "cell_type": "code",
      "source": [
        "import heapq\n",
        "summary_sentences = heapq.nlargest(7, sentence_scores, key=sentence_scores.get)\n",
        "\n",
        "summary = ' '.join(summary_sentences)\n",
        "print(summary)"
      ],
      "metadata": {
        "colab": {
          "base_uri": "https://localhost:8080/"
        },
        "id": "fX8PBEyIBcun",
        "outputId": "c587a7d3-c9b2-4f3f-a528-a3a2a97c136f"
      },
      "execution_count": null,
      "outputs": [
        {
          "output_type": "stream",
          "name": "stdout",
          "text": [
            " Artificial intelligence (AI) is intelligence demonstrated by machines, as opposed to the natural intelligence displayed by animals and humans. The artificial intelligence algorithms will also be used to further improve diagnosis over time, via an application of machine learning called precision medicine. A machine with general intelligence can solve a wide variety of problems with breadth and versatility similar to human intelligence. Deep learning has drastically improved the performance of programs in many important subfields of artificial intelligence, including computer vision, speech recognition, image classification and others. AI founder John McCarthy agreed, writing that \"Artificial intelligence is not, by definition, simulation of human intelligence\". A superintelligence, hyperintelligence, or superhuman intelligence, is a hypothetical agent that would possess intelligence far surpassing that of the brightest and most gifted human mind. The main agenda for these scientific diplomacy efforts is to bolster research on artificial intelligence and how it can be utilized in cybersecurity research, development, and overall consumer trust.\n"
          ]
        }
      ]
    }
  ]
}