{
  "nbformat": 4,
  "nbformat_minor": 0,
  "metadata": {
    "colab": {
      "provenance": [],
      "authorship_tag": "ABX9TyPe0VKgtc7Kx5GV96fLrQuu",
      "include_colab_link": true
    },
    "kernelspec": {
      "name": "python3",
      "display_name": "Python 3"
    },
    "language_info": {
      "name": "python"
    }
  },
  "cells": [
    {
      "cell_type": "markdown",
      "metadata": {
        "id": "view-in-github",
        "colab_type": "text"
      },
      "source": [
        "<a href=\"https://colab.research.google.com/github/mohankrishnas3/NLP-Libraries-Tutorial/blob/main/Spacy_Library.ipynb\" target=\"_parent\"><img src=\"https://colab.research.google.com/assets/colab-badge.svg\" alt=\"Open In Colab\"/></a>"
      ]
    },
    {
      "cell_type": "code",
      "execution_count": null,
      "metadata": {
        "colab": {
          "base_uri": "https://localhost:8080/"
        },
        "id": "HNOVR1AO3QQR",
        "outputId": "b3184094-5cb5-44a1-8522-37dda505d4b8"
      },
      "outputs": [
        {
          "output_type": "stream",
          "name": "stdout",
          "text": [
            "Looking in indexes: https://pypi.org/simple, https://us-python.pkg.dev/colab-wheels/public/simple/\n",
            "Requirement already satisfied: spacy in /usr/local/lib/python3.7/dist-packages (3.4.2)\n",
            "Requirement already satisfied: pathy>=0.3.5 in /usr/local/lib/python3.7/dist-packages (from spacy) (0.6.2)\n",
            "Requirement already satisfied: wasabi<1.1.0,>=0.9.1 in /usr/local/lib/python3.7/dist-packages (from spacy) (0.10.1)\n",
            "Requirement already satisfied: cymem<2.1.0,>=2.0.2 in /usr/local/lib/python3.7/dist-packages (from spacy) (2.0.7)\n",
            "Requirement already satisfied: requests<3.0.0,>=2.13.0 in /usr/local/lib/python3.7/dist-packages (from spacy) (2.23.0)\n",
            "Requirement already satisfied: typer<0.5.0,>=0.3.0 in /usr/local/lib/python3.7/dist-packages (from spacy) (0.4.2)\n",
            "Requirement already satisfied: typing-extensions<4.2.0,>=3.7.4 in /usr/local/lib/python3.7/dist-packages (from spacy) (4.1.1)\n",
            "Requirement already satisfied: pydantic!=1.8,!=1.8.1,<1.11.0,>=1.7.4 in /usr/local/lib/python3.7/dist-packages (from spacy) (1.10.2)\n",
            "Requirement already satisfied: jinja2 in /usr/local/lib/python3.7/dist-packages (from spacy) (2.11.3)\n",
            "Requirement already satisfied: spacy-legacy<3.1.0,>=3.0.10 in /usr/local/lib/python3.7/dist-packages (from spacy) (3.0.10)\n",
            "Requirement already satisfied: murmurhash<1.1.0,>=0.28.0 in /usr/local/lib/python3.7/dist-packages (from spacy) (1.0.9)\n",
            "Requirement already satisfied: thinc<8.2.0,>=8.1.0 in /usr/local/lib/python3.7/dist-packages (from spacy) (8.1.5)\n",
            "Requirement already satisfied: srsly<3.0.0,>=2.4.3 in /usr/local/lib/python3.7/dist-packages (from spacy) (2.4.5)\n",
            "Requirement already satisfied: setuptools in /usr/local/lib/python3.7/dist-packages (from spacy) (57.4.0)\n",
            "Requirement already satisfied: tqdm<5.0.0,>=4.38.0 in /usr/local/lib/python3.7/dist-packages (from spacy) (4.64.1)\n",
            "Requirement already satisfied: langcodes<4.0.0,>=3.2.0 in /usr/local/lib/python3.7/dist-packages (from spacy) (3.3.0)\n",
            "Requirement already satisfied: numpy>=1.15.0 in /usr/local/lib/python3.7/dist-packages (from spacy) (1.21.6)\n",
            "Requirement already satisfied: packaging>=20.0 in /usr/local/lib/python3.7/dist-packages (from spacy) (21.3)\n",
            "Requirement already satisfied: preshed<3.1.0,>=3.0.2 in /usr/local/lib/python3.7/dist-packages (from spacy) (3.0.8)\n",
            "Requirement already satisfied: catalogue<2.1.0,>=2.0.6 in /usr/local/lib/python3.7/dist-packages (from spacy) (2.0.8)\n",
            "Requirement already satisfied: spacy-loggers<2.0.0,>=1.0.0 in /usr/local/lib/python3.7/dist-packages (from spacy) (1.0.3)\n",
            "Requirement already satisfied: zipp>=0.5 in /usr/local/lib/python3.7/dist-packages (from catalogue<2.1.0,>=2.0.6->spacy) (3.10.0)\n",
            "Requirement already satisfied: pyparsing!=3.0.5,>=2.0.2 in /usr/local/lib/python3.7/dist-packages (from packaging>=20.0->spacy) (3.0.9)\n",
            "Requirement already satisfied: smart-open<6.0.0,>=5.2.1 in /usr/local/lib/python3.7/dist-packages (from pathy>=0.3.5->spacy) (5.2.1)\n",
            "Requirement already satisfied: certifi>=2017.4.17 in /usr/local/lib/python3.7/dist-packages (from requests<3.0.0,>=2.13.0->spacy) (2022.9.24)\n",
            "Requirement already satisfied: idna<3,>=2.5 in /usr/local/lib/python3.7/dist-packages (from requests<3.0.0,>=2.13.0->spacy) (2.10)\n",
            "Requirement already satisfied: chardet<4,>=3.0.2 in /usr/local/lib/python3.7/dist-packages (from requests<3.0.0,>=2.13.0->spacy) (3.0.4)\n",
            "Requirement already satisfied: urllib3!=1.25.0,!=1.25.1,<1.26,>=1.21.1 in /usr/local/lib/python3.7/dist-packages (from requests<3.0.0,>=2.13.0->spacy) (1.24.3)\n",
            "Requirement already satisfied: confection<1.0.0,>=0.0.1 in /usr/local/lib/python3.7/dist-packages (from thinc<8.2.0,>=8.1.0->spacy) (0.0.3)\n",
            "Requirement already satisfied: blis<0.8.0,>=0.7.8 in /usr/local/lib/python3.7/dist-packages (from thinc<8.2.0,>=8.1.0->spacy) (0.7.9)\n",
            "Requirement already satisfied: click<9.0.0,>=7.1.1 in /usr/local/lib/python3.7/dist-packages (from typer<0.5.0,>=0.3.0->spacy) (7.1.2)\n",
            "Requirement already satisfied: MarkupSafe>=0.23 in /usr/local/lib/python3.7/dist-packages (from jinja2->spacy) (2.0.1)\n"
          ]
        }
      ],
      "source": [
        "!pip install -U spacy"
      ]
    },
    {
      "cell_type": "code",
      "source": [
        "import spacy"
      ],
      "metadata": {
        "id": "lkGrHHAo3fAr"
      },
      "execution_count": null,
      "outputs": []
    },
    {
      "cell_type": "code",
      "source": [
        "# Load small english model: https://spacy.io/models\n",
        "nlp=spacy.load(\"en_core_web_sm\")\n",
        "nlp"
      ],
      "metadata": {
        "colab": {
          "base_uri": "https://localhost:8080/"
        },
        "id": "_U2wM0Nt3w0f",
        "outputId": "f7e800fd-b2fb-4747-e6c4-3e6f1c749b1a"
      },
      "execution_count": null,
      "outputs": [
        {
          "output_type": "execute_result",
          "data": {
            "text/plain": [
              "<spacy.lang.en.English at 0x7f8361597850>"
            ]
          },
          "metadata": {},
          "execution_count": 25
        }
      ]
    },
    {
      "cell_type": "code",
      "source": [
        "# Parse text through the `nlp` model\n",
        "my_text = \"\"\"The economic situation of the country is on edge , as the stock \n",
        "market crashed causing loss of millions. Citizens who had their main investment \n",
        "in the share-market are facing a great loss. Many companies might lay off \n",
        "thousands of people to reduce labor cost\"\"\"\n",
        "\n",
        "my_doc = nlp(my_text)\n",
        "type(my_doc)"
      ],
      "metadata": {
        "colab": {
          "base_uri": "https://localhost:8080/"
        },
        "id": "MTvHGryg31WZ",
        "outputId": "7ffc1eb3-d4b5-4b4d-e333-9964640d3580"
      },
      "execution_count": null,
      "outputs": [
        {
          "output_type": "execute_result",
          "data": {
            "text/plain": [
              "spacy.tokens.doc.Doc"
            ]
          },
          "metadata": {},
          "execution_count": 26
        }
      ]
    },
    {
      "cell_type": "markdown",
      "source": [
        "### Sentence Detection"
      ],
      "metadata": {
        "id": "Z0WKDpl8qeEl"
      }
    },
    {
      "cell_type": "code",
      "source": [
        "about_text = ('Gus Proto is a Python developer currently'\n",
        "               ' working for a London-based Fintech'\n",
        "               ' company. He is interested in learning'\n",
        "               ' Natural Language Processing.')\n",
        "about_doc = nlp(about_text)\n",
        "sentences = list(about_doc.sents)\n",
        "len(sentences)\n",
        "\n",
        "for sentence in sentences:\n",
        "  print (sentence)"
      ],
      "metadata": {
        "colab": {
          "base_uri": "https://localhost:8080/"
        },
        "id": "J5MV5dZqqdlk",
        "outputId": "be54d0b6-1200-4ef5-ef6a-e8d7d69d657d"
      },
      "execution_count": null,
      "outputs": [
        {
          "output_type": "stream",
          "name": "stdout",
          "text": [
            "Gus Proto is a Python developer currently working for a London-based Fintech company.\n",
            "He is interested in learning Natural Language Processing.\n"
          ]
        }
      ]
    },
    {
      "cell_type": "markdown",
      "source": [
        "### Tokenization"
      ],
      "metadata": {
        "id": "q4wIHdR734jD"
      }
    },
    {
      "cell_type": "code",
      "source": [
        "# Printing the tokens of a doc\n",
        "for token in my_doc:\n",
        "  print(token.text)"
      ],
      "metadata": {
        "colab": {
          "base_uri": "https://localhost:8080/"
        },
        "id": "SUKoiiYN36wY",
        "outputId": "2ee5bc4f-4019-4ce1-84e1-776c5766a133"
      },
      "execution_count": null,
      "outputs": [
        {
          "output_type": "stream",
          "name": "stdout",
          "text": [
            "The\n",
            "economic\n",
            "situation\n",
            "of\n",
            "the\n",
            "country\n",
            "is\n",
            "on\n",
            "edge\n",
            ",\n",
            "as\n",
            "the\n",
            "stock\n",
            "\n",
            "\n",
            "market\n",
            "crashed\n",
            "causing\n",
            "loss\n",
            "of\n",
            "millions\n",
            ".\n",
            "Citizens\n",
            "who\n",
            "had\n",
            "their\n",
            "main\n",
            "investment\n",
            "\n",
            "\n",
            "in\n",
            "the\n",
            "share\n",
            "-\n",
            "market\n",
            "are\n",
            "facing\n",
            "a\n",
            "great\n",
            "loss\n",
            ".\n",
            "Many\n",
            "companies\n",
            "might\n",
            "lay\n",
            "off\n",
            "\n",
            "\n",
            "thousands\n",
            "of\n",
            "people\n",
            "to\n",
            "reduce\n",
            "labor\n",
            "cost\n"
          ]
        }
      ]
    },
    {
      "cell_type": "markdown",
      "source": [
        "### Text Preprocessing by removing ‘stop words’ and punctuation like commas, brackets, full stop, some extra white spaces."
      ],
      "metadata": {
        "id": "eviqSo2q4QNk"
      }
    },
    {
      "cell_type": "code",
      "source": [
        "# Printing tokens and boolean values stored in different attributes\n",
        "for token in my_doc:\n",
        "  print(token.text,'--',token.is_stop,'---',token.is_punct)"
      ],
      "metadata": {
        "colab": {
          "base_uri": "https://localhost:8080/"
        },
        "id": "DZ6FB51a4mPe",
        "outputId": "e285e599-4ce7-47de-ad57-56170de263ba"
      },
      "execution_count": null,
      "outputs": [
        {
          "output_type": "stream",
          "name": "stdout",
          "text": [
            "The -- True --- False\n",
            "economic -- False --- False\n",
            "situation -- False --- False\n",
            "of -- True --- False\n",
            "the -- True --- False\n",
            "country -- False --- False\n",
            "is -- True --- False\n",
            "on -- True --- False\n",
            "edge -- False --- False\n",
            ", -- False --- True\n",
            "as -- True --- False\n",
            "the -- True --- False\n",
            "stock -- False --- False\n",
            "\n",
            " -- False --- False\n",
            "market -- False --- False\n",
            "crashed -- False --- False\n",
            "causing -- False --- False\n",
            "loss -- False --- False\n",
            "of -- True --- False\n",
            "millions -- False --- False\n",
            ". -- False --- True\n",
            "Citizens -- False --- False\n",
            "who -- True --- False\n",
            "had -- True --- False\n",
            "their -- True --- False\n",
            "main -- False --- False\n",
            "investment -- False --- False\n",
            "\n",
            " -- False --- False\n",
            "in -- True --- False\n",
            "the -- True --- False\n",
            "share -- False --- False\n",
            "- -- False --- True\n",
            "market -- False --- False\n",
            "are -- True --- False\n",
            "facing -- False --- False\n",
            "a -- True --- False\n",
            "great -- False --- False\n",
            "loss -- False --- False\n",
            ". -- False --- True\n",
            "Many -- True --- False\n",
            "companies -- False --- False\n",
            "might -- True --- False\n",
            "lay -- False --- False\n",
            "off -- True --- False\n",
            "\n",
            " -- False --- False\n",
            "thousands -- False --- False\n",
            "of -- True --- False\n",
            "people -- False --- False\n",
            "to -- True --- False\n",
            "reduce -- False --- False\n",
            "labor -- False --- False\n",
            "cost -- False --- False\n"
          ]
        }
      ]
    },
    {
      "cell_type": "code",
      "source": [
        "# Removing StopWords and punctuations\n",
        "my_doc_cleaned = [token for token in my_doc if not token.is_stop and not token.is_punct]\n",
        "\n",
        "for token in my_doc_cleaned:\n",
        "  print(token.text)"
      ],
      "metadata": {
        "colab": {
          "base_uri": "https://localhost:8080/"
        },
        "id": "E7otpB7E4sfU",
        "outputId": "1425aab0-1825-4d88-efe0-b4dbca01de58"
      },
      "execution_count": null,
      "outputs": [
        {
          "output_type": "stream",
          "name": "stdout",
          "text": [
            "economic\n",
            "situation\n",
            "country\n",
            "edge\n",
            "stock\n",
            "\n",
            "\n",
            "market\n",
            "crashed\n",
            "causing\n",
            "loss\n",
            "millions\n",
            "Citizens\n",
            "main\n",
            "investment\n",
            "\n",
            "\n",
            "share\n",
            "market\n",
            "facing\n",
            "great\n",
            "loss\n",
            "companies\n",
            "lay\n",
            "\n",
            "\n",
            "thousands\n",
            "people\n",
            "reduce\n",
            "labor\n",
            "cost\n"
          ]
        }
      ]
    },
    {
      "cell_type": "code",
      "source": [
        "# Reading a huge text data on robotics into a spacy doc\n",
        "robotics_data= \"\"\"Robotics is an interdisciplinary research area at the interface of computer science and engineering. Robotics involvesdesign, construction, operation, and use of robots. The goal of robotics is to design intelligent machines that can help and assist humans in their day-to-day lives and keep everyone safe. Robotics draws on the achievement of information engineering, computer engineering, mechanical engineering, electronic engineering and others.Robotics develops machines that can substitute for humans and replicate human actions. Robots can be used in many situations and for lots of purposes, but today many are used in dangerous environments(including inspection of radioactive materials, bomb detection and deactivation), manufacturing processes, or where humans cannot survive (e.g. in space, underwater, in high heat, and clean up and containment of hazardousmaterials and radiation). Robots can take on any form but some are made to resemble humans in appearance. This is said to help in the acceptance of a robot in \n",
        "certain replicative behaviors usually performed by people. Such robots attempt to replicate walking, lifting, speech, cognition, or any other human activity. Many of todays robots are inspired by nature, contributing to the field of bio-inspired \n",
        "robotics.The concept of creating machines that can operate autonomously dates back to classical times, but research into the functionality and potential uses of robots did not grow substantially until the 20th century. Throughout history, it has been frequently assumed by various scholars, inventors, engineers, and technicians that robots will one day be able to mimic human behavior and manage tasks in a human-like fashion. Today, robotics is a rapidly growing field, as technological advances continue; researching, designing, and building new robots serve various practical purposes, whether domestically, commercially, or militarily. Many robots are built to do jobs that are hazardous to people, such as defusing bombs, finding survivors in unstable ruins, and exploring mines and shipwrecks. Robotics is also used in STEM (science, technology, engineering, and mathematics) as a teaching aid. The advent of nanorobots, microscopic robots that can be injected into the human body, could revolutionize medicine and human health.Robotics is a branch of engineering that involves the conception, design, manufacture, and operation of robots. This field overlaps with computer engineering, computer science (especially artificial intelligence), electronics, mechatronics, nanotechnology and bioengineering.The word robotics was derived from the word robot, which was introduced to the public by Czech writer Karel Capek in his play R.U.R. (Rossums Universal Robots), whichwas published in 1920. The word robot comes from the Slavic word robota, which means slave/servant. The play begins in a factory that makes artificial people called robots, creatures who can be mistaken for humans – very similar to the modern ideas of androids. Karel Capek himself did not coin the word. He wrote a short letter in reference to an etymology in the \n",
        "Oxford English Dictionary in which he named his brother Josef Capek as its actual \n",
        "originator.According to the Oxford English Dictionary, the word robotics was first \n",
        "used in print by Isaac Asimov, in his science fiction short story \"Liar!\", \n",
        "published in May 1941 in Astounding Science Fiction. Asimov was unaware that he \n",
        "was coining the term  since the science and technology of electrical devices is \n",
        "electronics, he assumed robotics already referred to the science and technology \n",
        "of robots. In some of Asimovs other works, he states that the first use of the \n",
        "word robotics was in his short story Runaround (Astounding Science Fiction, March \n",
        "1942) where he introduced his concept of The Three Laws of Robotics. However, \n",
        "the original publication of \"Liar!\" predates that of \"Runaround\" by ten months, \n",
        "so the former is generally cited as the words origin.There are many types of robots; \n",
        "they are used in many different environments and for many different uses. Although \n",
        "being very diverse in application and form, they all share three basic similarities \n",
        "when it comes to their construction:Robots all have some kind of mechanical construction, a frame, form or shape designed to achieve a particular task. For example, a robot designed to travel across heavy dirt or mud, might use caterpillar tracks. The mechanical aspect is mostly the creators solution to completing the assigned task and dealing with the physics of the environment around it. Form follows function.Robots have electrical components which power and control the machinery. For example, the robot with caterpillar tracks would need some kind of power to move the tracker treads. That power comes in the form of electricity, which will have to travel through a wire and originate from a battery, a basic electrical circuit. Even petrol powered machines that get their power mainly from petrol still require an electric current to start the combustion process which is why most petrol powered machines like cars, have batteries. The electrical aspect of robots is used for movement (through motors), sensing (where electrical signals are used to measure things like heat, sound, position, and energy status) and operation (robots need some level of electrical energy supplied to their motors and sensors in order to activate and perform basic operations) All robots contain some level of computer programming code. A program is how a robot decides when or how to do something. In the caterpillar track example, a robot that needs to move across a muddy road may have the correct mechanical construction and receive the correct amount of power from its battery, but would not go anywhere without a program telling it to move. Programs are the core essence of a robot, it could have excellent mechanical and electrical construction, but if its program is poorly constructed its performance will be very poor (or it may not perform at all). There are three different types of robotic programs: remote control, artificial intelligence and hybrid. A robot with remote control programing has a preexisting set of commands that it will only perform if and when it receives a signal from a control source, typically a human being with a remote control. It is perhaps more appropriate to view devices controlled primarily by human commands as falling in the discipline of automation rather than robotics. Robots that use artificial intelligence interact with their environment on their own without a control source, and can determine reactions to objects and problems they encounter using their preexisting programming. Hybrid is a form of programming that incorporates both AI and RC functions.As more and more robots are designed for specific tasks this method of classification becomes more relevant. For example, many robots are designed for assembly work, which may not be readily adaptable for other applications. They are termed as \"assembly robots\". For seam welding, some suppliers provide complete welding systems with the robot i.e. the welding equipment along with other material handling facilities like turntables, etc. as an integrated unit. Such an integrated robotic system is called a \"welding robot\" even though its discrete manipulator unit could be adapted to a variety of tasks. Some robots are specifically designed for heavy load manipulation, and are labeled as \"heavy-duty robots\".one or two wheels. These can have certain advantages such as greater efficiency and reduced parts, as well as allowing a robot to navigate in confined places that a four-wheeled robot would not be able to.Two-wheeled balancing robots Balancing robots generally use a gyroscope to detect how much a robot is falling and then drive the wheels proportionally in the same direction, to counterbalance the fall at hundreds of times per second, based on the dynamics of an inverted pendulum.[71] Many different balancing robots have been designed.[72] While the Segway is not commonly thought of as a robot, it can be thought of as a component of a robot, when used as such Segway refer to them as RMP (Robotic Mobility Platform). An example of this use has been as NASA Robonaut that has been mounted on a Segway.One-wheeled balancing robots Main article: Self-balancing unicycle A one-wheeled balancing robot is an extension of a two-wheeled balancing robot so that it can move in any 2D direction using a round ball as its only wheel. Several one-wheeled balancing robots have been designed recently, such as Carnegie Mellon Universitys \"Ballbot\" that is the approximate height and width of a person, and Tohoku Gakuin University BallIP Because of the long, thin shape and ability to maneuver in tight spaces, they have the potential to function better than other robots in environments with people\n",
        "\"\"\"\n",
        "\n",
        "# Pass the Text to Model\n",
        "robotics_doc = nlp(robotics_data)\n",
        "\n",
        "print('Before PreProcessing n_Tokens: ', len(robotics_doc))\n",
        "\n",
        "# Removing stopwords and punctuation from the doc.\n",
        "robotics_doc=[token for token in robotics_doc if not token.is_stop and not token.is_punct]\n",
        "\n",
        "print('After PreProcessing n_Tokens: ', len(robotics_doc))"
      ],
      "metadata": {
        "colab": {
          "base_uri": "https://localhost:8080/"
        },
        "id": "aykLVl315XJd",
        "outputId": "6dd1a3b8-e531-4460-beb2-8d805a034b3f"
      },
      "execution_count": null,
      "outputs": [
        {
          "output_type": "stream",
          "name": "stdout",
          "text": [
            "Before PreProcessing n_Tokens:  1626\n",
            "After PreProcessing n_Tokens:  744\n"
          ]
        }
      ]
    },
    {
      "cell_type": "markdown",
      "source": [
        "### Word Frequency"
      ],
      "metadata": {
        "id": "08QQHQEyq59P"
      }
    },
    {
      "cell_type": "code",
      "source": [
        "from collections import Counter\n",
        "complete_text = ('Gus Proto is a Python developer currently'\n",
        "     'working for a London-based Fintech company. He is'\n",
        "     ' interested in learning Natural Language Processing.'\n",
        "     ' There is a developer conference happening on 21 July'\n",
        "     ' 2019 in London. It is titled \"Applications of Natural'\n",
        "     ' Language Processing\". There is a helpline number '\n",
        "     ' available at +1-1234567891. Gus is helping organize it.'\n",
        "     ' He keeps organizing local Python meetups and several'\n",
        "     ' internal talks at his workplace. Gus is also presenting'\n",
        "     ' a talk. The talk will introduce the reader about \"Use'\n",
        "     ' cases of Natural Language Processing in Fintech\".'\n",
        "     ' Apart from his work, he is very passionate about music.'\n",
        "     ' Gus is learning to play the Piano. He has enrolled '\n",
        "     ' himself in the weekend batch of Great Piano Academy.'\n",
        "     ' Great Piano Academy is situated in Mayfair or the City'\n",
        "     ' of London and has world-class piano instructors.')\n",
        "\n",
        "complete_doc = nlp(complete_text)\n",
        "# Remove stop words and punctuation symbols\n",
        "words = [token.text for token in complete_doc\n",
        "          if not token.is_stop and not token.is_punct]\n",
        "word_freq = Counter(words)\n",
        " # 5 commonly occurring words with their frequencies\n",
        "common_words = word_freq.most_common(5)\n",
        "print (common_words)\n",
        "# [('Gus', 4), ('London', 3), ('Natural', 3), ('Language', 3), ('Processing', 3)]\n"
      ],
      "metadata": {
        "colab": {
          "base_uri": "https://localhost:8080/"
        },
        "id": "tIe3fLEQq5sO",
        "outputId": "b5710914-845a-4927-a5b8-708c9023ac55"
      },
      "execution_count": null,
      "outputs": [
        {
          "output_type": "stream",
          "name": "stdout",
          "text": [
            "[('Gus', 4), ('London', 3), ('Natural', 3), ('Language', 3), ('Processing', 3)]\n"
          ]
        }
      ]
    },
    {
      "cell_type": "code",
      "source": [
        "# Unique words\n",
        "unique_words = [word for (word, freq) in word_freq.items() if freq == 1]\n",
        "print (unique_words)"
      ],
      "metadata": {
        "colab": {
          "base_uri": "https://localhost:8080/"
        },
        "id": "9OFuZqRKrK0g",
        "outputId": "26f85727-7e65-45c6-96ed-6ec30ba595f5"
      },
      "execution_count": null,
      "outputs": [
        {
          "output_type": "stream",
          "name": "stdout",
          "text": [
            "['Proto', 'currentlyworking', 'based', 'company', 'interested', 'conference', 'happening', '21', 'July', '2019', 'titled', 'Applications', 'helpline', 'number', 'available', '+1', '1234567891', 'helping', 'organize', 'keeps', 'organizing', 'local', 'meetups', 'internal', 'talks', 'workplace', 'presenting', 'introduce', 'reader', 'Use', 'cases', 'Apart', 'work', 'passionate', 'music', 'play', 'enrolled', 'weekend', 'batch', 'situated', 'Mayfair', 'City', 'world', 'class', 'piano', 'instructors']\n"
          ]
        }
      ]
    },
    {
      "cell_type": "markdown",
      "source": [
        "###Lemmatization"
      ],
      "metadata": {
        "id": "vjyCxB2X47R1"
      }
    },
    {
      "cell_type": "code",
      "source": [
        "# Lemmatizing the tokens of a doc\n",
        "text='she played chess against rita she likes playing chess.'\n",
        "doc=nlp(text)\n",
        "for token in doc:\n",
        "  print(token.lemma_)"
      ],
      "metadata": {
        "colab": {
          "base_uri": "https://localhost:8080/"
        },
        "id": "eE9nu8x848v2",
        "outputId": "82436c5c-3187-4360-fc27-b8f6e051dea5"
      },
      "execution_count": null,
      "outputs": [
        {
          "output_type": "stream",
          "name": "stdout",
          "text": [
            "she\n",
            "play\n",
            "chess\n",
            "against\n",
            "rita\n",
            "she\n",
            "like\n",
            "play\n",
            "chess\n",
            ".\n"
          ]
        }
      ]
    },
    {
      "cell_type": "markdown",
      "source": [
        "Strings to Hashes"
      ],
      "metadata": {
        "id": "C5Eu7Zbo52Z1"
      }
    },
    {
      "cell_type": "code",
      "source": [
        "# Strings to Hashes and Back\n",
        "doc = nlp(\"I love traveling\")\n",
        "\n",
        "# Look up the hash for the word \"traveling\"\n",
        "word_hash = nlp.vocab.strings[\"traveling\"]\n",
        "print(word_hash)\n",
        "\n",
        "# Look up the word_hash to get the string\n",
        "word_string = nlp.vocab.strings[word_hash]\n",
        "print(word_string)"
      ],
      "metadata": {
        "colab": {
          "base_uri": "https://localhost:8080/"
        },
        "id": "TcDWxGaZ555i",
        "outputId": "add60c03-a27e-466a-a42d-6c14a40ab027"
      },
      "execution_count": null,
      "outputs": [
        {
          "output_type": "stream",
          "name": "stdout",
          "text": [
            "4386335507830398018\n",
            "traveling\n"
          ]
        }
      ]
    },
    {
      "cell_type": "code",
      "source": [
        "# Create two different doc with a common word\n",
        "doc1 = nlp('Raymond shirts are famous')\n",
        "doc2 = nlp('I washed my shirts ')\n",
        "\n",
        "# Printing the hash value for each token in the doc\n",
        "\n",
        "print('-------DOC 1-------')\n",
        "for token in doc1:\n",
        "  hash_value=nlp.vocab.strings[token.text]\n",
        "  print(token.text ,' ',hash_value)\n",
        "\n",
        "print('-------DOC 2-------')\n",
        "for token in doc2:\n",
        "  hash_value=nlp.vocab.strings[token.text]\n",
        "  print(token.text ,' ',hash_value)"
      ],
      "metadata": {
        "colab": {
          "base_uri": "https://localhost:8080/"
        },
        "id": "IW4ObBPs5-73",
        "outputId": "befe4668-368f-4bc4-f163-f3b1b8044d1f"
      },
      "execution_count": null,
      "outputs": [
        {
          "output_type": "stream",
          "name": "stdout",
          "text": [
            "-------DOC 1-------\n",
            "Raymond   5945540083247941101\n",
            "shirts   9181315343169869855\n",
            "are   5012629990875267006\n",
            "famous   17809293829314912000\n",
            "-------DOC 2-------\n",
            "I   4690420944186131903\n",
            "washed   5520327350569975027\n",
            "my   227504873216781231\n",
            "shirts   9181315343169869855\n"
          ]
        }
      ]
    },
    {
      "cell_type": "markdown",
      "source": [
        "### Lexical attributes in spacy\n",
        "is_punct and is_space attributes in Text Preprocessing. They are called as ‘lexical attributes’."
      ],
      "metadata": {
        "id": "rEPfQlGo69ng"
      }
    },
    {
      "cell_type": "code",
      "source": [
        "# Printing the tokens which are like numbers\n",
        "text=' 2020 is far worse than 2009'\n",
        "doc=nlp(text)\n",
        "for token in doc:\n",
        "  if token.like_num:\n",
        "    print(token)"
      ],
      "metadata": {
        "colab": {
          "base_uri": "https://localhost:8080/"
        },
        "id": "_Jvc-Yc17AfL",
        "outputId": "f4773803-6aa5-4c90-a13f-c4c8ff4f0361"
      },
      "execution_count": null,
      "outputs": [
        {
          "output_type": "stream",
          "name": "stdout",
          "text": [
            "2020\n",
            "2009\n"
          ]
        }
      ]
    },
    {
      "cell_type": "markdown",
      "source": [
        "Finding the tokens which are numbers followed by % "
      ],
      "metadata": {
        "id": "NgtgOEvp7Usy"
      }
    },
    {
      "cell_type": "code",
      "source": [
        "production_text=' Production in chennai is 87%. In Kolkata, produce it as low as 43 %. In Bangalore, production ia as good as 98 %.In mysore, production is average around 78 %'\n",
        "\n",
        "production_doc=nlp(production_text)\n",
        "\n",
        "for token in production_doc:\n",
        "  if token.like_num:\n",
        "    index_of_next_token=token.i+ 1\n",
        "    next_token=production_doc[index_of_next_token]\n",
        "    if next_token.text == '%':\n",
        "      print(token.text)"
      ],
      "metadata": {
        "colab": {
          "base_uri": "https://localhost:8080/"
        },
        "id": "wgXrKBXv7Vav",
        "outputId": "dadec748-aba8-4d58-875b-61398f991a03"
      },
      "execution_count": null,
      "outputs": [
        {
          "output_type": "stream",
          "name": "stdout",
          "text": [
            "87\n",
            "43\n",
            "98\n",
            "78\n"
          ]
        }
      ]
    },
    {
      "cell_type": "markdown",
      "source": [
        "### Detecting Email Addresses"
      ],
      "metadata": {
        "id": "NVj-Ex5t7aF4"
      }
    },
    {
      "cell_type": "code",
      "source": [
        "# text containing employee details\n",
        "employee_text=\"\"\" name : Koushiki age: 45 email : koushiki@gmail.com\n",
        "                 name : Gayathri age: 34 email: gayathri1999@gmail.com\n",
        "                 name : Ardra age: 60 email : ardra@gmail.com\n",
        "                 name : pratham parmar age: 15 email : parmar15@yahoo.com\n",
        "                 name : Shashank age: 54 email: shank@rediffmail.com\n",
        "                 name : Utkarsh age: 46 email :utkarsh@gmail.com\"\"\"\n",
        "\n",
        "# creating a spacy doc          \n",
        "employee_doc=nlp(employee_text)\n",
        "\n",
        "# Printing the tokens which are email through `like_email` attribute\n",
        "for token in employee_doc:\n",
        "  if token.like_email:\n",
        "    print(token.text)"
      ],
      "metadata": {
        "colab": {
          "base_uri": "https://localhost:8080/"
        },
        "id": "jJkJEeD_7dLq",
        "outputId": "c29f946b-815e-44a6-a821-6d0636d9b499"
      },
      "execution_count": null,
      "outputs": [
        {
          "output_type": "stream",
          "name": "stdout",
          "text": [
            "koushiki@gmail.com\n",
            "gayathri1999@gmail.com\n",
            "ardra@gmail.com\n",
            "parmar15@yahoo.com\n",
            "shank@rediffmail.com\n",
            "utkarsh@gmail.com\n"
          ]
        }
      ]
    },
    {
      "cell_type": "markdown",
      "source": [
        "You can also use below things:</br>\n",
        "token.is_alpha : Returns True if the token is an alphabet </br>\n",
        "token.is_digit : Returns True if the token is a number(0-9) </br>\n",
        "token.is_upper : Returns True if the token is upper case alphabet </br>\n",
        "token.is_lower : Returns True if the token is lower case alphabet </br>\n",
        "token.is_space : Returns True if the token is a space ‘ ‘ </br>\n",
        "token.is_bracket : Returns True if the token is a bracket </br>\n",
        "token.is_quote : Returns True if the token is a quotation mark </br>\n",
        "token.like_url : Returns True if the token is similar to a URl (link to website) </br>"
      ],
      "metadata": {
        "id": "Md54Nyo87n4w"
      }
    },
    {
      "cell_type": "markdown",
      "source": [
        "###Part of Speech analysis"
      ],
      "metadata": {
        "id": "aFMFYQGy769e"
      }
    },
    {
      "cell_type": "code",
      "source": [
        "# POS tagging using spaCy\n",
        "my_text='John plays basketball,if time permits. He played in high school too.'\n",
        "my_doc=nlp(my_text)\n",
        "for token in my_doc:\n",
        "  print(token.text,'---- ',token.pos_)"
      ],
      "metadata": {
        "colab": {
          "base_uri": "https://localhost:8080/"
        },
        "id": "H7NCE49-753w",
        "outputId": "db13ae41-e46f-4811-e355-231114c1afe3"
      },
      "execution_count": null,
      "outputs": [
        {
          "output_type": "stream",
          "name": "stdout",
          "text": [
            "John ----  PROPN\n",
            "plays ----  VERB\n",
            "basketball ----  NOUN\n",
            ", ----  PUNCT\n",
            "if ----  SCONJ\n",
            "time ----  NOUN\n",
            "permits ----  VERB\n",
            ". ----  PUNCT\n",
            "He ----  PRON\n",
            "played ----  VERB\n",
            "in ----  ADP\n",
            "high ----  ADJ\n",
            "school ----  NOUN\n",
            "too ----  ADV\n",
            ". ----  PUNCT\n"
          ]
        }
      ]
    },
    {
      "cell_type": "code",
      "source": [
        "spacy.explain('ADP')"
      ],
      "metadata": {
        "colab": {
          "base_uri": "https://localhost:8080/",
          "height": 36
        },
        "id": "PUwrghdv8CFh",
        "outputId": "13748885-a63a-46ff-b689-529d92ae0ebf"
      },
      "execution_count": null,
      "outputs": [
        {
          "output_type": "execute_result",
          "data": {
            "text/plain": [
              "'adposition'"
            ],
            "application/vnd.google.colaboratory.intrinsic+json": {
              "type": "string"
            }
          },
          "metadata": {},
          "execution_count": 95
        }
      ]
    },
    {
      "cell_type": "markdown",
      "source": [
        "### Using POS tagging to solve problems\n",
        "X means certain junk like “etc” which do not mean anything."
      ],
      "metadata": {
        "id": "eUZ2jWLF8YUN"
      }
    },
    {
      "cell_type": "code",
      "source": [
        "# Raw text document\n",
        "raw_text=\"\"\"I liked the movies etc The movie had good direction  The movie was amazing i.e.\n",
        "            The movie was average direction was not bad The cinematography was nice. i.e.\n",
        "            The movie was a bit lengthy  otherwise fantastic  etc etc\"\"\"\n",
        "\n",
        "# Creating a spacy object\n",
        "raw_doc=nlp(raw_text)\n",
        "\n",
        "# Checking if POS tag is X and printing them\n",
        "print('The junk values are..')\n",
        "for token in raw_doc:\n",
        "  if token.pos_=='X':\n",
        "    print(token.text)\n",
        "\n",
        "print('After removing junk')\n",
        "# Removing the tokens whose POS tag is junk.\n",
        "clean_doc=[token for token in raw_doc if not token.pos_=='X']\n",
        "print(clean_doc)"
      ],
      "metadata": {
        "colab": {
          "base_uri": "https://localhost:8080/"
        },
        "id": "lTzvQr8L8dYS",
        "outputId": "afcd8f6f-e4c1-46eb-d64a-0af06a1bd191"
      },
      "execution_count": null,
      "outputs": [
        {
          "output_type": "stream",
          "name": "stdout",
          "text": [
            "The junk values are..\n",
            "etc\n",
            "i.e.\n",
            "i.e.\n",
            "etc\n",
            "etc\n",
            "After removing junk\n",
            "[I, liked, the, movies, The, movie, had, good, direction,  , The, movie, was, amazing, \n",
            "            , The, movie, was, average, direction, was, not, bad, The, cinematography, was, nice, ., \n",
            "            , The, movie, was, a, bit, lengthy,  , otherwise, fantastic,  ]\n"
          ]
        }
      ]
    },
    {
      "cell_type": "markdown",
      "source": [
        "creating a dictionary with parts of speeach &amp; corresponding token numbers.\n"
      ],
      "metadata": {
        "id": "u1WVwuCs8xbh"
      }
    },
    {
      "cell_type": "code",
      "source": [
        "all_tags = {token.pos: token.pos_ for token in raw_doc}\n",
        "print(all_tags)"
      ],
      "metadata": {
        "colab": {
          "base_uri": "https://localhost:8080/"
        },
        "id": "wtT0-GYs8ndd",
        "outputId": "5a686474-3c98-466a-cb12-b78acf73a80f"
      },
      "execution_count": null,
      "outputs": [
        {
          "output_type": "stream",
          "name": "stdout",
          "text": [
            "{95: 'PRON', 100: 'VERB', 90: 'DET', 92: 'NOUN', 101: 'X', 84: 'ADJ', 103: 'SPACE', 87: 'AUX', 94: 'PART', 97: 'PUNCT', 86: 'ADV'}\n"
          ]
        }
      ]
    },
    {
      "cell_type": "markdown",
      "source": [
        "###Visualization of POS"
      ],
      "metadata": {
        "id": "U8ftxn7P83fO"
      }
    },
    {
      "cell_type": "code",
      "source": [
        "# Importing displacy\n",
        "from spacy import displacy\n",
        "my_text='She never like playing , reading was her hobby'\n",
        "my_doc=nlp(my_text)\n",
        "\n",
        "# displaying tokens with their POS tags\n",
        "displacy.render(my_doc,style='dep',jupyter=True)"
      ],
      "metadata": {
        "colab": {
          "base_uri": "https://localhost:8080/",
          "height": 354
        },
        "id": "92mqSvl48-eH",
        "outputId": "6222fb13-0970-4771-fd95-8baa40cc7500"
      },
      "execution_count": null,
      "outputs": [
        {
          "output_type": "display_data",
          "data": {
            "text/plain": [
              "<IPython.core.display.HTML object>"
            ],
            "text/html": [
              "<span class=\"tex2jax_ignore\"><svg xmlns=\"http://www.w3.org/2000/svg\" xmlns:xlink=\"http://www.w3.org/1999/xlink\" xml:lang=\"en\" id=\"581f82b89de24dba9193f4fa843648bc-0\" class=\"displacy\" width=\"1450\" height=\"312.0\" direction=\"ltr\" style=\"max-width: none; height: 312.0px; color: #000000; background: #ffffff; font-family: Arial; direction: ltr\">\n",
              "<text class=\"displacy-token\" fill=\"currentColor\" text-anchor=\"middle\" y=\"222.0\">\n",
              "    <tspan class=\"displacy-word\" fill=\"currentColor\" x=\"50\">She</tspan>\n",
              "    <tspan class=\"displacy-tag\" dy=\"2em\" fill=\"currentColor\" x=\"50\">PRON</tspan>\n",
              "</text>\n",
              "\n",
              "<text class=\"displacy-token\" fill=\"currentColor\" text-anchor=\"middle\" y=\"222.0\">\n",
              "    <tspan class=\"displacy-word\" fill=\"currentColor\" x=\"225\">never</tspan>\n",
              "    <tspan class=\"displacy-tag\" dy=\"2em\" fill=\"currentColor\" x=\"225\">ADV</tspan>\n",
              "</text>\n",
              "\n",
              "<text class=\"displacy-token\" fill=\"currentColor\" text-anchor=\"middle\" y=\"222.0\">\n",
              "    <tspan class=\"displacy-word\" fill=\"currentColor\" x=\"400\">like</tspan>\n",
              "    <tspan class=\"displacy-tag\" dy=\"2em\" fill=\"currentColor\" x=\"400\">VERB</tspan>\n",
              "</text>\n",
              "\n",
              "<text class=\"displacy-token\" fill=\"currentColor\" text-anchor=\"middle\" y=\"222.0\">\n",
              "    <tspan class=\"displacy-word\" fill=\"currentColor\" x=\"575\">playing ,</tspan>\n",
              "    <tspan class=\"displacy-tag\" dy=\"2em\" fill=\"currentColor\" x=\"575\">NOUN</tspan>\n",
              "</text>\n",
              "\n",
              "<text class=\"displacy-token\" fill=\"currentColor\" text-anchor=\"middle\" y=\"222.0\">\n",
              "    <tspan class=\"displacy-word\" fill=\"currentColor\" x=\"750\">reading</tspan>\n",
              "    <tspan class=\"displacy-tag\" dy=\"2em\" fill=\"currentColor\" x=\"750\">NOUN</tspan>\n",
              "</text>\n",
              "\n",
              "<text class=\"displacy-token\" fill=\"currentColor\" text-anchor=\"middle\" y=\"222.0\">\n",
              "    <tspan class=\"displacy-word\" fill=\"currentColor\" x=\"925\">was</tspan>\n",
              "    <tspan class=\"displacy-tag\" dy=\"2em\" fill=\"currentColor\" x=\"925\">AUX</tspan>\n",
              "</text>\n",
              "\n",
              "<text class=\"displacy-token\" fill=\"currentColor\" text-anchor=\"middle\" y=\"222.0\">\n",
              "    <tspan class=\"displacy-word\" fill=\"currentColor\" x=\"1100\">her</tspan>\n",
              "    <tspan class=\"displacy-tag\" dy=\"2em\" fill=\"currentColor\" x=\"1100\">PRON</tspan>\n",
              "</text>\n",
              "\n",
              "<text class=\"displacy-token\" fill=\"currentColor\" text-anchor=\"middle\" y=\"222.0\">\n",
              "    <tspan class=\"displacy-word\" fill=\"currentColor\" x=\"1275\">hobby</tspan>\n",
              "    <tspan class=\"displacy-tag\" dy=\"2em\" fill=\"currentColor\" x=\"1275\">NOUN</tspan>\n",
              "</text>\n",
              "\n",
              "<g class=\"displacy-arrow\">\n",
              "    <path class=\"displacy-arc\" id=\"arrow-581f82b89de24dba9193f4fa843648bc-0-0\" stroke-width=\"2px\" d=\"M70,177.0 C70,2.0 400.0,2.0 400.0,177.0\" fill=\"none\" stroke=\"currentColor\"/>\n",
              "    <text dy=\"1.25em\" style=\"font-size: 0.8em; letter-spacing: 1px\">\n",
              "        <textPath xlink:href=\"#arrow-581f82b89de24dba9193f4fa843648bc-0-0\" class=\"displacy-label\" startOffset=\"50%\" side=\"left\" fill=\"currentColor\" text-anchor=\"middle\">nsubj</textPath>\n",
              "    </text>\n",
              "    <path class=\"displacy-arrowhead\" d=\"M70,179.0 L62,167.0 78,167.0\" fill=\"currentColor\"/>\n",
              "</g>\n",
              "\n",
              "<g class=\"displacy-arrow\">\n",
              "    <path class=\"displacy-arc\" id=\"arrow-581f82b89de24dba9193f4fa843648bc-0-1\" stroke-width=\"2px\" d=\"M245,177.0 C245,89.5 395.0,89.5 395.0,177.0\" fill=\"none\" stroke=\"currentColor\"/>\n",
              "    <text dy=\"1.25em\" style=\"font-size: 0.8em; letter-spacing: 1px\">\n",
              "        <textPath xlink:href=\"#arrow-581f82b89de24dba9193f4fa843648bc-0-1\" class=\"displacy-label\" startOffset=\"50%\" side=\"left\" fill=\"currentColor\" text-anchor=\"middle\">neg</textPath>\n",
              "    </text>\n",
              "    <path class=\"displacy-arrowhead\" d=\"M245,179.0 L237,167.0 253,167.0\" fill=\"currentColor\"/>\n",
              "</g>\n",
              "\n",
              "<g class=\"displacy-arrow\">\n",
              "    <path class=\"displacy-arc\" id=\"arrow-581f82b89de24dba9193f4fa843648bc-0-2\" stroke-width=\"2px\" d=\"M420,177.0 C420,89.5 570.0,89.5 570.0,177.0\" fill=\"none\" stroke=\"currentColor\"/>\n",
              "    <text dy=\"1.25em\" style=\"font-size: 0.8em; letter-spacing: 1px\">\n",
              "        <textPath xlink:href=\"#arrow-581f82b89de24dba9193f4fa843648bc-0-2\" class=\"displacy-label\" startOffset=\"50%\" side=\"left\" fill=\"currentColor\" text-anchor=\"middle\">xcomp</textPath>\n",
              "    </text>\n",
              "    <path class=\"displacy-arrowhead\" d=\"M570.0,179.0 L578.0,167.0 562.0,167.0\" fill=\"currentColor\"/>\n",
              "</g>\n",
              "\n",
              "<g class=\"displacy-arrow\">\n",
              "    <path class=\"displacy-arc\" id=\"arrow-581f82b89de24dba9193f4fa843648bc-0-3\" stroke-width=\"2px\" d=\"M770,177.0 C770,89.5 920.0,89.5 920.0,177.0\" fill=\"none\" stroke=\"currentColor\"/>\n",
              "    <text dy=\"1.25em\" style=\"font-size: 0.8em; letter-spacing: 1px\">\n",
              "        <textPath xlink:href=\"#arrow-581f82b89de24dba9193f4fa843648bc-0-3\" class=\"displacy-label\" startOffset=\"50%\" side=\"left\" fill=\"currentColor\" text-anchor=\"middle\">nsubj</textPath>\n",
              "    </text>\n",
              "    <path class=\"displacy-arrowhead\" d=\"M770,179.0 L762,167.0 778,167.0\" fill=\"currentColor\"/>\n",
              "</g>\n",
              "\n",
              "<g class=\"displacy-arrow\">\n",
              "    <path class=\"displacy-arc\" id=\"arrow-581f82b89de24dba9193f4fa843648bc-0-4\" stroke-width=\"2px\" d=\"M420,177.0 C420,2.0 925.0,2.0 925.0,177.0\" fill=\"none\" stroke=\"currentColor\"/>\n",
              "    <text dy=\"1.25em\" style=\"font-size: 0.8em; letter-spacing: 1px\">\n",
              "        <textPath xlink:href=\"#arrow-581f82b89de24dba9193f4fa843648bc-0-4\" class=\"displacy-label\" startOffset=\"50%\" side=\"left\" fill=\"currentColor\" text-anchor=\"middle\">ccomp</textPath>\n",
              "    </text>\n",
              "    <path class=\"displacy-arrowhead\" d=\"M925.0,179.0 L933.0,167.0 917.0,167.0\" fill=\"currentColor\"/>\n",
              "</g>\n",
              "\n",
              "<g class=\"displacy-arrow\">\n",
              "    <path class=\"displacy-arc\" id=\"arrow-581f82b89de24dba9193f4fa843648bc-0-5\" stroke-width=\"2px\" d=\"M1120,177.0 C1120,89.5 1270.0,89.5 1270.0,177.0\" fill=\"none\" stroke=\"currentColor\"/>\n",
              "    <text dy=\"1.25em\" style=\"font-size: 0.8em; letter-spacing: 1px\">\n",
              "        <textPath xlink:href=\"#arrow-581f82b89de24dba9193f4fa843648bc-0-5\" class=\"displacy-label\" startOffset=\"50%\" side=\"left\" fill=\"currentColor\" text-anchor=\"middle\">poss</textPath>\n",
              "    </text>\n",
              "    <path class=\"displacy-arrowhead\" d=\"M1120,179.0 L1112,167.0 1128,167.0\" fill=\"currentColor\"/>\n",
              "</g>\n",
              "\n",
              "<g class=\"displacy-arrow\">\n",
              "    <path class=\"displacy-arc\" id=\"arrow-581f82b89de24dba9193f4fa843648bc-0-6\" stroke-width=\"2px\" d=\"M945,177.0 C945,2.0 1275.0,2.0 1275.0,177.0\" fill=\"none\" stroke=\"currentColor\"/>\n",
              "    <text dy=\"1.25em\" style=\"font-size: 0.8em; letter-spacing: 1px\">\n",
              "        <textPath xlink:href=\"#arrow-581f82b89de24dba9193f4fa843648bc-0-6\" class=\"displacy-label\" startOffset=\"50%\" side=\"left\" fill=\"currentColor\" text-anchor=\"middle\">attr</textPath>\n",
              "    </text>\n",
              "    <path class=\"displacy-arrowhead\" d=\"M1275.0,179.0 L1283.0,167.0 1267.0,167.0\" fill=\"currentColor\"/>\n",
              "</g>\n",
              "</svg></span>"
            ]
          },
          "metadata": {}
        }
      ]
    },
    {
      "cell_type": "markdown",
      "source": [
        "###Named Entity Recognition"
      ],
      "metadata": {
        "id": "zB4rj5G89M16"
      }
    },
    {
      "cell_type": "code",
      "source": [
        "# Preparing the spaCy document\n",
        "text='Tony Stark owns the company StarkEnterprises . Emily Clark works at Microsoft and lives in Manchester. She loves to read the Bible and learn French'\n",
        "doc=nlp(text)\n",
        "\n",
        "# Printing the named entities\n",
        "print(doc.ents)"
      ],
      "metadata": {
        "colab": {
          "base_uri": "https://localhost:8080/"
        },
        "id": "nqYRqkog9N44",
        "outputId": "59337301-545e-47c8-a9f1-ac39f3042c1d"
      },
      "execution_count": null,
      "outputs": [
        {
          "output_type": "stream",
          "name": "stdout",
          "text": [
            "(Tony Stark, StarkEnterprises, Emily Clark, Microsoft, Manchester, Bible, French)\n"
          ]
        }
      ]
    },
    {
      "cell_type": "markdown",
      "source": [
        " common Named Entity categories supported by spacy are : </br>\n",
        "PERSON : Denotes names of people</br>\n",
        "GPE : Denotes places like counties, cities, states.</br>\n",
        "ORG : Denotes organizations or companies</br>\n",
        "WORK_OF_ART : Denotes titles of books, fimls,songs and other arts</br>\n",
        "PRODUCT : Denotes products such as vehicles, food items ,furniture and so on.</br>\n",
        "EVENT : Denotes historical events like wars, disasters ,etc…</br>\n",
        "LANGUAGE : All the recognized languages across the globe.</br>"
      ],
      "metadata": {
        "id": "O5Iymino9V-P"
      }
    },
    {
      "cell_type": "code",
      "source": [
        "# Printing labels of entities.\n",
        "for entity in doc.ents:\n",
        "  print(entity.text,'--- ',entity.label_)"
      ],
      "metadata": {
        "colab": {
          "base_uri": "https://localhost:8080/"
        },
        "id": "-pcOrdPG9bDN",
        "outputId": "2dae7778-d23c-4b1d-e11b-7c4847151b56"
      },
      "execution_count": null,
      "outputs": [
        {
          "output_type": "stream",
          "name": "stdout",
          "text": [
            "Tony Stark ---  PERSON\n",
            "StarkEnterprises ---  ORG\n",
            "Emily Clark ---  PERSON\n",
            "Microsoft ---  ORG\n",
            "Manchester ---  GPE\n",
            "Bible ---  WORK_OF_ART\n",
            "French ---  LANGUAGE\n"
          ]
        }
      ]
    },
    {
      "cell_type": "code",
      "source": [
        "# Using displacy for visualizing NER\n",
        "from spacy import displacy\n",
        "displacy.render(doc,style='ent',jupyter=True)"
      ],
      "metadata": {
        "colab": {
          "base_uri": "https://localhost:8080/",
          "height": 87
        },
        "id": "BCzim1nb9jq0",
        "outputId": "806bdaf9-6c6a-4817-d73d-676fbc79cd0a"
      },
      "execution_count": null,
      "outputs": [
        {
          "output_type": "display_data",
          "data": {
            "text/plain": [
              "<IPython.core.display.HTML object>"
            ],
            "text/html": [
              "<span class=\"tex2jax_ignore\"><div class=\"entities\" style=\"line-height: 2.5; direction: ltr\">\n",
              "<mark class=\"entity\" style=\"background: #aa9cfc; padding: 0.45em 0.6em; margin: 0 0.25em; line-height: 1; border-radius: 0.35em;\">\n",
              "    Tony Stark\n",
              "    <span style=\"font-size: 0.8em; font-weight: bold; line-height: 1; border-radius: 0.35em; vertical-align: middle; margin-left: 0.5rem\">PERSON</span>\n",
              "</mark>\n",
              " owns the company \n",
              "<mark class=\"entity\" style=\"background: #7aecec; padding: 0.45em 0.6em; margin: 0 0.25em; line-height: 1; border-radius: 0.35em;\">\n",
              "    StarkEnterprises\n",
              "    <span style=\"font-size: 0.8em; font-weight: bold; line-height: 1; border-radius: 0.35em; vertical-align: middle; margin-left: 0.5rem\">ORG</span>\n",
              "</mark>\n",
              " . \n",
              "<mark class=\"entity\" style=\"background: #aa9cfc; padding: 0.45em 0.6em; margin: 0 0.25em; line-height: 1; border-radius: 0.35em;\">\n",
              "    Emily Clark\n",
              "    <span style=\"font-size: 0.8em; font-weight: bold; line-height: 1; border-radius: 0.35em; vertical-align: middle; margin-left: 0.5rem\">PERSON</span>\n",
              "</mark>\n",
              " works at \n",
              "<mark class=\"entity\" style=\"background: #7aecec; padding: 0.45em 0.6em; margin: 0 0.25em; line-height: 1; border-radius: 0.35em;\">\n",
              "    Microsoft\n",
              "    <span style=\"font-size: 0.8em; font-weight: bold; line-height: 1; border-radius: 0.35em; vertical-align: middle; margin-left: 0.5rem\">ORG</span>\n",
              "</mark>\n",
              " and lives in \n",
              "<mark class=\"entity\" style=\"background: #feca74; padding: 0.45em 0.6em; margin: 0 0.25em; line-height: 1; border-radius: 0.35em;\">\n",
              "    Manchester\n",
              "    <span style=\"font-size: 0.8em; font-weight: bold; line-height: 1; border-radius: 0.35em; vertical-align: middle; margin-left: 0.5rem\">GPE</span>\n",
              "</mark>\n",
              ". She loves to read the \n",
              "<mark class=\"entity\" style=\"background: #f0d0ff; padding: 0.45em 0.6em; margin: 0 0.25em; line-height: 1; border-radius: 0.35em;\">\n",
              "    Bible\n",
              "    <span style=\"font-size: 0.8em; font-weight: bold; line-height: 1; border-radius: 0.35em; vertical-align: middle; margin-left: 0.5rem\">WORK_OF_ART</span>\n",
              "</mark>\n",
              " and learn \n",
              "<mark class=\"entity\" style=\"background: #ff8197; padding: 0.45em 0.6em; margin: 0 0.25em; line-height: 1; border-radius: 0.35em;\">\n",
              "    French\n",
              "    <span style=\"font-size: 0.8em; font-weight: bold; line-height: 1; border-radius: 0.35em; vertical-align: middle; margin-left: 0.5rem\">LANGUAGE</span>\n",
              "</mark>\n",
              "</div></span>"
            ]
          },
          "metadata": {}
        }
      ]
    },
    {
      "cell_type": "markdown",
      "source": [
        " NER Application 1: Extracting brand names with Named Entity Recognition"
      ],
      "metadata": {
        "id": "Ww6kciqE9n8B"
      }
    },
    {
      "cell_type": "code",
      "source": [
        "mobile_industry_article=\"\"\" 30 Major mobile phone brands Compete in India – A Case Study of Success and Failures\n",
        "Is the Indian mobile market a terrible War Zone? We have more than 30 brands competing with each other. Let’s find out some insights about the world second-largest mobile bazaar.There is a massive invasion by Chinese mobile brands in India in the last four years. Some of the brands have been able to make a mark while others like Meizu, Coolpad, ZTE, and LeEco are a failure.On one side, there are brands like Sony or HTC that have quit from the Indian market on the other side we have new brands like Realme or iQOO entering the marketing in recent months.The mobile market is so competitive that some of the brands like Micromax, which had over 18% share back in 2014, now have less than 5%. Even the market leader Samsung with a 34% market share in 2014, now has a 21% share whereas Xiaomi has become a market leader. The battle is fierce and to sustain and scale-up is going to be very difficult for any new entrant.new comers in Indian Mobile MarketiQOO –They have recently (March 2020) launched the iQOO 3 in India with its first 5G phone – iQOO 3. The new brand is part of the Vivo or the BBK electronics group that also owns several other brands like Oppo, Oneplus and Realme.Realme – Realme launched the first-ever phone – Realme 1 in November 2018 and has quickly became a popular brand in India. The brand is one of the highest sellers in online space and even reached a 16% market share threatening Xiaomi’s dominance.iVoomi – In 2017, we have seen the entry of some new Chinese mobile brands likeiVoomi which focuses on the sub 10k price range, and is a popular online player. They have an association with Flipkart.Techno &amp; Infinix – Transsion Group’s Tecno and Infinix brands debuted in India in mid-2017 and are focusing on the low end and mid-range phones in the price range of Rs. 5000 to Rs. 12000.10.OR &amp; Lephone – 10.OR has a partnership with Amazon India and is an exclusive online brand with phones like 10.OR D, G and E. However, the brand is not very aggressive currently.Kult – Kult is another player who launched a very aggressively priced Kult Beyond mobile in 2017 and followed up by launching 2-3 more models.However, most of these new brands are finding it difficult to strengthen their footing in India. As big brands like Xiaomi leave no stone unturned to make things difficult.Also, it is worth noting that there is less Chinese players coming to India now. As either all the big brands have already set shop or burnt their hands and retreated to the homeland China.Chinese/ Global  Brands Which failed or are at the Verge of Failing in India?\n",
        "There are a lot more failures in the market than the success stories. Let’s first look at the failures and then we will also discuss why some brands were able to succeed in India.HTC – The biggest surprise this year for me was the failure of HTC in India. The brand has been in the country for many years, in fact, they were the first brand to launch Android mobiles. Finally HTC decided to call it a day in July 2018.LeEco – LeEco looked promising and even threatening to Xiaomi when it came to India. The company launched a series of new phones and smart TVs at affordable rates. Unfortunately, poor financial planning back home caused the brand to fail in India too.LG – The company seems to have lost focus and are doing poorly in all segments. While the budget and mid-range offering are uncompetitive, the high-end models are not preferred by buyers.Sony – Absurd pricing and lack of ability to understand the Indian buyers have caused Sony to shrink mobile operations in India. In the last 2 years, there are far fewer launches and hardly any promotions or hype around the new products.Meizu – Meizu is also a struggling brand in India and is going nowhere with the current strategy. There are hardly any popular mobiles nor a retail presence.ZTE – The company was aggressive till last year with several new phones launching under the Nubia banner, but with recent issues in the US, they have even lost the plot in India.Coolpad – I still remember the first meeting with Coolpad CEO in Mumbai when the brand started operations. There were big dreams and ambitions, but the company has not been able to deliver and keep up with the rivals in the last 1 year.Gionee – Gionee was doing well in the retail, but the infighting in the company and loss of focus from the Chinese parent company has made it a failure. The company is planning a comeback. However, we will have to wait and see when that happens.\"\"\""
      ],
      "metadata": {
        "id": "3UyaWEUG9olF"
      },
      "execution_count": null,
      "outputs": []
    },
    {
      "cell_type": "code",
      "source": [
        "# creating spacy doc\n",
        "mobile_doc=nlp(mobile_industry_article)\n",
        "\n",
        "# List to store name of mobile companies\n",
        "list_of_org=[]\n",
        "\n",
        "# Appending entities which havel the label 'ORG' to the list\n",
        "for entity in mobile_doc.ents:\n",
        "  if entity.label_=='ORG':\n",
        "    list_of_org.append(entity.text)\n",
        "\n",
        "print(list_of_org)"
      ],
      "metadata": {
        "colab": {
          "base_uri": "https://localhost:8080/"
        },
        "id": "LnAdwhcg9sa7",
        "outputId": "2b70bbca-1ab7-4814-9fc0-40c041083975"
      },
      "execution_count": null,
      "outputs": [
        {
          "output_type": "stream",
          "name": "stdout",
          "text": [
            "['Meizu, Coolpad', 'ZTE', 'Sony', 'Realme', 'Xiaomi', 'BBK', 'Oppo, Oneplus', 'Realme', 'Realme', 'Realme', 'Realme 1', 'Xiaomi', 'Flipkart', 'Infinix – Transsion Group’s', 'Lephone', 'Amazon India', 'Xiaomi', 'Xiaomi', 'Sony', 'Sony', 'ZTE']\n"
          ]
        }
      ]
    },
    {
      "cell_type": "markdown",
      "source": [
        "###Rule based Matching\n",
        "Rule-based matching in spacy allows you write your own rules to find or extract words and phrases in a text. spacy supports three kinds of matching methods :\n",
        "\n",
        "Token Matcher </br>\n",
        "Phrase Matcher </br>\n",
        "Entity Ruler </br>\n",
        "\n",
        "###Token Matcher\n",
        "\n",
        "Steps:</br>\n",
        "Initialize a Matcher object</br>\n",
        "Define the pattern you want to match</br>\n",
        "Add the pattern to the matcher</br>\n",
        "Pass the text to the matcher to extract the matching positions.</br>"
      ],
      "metadata": {
        "id": "YaRv1I2DBL5R"
      }
    },
    {
      "cell_type": "code",
      "source": [
        "from spacy.matcher import Matcher \n",
        "\n",
        "# Initializing the matcher with vocab\n",
        "matcher = Matcher(nlp.vocab)\n",
        "matcher"
      ],
      "metadata": {
        "colab": {
          "base_uri": "https://localhost:8080/"
        },
        "id": "-ArI7W43BNSR",
        "outputId": "b32f2026-4cc3-47bc-e067-e7123f166efe"
      },
      "execution_count": null,
      "outputs": [
        {
          "output_type": "execute_result",
          "data": {
            "text/plain": [
              "<spacy.matcher.matcher.Matcher at 0x7f835f79edd0>"
            ]
          },
          "metadata": {},
          "execution_count": 50
        }
      ]
    },
    {
      "cell_type": "code",
      "source": [
        "# Initializing the matcher with vocab\n",
        "matcher = Matcher(nlp.vocab)\n",
        "matcher"
      ],
      "metadata": {
        "colab": {
          "base_uri": "https://localhost:8080/"
        },
        "id": "4QGNMGEAIWeR",
        "outputId": "ce3c08d2-d48f-4f55-bc53-0c7f6f656fc4"
      },
      "execution_count": null,
      "outputs": [
        {
          "output_type": "execute_result",
          "data": {
            "text/plain": [
              "<spacy.matcher.matcher.Matcher at 0x7f835f7895f0>"
            ]
          },
          "metadata": {},
          "execution_count": 51
        }
      ]
    },
    {
      "cell_type": "markdown",
      "source": [
        "create the pattern for identifying phrases like ” version : 11″ , ” version : 5 ”"
      ],
      "metadata": {
        "id": "X_ySCyFqI4C7"
      }
    },
    {
      "cell_type": "code",
      "source": [
        "# Define the matching pattern\n",
        "my_pattern=[{\"LOWER\": \"version\"}, {\"IS_PUNCT\": True}, {\"LIKE_NUM\": True}]"
      ],
      "metadata": {
        "id": "Aas6cpZPJVNM"
      },
      "execution_count": null,
      "outputs": []
    },
    {
      "cell_type": "markdown",
      "source": [
        "match_id – a custom id for your matcher . In this case I use ” Versionfinder”\n",
        "\n",
        "match_on– It is an optional parameter, where you can call functions when a match is found. Otherwise, use None\n",
        "\n",
        "*patterns – You need to pass your pattern (list of dicts describing tokens)"
      ],
      "metadata": {
        "id": "uLSCNME5JZQT"
      }
    },
    {
      "cell_type": "code",
      "source": [
        "# Define the token matcher\n",
        "matcher.add('VersionFinder',  [my_pattern])"
      ],
      "metadata": {
        "id": "NWKDt7-LJbvS"
      },
      "execution_count": null,
      "outputs": []
    },
    {
      "cell_type": "code",
      "source": [
        "# Run the Token Matcher\n",
        "my_text = 'The version : 6 of the app was released about a year back and was not very sucessful. As a comeback, six months ago, version : 7 was released and it took the stage. After that , the app has has the limelight till now. On interviewing some sources, we get to know that they have outlined visiond till version : 12 ,the Ultimate.'\n",
        "my_doc = nlp(my_text)\n",
        "\n",
        "desired_matches = matcher(my_doc)\n",
        "desired_matches"
      ],
      "metadata": {
        "colab": {
          "base_uri": "https://localhost:8080/"
        },
        "id": "UXmEnx3FKMrQ",
        "outputId": "0a31ba93-14ad-4e7c-cfee-f497048a6a69"
      },
      "execution_count": null,
      "outputs": [
        {
          "output_type": "execute_result",
          "data": {
            "text/plain": [
              "[(6950581368505071052, 1, 4),\n",
              " (6950581368505071052, 27, 30),\n",
              " (6950581368505071052, 65, 68)]"
            ]
          },
          "metadata": {},
          "execution_count": 54
        }
      ]
    },
    {
      "cell_type": "markdown",
      "source": [
        "Each tuple has the structure –(match_id, start, end)."
      ],
      "metadata": {
        "id": "NB6PfgWwKRlx"
      }
    },
    {
      "cell_type": "code",
      "source": [
        "# Extract the matches\n",
        "for match_id, start, end in desired_matches :\n",
        "    string_id = nlp.vocab.strings[match_id] \n",
        "    span = my_doc[start:end] \n",
        "    print(span.text)"
      ],
      "metadata": {
        "colab": {
          "base_uri": "https://localhost:8080/"
        },
        "id": "8O162-tJKSIe",
        "outputId": "dd306cb8-3972-4a87-c7a7-e7e0132369a0"
      },
      "execution_count": null,
      "outputs": [
        {
          "output_type": "stream",
          "name": "stdout",
          "text": [
            "version : 6\n",
            "version : 7\n",
            "version : 12\n"
          ]
        }
      ]
    },
    {
      "cell_type": "markdown",
      "source": [
        "###Phrase Matcher\n",
        "\n",
        "Initialize a PhraseMatcher object with a vocab.\n",
        "\n",
        "Define the terms you want to match\n",
        "\n",
        "Add the pattern to the matcher\n",
        "\n",
        "Run the text through the matcher to extract the matching positions.\n",
        "\n"
      ],
      "metadata": {
        "id": "BAW2UF8-Kd-F"
      }
    },
    {
      "cell_type": "code",
      "source": [
        "from spacy.matcher import PhraseMatcher\n"
      ],
      "metadata": {
        "id": "d93jnV4kKeW3"
      },
      "execution_count": null,
      "outputs": []
    },
    {
      "cell_type": "code",
      "source": [
        "# initialize the PhraseMatcher with vocab through below command\n",
        "\n",
        "# PhraseMatcher\n",
        "matcher = PhraseMatcher(nlp.vocab)"
      ],
      "metadata": {
        "id": "8utL0gAOLUps"
      },
      "execution_count": null,
      "outputs": []
    },
    {
      "cell_type": "code",
      "source": [
        "# Terms to match\n",
        "terms_list = ['Bruce Wayne', 'Tony Stark', 'Batman', 'Harry Potter', 'Severus Snape']"
      ],
      "metadata": {
        "id": "WcNCw9QsLZG-"
      },
      "execution_count": null,
      "outputs": []
    },
    {
      "cell_type": "code",
      "source": [
        "# convert the list of phrases into a doc object through make_doc() method\n",
        "# Make a list of docs\n",
        "patterns = [nlp.make_doc(text) for text in terms_list]"
      ],
      "metadata": {
        "id": "uaRwI8cGLaxH"
      },
      "execution_count": null,
      "outputs": []
    },
    {
      "cell_type": "code",
      "source": [
        "matcher.add(\"phrase_matcher\", [*patterns])"
      ],
      "metadata": {
        "id": "hgNWt3N3L-ag"
      },
      "execution_count": null,
      "outputs": []
    },
    {
      "cell_type": "code",
      "source": [
        "# Matcher Object\n",
        "fictional_char_doc = nlp(\"\"\"Superman (first appearance: 1938)  Created by Jerry Siegal and Joe Shuster for Action Comics #1 (DC Comics).Mickey Mouse (1928)  Created by Walt Disney and Ub Iworks for Steamboat Willie.Bugs Bunny (1940)  Created by Warner Bros and originally voiced by Mel Blanc.Batman (1939) Created by Bill Finger and Bob Kane for Detective Comics #27 (DC Comics).\n",
        "Dorothy Gale (1900)  Created by L. Frank Baum for novel The Wonderful Wizard of Oz. Later portrayed by Judy Garland in the 1939 film adaptation.Darth Vader (1977) Created by George Lucas for Star Wars IV: A New Hope.The Tramp (1914)  Created and portrayed by Charlie Chaplin for Kid Auto Races at Venice.Peter Pan (1902)  Created by J.M. Barrie for novel The Little White Bird.\n",
        "Indiana Jones (1981)  Created by George Lucas for Raiders of the Lost Ark. Portrayed by Harrison Ford.Rocky Balboa (1976)  Created and portrayed by Sylvester Stallone for Rocky.Vito Corleone (1969) Created by Mario Puzo for novel The Godfather. Later portrayed by Marlon Brando and Robert DeNiro in Coppola’s film adaptation.Han Solo (1977) Created by George Lucas for Star Wars IV: A New Hope. \n",
        "Portrayed most famously by Harrison Ford.Homer Simpson (1987)  Created by Matt Groening for The Tracey Ullman Show, later The Simpsons as voiced by Dan Castellaneta.Archie Bunker (1971) Created by Norman Lear for All in the Family. Portrayed by Carroll O’Connor.Norman Bates (1959) Created by Robert Bloch for novel Psycho.  Later portrayed by Anthony Perkins in Hitchcock’s film adaptation.King Kong (1933) \n",
        "Created by Edgar Wallace and Merian C Cooper for the film King Kong.Lucy Ricardo (1951) Portrayed by Lucille Ball for I Love Lucy.Spiderman (1962)  Created by Stan Lee and Steve Ditko for Amazing Fantasy #15 (Marvel Comics).Barbie (1959)  Created by Ruth Handler for the toy company Mattel Spock (1964)  Created by Gene Roddenberry for Star Trek. Portrayed most famously by Leonard Nimoy.\n",
        "Godzilla (1954) Created by Tomoyuki Tanaka, Ishiro Honda, and Eiji Tsubaraya for the film Godzilla.The Joker (1940)  Created by Jerry Robinson, Bill Finger, and Bob Kane for Batman #1 (DC Comics)Winnie-the-Pooh (1924)  Created by A.A. Milne for verse book When We Were Young.Popeye (1929)  Created by E.C. Segar for comic strip Thimble Theater (King Features).Tarzan (1912) Created by Edgar Rice Burroughs for the novel Tarzan of the Apes.Forrest Gump (1986)  Created by Winston Groom for novel Forrest Gump.  Later portrayed by Tom Hanks in Zemeckis’ film adaptation.Hannibal Lector (1981)  Created by Thomas Harris for the novel Red Dragon. Portrayed most famously by Anthony Hopkins in the 1991 Jonathan Demme film The Silence of the Lambs.\n",
        "Big Bird (1969) Created by Jim Henson and portrayed by Carroll Spinney for Sesame Street.Holden Caulfield (1945) Created by J.D. Salinger for the Collier’s story “I’m Crazy.”  Reworked into the novel The Catcher in the Rye in 1951.Tony Montana (1983)  Created by Oliver Stone for film Scarface.  Portrayed by Al Pacino.Tony Soprano (1999)  Created by David Chase for The Sopranos. Portrayed by James Gandolfini.\n",
        "The Terminator (1984)  Created by James Cameron and Gale Anne Hurd for The Terminator. Portrayed by Arnold Schwarzenegger.Jon Snow (1996)  Created by George RR Martin for the novel The Game of Thrones.  Portrayed by Kit Harrington.Charles Foster Kane (1941)  Created and portrayed by Orson Welles for Citizen Kane.Scarlett O’Hara (1936)  Created by Margaret Mitchell for the novel Gone With the Wind. Portrayed most famously by Vivien Leigh \n",
        "for the 1939 Victor Fleming film adaptation.Marty McFly (1985) Created by Robert Zemeckis and Bob Gale for Back to the Future. Portrayed by Michael J. Fox.Rick Blaine (1940)  Created by Murray Burnett and Joan Alison for the unproduced stage play Everybody Comes to Rick’s. Later portrayed by Humphrey Bogart in Michael Curtiz’s film adaptation Casablanca.Man With No Name (1964)  Created by Sergio Leone for A Fistful of Dollars, which was adapted from a ronin character in Kurosawa’s Yojimbo (1961).  Portrayed by Clint Eastwood.Charlie Brown (1948)  Created by Charles M. Shultz for the comic strip L’il Folks; popularized two years later in Peanuts.E.T. (1982)  Created by Melissa Mathison for the film E.T.: the Extra-Terrestrial.Arthur Fonzarelli (1974)  Created by Bob Brunner for the show Happy Days. Portrayed by Henry Winkler.)Phillip Marlowe (1939)  Created by Raymond Chandler for the novel The Big Sleep.Jay Gatsby (1925)  Created by F. Scott Fitzgerald for the novel The Great Gatsby.Lassie (1938) Created by Eric Knight for a Saturday Evening Post story, later turned into the novel Lassie Come-Home in 1940, film adaptation in 1943, and long-running television show in 1954.  Most famously portrayed by the dog Pal.\n",
        "Fred Flintstone (1959)  Created by William Hanna and Joseph Barbera for The Flintstones. Voiced most notably by Alan Reed. Rooster Cogburn (1968)  Created by Charles Portis for the novel True Grit. Most famously portrayed by John Wayne in the 1969 film adaptation. Atticus Finch (1960)  Created by Harper Lee for the novel To Kill a Mockingbird.  (Appeared in the earlier work Go Set A Watchman, though this was not published until 2015)  Portrayed most famously by Gregory Peck in the Robert Mulligan film adaptation. Kermit the Frog (1955)  Created and performed by Jim Henson for the show Sam and Friends. Later popularized in Sesame Street (1969) and The Muppet Show (1976) George Bailey (1943)  Created by Phillip Van Doren Stern (then as George Pratt) for the short story The Greatest Gift. Later adapted into Capra’s It’s A Wonderful Life, starring James Stewart as the renamed George Bailey. Yoda (1980) Created by George Lucas for The Empire Strikes Back. Sam Malone (1982)  Created by Glen and Les Charles for the show Cheers.  Portrayed by Ted Danson. Zorro (1919)  Created by Johnston McCulley for the All-Story Weekly pulp magazine story The Curse of Capistrano.Later adapted to the Douglas Fairbanks’ film The Mark of Zorro (1920).Moe, Larry, and Curly (1928)  Created by Ted Healy for the vaudeville act Ted Healy and his Stooges. Mary Poppins (1934)  Created by P.L. Travers for the children’s book Mary Poppins. Ron Burgundy (2004)  Created by Will Ferrell and Adam McKay for the film Anchorman: The Legend of Ron Burgundy.  Portrayed by Will Ferrell. Mario (1981)  Created by Shigeru Miyamoto for the video game Donkey Kong. Harry Potter (1997)  Created by J.K. Rowling for the novel Harry Potter and the Philosopher’s Stone. The Dude (1998)  Created by Ethan and Joel Coen for the film The Big Lebowski. Portrayed by Jeff Bridges.\n",
        "Gandalf (1937)  Created by J.R.R. Tolkien for the novel The Hobbit. The Grinch (1957)  Created by Dr. Seuss for the story How the Grinch Stole Christmas! Willy Wonka (1964)  Created by Roald Dahl for the children’s novel Charlie and the Chocolate Factory. The Hulk (1962)  Created by Stan Lee and Jack Kirby for The Incredible Hulk #1 (Marvel Comics) Scooby-Doo (1969)  Created by Joe Ruby and Ken Spears for the show Scooby-Doo, Where Are You! George Costanza (1989)  Created by Larry David and Jerry Seinfeld for the show Seinfeld.  Portrayed by Jason Alexander.Jules Winfield (1994)  Created by Quentin Tarantino for the film Pulp Fiction. Portrayed by Samuel L. Jackson. John McClane (1988)  Based on the character Detective Joe Leland, who was created by Roderick Thorp for the novel Nothing Lasts Forever. Later adapted into the John McTernan film Die Hard, starring Bruce Willis as McClane. Ellen Ripley (1979)  Created by Don O’cannon and Ronald Shusett for the film Alien.  Portrayed by Sigourney Weaver. Ralph Kramden (1951)  Created and portrayed by Jackie Gleason for “The Honeymooners,” which became its own show in 1955.Edward Scissorhands (1990)  Created by Tim Burton for the film Edward Scissorhands.  Portrayed by Johnny Depp.Eric Cartman (1992)  Created by Trey Parker and Matt Stone for the animated short Jesus vs Frosty.  Later developed into the show South Park, which premiered in 1997.  Voiced by Trey Parker.\n",
        "Walter White (2008)  Created by Vince Gilligan for Breaking Bad.  Portrayed by Bryan Cranston. Cosmo Kramer (1989)  Created by Larry David and Jerry Seinfeld for Seinfeld.  Portrayed by Michael Richards.Pikachu (1996)  Created by Atsuko Nishida and Ken Sugimori for the Pokemon video game and anime franchise.Michael Scott (2005)  Based on a character from the British series The Office, created by Ricky Gervais and Steven Merchant.  Portrayed by Steve Carell.Freddy Krueger (1984)  Created by Wes Craven for the film A Nightmare on Elm Street. Most famously portrayed by Robert Englund.\n",
        "Captain America (1941)  Created by Joe Simon and Jack Kirby for Captain America Comics #1 (Marvel Comics)Goku (1984)  Created by Akira Toriyama for the manga series Dragon Ball Z.Bambi (1923)  Created by Felix Salten for the children’s book Bambi, a Life in the Woods. Later adapted into the Disney film Bambi in 1942.Ronald McDonald (1963) Created by Williard Scott for a series of television spots.Waldo/Wally (1987) Created by Martin Hanford for the children’s book Where’s Wally? (Waldo in US edition) Frasier Crane (1984)  Created by Glen and Les Charles for Cheers.  Portrayed by Kelsey Grammar.Omar Little (2002)  Created by David Simon for The Wire.Portrayed by Michael K. Williams.\n",
        "Wolverine (1974)  Created by Roy Thomas, Len Wein, and John Romita Sr for The Incredible Hulk #180 (Marvel Comics) Jason Voorhees (1980)  Created by Victor Miller for the film Friday the 13th. Betty Boop (1930)  Created by Max Fleischer and the Grim Network for the cartoon Dizzy Dishes. Bilbo Baggins (1937)  Created by J.R.R. Tolkien for the novel The Hobbit. Tom Joad (1939)  Created by John Steinbeck for the novel The Grapes of Wrath. Later adapted into the 1940 John Ford film and portrayed by Henry Fonda.Tony Stark (Iron Man) (1963)  Created by Stan Lee, Larry Lieber, Don Heck and Jack Kirby for Tales of Suspense #39 (Marvel Comics)Porky Pig (1935)  Created by Friz Freleng for the animated short film I Haven’t Got a Hat. Voiced most famously by Mel Blanc.Travis Bickle (1976)  Created by Paul Schrader for the film Taxi Driver. Portrayed by Robert De Niro.\n",
        "Hawkeye Pierce (1968)  Created by Richard Hooker for the novel MASH: A Novel About Three Army Doctors.  Famously portrayed by both Alan Alda and Donald Sutherland. Don Draper (2007)  Created by Matthew Weiner for the show Mad Men.  Portrayed by Jon Hamm. Cliff Huxtable (1984)  Created and portrayed by Bill Cosby for The Cosby Show. Jack Torrance (1977)  Created by Stephen King for the novel The Shining. Later adapted into the 1980 Stanley Kubrick film and portrayed by Jack Nicholson. Holly Golightly (1958)  Created by Truman Capote for the novella Breakfast at Tiffany’s.  Later adapted into the 1961 Blake Edwards films starring Audrey Hepburn as Holly. Shrek (1990)  Created by William Steig for the children’s book Shrek! Later adapted into the 2001 film starring Mike Myers as the titular character. Optimus Prime (1984)  Created by Dennis O’Neil for the Transformers toy line.Sonic the Hedgehog (1991)  Created by Naoto Ohshima and Yuji Uekawa for the Sega Genesis game of the same name.Harry Callahan (1971)  Created by Harry Julian Fink and R.M. Fink for the movie Dirty Harry.  Portrayed by Clint Eastwood.Bubble: Hercule Poirot, Tyrion Lannister, Ron Swanson, Cercei Lannister, J.R. Ewing, Tyler Durden, Spongebob Squarepants, The Genie from Aladdin, Pac-Man, Axel Foley, Terry Malloy, Patrick Bateman\n",
        "Pre-20th Century: Santa Claus, Dracula, Robin Hood, Cinderella, Huckleberry Finn, Odysseus, Sherlock Holmes, Romeo and Juliet, Frankenstein, Prince Hamlet, Uncle Sam, Paul Bunyan, Tom Sawyer, Pinocchio, Oliver Twist, Snow White, Don Quixote, Rip Van Winkle, Ebenezer Scrooge, Anna Karenina, Ichabod Crane, John Henry, The Tooth Fairy,\n",
        "Br’er Rabbit, Long John Silver, The Mad Hatter, Quasimodo \"\"\")\n",
        "\n",
        "\n",
        "character_matches = matcher(fictional_char_doc)"
      ],
      "metadata": {
        "id": "9IJyG7G1MDM1"
      },
      "execution_count": null,
      "outputs": []
    },
    {
      "cell_type": "code",
      "source": [
        "# Matching positions\n",
        "character_matches"
      ],
      "metadata": {
        "colab": {
          "base_uri": "https://localhost:8080/"
        },
        "id": "J30X_UiPMFH3",
        "outputId": "add645a2-c5d2-41db-920d-b5ffacfb3cd0"
      },
      "execution_count": null,
      "outputs": [
        {
          "output_type": "execute_result",
          "data": {
            "text/plain": [
              "[(520014689628841516, 56, 57),\n",
              " (520014689628841516, 449, 450),\n",
              " (520014689628841516, 1352, 1354),\n",
              " (520014689628841516, 1365, 1367),\n",
              " (520014689628841516, 2084, 2086)]"
            ]
          },
          "metadata": {},
          "execution_count": 62
        }
      ]
    },
    {
      "cell_type": "code",
      "source": [
        "# Matched items\n",
        "for match_id, start, end in character_matches:\n",
        "    span = fictional_char_doc[start:end]\n",
        "    print(span.text)"
      ],
      "metadata": {
        "colab": {
          "base_uri": "https://localhost:8080/"
        },
        "id": "xHXK5CmvMHel",
        "outputId": "a4dc48ce-71ac-4837-fdb9-2f27b3483a9e"
      },
      "execution_count": null,
      "outputs": [
        {
          "output_type": "stream",
          "name": "stdout",
          "text": [
            "Batman\n",
            "Batman\n",
            "Harry Potter\n",
            "Harry Potter\n",
            "Tony Stark\n"
          ]
        }
      ]
    },
    {
      "cell_type": "markdown",
      "source": [
        "###Use of attr\n",
        "matching case insensitive patterns"
      ],
      "metadata": {
        "id": "9F_7xsVkNKn0"
      }
    },
    {
      "cell_type": "code",
      "source": [
        "# Using the attr parameter as 'LOWER'\n",
        "case_insensitive_matcher = PhraseMatcher(nlp.vocab, attr=\"LOWER\")\n",
        "# case_insensitive_matcher = PhraseMatcher(nlp.vocab)\n",
        "# Creating doc &amp; pattern\n",
        "my_doc=nlp('I wish to visit new york city')\n",
        "terms=['New York']\n",
        "pattern=[nlp(term) for term in terms]\n",
        "\n",
        "# adding pattern to the matcher\n",
        "case_insensitive_matcher.add(\"matcher\", [*pattern])\n",
        "\n",
        "# applying matcher to the doc\n",
        "my_matches=case_insensitive_matcher(my_doc)\n",
        "\n",
        "for match_id,start,end in my_matches:\n",
        "  span=my_doc[start:end]\n",
        "  print(span.text)"
      ],
      "metadata": {
        "colab": {
          "base_uri": "https://localhost:8080/"
        },
        "id": "nE9sGbJcNSJ3",
        "outputId": "01f00e95-b7da-4f08-8ce0-63344b42ab7c"
      },
      "execution_count": null,
      "outputs": [
        {
          "output_type": "stream",
          "name": "stdout",
          "text": [
            "new york\n"
          ]
        }
      ]
    },
    {
      "cell_type": "markdown",
      "source": [
        "Matching based on shape"
      ],
      "metadata": {
        "id": "Nnzj6VMsN1GQ"
      }
    },
    {
      "cell_type": "code",
      "source": [
        "my_doc = nlp('From 8 am , Mr.X will be speaking on your favorite chanel 191.1. Afterward there shall be an exclusive interview with actor Vijay on channel 194.1 . Hope you are having a great day. Call us on 666666')\n",
        "\n",
        "pattern=nlp('154.6')\n",
        "# Initializing the matcher and adding pattern\n",
        "\n",
        "pincode_matcher= PhraseMatcher(nlp.vocab,attr=\"SHAPE\")\n",
        "pincode_matcher.add(\"pincode_matching\", None, pattern)\n",
        "\n",
        "# Applying matcher on doc\n",
        "matches = pincode_matcher(my_doc)\n",
        "\n",
        "# Printing the matched phrases\n",
        "for match_id, start, end in matches:\n",
        "  span = my_doc[start:end]\n",
        "  print(span.text)"
      ],
      "metadata": {
        "colab": {
          "base_uri": "https://localhost:8080/"
        },
        "id": "laogoojnN3Ld",
        "outputId": "9a194a3c-c45c-4b9b-e9b3-897325abf4bf"
      },
      "execution_count": null,
      "outputs": [
        {
          "output_type": "stream",
          "name": "stdout",
          "text": [
            "191.1\n",
            "194.1\n"
          ]
        }
      ]
    },
    {
      "cell_type": "markdown",
      "source": [
        "###Entity Ruler"
      ],
      "metadata": {
        "id": "Ebs0ZvWYO2zJ"
      }
    },
    {
      "cell_type": "code",
      "source": [
        "# from spacy.pipeline import EntityRuler\n"
      ],
      "metadata": {
        "id": "MonfHqFdO4GZ"
      },
      "execution_count": null,
      "outputs": []
    },
    {
      "cell_type": "markdown",
      "source": [
        "Each dictionary has two keys \"label\" and \"pattern\".\n",
        "\n",
        "label : Holds the entity type as values eg: PERSON, GPE, etc\n",
        "pattern: Holds the the matcher pattern as values eg: John, Calcutta, etc"
      ],
      "metadata": {
        "id": "Z0e_EwEKQK4A"
      }
    },
    {
      "cell_type": "code",
      "source": [
        "#Import the requisite library\n",
        "import spacy\n",
        "\n",
        "#Build upon the spaCy Small Model\n",
        "nlp = spacy.load(\"en_core_web_sm\")\n",
        "\n",
        "#Sample text\n",
        "text = \"The village of Treblinka is in Poland. Treblinka was also an extermination camp.\"\n",
        "\n",
        "#Create the EntityRuler\n",
        "ruler = nlp.add_pipe(\"entity_ruler\")\n",
        "\n",
        "#List of Entities and Patterns\n",
        "\n",
        "patterns = [\n",
        "                {\"label\": \"GPE\", \"pattern\": \"Treblinka\"}\n",
        "            ]\n",
        "\n",
        "ruler.add_patterns(patterns)\n",
        "\n",
        "\n",
        "doc = nlp(text)\n",
        "\n",
        "#extract entities\n",
        "for ent in doc.ents:\n",
        "    print (ent.text, ent.label_)"
      ],
      "metadata": {
        "colab": {
          "base_uri": "https://localhost:8080/"
        },
        "id": "MDq_tTx6R37v",
        "outputId": "3b9f783c-c1bb-4f29-9ffd-0232c50e7bc3"
      },
      "execution_count": null,
      "outputs": [
        {
          "output_type": "stream",
          "name": "stdout",
          "text": [
            "Treblinka GPE\n",
            "Poland GPE\n",
            "Treblinka GPE\n"
          ]
        }
      ]
    },
    {
      "cell_type": "markdown",
      "source": [
        "###Word Vectors and similarity\n",
        "Word Vectors are numerical vector representations of words and documents. The numeric form helps understand the semantics about the word and can be used for NLP tasks such as classification.\n",
        "\n",
        "Because, vector representation of words that are similar in meaning and context appear closer together.\n",
        "\n",
        "spaCy models support inbuilt vectors that can be accessed through directly through the attributes of Token and Doc"
      ],
      "metadata": {
        "id": "uB7ov5TwTLvh"
      }
    },
    {
      "cell_type": "code",
      "source": [
        "!python -m spacy download en_core_web_md"
      ],
      "metadata": {
        "colab": {
          "base_uri": "https://localhost:8080/"
        },
        "id": "olYpq1uvUs4C",
        "outputId": "80fc7472-6d08-4863-f9e2-46988e7ffc09"
      },
      "execution_count": null,
      "outputs": [
        {
          "output_type": "stream",
          "name": "stdout",
          "text": [
            "2022-11-03 17:10:08.298673: E tensorflow/stream_executor/cuda/cuda_driver.cc:271] failed call to cuInit: CUDA_ERROR_NO_DEVICE: no CUDA-capable device is detected\n",
            "Looking in indexes: https://pypi.org/simple, https://us-python.pkg.dev/colab-wheels/public/simple/\n",
            "Collecting en-core-web-md==3.4.1\n",
            "  Downloading https://github.com/explosion/spacy-models/releases/download/en_core_web_md-3.4.1/en_core_web_md-3.4.1-py3-none-any.whl (42.8 MB)\n",
            "\u001b[K     |████████████████████████████████| 42.8 MB 1.3 MB/s \n",
            "\u001b[?25hRequirement already satisfied: spacy<3.5.0,>=3.4.0 in /usr/local/lib/python3.7/dist-packages (from en-core-web-md==3.4.1) (3.4.2)\n",
            "Requirement already satisfied: tqdm<5.0.0,>=4.38.0 in /usr/local/lib/python3.7/dist-packages (from spacy<3.5.0,>=3.4.0->en-core-web-md==3.4.1) (4.64.1)\n",
            "Requirement already satisfied: spacy-loggers<2.0.0,>=1.0.0 in /usr/local/lib/python3.7/dist-packages (from spacy<3.5.0,>=3.4.0->en-core-web-md==3.4.1) (1.0.3)\n",
            "Requirement already satisfied: srsly<3.0.0,>=2.4.3 in /usr/local/lib/python3.7/dist-packages (from spacy<3.5.0,>=3.4.0->en-core-web-md==3.4.1) (2.4.5)\n",
            "Requirement already satisfied: typing-extensions<4.2.0,>=3.7.4 in /usr/local/lib/python3.7/dist-packages (from spacy<3.5.0,>=3.4.0->en-core-web-md==3.4.1) (4.1.1)\n",
            "Requirement already satisfied: langcodes<4.0.0,>=3.2.0 in /usr/local/lib/python3.7/dist-packages (from spacy<3.5.0,>=3.4.0->en-core-web-md==3.4.1) (3.3.0)\n",
            "Requirement already satisfied: jinja2 in /usr/local/lib/python3.7/dist-packages (from spacy<3.5.0,>=3.4.0->en-core-web-md==3.4.1) (2.11.3)\n",
            "Requirement already satisfied: requests<3.0.0,>=2.13.0 in /usr/local/lib/python3.7/dist-packages (from spacy<3.5.0,>=3.4.0->en-core-web-md==3.4.1) (2.23.0)\n",
            "Requirement already satisfied: setuptools in /usr/local/lib/python3.7/dist-packages (from spacy<3.5.0,>=3.4.0->en-core-web-md==3.4.1) (57.4.0)\n",
            "Requirement already satisfied: packaging>=20.0 in /usr/local/lib/python3.7/dist-packages (from spacy<3.5.0,>=3.4.0->en-core-web-md==3.4.1) (21.3)\n",
            "Requirement already satisfied: wasabi<1.1.0,>=0.9.1 in /usr/local/lib/python3.7/dist-packages (from spacy<3.5.0,>=3.4.0->en-core-web-md==3.4.1) (0.10.1)\n",
            "Requirement already satisfied: pathy>=0.3.5 in /usr/local/lib/python3.7/dist-packages (from spacy<3.5.0,>=3.4.0->en-core-web-md==3.4.1) (0.6.2)\n",
            "Requirement already satisfied: pydantic!=1.8,!=1.8.1,<1.11.0,>=1.7.4 in /usr/local/lib/python3.7/dist-packages (from spacy<3.5.0,>=3.4.0->en-core-web-md==3.4.1) (1.10.2)\n",
            "Requirement already satisfied: murmurhash<1.1.0,>=0.28.0 in /usr/local/lib/python3.7/dist-packages (from spacy<3.5.0,>=3.4.0->en-core-web-md==3.4.1) (1.0.9)\n",
            "Requirement already satisfied: numpy>=1.15.0 in /usr/local/lib/python3.7/dist-packages (from spacy<3.5.0,>=3.4.0->en-core-web-md==3.4.1) (1.21.6)\n",
            "Requirement already satisfied: typer<0.5.0,>=0.3.0 in /usr/local/lib/python3.7/dist-packages (from spacy<3.5.0,>=3.4.0->en-core-web-md==3.4.1) (0.4.2)\n",
            "Requirement already satisfied: thinc<8.2.0,>=8.1.0 in /usr/local/lib/python3.7/dist-packages (from spacy<3.5.0,>=3.4.0->en-core-web-md==3.4.1) (8.1.5)\n",
            "Requirement already satisfied: preshed<3.1.0,>=3.0.2 in /usr/local/lib/python3.7/dist-packages (from spacy<3.5.0,>=3.4.0->en-core-web-md==3.4.1) (3.0.8)\n",
            "Requirement already satisfied: cymem<2.1.0,>=2.0.2 in /usr/local/lib/python3.7/dist-packages (from spacy<3.5.0,>=3.4.0->en-core-web-md==3.4.1) (2.0.7)\n",
            "Requirement already satisfied: catalogue<2.1.0,>=2.0.6 in /usr/local/lib/python3.7/dist-packages (from spacy<3.5.0,>=3.4.0->en-core-web-md==3.4.1) (2.0.8)\n",
            "Requirement already satisfied: spacy-legacy<3.1.0,>=3.0.10 in /usr/local/lib/python3.7/dist-packages (from spacy<3.5.0,>=3.4.0->en-core-web-md==3.4.1) (3.0.10)\n",
            "Requirement already satisfied: zipp>=0.5 in /usr/local/lib/python3.7/dist-packages (from catalogue<2.1.0,>=2.0.6->spacy<3.5.0,>=3.4.0->en-core-web-md==3.4.1) (3.10.0)\n",
            "Requirement already satisfied: pyparsing!=3.0.5,>=2.0.2 in /usr/local/lib/python3.7/dist-packages (from packaging>=20.0->spacy<3.5.0,>=3.4.0->en-core-web-md==3.4.1) (3.0.9)\n",
            "Requirement already satisfied: smart-open<6.0.0,>=5.2.1 in /usr/local/lib/python3.7/dist-packages (from pathy>=0.3.5->spacy<3.5.0,>=3.4.0->en-core-web-md==3.4.1) (5.2.1)\n",
            "Requirement already satisfied: certifi>=2017.4.17 in /usr/local/lib/python3.7/dist-packages (from requests<3.0.0,>=2.13.0->spacy<3.5.0,>=3.4.0->en-core-web-md==3.4.1) (2022.9.24)\n",
            "Requirement already satisfied: urllib3!=1.25.0,!=1.25.1,<1.26,>=1.21.1 in /usr/local/lib/python3.7/dist-packages (from requests<3.0.0,>=2.13.0->spacy<3.5.0,>=3.4.0->en-core-web-md==3.4.1) (1.24.3)\n",
            "Requirement already satisfied: chardet<4,>=3.0.2 in /usr/local/lib/python3.7/dist-packages (from requests<3.0.0,>=2.13.0->spacy<3.5.0,>=3.4.0->en-core-web-md==3.4.1) (3.0.4)\n",
            "Requirement already satisfied: idna<3,>=2.5 in /usr/local/lib/python3.7/dist-packages (from requests<3.0.0,>=2.13.0->spacy<3.5.0,>=3.4.0->en-core-web-md==3.4.1) (2.10)\n",
            "Requirement already satisfied: blis<0.8.0,>=0.7.8 in /usr/local/lib/python3.7/dist-packages (from thinc<8.2.0,>=8.1.0->spacy<3.5.0,>=3.4.0->en-core-web-md==3.4.1) (0.7.9)\n",
            "Requirement already satisfied: confection<1.0.0,>=0.0.1 in /usr/local/lib/python3.7/dist-packages (from thinc<8.2.0,>=8.1.0->spacy<3.5.0,>=3.4.0->en-core-web-md==3.4.1) (0.0.3)\n",
            "Requirement already satisfied: click<9.0.0,>=7.1.1 in /usr/local/lib/python3.7/dist-packages (from typer<0.5.0,>=0.3.0->spacy<3.5.0,>=3.4.0->en-core-web-md==3.4.1) (7.1.2)\n",
            "Requirement already satisfied: MarkupSafe>=0.23 in /usr/local/lib/python3.7/dist-packages (from jinja2->spacy<3.5.0,>=3.4.0->en-core-web-md==3.4.1) (2.0.1)\n",
            "Installing collected packages: en-core-web-md\n",
            "Successfully installed en-core-web-md-3.4.1\n",
            "\u001b[38;5;2m✔ Download and installation successful\u001b[0m\n",
            "You can now load the package via spacy.load('en_core_web_md')\n"
          ]
        }
      ]
    },
    {
      "cell_type": "code",
      "source": [
        "# Check if word vector is available\n",
        "import spacy\n",
        "\n",
        "# Loading a spacy model\n",
        "nlp = spacy.load(\"en_core_web_md\")\n",
        "tokens = nlp(\"I am an excellent cook\")\n",
        "\n",
        "for token in tokens:\n",
        "  print(token.text ,' ',token.has_vector)"
      ],
      "metadata": {
        "colab": {
          "base_uri": "https://localhost:8080/"
        },
        "id": "yT8rT_tWUyzj",
        "outputId": "6b102cc5-af76-4eda-cd58-30eabf6f65e4"
      },
      "execution_count": null,
      "outputs": [
        {
          "output_type": "stream",
          "name": "stdout",
          "text": [
            "I   True\n",
            "am   True\n",
            "an   True\n",
            "excellent   True\n",
            "cook   True\n"
          ]
        }
      ]
    },
    {
      "cell_type": "code",
      "source": [
        "# Check if word vector is available\n",
        "tokens=nlp(\"I wish to go to hogwarts lolXD \")\n",
        "for token in tokens:\n",
        "  print(token.text,' ',token.has_vector)"
      ],
      "metadata": {
        "colab": {
          "base_uri": "https://localhost:8080/"
        },
        "id": "zg8kweU2VbBh",
        "outputId": "8d89b0f0-f497-43fc-e767-2358e506defc"
      },
      "execution_count": null,
      "outputs": [
        {
          "output_type": "stream",
          "name": "stdout",
          "text": [
            "I   True\n",
            "wish   True\n",
            "to   True\n",
            "go   True\n",
            "to   True\n",
            "hogwarts   True\n",
            "lolXD   False\n"
          ]
        }
      ]
    },
    {
      "cell_type": "markdown",
      "source": [
        "You can access vector representation by using token.vector method. Also ,token.vector_norm attribute stores L2 norm of the token’s vector representation.\n",
        "![Screenshot 2022-11-03 034728.jpg](data:image/jpeg;base64,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)"
      ],
      "metadata": {
        "id": "VhE_Ub-7dREd"
      }
    },
    {
      "cell_type": "code",
      "source": [
        "# Extract the word Vector\n",
        "tokens=nlp(\"I wish to go to hogwarts lolXD \")\n",
        "for token in tokens:\n",
        "  print(token.text,' ',token.vector_norm)"
      ],
      "metadata": {
        "colab": {
          "base_uri": "https://localhost:8080/"
        },
        "id": "51soMwRFdL5f",
        "outputId": "02750203-b7c4-4f4b-d409-0756f4028801"
      },
      "execution_count": null,
      "outputs": [
        {
          "output_type": "stream",
          "name": "stdout",
          "text": [
            "I   112.27491\n",
            "wish   49.505062\n",
            "to   125.107445\n",
            "go   100.762375\n",
            "to   125.107445\n",
            "hogwarts   35.306236\n",
            "lolXD   0.0\n"
          ]
        }
      ]
    },
    {
      "cell_type": "markdown",
      "source": [
        "when vector is not present for a token, the value of vector_norm is 0 for it."
      ],
      "metadata": {
        "id": "G8AhIqRLdf6S"
      }
    },
    {
      "cell_type": "markdown",
      "source": [
        "###similarity of two tokens \n",
        "This uses cosin similarity"
      ],
      "metadata": {
        "id": "UyBkCwbMdhit"
      }
    },
    {
      "cell_type": "code",
      "source": [
        "# Compute Similarity\n",
        "token_1=nlp(\"bad\")\n",
        "token_2=nlp(\"terrible\")\n",
        "\n",
        "similarity_score=token_1.similarity(token_2)\n",
        "print(similarity_score)"
      ],
      "metadata": {
        "colab": {
          "base_uri": "https://localhost:8080/"
        },
        "id": "L2wfYmfldqr2",
        "outputId": "385ac5c1-3ca4-4589-9caa-1fdfc8993025"
      },
      "execution_count": null,
      "outputs": [
        {
          "output_type": "stream",
          "name": "stdout",
          "text": [
            "0.6680469523306508\n"
          ]
        }
      ]
    },
    {
      "cell_type": "code",
      "source": [
        "review_1=nlp(' The food was amazing')\n",
        "review_2=nlp('The food was excellent')\n",
        "review_3=nlp('I did not like the food')\n",
        "review_4=nlp('It was very bad experience')\n",
        "\n",
        "score_1=review_1.similarity(review_2)\n",
        "print('Similarity between review 1 and 2',score_1)\n",
        "\n",
        "score_2=review_3.similarity(review_4)\n",
        "print('Similarity between review 3 and 4',score_2)"
      ],
      "metadata": {
        "colab": {
          "base_uri": "https://localhost:8080/"
        },
        "id": "v7OyIdfHdxGI",
        "outputId": "4ed303c6-fa48-4aa1-fc68-0dbeafa05e01"
      },
      "execution_count": null,
      "outputs": [
        {
          "output_type": "stream",
          "name": "stdout",
          "text": [
            "Similarity between review 1 and 2 0.9851618346023162\n",
            "Similarity between review 3 and 4 0.5505673265129636\n"
          ]
        }
      ]
    },
    {
      "cell_type": "markdown",
      "source": [
        "###Merging and Splitting Tokens with retokenize"
      ],
      "metadata": {
        "id": "86cPHZiHeQ4z"
      }
    },
    {
      "cell_type": "code",
      "source": [
        "# Printing tokens of a text\n",
        "text=\"John Wick is a 2014 American action thriller film directed by Chad Stahelski\"\n",
        "doc=nlp(text)\n",
        "for token in doc:\n",
        "  print(token.text)"
      ],
      "metadata": {
        "colab": {
          "base_uri": "https://localhost:8080/"
        },
        "id": "j23ze0r0eR-_",
        "outputId": "05a5f8a9-72e8-41f4-e9e7-5e0673cf01cc"
      },
      "execution_count": null,
      "outputs": [
        {
          "output_type": "stream",
          "name": "stdout",
          "text": [
            "John\n",
            "Wick\n",
            "is\n",
            "a\n",
            "2014\n",
            "American\n",
            "action\n",
            "thriller\n",
            "film\n",
            "directed\n",
            "by\n",
            "Chad\n",
            "Stahelski\n"
          ]
        }
      ]
    },
    {
      "cell_type": "markdown",
      "source": [
        "For merging two or more tokens , you can make use of the retokenizer.merge() function."
      ],
      "metadata": {
        "id": "RNbgj8cvefg7"
      }
    },
    {
      "cell_type": "code",
      "source": [
        "# Using retokenizer.merge() \n",
        "with doc.retokenize() as retokenizer:\n",
        "    attrs = {\"POS\": \"PROPN\"}\n",
        "    retokenizer.merge(doc[0:2], attrs=attrs)\n",
        "\n",
        "\n",
        "# retokenizer = doc.retokenize()\n",
        "# attrs = {\"POS\": \"PROPN\"}\n",
        "# retokenizer.merge(doc[0:2], attrs=attrs)\n",
        "\n",
        "\n",
        "\n",
        "for token in doc:\n",
        "  print(token.text)"
      ],
      "metadata": {
        "colab": {
          "base_uri": "https://localhost:8080/"
        },
        "id": "lzeI4__PeWoy",
        "outputId": "c24a899a-1d25-40e7-e028-9fecbc9a9f8a"
      },
      "execution_count": null,
      "outputs": [
        {
          "output_type": "stream",
          "name": "stdout",
          "text": [
            "John Wick\n",
            "is\n",
            "a\n",
            "2014\n",
            "American\n",
            "action\n",
            "thriller\n",
            "film\n",
            "directed\n",
            "by\n",
            "Chad\n",
            "Stahelski\n"
          ]
        }
      ]
    },
    {
      "cell_type": "code",
      "source": [
        "text = 'I purchased the trendy OnePlus7'\n",
        "doc=nlp(text)\n",
        "# for token in doc:\n",
        "#   print(token.text)\n",
        "\n",
        "# Splitting tokens using retokenizer.split()\n",
        "doc=nlp('I purchased the trendy OnePlus7 ')\n",
        "# print(doc[2])\n",
        "with doc.retokenize() as retokenizer:\n",
        "    heads = [doc[4], doc[4]]\n",
        "    retokenizer.split(doc[4], [\"OnePlus\", \"7\"],heads=heads)\n",
        "\n",
        "for token in doc:\n",
        "  print(token.text)"
      ],
      "metadata": {
        "colab": {
          "base_uri": "https://localhost:8080/"
        },
        "id": "zw9rxTuufuoQ",
        "outputId": "9783426f-6bad-4ae5-f31c-4aedd554989b"
      },
      "execution_count": null,
      "outputs": [
        {
          "output_type": "stream",
          "name": "stdout",
          "text": [
            "I\n",
            "purchased\n",
            "the\n",
            "trendy\n",
            "OnePlus\n",
            "7\n"
          ]
        }
      ]
    },
    {
      "cell_type": "markdown",
      "source": [
        "###spaCy pipelines\n",
        "The processing pipeline consists of components, where each component performs it’s task and passes the Processed Doc to the next component. These are called as pipeline components.\n",
        "\n",
        "The built-in pipeline components of spacy are :\n",
        "\n",
        "Tokenizer : It is responsible for segmenting the text into tokens are turning a Doc object. This the first and compulsory step in a pipeline.\n",
        "\n",
        "Tagger : It is responsible for assigning Part-of-speech tags. It takes a Doc as input and createsDoc[i].tag\n",
        "\n",
        "DependencyParser : It is known as parser. It is responsible for assigning the dependency tags to each token. It takes a Doc as input and returns the processed Doc\n",
        "\n",
        "EntityRecognizer : This component is referred as ner. It is responsible for identifying named entities and assigning labels to them.\n",
        "\n",
        "TextCategorizer : This component is called textcat. It will assign categories to Docs.\n",
        "\n",
        "EntityRuler : This component is called * entity_ruler*.It is responsible for assigning named entitile based on pattern rules. Revisit Rule Based Matching to know more.\n",
        "\n",
        "Sentencizer : This component is called **sentencizer** and can perform rule based sentence segmentation.\n",
        "\n",
        "merge_noun_chunks : It is called mergenounchunks. This component is responsible for merging all noun chunks into a single token. It has to be add in the pipeline after tagger and parser.\n",
        "\n",
        "merge_entities : It is called merge_entities .This component can merge all entities into a single token. It has to added after the ner.\n",
        "\n",
        "merge_subtokens : It is called merge_subtokens. This component can merge the subtokens into a single token.\n",
        "\n",
        "These are the various in-built pipeline components. It is not necessary for every spaCy model to have each of the above components.\n",
        "\n",
        "After loading a spaCy model , you check or inspect what pipeline components are present.\n",
        "\n",
        "![download.jpeg](data:image/jpeg;base64,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)"
      ],
      "metadata": {
        "id": "g157u7kTimEX"
      }
    },
    {
      "cell_type": "code",
      "source": [
        "# Inspect a pipeline\n",
        "import spacy\n",
        "nlp = spacy.load(\"en_core_web_sm\")\n",
        "print(nlp.pipe_names)"
      ],
      "metadata": {
        "colab": {
          "base_uri": "https://localhost:8080/"
        },
        "id": "IoT3z5M3ino-",
        "outputId": "6a045b98-f62b-424f-b342-0ff57f0e8a1f"
      },
      "execution_count": null,
      "outputs": [
        {
          "output_type": "stream",
          "name": "stdout",
          "text": [
            "['tok2vec', 'tagger', 'parser', 'attribute_ruler', 'lemmatizer', 'ner']\n"
          ]
        }
      ]
    },
    {
      "cell_type": "code",
      "source": [
        "# Check if pipeline component present\n",
        "nlp.has_pipe('textcat')"
      ],
      "metadata": {
        "colab": {
          "base_uri": "https://localhost:8080/"
        },
        "id": "u6iWvixTjZRp",
        "outputId": "a1352db9-92e6-437a-bba1-3a62236f1693"
      },
      "execution_count": null,
      "outputs": [
        {
          "output_type": "execute_result",
          "data": {
            "text/plain": [
              "False"
            ]
          },
          "metadata": {},
          "execution_count": 78
        }
      ]
    },
    {
      "cell_type": "code",
      "source": [
        "# Add new pipeline component\n",
        "# nlp.add_pipe('textcat')\n",
        "\n",
        "print(nlp.pipe_names)"
      ],
      "metadata": {
        "colab": {
          "base_uri": "https://localhost:8080/"
        },
        "id": "a56grRd6jb2g",
        "outputId": "b2b5bf03-1a0d-4d8a-d653-aa2b50edeaec"
      },
      "execution_count": null,
      "outputs": [
        {
          "output_type": "stream",
          "name": "stdout",
          "text": [
            "['tok2vec', 'tagger', 'parser', 'attribute_ruler', 'lemmatizer', 'ner']\n"
          ]
        }
      ]
    },
    {
      "cell_type": "code",
      "source": [
        "# nlp.remove_pipe(\"textcat\")"
      ],
      "metadata": {
        "id": "U1fFW9mqlKnA"
      },
      "execution_count": null,
      "outputs": []
    },
    {
      "cell_type": "code",
      "source": [
        "# Adding a pipeline component\n",
        "nlp.add_pipe('textcat',before='ner')\n",
        "nlp.pipe_names"
      ],
      "metadata": {
        "colab": {
          "base_uri": "https://localhost:8080/"
        },
        "id": "T2Adk4VLlF9d",
        "outputId": "11f7e015-3cbf-4e21-ffd5-78f6e50c09d0"
      },
      "execution_count": null,
      "outputs": [
        {
          "output_type": "execute_result",
          "data": {
            "text/plain": [
              "['tok2vec',\n",
              " 'tagger',\n",
              " 'parser',\n",
              " 'attribute_ruler',\n",
              " 'lemmatizer',\n",
              " 'textcat',\n",
              " 'ner']"
            ]
          },
          "metadata": {},
          "execution_count": 81
        }
      ]
    },
    {
      "cell_type": "code",
      "source": [
        "# Renaming pipeline components\n",
        "nlp.rename_pipe(old_name='ner',new_name='my_custom_ner')\n",
        "nlp.pipe_names"
      ],
      "metadata": {
        "colab": {
          "base_uri": "https://localhost:8080/"
        },
        "id": "2LSb_YH6lVEx",
        "outputId": "dbd9c442-8efd-49ee-82c2-dd62cc6fa76f"
      },
      "execution_count": null,
      "outputs": [
        {
          "output_type": "execute_result",
          "data": {
            "text/plain": [
              "['tok2vec',\n",
              " 'tagger',\n",
              " 'parser',\n",
              " 'attribute_ruler',\n",
              " 'lemmatizer',\n",
              " 'textcat',\n",
              " 'my_custom_ner']"
            ]
          },
          "metadata": {},
          "execution_count": 82
        }
      ]
    },
    {
      "cell_type": "markdown",
      "source": [
        "### custom pipeline components"
      ],
      "metadata": {
        "id": "jAVEDbx2oV4S"
      }
    },
    {
      "cell_type": "code",
      "source": [
        "# Define the custom component that prints the doc length and named entities.\n",
        "import spacy\n",
        "from spacy.language import Language\n",
        "\n",
        "@Language.component(\"info_component\")\n",
        "def my_custom_component(doc):\n",
        "    doc_length = len(doc)\n",
        "    print(' The no of tokens in the document ', doc_length)\n",
        "    named_entity=[token.label_ for token in doc.ents]\n",
        "    print(named_entity)\n",
        "    # Return the doc\n",
        "    return doc\n",
        "\n",
        "\n",
        "# Load the small English model\n",
        "nlp = spacy.load(\"en_core_web_sm\")\n",
        "\n",
        "# Add the component in the pipeline after ner\n",
        "nlp.add_pipe(\"info_component\", after='ner')\n",
        "print(nlp.pipe_names)\n",
        "\n",
        "# Call the nlp object on your text\n",
        "doc = nlp(\" The Hindu Newspaper has increased the cost. I usually read the paper on my way to Delhi railway station \")"
      ],
      "metadata": {
        "colab": {
          "base_uri": "https://localhost:8080/"
        },
        "id": "cIBmGL2EoWPk",
        "outputId": "306796a1-8293-47cb-8a86-f99098732871"
      },
      "execution_count": null,
      "outputs": [
        {
          "output_type": "stream",
          "name": "stdout",
          "text": [
            "['tok2vec', 'tagger', 'parser', 'attribute_ruler', 'lemmatizer', 'ner', 'info_component']\n",
            " The no of tokens in the document  21\n",
            "['ORG', 'GPE']\n"
          ]
        }
      ]
    },
    {
      "cell_type": "markdown",
      "source": [
        "###Another example"
      ],
      "metadata": {
        "id": "X6cal3YOvV4B"
      }
    },
    {
      "cell_type": "code",
      "source": [
        "# Importing PhraseMatcher from spacy and intialize with a model's vocab\n",
        "from spacy.matcher import PhraseMatcher\n",
        "nlp = spacy.load(\"en_core_web_sm\")\n",
        "matcher = PhraseMatcher(nlp.vocab)\n",
        "\n",
        "# List of book names to be matched \n",
        "book_names = ['Pride and prejudice','Mansfield park','The Tale of Two cities','Great Expectations']\n",
        "\n",
        "# Creating pattern - list of docs through nlp.pipe() to save time\n",
        "book_patterns = list(nlp.pipe(book_names))\n",
        "\n",
        "# Adding the pattern to the matcher\n",
        "matcher.add(\"identify_books\", None, *book_patterns)"
      ],
      "metadata": {
        "id": "JE_iCeX0vXxk"
      },
      "execution_count": null,
      "outputs": []
    },
    {
      "cell_type": "code",
      "source": [
        "# Import Span to slice the Doc\n",
        "from spacy.tokens import Span\n",
        "\n",
        "from spacy.language import Language\n",
        "\n",
        "@Language.component(\"custom_component_2\")\n",
        "# Define the custom pipeline component\n",
        "def identify_books(doc):\n",
        "    # Apply the matcher to YOUR doc\n",
        "    matches = matcher(doc)\n",
        "    # Create a Span for each match and assign them under label \"BOOKS\"\n",
        "    spans = [Span(doc, start, end, label=\"BOOKS\") for match_id, start, end in matches]\n",
        "    # Store the matched spans in doc.ents\n",
        "    doc.ents = spans\n",
        "    return doc"
      ],
      "metadata": {
        "id": "MpHgxhyuvZ3f"
      },
      "execution_count": null,
      "outputs": []
    },
    {
      "cell_type": "code",
      "source": [
        "# Adding the custom component to the pipeline after the \"ner\" component\n",
        "nlp.add_pipe(\"custom_component_2\", after=\"ner\")\n",
        "print(nlp.pipe_names)\n",
        "\n",
        "# Calling the nlp object on the text\n",
        "doc = nlp(\"The library has got several new copies of Mansfield park and Great Expectations . I have filed a suggestion to buy more copies of The Tale of Two cities \")\n",
        "\n",
        "# Printing entities and their labels to verify\n",
        "print([(ent.text, ent.label_) for ent in doc.ents])"
      ],
      "metadata": {
        "colab": {
          "base_uri": "https://localhost:8080/"
        },
        "id": "HgVqTYgbvdYV",
        "outputId": "9eb940ed-87ba-4fc2-adff-43f9400bcf59"
      },
      "execution_count": null,
      "outputs": [
        {
          "output_type": "stream",
          "name": "stdout",
          "text": [
            "['tok2vec', 'tagger', 'parser', 'attribute_ruler', 'lemmatizer', 'ner', 'custom_component_2']\n",
            "[('Mansfield park', 'BOOKS'), ('Great Expectations', 'BOOKS'), ('The Tale of Two cities', 'BOOKS')]\n"
          ]
        }
      ]
    },
    {
      "cell_type": "markdown",
      "source": [
        "### Sentiment analysis"
      ],
      "metadata": {
        "id": "0xhxoQpWyitE"
      }
    },
    {
      "cell_type": "code",
      "source": [
        "!pip install spacytextblob"
      ],
      "metadata": {
        "colab": {
          "base_uri": "https://localhost:8080/"
        },
        "id": "eFp71l8c0dBz",
        "outputId": "2e1692b6-c3ff-46ce-a8e1-5b412dd70e2a"
      },
      "execution_count": null,
      "outputs": [
        {
          "output_type": "stream",
          "name": "stdout",
          "text": [
            "Looking in indexes: https://pypi.org/simple, https://us-python.pkg.dev/colab-wheels/public/simple/\n",
            "Collecting spacytextblob\n",
            "  Downloading spacytextblob-4.0.0-py3-none-any.whl (4.5 kB)\n",
            "Requirement already satisfied: spacy<4.0,>=3.0 in /usr/local/lib/python3.7/dist-packages (from spacytextblob) (3.4.2)\n",
            "Requirement already satisfied: textblob<0.16.0,>=0.15.3 in /usr/local/lib/python3.7/dist-packages (from spacytextblob) (0.15.3)\n",
            "Requirement already satisfied: murmurhash<1.1.0,>=0.28.0 in /usr/local/lib/python3.7/dist-packages (from spacy<4.0,>=3.0->spacytextblob) (1.0.9)\n",
            "Requirement already satisfied: setuptools in /usr/local/lib/python3.7/dist-packages (from spacy<4.0,>=3.0->spacytextblob) (57.4.0)\n",
            "Requirement already satisfied: spacy-loggers<2.0.0,>=1.0.0 in /usr/local/lib/python3.7/dist-packages (from spacy<4.0,>=3.0->spacytextblob) (1.0.3)\n",
            "Requirement already satisfied: numpy>=1.15.0 in /usr/local/lib/python3.7/dist-packages (from spacy<4.0,>=3.0->spacytextblob) (1.21.6)\n",
            "Requirement already satisfied: spacy-legacy<3.1.0,>=3.0.10 in /usr/local/lib/python3.7/dist-packages (from spacy<4.0,>=3.0->spacytextblob) (3.0.10)\n",
            "Requirement already satisfied: catalogue<2.1.0,>=2.0.6 in /usr/local/lib/python3.7/dist-packages (from spacy<4.0,>=3.0->spacytextblob) (2.0.8)\n",
            "Requirement already satisfied: requests<3.0.0,>=2.13.0 in /usr/local/lib/python3.7/dist-packages (from spacy<4.0,>=3.0->spacytextblob) (2.23.0)\n",
            "Requirement already satisfied: wasabi<1.1.0,>=0.9.1 in /usr/local/lib/python3.7/dist-packages (from spacy<4.0,>=3.0->spacytextblob) (0.10.1)\n",
            "Requirement already satisfied: preshed<3.1.0,>=3.0.2 in /usr/local/lib/python3.7/dist-packages (from spacy<4.0,>=3.0->spacytextblob) (3.0.8)\n",
            "Requirement already satisfied: typing-extensions<4.2.0,>=3.7.4 in /usr/local/lib/python3.7/dist-packages (from spacy<4.0,>=3.0->spacytextblob) (4.1.1)\n",
            "Requirement already satisfied: typer<0.5.0,>=0.3.0 in /usr/local/lib/python3.7/dist-packages (from spacy<4.0,>=3.0->spacytextblob) (0.4.2)\n",
            "Requirement already satisfied: langcodes<4.0.0,>=3.2.0 in /usr/local/lib/python3.7/dist-packages (from spacy<4.0,>=3.0->spacytextblob) (3.3.0)\n",
            "Requirement already satisfied: packaging>=20.0 in /usr/local/lib/python3.7/dist-packages (from spacy<4.0,>=3.0->spacytextblob) (21.3)\n",
            "Requirement already satisfied: tqdm<5.0.0,>=4.38.0 in /usr/local/lib/python3.7/dist-packages (from spacy<4.0,>=3.0->spacytextblob) (4.64.1)\n",
            "Requirement already satisfied: pathy>=0.3.5 in /usr/local/lib/python3.7/dist-packages (from spacy<4.0,>=3.0->spacytextblob) (0.6.2)\n",
            "Requirement already satisfied: srsly<3.0.0,>=2.4.3 in /usr/local/lib/python3.7/dist-packages (from spacy<4.0,>=3.0->spacytextblob) (2.4.5)\n",
            "Requirement already satisfied: thinc<8.2.0,>=8.1.0 in /usr/local/lib/python3.7/dist-packages (from spacy<4.0,>=3.0->spacytextblob) (8.1.5)\n",
            "Requirement already satisfied: pydantic!=1.8,!=1.8.1,<1.11.0,>=1.7.4 in /usr/local/lib/python3.7/dist-packages (from spacy<4.0,>=3.0->spacytextblob) (1.10.2)\n",
            "Requirement already satisfied: cymem<2.1.0,>=2.0.2 in /usr/local/lib/python3.7/dist-packages (from spacy<4.0,>=3.0->spacytextblob) (2.0.7)\n",
            "Requirement already satisfied: jinja2 in /usr/local/lib/python3.7/dist-packages (from spacy<4.0,>=3.0->spacytextblob) (2.11.3)\n",
            "Requirement already satisfied: zipp>=0.5 in /usr/local/lib/python3.7/dist-packages (from catalogue<2.1.0,>=2.0.6->spacy<4.0,>=3.0->spacytextblob) (3.10.0)\n",
            "Requirement already satisfied: pyparsing!=3.0.5,>=2.0.2 in /usr/local/lib/python3.7/dist-packages (from packaging>=20.0->spacy<4.0,>=3.0->spacytextblob) (3.0.9)\n",
            "Requirement already satisfied: smart-open<6.0.0,>=5.2.1 in /usr/local/lib/python3.7/dist-packages (from pathy>=0.3.5->spacy<4.0,>=3.0->spacytextblob) (5.2.1)\n",
            "Requirement already satisfied: urllib3!=1.25.0,!=1.25.1,<1.26,>=1.21.1 in /usr/local/lib/python3.7/dist-packages (from requests<3.0.0,>=2.13.0->spacy<4.0,>=3.0->spacytextblob) (1.24.3)\n",
            "Requirement already satisfied: chardet<4,>=3.0.2 in /usr/local/lib/python3.7/dist-packages (from requests<3.0.0,>=2.13.0->spacy<4.0,>=3.0->spacytextblob) (3.0.4)\n",
            "Requirement already satisfied: idna<3,>=2.5 in /usr/local/lib/python3.7/dist-packages (from requests<3.0.0,>=2.13.0->spacy<4.0,>=3.0->spacytextblob) (2.10)\n",
            "Requirement already satisfied: certifi>=2017.4.17 in /usr/local/lib/python3.7/dist-packages (from requests<3.0.0,>=2.13.0->spacy<4.0,>=3.0->spacytextblob) (2022.9.24)\n",
            "Requirement already satisfied: nltk>=3.1 in /usr/local/lib/python3.7/dist-packages (from textblob<0.16.0,>=0.15.3->spacytextblob) (3.7)\n",
            "Requirement already satisfied: regex>=2021.8.3 in /usr/local/lib/python3.7/dist-packages (from nltk>=3.1->textblob<0.16.0,>=0.15.3->spacytextblob) (2022.6.2)\n",
            "Requirement already satisfied: joblib in /usr/local/lib/python3.7/dist-packages (from nltk>=3.1->textblob<0.16.0,>=0.15.3->spacytextblob) (1.2.0)\n",
            "Requirement already satisfied: click in /usr/local/lib/python3.7/dist-packages (from nltk>=3.1->textblob<0.16.0,>=0.15.3->spacytextblob) (7.1.2)\n",
            "Requirement already satisfied: blis<0.8.0,>=0.7.8 in /usr/local/lib/python3.7/dist-packages (from thinc<8.2.0,>=8.1.0->spacy<4.0,>=3.0->spacytextblob) (0.7.9)\n",
            "Requirement already satisfied: confection<1.0.0,>=0.0.1 in /usr/local/lib/python3.7/dist-packages (from thinc<8.2.0,>=8.1.0->spacy<4.0,>=3.0->spacytextblob) (0.0.3)\n",
            "Requirement already satisfied: MarkupSafe>=0.23 in /usr/local/lib/python3.7/dist-packages (from jinja2->spacy<4.0,>=3.0->spacytextblob) (2.0.1)\n",
            "Installing collected packages: spacytextblob\n",
            "Successfully installed spacytextblob-4.0.0\n"
          ]
        }
      ]
    },
    {
      "cell_type": "code",
      "source": [
        "import spacy\n",
        "from spacytextblob.spacytextblob import SpacyTextBlob\n",
        "\n",
        "nlp = spacy.load('en_core_web_sm')\n",
        "nlp.add_pipe('spacytextblob')\n",
        "text = 'I had a really horrible day. It was the worst day ever! But every now and then I have a really good day that makes me happy.'\n",
        "doc = nlp(text)\n",
        "doc._.blob.polarity                            # Polarity: -0.125\n",
        "\n"
      ],
      "metadata": {
        "colab": {
          "base_uri": "https://localhost:8080/"
        },
        "id": "khzzJxxWyqch",
        "outputId": "ff2f781d-2e36-4631-cc3f-87e392ab7371"
      },
      "execution_count": null,
      "outputs": [
        {
          "output_type": "execute_result",
          "data": {
            "text/plain": [
              "-0.125"
            ]
          },
          "metadata": {},
          "execution_count": 88
        }
      ]
    }
  ]
}